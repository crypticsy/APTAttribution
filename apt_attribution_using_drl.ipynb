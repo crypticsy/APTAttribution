{
 "cells": [
  {
   "cell_type": "markdown",
   "metadata": {},
   "source": [
    "Importing Libraries"
   ]
  },
  {
   "cell_type": "code",
   "execution_count": 1,
   "metadata": {},
   "outputs": [],
   "source": [
    "import os\n",
    "import pandas as pd\n",
    "\n",
    "import warnings\n",
    "warnings.filterwarnings(\"ignore\")"
   ]
  },
  {
   "cell_type": "markdown",
   "metadata": {},
   "source": [
    "Setting up Paths and API Keys"
   ]
  },
  {
   "cell_type": "code",
   "execution_count": 2,
   "metadata": {},
   "outputs": [],
   "source": [
    "base_dir = os.path.dirname(os.path.abspath('__file__'))\n",
    "\n",
    "virustotal_file_dir = os.path.join(base_dir, 'virustotal_file')\n",
    "virustotal_behaviour_dir = os.path.join(base_dir, 'virustotal_behaviour')\n",
    "cuckoo_reports_path = os.path.join(base_dir, 'cuckoo')"
   ]
  },
  {
   "cell_type": "markdown",
   "metadata": {},
   "source": [
    "<br/><br/>\n",
    "\n",
    "--------------\n",
    "\n",
    "<br/><br/>"
   ]
  },
  {
   "cell_type": "markdown",
   "metadata": {},
   "source": [
    "## Data Extraction"
   ]
  },
  {
   "cell_type": "code",
   "execution_count": 3,
   "metadata": {},
   "outputs": [
    {
     "name": "stdout",
     "output_type": "stream",
     "text": [
      "Skipping .DS_Store as it is not a folder\n"
     ]
    }
   ],
   "source": [
    "from utils import get_all_virus_total_reports, get_all_cuckoo_reports\n",
    "\n",
    "all_file_reports = get_all_virus_total_reports(virustotal_file_dir)\n",
    "all_behaviour_reports = get_all_virus_total_reports(virustotal_behaviour_dir)\n",
    "all_cuckoo_reports = get_all_cuckoo_reports(cuckoo_reports_path)"
   ]
  },
  {
   "cell_type": "markdown",
   "metadata": {},
   "source": [
    "File Reports"
   ]
  },
  {
   "cell_type": "code",
   "execution_count": 4,
   "metadata": {},
   "outputs": [
    {
     "data": {
      "text/html": [
       "<div>\n",
       "<style scoped>\n",
       "    .dataframe tbody tr th:only-of-type {\n",
       "        vertical-align: middle;\n",
       "    }\n",
       "\n",
       "    .dataframe tbody tr th {\n",
       "        vertical-align: top;\n",
       "    }\n",
       "\n",
       "    .dataframe thead th {\n",
       "        text-align: right;\n",
       "    }\n",
       "</style>\n",
       "<table border=\"1\" class=\"dataframe\">\n",
       "  <thead>\n",
       "    <tr style=\"text-align: right;\">\n",
       "      <th></th>\n",
       "      <th>apt_group</th>\n",
       "      <th>file_name</th>\n",
       "      <th>type</th>\n",
       "      <th>unique_sources</th>\n",
       "      <th>packers</th>\n",
       "      <th>size</th>\n",
       "      <th>type_extension</th>\n",
       "      <th>last_analysis_results</th>\n",
       "      <th>timestamp</th>\n",
       "      <th>imphash</th>\n",
       "      <th>...</th>\n",
       "      <th>resource_details</th>\n",
       "      <th>resource_langs</th>\n",
       "      <th>resource_types</th>\n",
       "      <th>sections</th>\n",
       "      <th>compiler_product_versions</th>\n",
       "      <th>rich_pe_header_hash</th>\n",
       "      <th>import_list</th>\n",
       "      <th>exports</th>\n",
       "      <th>overlay</th>\n",
       "      <th>0</th>\n",
       "    </tr>\n",
       "  </thead>\n",
       "  <tbody>\n",
       "    <tr>\n",
       "      <th>0</th>\n",
       "      <td>APT 1</td>\n",
       "      <td>d5fc378ab31019f99f613bdbabd5aa63d97a3cd0031e90...</td>\n",
       "      <td>file</td>\n",
       "      <td>4</td>\n",
       "      <td>{'PEiD': 'Microsoft Visual C++'}</td>\n",
       "      <td>53760</td>\n",
       "      <td>exe</td>\n",
       "      <td>{'Bkav': {'method': 'blacklist', 'engine_name'...</td>\n",
       "      <td>1.318256e+09</td>\n",
       "      <td>bc02d3eb1fbd816be6bbaef57b51b664</td>\n",
       "      <td>...</td>\n",
       "      <td>[{'lang': 'CHINESE SIMPLIFIED', 'chi2': 9849.4...</td>\n",
       "      <td>{'CHINESE SIMPLIFIED': 1}</td>\n",
       "      <td>{'RT_STRING': 1}</td>\n",
       "      <td>[{'name': '.text', 'chi2': 208705.75, 'virtual...</td>\n",
       "      <td>[[---] Unmarked objects (old) count=15, [---] ...</td>\n",
       "      <td>052dffcee4266379e2fb10a075e1cf6d</td>\n",
       "      <td>[{'library_name': 'SHELL32.dll', 'imported_fun...</td>\n",
       "      <td>NaN</td>\n",
       "      <td>NaN</td>\n",
       "      <td>NaN</td>\n",
       "    </tr>\n",
       "    <tr>\n",
       "      <th>1</th>\n",
       "      <td>APT 1</td>\n",
       "      <td>8c414cc53009cefac9ad9aa3ffd766085a7b76aa56f69a...</td>\n",
       "      <td>file</td>\n",
       "      <td>13</td>\n",
       "      <td>{'PEiD': 'Microsoft Visual C++'}</td>\n",
       "      <td>15360</td>\n",
       "      <td>exe</td>\n",
       "      <td>{'Bkav': {'method': 'blacklist', 'engine_name'...</td>\n",
       "      <td>1.285661e+09</td>\n",
       "      <td>4d333650666fecf3482501fc120e6226</td>\n",
       "      <td>...</td>\n",
       "      <td>NaN</td>\n",
       "      <td>NaN</td>\n",
       "      <td>NaN</td>\n",
       "      <td>[{'name': '.text', 'chi2': 80016.28, 'virtual_...</td>\n",
       "      <td>[[IMP] Windows Server 2003 SP1 DDK build 4035 ...</td>\n",
       "      <td>6e82f1876480c4b87d31cf741c4fc4f6</td>\n",
       "      <td>[{'library_name': 'KERNEL32.dll', 'imported_fu...</td>\n",
       "      <td>NaN</td>\n",
       "      <td>NaN</td>\n",
       "      <td>NaN</td>\n",
       "    </tr>\n",
       "    <tr>\n",
       "      <th>2</th>\n",
       "      <td>APT 1</td>\n",
       "      <td>051f9ff45c531ad265489f563e6babca55f4a3f94604ff...</td>\n",
       "      <td>file</td>\n",
       "      <td>7</td>\n",
       "      <td>{'PEiD': 'Microsoft Visual C++ v6.0 DLL', 'Cyr...</td>\n",
       "      <td>33280</td>\n",
       "      <td>dll</td>\n",
       "      <td>{'Bkav': {'method': 'blacklist', 'engine_name'...</td>\n",
       "      <td>1.300891e+09</td>\n",
       "      <td>48a27f442dc0d3fdacf1c9677c384769</td>\n",
       "      <td>...</td>\n",
       "      <td>[{'lang': 'CHINESE SIMPLIFIED', 'chi2': 463505...</td>\n",
       "      <td>{'CHINESE SIMPLIFIED': 1}</td>\n",
       "      <td>{'EXE': 1}</td>\n",
       "      <td>[{'name': '.text', 'chi2': 31830.25, 'virtual_...</td>\n",
       "      <td>[[ C ] VS98 (6.0) build 8168 count=4, [---] Un...</td>\n",
       "      <td>80d914bd667072fd143b24cbf4e5be5b</td>\n",
       "      <td>[{'library_name': 'KERNEL32.dll', 'imported_fu...</td>\n",
       "      <td>[InstallService, ServiceMain, UninstallService...</td>\n",
       "      <td>NaN</td>\n",
       "      <td>NaN</td>\n",
       "    </tr>\n",
       "    <tr>\n",
       "      <th>3</th>\n",
       "      <td>APT 1</td>\n",
       "      <td>010f36d6b66747e906c8f7025df1e154ceabc598f9c1d9...</td>\n",
       "      <td>file</td>\n",
       "      <td>8</td>\n",
       "      <td>{'PEiD': 'Microsoft Visual C++'}</td>\n",
       "      <td>301056</td>\n",
       "      <td>exe</td>\n",
       "      <td>{'Bkav': {'method': 'blacklist', 'engine_name'...</td>\n",
       "      <td>1.346683e+09</td>\n",
       "      <td>293741ea8e458644ab6b51e3e5150c58</td>\n",
       "      <td>...</td>\n",
       "      <td>[{'lang': 'CHINESE SIMPLIFIED', 'chi2': 44880....</td>\n",
       "      <td>{'CHINESE SIMPLIFIED': 3}</td>\n",
       "      <td>{'RT_ICON': 1, 'FILE': 1, 'RT_GROUP_ICON': 1}</td>\n",
       "      <td>[{'name': '.text', 'chi2': 102719.52, 'virtual...</td>\n",
       "      <td>[[ C ] VS98 (6.0) build 8168 count=11, [LNK] V...</td>\n",
       "      <td>1520370b4ac12759a65745e889867c57</td>\n",
       "      <td>[{'library_name': 'KERNEL32.dll', 'imported_fu...</td>\n",
       "      <td>NaN</td>\n",
       "      <td>NaN</td>\n",
       "      <td>NaN</td>\n",
       "    </tr>\n",
       "    <tr>\n",
       "      <th>4</th>\n",
       "      <td>APT 1</td>\n",
       "      <td>6e417e9fadda9948ed7a8bf472d48285126369c407aad8...</td>\n",
       "      <td>file</td>\n",
       "      <td>4</td>\n",
       "      <td>{'PEiD': 'Microsoft Visual C++ v6.0 DLL'}</td>\n",
       "      <td>16896</td>\n",
       "      <td>dll</td>\n",
       "      <td>{'Bkav': {'method': 'blacklist', 'engine_name'...</td>\n",
       "      <td>1.250580e+09</td>\n",
       "      <td>d1f5d82ce2627e0b8ddbcbcd370be897</td>\n",
       "      <td>...</td>\n",
       "      <td>[{'lang': 'ENGLISH US', 'chi2': 67894.2, 'file...</td>\n",
       "      <td>{'ENGLISH US': 1}</td>\n",
       "      <td>{'RT_VERSION': 1}</td>\n",
       "      <td>[{'name': '.text', 'chi2': 82028.49, 'virtual_...</td>\n",
       "      <td>[[ C ] VS98 (6.0) build 8168 count=4, [---] Un...</td>\n",
       "      <td>facb7db511e1118ea7346b9b42988139</td>\n",
       "      <td>[{'library_name': 'KERNEL32.dll', 'imported_fu...</td>\n",
       "      <td>[ServiceMain, install, uninstall]</td>\n",
       "      <td>NaN</td>\n",
       "      <td>NaN</td>\n",
       "    </tr>\n",
       "    <tr>\n",
       "      <th>...</th>\n",
       "      <td>...</td>\n",
       "      <td>...</td>\n",
       "      <td>...</td>\n",
       "      <td>...</td>\n",
       "      <td>...</td>\n",
       "      <td>...</td>\n",
       "      <td>...</td>\n",
       "      <td>...</td>\n",
       "      <td>...</td>\n",
       "      <td>...</td>\n",
       "      <td>...</td>\n",
       "      <td>...</td>\n",
       "      <td>...</td>\n",
       "      <td>...</td>\n",
       "      <td>...</td>\n",
       "      <td>...</td>\n",
       "      <td>...</td>\n",
       "      <td>...</td>\n",
       "      <td>...</td>\n",
       "      <td>...</td>\n",
       "      <td>...</td>\n",
       "    </tr>\n",
       "    <tr>\n",
       "      <th>3588</th>\n",
       "      <td>Dark Hotel</td>\n",
       "      <td>6102993eb00bd97832b74fd802b486abb7cb43712eccfe...</td>\n",
       "      <td>file</td>\n",
       "      <td>6</td>\n",
       "      <td>{'F-PROT': 'RAR', 'Command': 'RAR', 'Varist': ...</td>\n",
       "      <td>322664</td>\n",
       "      <td>exe</td>\n",
       "      <td>{'Bkav': {'method': 'blacklist', 'engine_name'...</td>\n",
       "      <td>1.268634e+09</td>\n",
       "      <td>9402b48d966c911f0785b076b349b5ef</td>\n",
       "      <td>...</td>\n",
       "      <td>[{'lang': 'KOREAN', 'chi2': 86289.31, 'filetyp...</td>\n",
       "      <td>{'KOREAN': 12, 'NEUTRAL DEFAULT': 2}</td>\n",
       "      <td>{'RT_DIALOG': 6, 'RT_ICON': 1, 'RT_MANIFEST': ...</td>\n",
       "      <td>[{'name': '.text', 'chi2': 422214.72, 'virtual...</td>\n",
       "      <td>[[ C ] VS2005 build 50727 count=8, [IMP] VS200...</td>\n",
       "      <td>2eaa9f1ec1b1d5c52443604fa9765c03</td>\n",
       "      <td>[{'library_name': 'COMCTL32.dll', 'imported_fu...</td>\n",
       "      <td>NaN</td>\n",
       "      <td>{'chi2': 497.32, 'filetype': 'RAR', 'entropy':...</td>\n",
       "      <td>NaN</td>\n",
       "    </tr>\n",
       "    <tr>\n",
       "      <th>3589</th>\n",
       "      <td>Dark Hotel</td>\n",
       "      <td>6d6d550d6415fc64c4dc7c68655cced8ece6b911e31176...</td>\n",
       "      <td>file</td>\n",
       "      <td>10</td>\n",
       "      <td>{'PEiD': 'Microsoft Visual C++'}</td>\n",
       "      <td>26112</td>\n",
       "      <td>exe</td>\n",
       "      <td>{'Bkav': {'method': 'blacklist', 'engine_name'...</td>\n",
       "      <td>1.301530e+09</td>\n",
       "      <td>07979bd3614fca25d8c85fecf481649c</td>\n",
       "      <td>...</td>\n",
       "      <td>[{'lang': 'NEUTRAL', 'chi2': 409183.28, 'filet...</td>\n",
       "      <td>{'NEUTRAL': 5}</td>\n",
       "      <td>{'RT_ICON': 2, 'RT_MENU': 1, 'RT_GROUP_ICON': 2}</td>\n",
       "      <td>[{'name': '.text', 'chi2': 51316.16, 'virtual_...</td>\n",
       "      <td>[[ C ] VS98 (6.0) build 8168 count=11, [LNK] V...</td>\n",
       "      <td>563c0a6dea6577ecd9264f9730dfe897</td>\n",
       "      <td>[{'library_name': 'WININET.dll', 'imported_fun...</td>\n",
       "      <td>NaN</td>\n",
       "      <td>NaN</td>\n",
       "      <td>NaN</td>\n",
       "    </tr>\n",
       "    <tr>\n",
       "      <th>3590</th>\n",
       "      <td>Dark Hotel</td>\n",
       "      <td>804d47631c16751f26af0c0f892d7036f628b314bf2322...</td>\n",
       "      <td>file</td>\n",
       "      <td>14</td>\n",
       "      <td>{'PEiD': 'Microsoft Visual C++'}</td>\n",
       "      <td>28672</td>\n",
       "      <td>exe</td>\n",
       "      <td>{'Bkav': {'method': 'blacklist', 'engine_name'...</td>\n",
       "      <td>1.294369e+09</td>\n",
       "      <td>b06435e88232cde7cd0ff95f38ab3509</td>\n",
       "      <td>...</td>\n",
       "      <td>NaN</td>\n",
       "      <td>NaN</td>\n",
       "      <td>NaN</td>\n",
       "      <td>[{'name': '.text', 'chi2': 335395.53, 'virtual...</td>\n",
       "      <td>[[ C ] VS98 (6.0) build 8168 count=11, [LNK] V...</td>\n",
       "      <td>71621d7bcaea7c218d1d9697bda172ec</td>\n",
       "      <td>[{'library_name': 'WININET.dll', 'imported_fun...</td>\n",
       "      <td>NaN</td>\n",
       "      <td>NaN</td>\n",
       "      <td>NaN</td>\n",
       "    </tr>\n",
       "    <tr>\n",
       "      <th>3591</th>\n",
       "      <td>Dark Hotel</td>\n",
       "      <td>98165b4667ae606a8ff0c8f398f584c264f1bf337344f4...</td>\n",
       "      <td>file</td>\n",
       "      <td>11</td>\n",
       "      <td>{'PEiD': 'Microsoft Visual C++'}</td>\n",
       "      <td>376832</td>\n",
       "      <td>exe</td>\n",
       "      <td>{'Bkav': {'method': 'blacklist', 'engine_name'...</td>\n",
       "      <td>1.231317e+09</td>\n",
       "      <td>e1dd10f8b6a2d123125ba69d8a8efc62</td>\n",
       "      <td>...</td>\n",
       "      <td>NaN</td>\n",
       "      <td>NaN</td>\n",
       "      <td>NaN</td>\n",
       "      <td>[{'name': '.text', 'chi2': 386231.72, 'virtual...</td>\n",
       "      <td>[[---] Unmarked objects (old) count=6, [---] U...</td>\n",
       "      <td>0b078f49d858460cbbcbda652182fe43</td>\n",
       "      <td>[{'library_name': 'KERNEL32.dll', 'imported_fu...</td>\n",
       "      <td>NaN</td>\n",
       "      <td>NaN</td>\n",
       "      <td>NaN</td>\n",
       "    </tr>\n",
       "    <tr>\n",
       "      <th>3592</th>\n",
       "      <td>Dark Hotel</td>\n",
       "      <td>076f69134533003015381c3ce22752a2d259e580f9b674...</td>\n",
       "      <td>file</td>\n",
       "      <td>20</td>\n",
       "      <td>NaN</td>\n",
       "      <td>2235904</td>\n",
       "      <td>exe</td>\n",
       "      <td>{'Bkav': {'method': 'blacklist', 'engine_name'...</td>\n",
       "      <td>1.384843e+09</td>\n",
       "      <td>d093f8de33e44e7c32dfac5052cbb6fa</td>\n",
       "      <td>...</td>\n",
       "      <td>[{'lang': 'ENGLISH US', 'chi2': 20527.75, 'fil...</td>\n",
       "      <td>{'KOREAN': 14, 'ENGLISH US': 54}</td>\n",
       "      <td>{'RT_DIALOG': 4, 'RT_GROUP_CURSOR': 15, 'RT_IC...</td>\n",
       "      <td>[{'name': '.text', 'chi2': 7578141.0, 'virtual...</td>\n",
       "      <td>[[IMP] VS2008 SP1 build 30729 count=41, [---] ...</td>\n",
       "      <td>2bf855009379696a9d355c113685c039</td>\n",
       "      <td>[{'library_name': 'KERNEL32.dll', 'imported_fu...</td>\n",
       "      <td>NaN</td>\n",
       "      <td>NaN</td>\n",
       "      <td>NaN</td>\n",
       "    </tr>\n",
       "  </tbody>\n",
       "</table>\n",
       "<p>3593 rows × 22 columns</p>\n",
       "</div>"
      ],
      "text/plain": [
       "       apt_group                                          file_name  type  \\\n",
       "0          APT 1  d5fc378ab31019f99f613bdbabd5aa63d97a3cd0031e90...  file   \n",
       "1          APT 1  8c414cc53009cefac9ad9aa3ffd766085a7b76aa56f69a...  file   \n",
       "2          APT 1  051f9ff45c531ad265489f563e6babca55f4a3f94604ff...  file   \n",
       "3          APT 1  010f36d6b66747e906c8f7025df1e154ceabc598f9c1d9...  file   \n",
       "4          APT 1  6e417e9fadda9948ed7a8bf472d48285126369c407aad8...  file   \n",
       "...          ...                                                ...   ...   \n",
       "3588  Dark Hotel  6102993eb00bd97832b74fd802b486abb7cb43712eccfe...  file   \n",
       "3589  Dark Hotel  6d6d550d6415fc64c4dc7c68655cced8ece6b911e31176...  file   \n",
       "3590  Dark Hotel  804d47631c16751f26af0c0f892d7036f628b314bf2322...  file   \n",
       "3591  Dark Hotel  98165b4667ae606a8ff0c8f398f584c264f1bf337344f4...  file   \n",
       "3592  Dark Hotel  076f69134533003015381c3ce22752a2d259e580f9b674...  file   \n",
       "\n",
       "      unique_sources                                            packers  \\\n",
       "0                  4                   {'PEiD': 'Microsoft Visual C++'}   \n",
       "1                 13                   {'PEiD': 'Microsoft Visual C++'}   \n",
       "2                  7  {'PEiD': 'Microsoft Visual C++ v6.0 DLL', 'Cyr...   \n",
       "3                  8                   {'PEiD': 'Microsoft Visual C++'}   \n",
       "4                  4          {'PEiD': 'Microsoft Visual C++ v6.0 DLL'}   \n",
       "...              ...                                                ...   \n",
       "3588               6  {'F-PROT': 'RAR', 'Command': 'RAR', 'Varist': ...   \n",
       "3589              10                   {'PEiD': 'Microsoft Visual C++'}   \n",
       "3590              14                   {'PEiD': 'Microsoft Visual C++'}   \n",
       "3591              11                   {'PEiD': 'Microsoft Visual C++'}   \n",
       "3592              20                                                NaN   \n",
       "\n",
       "         size type_extension  \\\n",
       "0       53760            exe   \n",
       "1       15360            exe   \n",
       "2       33280            dll   \n",
       "3      301056            exe   \n",
       "4       16896            dll   \n",
       "...       ...            ...   \n",
       "3588   322664            exe   \n",
       "3589    26112            exe   \n",
       "3590    28672            exe   \n",
       "3591   376832            exe   \n",
       "3592  2235904            exe   \n",
       "\n",
       "                                  last_analysis_results     timestamp  \\\n",
       "0     {'Bkav': {'method': 'blacklist', 'engine_name'...  1.318256e+09   \n",
       "1     {'Bkav': {'method': 'blacklist', 'engine_name'...  1.285661e+09   \n",
       "2     {'Bkav': {'method': 'blacklist', 'engine_name'...  1.300891e+09   \n",
       "3     {'Bkav': {'method': 'blacklist', 'engine_name'...  1.346683e+09   \n",
       "4     {'Bkav': {'method': 'blacklist', 'engine_name'...  1.250580e+09   \n",
       "...                                                 ...           ...   \n",
       "3588  {'Bkav': {'method': 'blacklist', 'engine_name'...  1.268634e+09   \n",
       "3589  {'Bkav': {'method': 'blacklist', 'engine_name'...  1.301530e+09   \n",
       "3590  {'Bkav': {'method': 'blacklist', 'engine_name'...  1.294369e+09   \n",
       "3591  {'Bkav': {'method': 'blacklist', 'engine_name'...  1.231317e+09   \n",
       "3592  {'Bkav': {'method': 'blacklist', 'engine_name'...  1.384843e+09   \n",
       "\n",
       "                               imphash  ...  \\\n",
       "0     bc02d3eb1fbd816be6bbaef57b51b664  ...   \n",
       "1     4d333650666fecf3482501fc120e6226  ...   \n",
       "2     48a27f442dc0d3fdacf1c9677c384769  ...   \n",
       "3     293741ea8e458644ab6b51e3e5150c58  ...   \n",
       "4     d1f5d82ce2627e0b8ddbcbcd370be897  ...   \n",
       "...                                ...  ...   \n",
       "3588  9402b48d966c911f0785b076b349b5ef  ...   \n",
       "3589  07979bd3614fca25d8c85fecf481649c  ...   \n",
       "3590  b06435e88232cde7cd0ff95f38ab3509  ...   \n",
       "3591  e1dd10f8b6a2d123125ba69d8a8efc62  ...   \n",
       "3592  d093f8de33e44e7c32dfac5052cbb6fa  ...   \n",
       "\n",
       "                                       resource_details  \\\n",
       "0     [{'lang': 'CHINESE SIMPLIFIED', 'chi2': 9849.4...   \n",
       "1                                                   NaN   \n",
       "2     [{'lang': 'CHINESE SIMPLIFIED', 'chi2': 463505...   \n",
       "3     [{'lang': 'CHINESE SIMPLIFIED', 'chi2': 44880....   \n",
       "4     [{'lang': 'ENGLISH US', 'chi2': 67894.2, 'file...   \n",
       "...                                                 ...   \n",
       "3588  [{'lang': 'KOREAN', 'chi2': 86289.31, 'filetyp...   \n",
       "3589  [{'lang': 'NEUTRAL', 'chi2': 409183.28, 'filet...   \n",
       "3590                                                NaN   \n",
       "3591                                                NaN   \n",
       "3592  [{'lang': 'ENGLISH US', 'chi2': 20527.75, 'fil...   \n",
       "\n",
       "                            resource_langs  \\\n",
       "0                {'CHINESE SIMPLIFIED': 1}   \n",
       "1                                      NaN   \n",
       "2                {'CHINESE SIMPLIFIED': 1}   \n",
       "3                {'CHINESE SIMPLIFIED': 3}   \n",
       "4                        {'ENGLISH US': 1}   \n",
       "...                                    ...   \n",
       "3588  {'KOREAN': 12, 'NEUTRAL DEFAULT': 2}   \n",
       "3589                        {'NEUTRAL': 5}   \n",
       "3590                                   NaN   \n",
       "3591                                   NaN   \n",
       "3592      {'KOREAN': 14, 'ENGLISH US': 54}   \n",
       "\n",
       "                                         resource_types  \\\n",
       "0                                      {'RT_STRING': 1}   \n",
       "1                                                   NaN   \n",
       "2                                            {'EXE': 1}   \n",
       "3         {'RT_ICON': 1, 'FILE': 1, 'RT_GROUP_ICON': 1}   \n",
       "4                                     {'RT_VERSION': 1}   \n",
       "...                                                 ...   \n",
       "3588  {'RT_DIALOG': 6, 'RT_ICON': 1, 'RT_MANIFEST': ...   \n",
       "3589   {'RT_ICON': 2, 'RT_MENU': 1, 'RT_GROUP_ICON': 2}   \n",
       "3590                                                NaN   \n",
       "3591                                                NaN   \n",
       "3592  {'RT_DIALOG': 4, 'RT_GROUP_CURSOR': 15, 'RT_IC...   \n",
       "\n",
       "                                               sections  \\\n",
       "0     [{'name': '.text', 'chi2': 208705.75, 'virtual...   \n",
       "1     [{'name': '.text', 'chi2': 80016.28, 'virtual_...   \n",
       "2     [{'name': '.text', 'chi2': 31830.25, 'virtual_...   \n",
       "3     [{'name': '.text', 'chi2': 102719.52, 'virtual...   \n",
       "4     [{'name': '.text', 'chi2': 82028.49, 'virtual_...   \n",
       "...                                                 ...   \n",
       "3588  [{'name': '.text', 'chi2': 422214.72, 'virtual...   \n",
       "3589  [{'name': '.text', 'chi2': 51316.16, 'virtual_...   \n",
       "3590  [{'name': '.text', 'chi2': 335395.53, 'virtual...   \n",
       "3591  [{'name': '.text', 'chi2': 386231.72, 'virtual...   \n",
       "3592  [{'name': '.text', 'chi2': 7578141.0, 'virtual...   \n",
       "\n",
       "                              compiler_product_versions  \\\n",
       "0     [[---] Unmarked objects (old) count=15, [---] ...   \n",
       "1     [[IMP] Windows Server 2003 SP1 DDK build 4035 ...   \n",
       "2     [[ C ] VS98 (6.0) build 8168 count=4, [---] Un...   \n",
       "3     [[ C ] VS98 (6.0) build 8168 count=11, [LNK] V...   \n",
       "4     [[ C ] VS98 (6.0) build 8168 count=4, [---] Un...   \n",
       "...                                                 ...   \n",
       "3588  [[ C ] VS2005 build 50727 count=8, [IMP] VS200...   \n",
       "3589  [[ C ] VS98 (6.0) build 8168 count=11, [LNK] V...   \n",
       "3590  [[ C ] VS98 (6.0) build 8168 count=11, [LNK] V...   \n",
       "3591  [[---] Unmarked objects (old) count=6, [---] U...   \n",
       "3592  [[IMP] VS2008 SP1 build 30729 count=41, [---] ...   \n",
       "\n",
       "                   rich_pe_header_hash  \\\n",
       "0     052dffcee4266379e2fb10a075e1cf6d   \n",
       "1     6e82f1876480c4b87d31cf741c4fc4f6   \n",
       "2     80d914bd667072fd143b24cbf4e5be5b   \n",
       "3     1520370b4ac12759a65745e889867c57   \n",
       "4     facb7db511e1118ea7346b9b42988139   \n",
       "...                                ...   \n",
       "3588  2eaa9f1ec1b1d5c52443604fa9765c03   \n",
       "3589  563c0a6dea6577ecd9264f9730dfe897   \n",
       "3590  71621d7bcaea7c218d1d9697bda172ec   \n",
       "3591  0b078f49d858460cbbcbda652182fe43   \n",
       "3592  2bf855009379696a9d355c113685c039   \n",
       "\n",
       "                                            import_list  \\\n",
       "0     [{'library_name': 'SHELL32.dll', 'imported_fun...   \n",
       "1     [{'library_name': 'KERNEL32.dll', 'imported_fu...   \n",
       "2     [{'library_name': 'KERNEL32.dll', 'imported_fu...   \n",
       "3     [{'library_name': 'KERNEL32.dll', 'imported_fu...   \n",
       "4     [{'library_name': 'KERNEL32.dll', 'imported_fu...   \n",
       "...                                                 ...   \n",
       "3588  [{'library_name': 'COMCTL32.dll', 'imported_fu...   \n",
       "3589  [{'library_name': 'WININET.dll', 'imported_fun...   \n",
       "3590  [{'library_name': 'WININET.dll', 'imported_fun...   \n",
       "3591  [{'library_name': 'KERNEL32.dll', 'imported_fu...   \n",
       "3592  [{'library_name': 'KERNEL32.dll', 'imported_fu...   \n",
       "\n",
       "                                                exports  \\\n",
       "0                                                   NaN   \n",
       "1                                                   NaN   \n",
       "2     [InstallService, ServiceMain, UninstallService...   \n",
       "3                                                   NaN   \n",
       "4                     [ServiceMain, install, uninstall]   \n",
       "...                                                 ...   \n",
       "3588                                                NaN   \n",
       "3589                                                NaN   \n",
       "3590                                                NaN   \n",
       "3591                                                NaN   \n",
       "3592                                                NaN   \n",
       "\n",
       "                                                overlay   0  \n",
       "0                                                   NaN NaN  \n",
       "1                                                   NaN NaN  \n",
       "2                                                   NaN NaN  \n",
       "3                                                   NaN NaN  \n",
       "4                                                   NaN NaN  \n",
       "...                                                 ...  ..  \n",
       "3588  {'chi2': 497.32, 'filetype': 'RAR', 'entropy':... NaN  \n",
       "3589                                                NaN NaN  \n",
       "3590                                                NaN NaN  \n",
       "3591                                                NaN NaN  \n",
       "3592                                                NaN NaN  \n",
       "\n",
       "[3593 rows x 22 columns]"
      ]
     },
     "execution_count": 4,
     "metadata": {},
     "output_type": "execute_result"
    }
   ],
   "source": [
    "file_reports = pd.DataFrame(all_file_reports[1:])\n",
    "\n",
    "# expand data column into multiple columns\n",
    "file_reports = pd.concat([file_reports.drop(['data'], axis=1), file_reports['data'].apply(pd.Series)], axis=1)\n",
    "\n",
    "# expand attributes column into multiple columns\n",
    "file_reports = pd.concat([file_reports.drop(['attributes'], axis=1), file_reports['attributes'].apply(pd.Series)], axis=1)\n",
    "\n",
    "# use only the columns we need\n",
    "file_reports = file_reports[['apt_group', 'file_name', 'type', 'unique_sources', 'packers', 'size', 'type_extension', 'pe_info','last_analysis_results']]\n",
    "\n",
    "# expand pe_info column into multiple columns\n",
    "file_reports = pd.concat([file_reports.drop(['pe_info'], axis=1), file_reports['pe_info'].apply(pd.Series)], axis=1)\n",
    "\n",
    "file_reports"
   ]
  },
  {
   "cell_type": "code",
   "execution_count": 5,
   "metadata": {},
   "outputs": [
    {
     "data": {
      "text/plain": [
       "type_extension\n",
       "exe     1843\n",
       "dll     1024\n",
       "rtf      402\n",
       "docx     192\n",
       "xlsx      30\n",
       "xls       23\n",
       "pdf       19\n",
       "rar       13\n",
       "doc       10\n",
       "zip        7\n",
       "ps1        3\n",
       "swf        2\n",
       "vbs        2\n",
       "jar        1\n",
       "ps         1\n",
       "msg        1\n",
       "lnk        1\n",
       "ini        1\n",
       "ppt        1\n",
       "Name: count, dtype: int64"
      ]
     },
     "execution_count": 5,
     "metadata": {},
     "output_type": "execute_result"
    }
   ],
   "source": [
    "file_reports.type_extension.value_counts()"
   ]
  },
  {
   "cell_type": "markdown",
   "metadata": {},
   "source": [
    "Behavioral Data"
   ]
  },
  {
   "cell_type": "code",
   "execution_count": 6,
   "metadata": {},
   "outputs": [
    {
     "data": {
      "text/html": [
       "<div>\n",
       "<style scoped>\n",
       "    .dataframe tbody tr th:only-of-type {\n",
       "        vertical-align: middle;\n",
       "    }\n",
       "\n",
       "    .dataframe tbody tr th {\n",
       "        vertical-align: top;\n",
       "    }\n",
       "\n",
       "    .dataframe thead th {\n",
       "        text-align: right;\n",
       "    }\n",
       "</style>\n",
       "<table border=\"1\" class=\"dataframe\">\n",
       "  <thead>\n",
       "    <tr style=\"text-align: right;\">\n",
       "      <th></th>\n",
       "      <th>apt_group</th>\n",
       "      <th>file_name</th>\n",
       "      <th>processes_tree</th>\n",
       "      <th>files_deleted</th>\n",
       "      <th>registry_keys_deleted</th>\n",
       "      <th>files_dropped</th>\n",
       "      <th>tags</th>\n",
       "      <th>dns_lookups</th>\n",
       "      <th>ip_traffic</th>\n",
       "      <th>registry_keys_set</th>\n",
       "      <th>...</th>\n",
       "      <th>text_decoded</th>\n",
       "      <th>processes_killed</th>\n",
       "      <th>services_created</th>\n",
       "      <th>services_deleted</th>\n",
       "      <th>windows_searched</th>\n",
       "      <th>crypto_algorithms_observed</th>\n",
       "      <th>services_stopped</th>\n",
       "      <th>verdict_labels</th>\n",
       "      <th>signals_hooked</th>\n",
       "      <th>crypto_plain_text</th>\n",
       "    </tr>\n",
       "  </thead>\n",
       "  <tbody>\n",
       "    <tr>\n",
       "      <th>0</th>\n",
       "      <td>APT 1</td>\n",
       "      <td>8c414cc53009cefac9ad9aa3ffd766085a7b76aa56f69a...</td>\n",
       "      <td>[{'process_id': '2980', 'name': '%WINDIR%\\expl...</td>\n",
       "      <td>[%SAMPLEPATH%\\8c414cc53009cefac9ad9aa3ffd76608...</td>\n",
       "      <td>[\\REGISTRY\\USER\\S-1-5-21-1482476501-1645522239...</td>\n",
       "      <td>[{'path': '%USERPROFILE%\\8c414cc53009cefac9ad9...</td>\n",
       "      <td>[SELF_DELETE, DIRECT_CPU_CLOCK_ACCESS, CHECKS_...</td>\n",
       "      <td>[{'hostname': 'suirg.imly.org', 'resolved_ips'...</td>\n",
       "      <td>[{'destination_ip': '35.205.61.67', 'destinati...</td>\n",
       "      <td>[{'key': 'HKU\\%SID%\\Software\\Microsoft\\Windows...</td>\n",
       "      <td>...</td>\n",
       "      <td>NaN</td>\n",
       "      <td>NaN</td>\n",
       "      <td>NaN</td>\n",
       "      <td>NaN</td>\n",
       "      <td>NaN</td>\n",
       "      <td>NaN</td>\n",
       "      <td>NaN</td>\n",
       "      <td>NaN</td>\n",
       "      <td>NaN</td>\n",
       "      <td>NaN</td>\n",
       "    </tr>\n",
       "    <tr>\n",
       "      <th>1</th>\n",
       "      <td>APT 1</td>\n",
       "      <td>051f9ff45c531ad265489f563e6babca55f4a3f94604ff...</td>\n",
       "      <td>NaN</td>\n",
       "      <td>NaN</td>\n",
       "      <td>NaN</td>\n",
       "      <td>NaN</td>\n",
       "      <td>NaN</td>\n",
       "      <td>NaN</td>\n",
       "      <td>NaN</td>\n",
       "      <td>NaN</td>\n",
       "      <td>...</td>\n",
       "      <td>NaN</td>\n",
       "      <td>NaN</td>\n",
       "      <td>NaN</td>\n",
       "      <td>NaN</td>\n",
       "      <td>NaN</td>\n",
       "      <td>NaN</td>\n",
       "      <td>NaN</td>\n",
       "      <td>NaN</td>\n",
       "      <td>NaN</td>\n",
       "      <td>NaN</td>\n",
       "    </tr>\n",
       "    <tr>\n",
       "      <th>2</th>\n",
       "      <td>APT 1</td>\n",
       "      <td>010f36d6b66747e906c8f7025df1e154ceabc598f9c1d9...</td>\n",
       "      <td>[{'process_id': '5716', 'name': '\"C:\\Users\\&lt;US...</td>\n",
       "      <td>[C:\\Users\\&lt;USER&gt;\\Desktop\\software.exe, %USERPR...</td>\n",
       "      <td>[HKCU\\SOFTWARE\\MICROSOFT\\WINDOWS\\CURRENTVERSIO...</td>\n",
       "      <td>[{'path': 'thumbcache_idx.db', 'sha256': '0bfe...</td>\n",
       "      <td>[PERSISTENCE, SELF_DELETE, LONG_SLEEPS, RUNTIM...</td>\n",
       "      <td>[{'hostname': 'software.myftp.info', 'resolved...</td>\n",
       "      <td>[{'destination_ip': '204.79.197.203', 'destina...</td>\n",
       "      <td>[{'key': 'HKEY_CURRENT_USER\\Software\\Classes\\L...</td>\n",
       "      <td>...</td>\n",
       "      <td>NaN</td>\n",
       "      <td>NaN</td>\n",
       "      <td>NaN</td>\n",
       "      <td>NaN</td>\n",
       "      <td>NaN</td>\n",
       "      <td>NaN</td>\n",
       "      <td>NaN</td>\n",
       "      <td>NaN</td>\n",
       "      <td>NaN</td>\n",
       "      <td>NaN</td>\n",
       "    </tr>\n",
       "    <tr>\n",
       "      <th>3</th>\n",
       "      <td>APT 1</td>\n",
       "      <td>6e417e9fadda9948ed7a8bf472d48285126369c407aad8...</td>\n",
       "      <td>NaN</td>\n",
       "      <td>NaN</td>\n",
       "      <td>NaN</td>\n",
       "      <td>NaN</td>\n",
       "      <td>NaN</td>\n",
       "      <td>NaN</td>\n",
       "      <td>NaN</td>\n",
       "      <td>NaN</td>\n",
       "      <td>...</td>\n",
       "      <td>NaN</td>\n",
       "      <td>NaN</td>\n",
       "      <td>NaN</td>\n",
       "      <td>NaN</td>\n",
       "      <td>NaN</td>\n",
       "      <td>NaN</td>\n",
       "      <td>NaN</td>\n",
       "      <td>NaN</td>\n",
       "      <td>NaN</td>\n",
       "      <td>NaN</td>\n",
       "    </tr>\n",
       "    <tr>\n",
       "      <th>4</th>\n",
       "      <td>APT 1</td>\n",
       "      <td>6f6d7fe35d8e2b17bfd85752b46f2d20f71087231d8830...</td>\n",
       "      <td>[{'process_id': '540', 'name': '****.exe', 'ch...</td>\n",
       "      <td>[C:\\analyse\\1641940524.5873144_f58abb97-3322-4...</td>\n",
       "      <td>[\\REGISTRY\\MACHINE\\SYSTEM\\Acrobatviewercpp304\\...</td>\n",
       "      <td>[{'path': 'C:\\Users\\&lt;USER&gt;\\Downloads\\6f6d7fe35...</td>\n",
       "      <td>[DETECT_DEBUG_ENVIRONMENT, DIRECT_CPU_CLOCK_AC...</td>\n",
       "      <td>[{'hostname': 'software.myftp.info', 'resolved...</td>\n",
       "      <td>[{'destination_ip': '12.38.236.32', 'destinati...</td>\n",
       "      <td>[{'key': 'HKEY_CURRENT_USER\\Software\\Microsoft...</td>\n",
       "      <td>...</td>\n",
       "      <td>NaN</td>\n",
       "      <td>NaN</td>\n",
       "      <td>NaN</td>\n",
       "      <td>NaN</td>\n",
       "      <td>NaN</td>\n",
       "      <td>NaN</td>\n",
       "      <td>NaN</td>\n",
       "      <td>NaN</td>\n",
       "      <td>NaN</td>\n",
       "      <td>NaN</td>\n",
       "    </tr>\n",
       "    <tr>\n",
       "      <th>...</th>\n",
       "      <td>...</td>\n",
       "      <td>...</td>\n",
       "      <td>...</td>\n",
       "      <td>...</td>\n",
       "      <td>...</td>\n",
       "      <td>...</td>\n",
       "      <td>...</td>\n",
       "      <td>...</td>\n",
       "      <td>...</td>\n",
       "      <td>...</td>\n",
       "      <td>...</td>\n",
       "      <td>...</td>\n",
       "      <td>...</td>\n",
       "      <td>...</td>\n",
       "      <td>...</td>\n",
       "      <td>...</td>\n",
       "      <td>...</td>\n",
       "      <td>...</td>\n",
       "      <td>...</td>\n",
       "      <td>...</td>\n",
       "      <td>...</td>\n",
       "    </tr>\n",
       "    <tr>\n",
       "      <th>3587</th>\n",
       "      <td>Dark Hotel</td>\n",
       "      <td>6102993eb00bd97832b74fd802b486abb7cb43712eccfe...</td>\n",
       "      <td>[{'process_id': '5168', 'name': '\"C:\\Users\\&lt;US...</td>\n",
       "      <td>[C:\\Users\\&lt;USER&gt;\\AppData\\Roaming\\Adobe\\Acro\\__...</td>\n",
       "      <td>[\\REGISTRY\\USER\\S-1-5-21-1482476501-1645522239...</td>\n",
       "      <td>[{'path': 'ssasv.exe', 'sha256': 'dfabb16cab65...</td>\n",
       "      <td>[LONG_SLEEPS, CHECKS_HOSTNAME, RUNTIME_MODULES...</td>\n",
       "      <td>[{'hostname': 'updatejava.megabyet.net', 'reso...</td>\n",
       "      <td>[{'destination_ip': '199.59.243.225', 'destina...</td>\n",
       "      <td>[{'key': '\\REGISTRY\\MACHINE\\Software\\Wow6432No...</td>\n",
       "      <td>...</td>\n",
       "      <td>NaN</td>\n",
       "      <td>NaN</td>\n",
       "      <td>NaN</td>\n",
       "      <td>NaN</td>\n",
       "      <td>[EDIT]</td>\n",
       "      <td>NaN</td>\n",
       "      <td>NaN</td>\n",
       "      <td>NaN</td>\n",
       "      <td>NaN</td>\n",
       "      <td>NaN</td>\n",
       "    </tr>\n",
       "    <tr>\n",
       "      <th>3588</th>\n",
       "      <td>Dark Hotel</td>\n",
       "      <td>6d6d550d6415fc64c4dc7c68655cced8ece6b911e31176...</td>\n",
       "      <td>NaN</td>\n",
       "      <td>[C:\\Windows\\System32\\wbem\\Performance\\WmiApRpl...</td>\n",
       "      <td>[\\REGISTRY\\USER\\S-1-5-21-1482476501-1645522239...</td>\n",
       "      <td>NaN</td>\n",
       "      <td>NaN</td>\n",
       "      <td>[{'hostname': 'tom-PC', 'resolved_ips': ['192....</td>\n",
       "      <td>[{'destination_ip': '185.27.134.202', 'destina...</td>\n",
       "      <td>[{'key': 'HKEY_CURRENT_USER\\Software\\Microsoft...</td>\n",
       "      <td>...</td>\n",
       "      <td>NaN</td>\n",
       "      <td>NaN</td>\n",
       "      <td>NaN</td>\n",
       "      <td>NaN</td>\n",
       "      <td>[(null) - Shell_TrayWnd]</td>\n",
       "      <td>NaN</td>\n",
       "      <td>NaN</td>\n",
       "      <td>NaN</td>\n",
       "      <td>NaN</td>\n",
       "      <td>NaN</td>\n",
       "    </tr>\n",
       "    <tr>\n",
       "      <th>3589</th>\n",
       "      <td>Dark Hotel</td>\n",
       "      <td>804d47631c16751f26af0c0f892d7036f628b314bf2322...</td>\n",
       "      <td>[{'process_id': '716', 'name': '****.exe'}]</td>\n",
       "      <td>NaN</td>\n",
       "      <td>NaN</td>\n",
       "      <td>NaN</td>\n",
       "      <td>NaN</td>\n",
       "      <td>NaN</td>\n",
       "      <td>NaN</td>\n",
       "      <td>NaN</td>\n",
       "      <td>...</td>\n",
       "      <td>NaN</td>\n",
       "      <td>NaN</td>\n",
       "      <td>NaN</td>\n",
       "      <td>NaN</td>\n",
       "      <td>NaN</td>\n",
       "      <td>NaN</td>\n",
       "      <td>NaN</td>\n",
       "      <td>NaN</td>\n",
       "      <td>NaN</td>\n",
       "      <td>NaN</td>\n",
       "    </tr>\n",
       "    <tr>\n",
       "      <th>3590</th>\n",
       "      <td>Dark Hotel</td>\n",
       "      <td>98165b4667ae606a8ff0c8f398f584c264f1bf337344f4...</td>\n",
       "      <td>[{'process_id': '348', 'name': '\"${SamplePath}...</td>\n",
       "      <td>[C:\\temp\\652005\\98165b4667ae606a8ff0c8f398f584...</td>\n",
       "      <td>NaN</td>\n",
       "      <td>[{'path': 'C:\\windows\\SysWOW64\\boof.sys', 'sha...</td>\n",
       "      <td>[PERSISTENCE]</td>\n",
       "      <td>[{'hostname': 'www.microsoft.com', 'resolved_i...</td>\n",
       "      <td>[{'destination_ip': '69.195.129.72', 'destinat...</td>\n",
       "      <td>[{'key': '\\REGISTRY\\MACHINE\\SOFTWARE\\Wow6432No...</td>\n",
       "      <td>...</td>\n",
       "      <td>NaN</td>\n",
       "      <td>NaN</td>\n",
       "      <td>NaN</td>\n",
       "      <td>NaN</td>\n",
       "      <td>NaN</td>\n",
       "      <td>NaN</td>\n",
       "      <td>[Beep]</td>\n",
       "      <td>NaN</td>\n",
       "      <td>NaN</td>\n",
       "      <td>NaN</td>\n",
       "    </tr>\n",
       "    <tr>\n",
       "      <th>3591</th>\n",
       "      <td>Dark Hotel</td>\n",
       "      <td>076f69134533003015381c3ce22752a2d259e580f9b674...</td>\n",
       "      <td>[{'process_id': '1492', 'name': '****.exe'}]</td>\n",
       "      <td>NaN</td>\n",
       "      <td>NaN</td>\n",
       "      <td>NaN</td>\n",
       "      <td>NaN</td>\n",
       "      <td>NaN</td>\n",
       "      <td>[{'destination_ip': '58.158.177.102', 'destina...</td>\n",
       "      <td>[{'key': 'HKEY_CURRENT_USER\\Software\\Microsoft...</td>\n",
       "      <td>...</td>\n",
       "      <td>NaN</td>\n",
       "      <td>NaN</td>\n",
       "      <td>NaN</td>\n",
       "      <td>NaN</td>\n",
       "      <td>NaN</td>\n",
       "      <td>NaN</td>\n",
       "      <td>NaN</td>\n",
       "      <td>NaN</td>\n",
       "      <td>[WH_MSGFILTER - SetWindowsHook, WH_CBT - SetWi...</td>\n",
       "      <td>NaN</td>\n",
       "    </tr>\n",
       "  </tbody>\n",
       "</table>\n",
       "<p>3592 rows × 54 columns</p>\n",
       "</div>"
      ],
      "text/plain": [
       "       apt_group                                          file_name  \\\n",
       "0          APT 1  8c414cc53009cefac9ad9aa3ffd766085a7b76aa56f69a...   \n",
       "1          APT 1  051f9ff45c531ad265489f563e6babca55f4a3f94604ff...   \n",
       "2          APT 1  010f36d6b66747e906c8f7025df1e154ceabc598f9c1d9...   \n",
       "3          APT 1  6e417e9fadda9948ed7a8bf472d48285126369c407aad8...   \n",
       "4          APT 1  6f6d7fe35d8e2b17bfd85752b46f2d20f71087231d8830...   \n",
       "...          ...                                                ...   \n",
       "3587  Dark Hotel  6102993eb00bd97832b74fd802b486abb7cb43712eccfe...   \n",
       "3588  Dark Hotel  6d6d550d6415fc64c4dc7c68655cced8ece6b911e31176...   \n",
       "3589  Dark Hotel  804d47631c16751f26af0c0f892d7036f628b314bf2322...   \n",
       "3590  Dark Hotel  98165b4667ae606a8ff0c8f398f584c264f1bf337344f4...   \n",
       "3591  Dark Hotel  076f69134533003015381c3ce22752a2d259e580f9b674...   \n",
       "\n",
       "                                         processes_tree  \\\n",
       "0     [{'process_id': '2980', 'name': '%WINDIR%\\expl...   \n",
       "1                                                   NaN   \n",
       "2     [{'process_id': '5716', 'name': '\"C:\\Users\\<US...   \n",
       "3                                                   NaN   \n",
       "4     [{'process_id': '540', 'name': '****.exe', 'ch...   \n",
       "...                                                 ...   \n",
       "3587  [{'process_id': '5168', 'name': '\"C:\\Users\\<US...   \n",
       "3588                                                NaN   \n",
       "3589        [{'process_id': '716', 'name': '****.exe'}]   \n",
       "3590  [{'process_id': '348', 'name': '\"${SamplePath}...   \n",
       "3591       [{'process_id': '1492', 'name': '****.exe'}]   \n",
       "\n",
       "                                          files_deleted  \\\n",
       "0     [%SAMPLEPATH%\\8c414cc53009cefac9ad9aa3ffd76608...   \n",
       "1                                                   NaN   \n",
       "2     [C:\\Users\\<USER>\\Desktop\\software.exe, %USERPR...   \n",
       "3                                                   NaN   \n",
       "4     [C:\\analyse\\1641940524.5873144_f58abb97-3322-4...   \n",
       "...                                                 ...   \n",
       "3587  [C:\\Users\\<USER>\\AppData\\Roaming\\Adobe\\Acro\\__...   \n",
       "3588  [C:\\Windows\\System32\\wbem\\Performance\\WmiApRpl...   \n",
       "3589                                                NaN   \n",
       "3590  [C:\\temp\\652005\\98165b4667ae606a8ff0c8f398f584...   \n",
       "3591                                                NaN   \n",
       "\n",
       "                                  registry_keys_deleted  \\\n",
       "0     [\\REGISTRY\\USER\\S-1-5-21-1482476501-1645522239...   \n",
       "1                                                   NaN   \n",
       "2     [HKCU\\SOFTWARE\\MICROSOFT\\WINDOWS\\CURRENTVERSIO...   \n",
       "3                                                   NaN   \n",
       "4     [\\REGISTRY\\MACHINE\\SYSTEM\\Acrobatviewercpp304\\...   \n",
       "...                                                 ...   \n",
       "3587  [\\REGISTRY\\USER\\S-1-5-21-1482476501-1645522239...   \n",
       "3588  [\\REGISTRY\\USER\\S-1-5-21-1482476501-1645522239...   \n",
       "3589                                                NaN   \n",
       "3590                                                NaN   \n",
       "3591                                                NaN   \n",
       "\n",
       "                                          files_dropped  \\\n",
       "0     [{'path': '%USERPROFILE%\\8c414cc53009cefac9ad9...   \n",
       "1                                                   NaN   \n",
       "2     [{'path': 'thumbcache_idx.db', 'sha256': '0bfe...   \n",
       "3                                                   NaN   \n",
       "4     [{'path': 'C:\\Users\\<USER>\\Downloads\\6f6d7fe35...   \n",
       "...                                                 ...   \n",
       "3587  [{'path': 'ssasv.exe', 'sha256': 'dfabb16cab65...   \n",
       "3588                                                NaN   \n",
       "3589                                                NaN   \n",
       "3590  [{'path': 'C:\\windows\\SysWOW64\\boof.sys', 'sha...   \n",
       "3591                                                NaN   \n",
       "\n",
       "                                                   tags  \\\n",
       "0     [SELF_DELETE, DIRECT_CPU_CLOCK_ACCESS, CHECKS_...   \n",
       "1                                                   NaN   \n",
       "2     [PERSISTENCE, SELF_DELETE, LONG_SLEEPS, RUNTIM...   \n",
       "3                                                   NaN   \n",
       "4     [DETECT_DEBUG_ENVIRONMENT, DIRECT_CPU_CLOCK_AC...   \n",
       "...                                                 ...   \n",
       "3587  [LONG_SLEEPS, CHECKS_HOSTNAME, RUNTIME_MODULES...   \n",
       "3588                                                NaN   \n",
       "3589                                                NaN   \n",
       "3590                                      [PERSISTENCE]   \n",
       "3591                                                NaN   \n",
       "\n",
       "                                            dns_lookups  \\\n",
       "0     [{'hostname': 'suirg.imly.org', 'resolved_ips'...   \n",
       "1                                                   NaN   \n",
       "2     [{'hostname': 'software.myftp.info', 'resolved...   \n",
       "3                                                   NaN   \n",
       "4     [{'hostname': 'software.myftp.info', 'resolved...   \n",
       "...                                                 ...   \n",
       "3587  [{'hostname': 'updatejava.megabyet.net', 'reso...   \n",
       "3588  [{'hostname': 'tom-PC', 'resolved_ips': ['192....   \n",
       "3589                                                NaN   \n",
       "3590  [{'hostname': 'www.microsoft.com', 'resolved_i...   \n",
       "3591                                                NaN   \n",
       "\n",
       "                                             ip_traffic  \\\n",
       "0     [{'destination_ip': '35.205.61.67', 'destinati...   \n",
       "1                                                   NaN   \n",
       "2     [{'destination_ip': '204.79.197.203', 'destina...   \n",
       "3                                                   NaN   \n",
       "4     [{'destination_ip': '12.38.236.32', 'destinati...   \n",
       "...                                                 ...   \n",
       "3587  [{'destination_ip': '199.59.243.225', 'destina...   \n",
       "3588  [{'destination_ip': '185.27.134.202', 'destina...   \n",
       "3589                                                NaN   \n",
       "3590  [{'destination_ip': '69.195.129.72', 'destinat...   \n",
       "3591  [{'destination_ip': '58.158.177.102', 'destina...   \n",
       "\n",
       "                                      registry_keys_set  ... text_decoded  \\\n",
       "0     [{'key': 'HKU\\%SID%\\Software\\Microsoft\\Windows...  ...          NaN   \n",
       "1                                                   NaN  ...          NaN   \n",
       "2     [{'key': 'HKEY_CURRENT_USER\\Software\\Classes\\L...  ...          NaN   \n",
       "3                                                   NaN  ...          NaN   \n",
       "4     [{'key': 'HKEY_CURRENT_USER\\Software\\Microsoft...  ...          NaN   \n",
       "...                                                 ...  ...          ...   \n",
       "3587  [{'key': '\\REGISTRY\\MACHINE\\Software\\Wow6432No...  ...          NaN   \n",
       "3588  [{'key': 'HKEY_CURRENT_USER\\Software\\Microsoft...  ...          NaN   \n",
       "3589                                                NaN  ...          NaN   \n",
       "3590  [{'key': '\\REGISTRY\\MACHINE\\SOFTWARE\\Wow6432No...  ...          NaN   \n",
       "3591  [{'key': 'HKEY_CURRENT_USER\\Software\\Microsoft...  ...          NaN   \n",
       "\n",
       "     processes_killed services_created services_deleted  \\\n",
       "0                 NaN              NaN              NaN   \n",
       "1                 NaN              NaN              NaN   \n",
       "2                 NaN              NaN              NaN   \n",
       "3                 NaN              NaN              NaN   \n",
       "4                 NaN              NaN              NaN   \n",
       "...               ...              ...              ...   \n",
       "3587              NaN              NaN              NaN   \n",
       "3588              NaN              NaN              NaN   \n",
       "3589              NaN              NaN              NaN   \n",
       "3590              NaN              NaN              NaN   \n",
       "3591              NaN              NaN              NaN   \n",
       "\n",
       "              windows_searched crypto_algorithms_observed services_stopped  \\\n",
       "0                          NaN                        NaN              NaN   \n",
       "1                          NaN                        NaN              NaN   \n",
       "2                          NaN                        NaN              NaN   \n",
       "3                          NaN                        NaN              NaN   \n",
       "4                          NaN                        NaN              NaN   \n",
       "...                        ...                        ...              ...   \n",
       "3587                    [EDIT]                        NaN              NaN   \n",
       "3588  [(null) - Shell_TrayWnd]                        NaN              NaN   \n",
       "3589                       NaN                        NaN              NaN   \n",
       "3590                       NaN                        NaN           [Beep]   \n",
       "3591                       NaN                        NaN              NaN   \n",
       "\n",
       "     verdict_labels                                     signals_hooked  \\\n",
       "0               NaN                                                NaN   \n",
       "1               NaN                                                NaN   \n",
       "2               NaN                                                NaN   \n",
       "3               NaN                                                NaN   \n",
       "4               NaN                                                NaN   \n",
       "...             ...                                                ...   \n",
       "3587            NaN                                                NaN   \n",
       "3588            NaN                                                NaN   \n",
       "3589            NaN                                                NaN   \n",
       "3590            NaN                                                NaN   \n",
       "3591            NaN  [WH_MSGFILTER - SetWindowsHook, WH_CBT - SetWi...   \n",
       "\n",
       "     crypto_plain_text  \n",
       "0                  NaN  \n",
       "1                  NaN  \n",
       "2                  NaN  \n",
       "3                  NaN  \n",
       "4                  NaN  \n",
       "...                ...  \n",
       "3587               NaN  \n",
       "3588               NaN  \n",
       "3589               NaN  \n",
       "3590               NaN  \n",
       "3591               NaN  \n",
       "\n",
       "[3592 rows x 54 columns]"
      ]
     },
     "execution_count": 6,
     "metadata": {},
     "output_type": "execute_result"
    }
   ],
   "source": [
    "behaviour_reports = pd.DataFrame(all_behaviour_reports[1:])\n",
    "\n",
    "# expand data column into multiple columns\n",
    "behaviour_reports = pd.concat([behaviour_reports.drop(['data'], axis=1), behaviour_reports['data'].apply(pd.Series)], axis=1)\n",
    "\n",
    "behaviour_reports"
   ]
  },
  {
   "cell_type": "markdown",
   "metadata": {},
   "source": [
    "Cuckoo Reports"
   ]
  },
  {
   "cell_type": "code",
   "execution_count": 7,
   "metadata": {},
   "outputs": [
    {
     "data": {
      "text/html": [
       "<div>\n",
       "<style scoped>\n",
       "    .dataframe tbody tr th:only-of-type {\n",
       "        vertical-align: middle;\n",
       "    }\n",
       "\n",
       "    .dataframe tbody tr th {\n",
       "        vertical-align: top;\n",
       "    }\n",
       "\n",
       "    .dataframe thead th {\n",
       "        text-align: right;\n",
       "    }\n",
       "</style>\n",
       "<table border=\"1\" class=\"dataframe\">\n",
       "  <thead>\n",
       "    <tr style=\"text-align: right;\">\n",
       "      <th></th>\n",
       "      <th>apt</th>\n",
       "      <th>file</th>\n",
       "      <th>cuckoo_id</th>\n",
       "    </tr>\n",
       "  </thead>\n",
       "  <tbody>\n",
       "    <tr>\n",
       "      <th>0</th>\n",
       "      <td>APT 1</td>\n",
       "      <td>4123011354d8259e919fbdf605be1973a79100074959dc...</td>\n",
       "      <td>5121514</td>\n",
       "    </tr>\n",
       "    <tr>\n",
       "      <th>1</th>\n",
       "      <td>APT 1</td>\n",
       "      <td>c5d3906f7c6f39c16bb9b3d8061026d06f8a6dbb9a363f...</td>\n",
       "      <td>5121628</td>\n",
       "    </tr>\n",
       "    <tr>\n",
       "      <th>2</th>\n",
       "      <td>APT 1</td>\n",
       "      <td>6971d8780aafa44664a469ff82074b5fea575b16aad399...</td>\n",
       "      <td>5121432</td>\n",
       "    </tr>\n",
       "    <tr>\n",
       "      <th>3</th>\n",
       "      <td>APT 1</td>\n",
       "      <td>f23b384c2f44d7be20389a8f0d9688f650f6b88f8ad370...</td>\n",
       "      <td>5121804</td>\n",
       "    </tr>\n",
       "    <tr>\n",
       "      <th>4</th>\n",
       "      <td>APT 1</td>\n",
       "      <td>71434227b085c02a969d16c264574bf49863a0ac8966d0...</td>\n",
       "      <td>5121502</td>\n",
       "    </tr>\n",
       "    <tr>\n",
       "      <th>...</th>\n",
       "      <td>...</td>\n",
       "      <td>...</td>\n",
       "      <td>...</td>\n",
       "    </tr>\n",
       "    <tr>\n",
       "      <th>3588</th>\n",
       "      <td>Dark Hotel</td>\n",
       "      <td>ab478166ea93e9dac3e37a9ad7457aa58249046003238e...</td>\n",
       "      <td>5127146</td>\n",
       "    </tr>\n",
       "    <tr>\n",
       "      <th>3589</th>\n",
       "      <td>Dark Hotel</td>\n",
       "      <td>9bc2309d5e391dd14c2948c55551105572ec0ae5cfc1f3...</td>\n",
       "      <td>5126365</td>\n",
       "    </tr>\n",
       "    <tr>\n",
       "      <th>3590</th>\n",
       "      <td>Dark Hotel</td>\n",
       "      <td>e7d65f2e23e76e2378afe028bd091d98469aa36a3a1bb3...</td>\n",
       "      <td>5127257</td>\n",
       "    </tr>\n",
       "    <tr>\n",
       "      <th>3591</th>\n",
       "      <td>Dark Hotel</td>\n",
       "      <td>962810f908daab4ed0796ff563433eb65a60507d23089a...</td>\n",
       "      <td>5127104</td>\n",
       "    </tr>\n",
       "    <tr>\n",
       "      <th>3592</th>\n",
       "      <td>Dark Hotel</td>\n",
       "      <td>8d78ba7e47fa48bde3707313fcef9ce42ef2190e4df03d...</td>\n",
       "      <td>5126359</td>\n",
       "    </tr>\n",
       "  </tbody>\n",
       "</table>\n",
       "<p>3593 rows × 3 columns</p>\n",
       "</div>"
      ],
      "text/plain": [
       "             apt                                               file cuckoo_id\n",
       "0          APT 1  4123011354d8259e919fbdf605be1973a79100074959dc...   5121514\n",
       "1          APT 1  c5d3906f7c6f39c16bb9b3d8061026d06f8a6dbb9a363f...   5121628\n",
       "2          APT 1  6971d8780aafa44664a469ff82074b5fea575b16aad399...   5121432\n",
       "3          APT 1  f23b384c2f44d7be20389a8f0d9688f650f6b88f8ad370...   5121804\n",
       "4          APT 1  71434227b085c02a969d16c264574bf49863a0ac8966d0...   5121502\n",
       "...          ...                                                ...       ...\n",
       "3588  Dark Hotel  ab478166ea93e9dac3e37a9ad7457aa58249046003238e...   5127146\n",
       "3589  Dark Hotel  9bc2309d5e391dd14c2948c55551105572ec0ae5cfc1f3...   5126365\n",
       "3590  Dark Hotel  e7d65f2e23e76e2378afe028bd091d98469aa36a3a1bb3...   5127257\n",
       "3591  Dark Hotel  962810f908daab4ed0796ff563433eb65a60507d23089a...   5127104\n",
       "3592  Dark Hotel  8d78ba7e47fa48bde3707313fcef9ce42ef2190e4df03d...   5126359\n",
       "\n",
       "[3593 rows x 3 columns]"
      ]
     },
     "execution_count": 7,
     "metadata": {},
     "output_type": "execute_result"
    }
   ],
   "source": [
    "# Load malware data and remove rows with missing 'cuckoo_id'.\n",
    "df_malware = pd.read_csv(os.path.join(base_dir, 'malware.csv'))\n",
    "df_malware = df_malware[df_malware.cuckoo_id.notna()]\n",
    "df_malware['cuckoo_id'] = df_malware['cuckoo_id'].astype(int).astype(object)\n",
    "\n",
    "df_malware"
   ]
  },
  {
   "cell_type": "code",
   "execution_count": 8,
   "metadata": {},
   "outputs": [
    {
     "data": {
      "text/html": [
       "<div>\n",
       "<style scoped>\n",
       "    .dataframe tbody tr th:only-of-type {\n",
       "        vertical-align: middle;\n",
       "    }\n",
       "\n",
       "    .dataframe tbody tr th {\n",
       "        vertical-align: top;\n",
       "    }\n",
       "\n",
       "    .dataframe thead th {\n",
       "        text-align: right;\n",
       "    }\n",
       "</style>\n",
       "<table border=\"1\" class=\"dataframe\">\n",
       "  <thead>\n",
       "    <tr style=\"text-align: right;\">\n",
       "      <th></th>\n",
       "      <th>apt</th>\n",
       "      <th>file</th>\n",
       "      <th>cuckoo_id</th>\n",
       "      <th>task_id</th>\n",
       "      <th>score</th>\n",
       "      <th>signatures_count</th>\n",
       "      <th>signature_mark_call_count</th>\n",
       "      <th>category</th>\n",
       "      <th>package</th>\n",
       "      <th>strings_count</th>\n",
       "      <th>static</th>\n",
       "      <th>fileops</th>\n",
       "      <th>generic_behavior</th>\n",
       "      <th>apistats</th>\n",
       "      <th>processes</th>\n",
       "      <th>summary</th>\n",
       "      <th>suricata</th>\n",
       "      <th>suricata_summary</th>\n",
       "    </tr>\n",
       "  </thead>\n",
       "  <tbody>\n",
       "    <tr>\n",
       "      <th>0</th>\n",
       "      <td>APT 1</td>\n",
       "      <td>4123011354d8259e919fbdf605be1973a79100074959dc...</td>\n",
       "      <td>5121514</td>\n",
       "      <td>5121514</td>\n",
       "      <td>10.0</td>\n",
       "      <td>11</td>\n",
       "      <td>140</td>\n",
       "      <td>archive</td>\n",
       "      <td>exe</td>\n",
       "      <td>195</td>\n",
       "      <td>{'pdb_path': None, 'pe_imports': [{'imports': ...</td>\n",
       "      <td>NaN</td>\n",
       "      <td>[{'process_path': 'C:\\Windows\\System32\\lsass.e...</td>\n",
       "      <td>{'172': {'RegCreateKeyExW': 12, 'NtDuplicateOb...</td>\n",
       "      <td>[{'process_path': 'C:\\Windows\\System32\\lsass.e...</td>\n",
       "      <td>{'regkey_written': ['HKEY_CURRENT_USER\\Softwar...</td>\n",
       "      <td>[{'timestamp': '2024-08-14T03:28:23.625214+030...</td>\n",
       "      <td>{'timestamp': '2024-08-14T03:37:14.878360+0300...</td>\n",
       "    </tr>\n",
       "    <tr>\n",
       "      <th>1</th>\n",
       "      <td>APT 1</td>\n",
       "      <td>c5d3906f7c6f39c16bb9b3d8061026d06f8a6dbb9a363f...</td>\n",
       "      <td>5121628</td>\n",
       "      <td>5121628</td>\n",
       "      <td>10.0</td>\n",
       "      <td>5</td>\n",
       "      <td>0</td>\n",
       "      <td>archive</td>\n",
       "      <td>exe</td>\n",
       "      <td>87</td>\n",
       "      <td>{'pdb_path': None, 'pe_imports': [{'imports': ...</td>\n",
       "      <td>NaN</td>\n",
       "      <td>[{'process_path': 'C:\\Windows\\System32\\lsass.e...</td>\n",
       "      <td>{'2908': {'setsockopt': 1, 'WSASocketA': 1, 'S...</td>\n",
       "      <td>[{'process_path': 'C:\\Windows\\System32\\lsass.e...</td>\n",
       "      <td>{'connects_ip': ['205.159.83.91'], 'file_opene...</td>\n",
       "      <td>[{'timestamp': '2024-08-14T03:46:42.411318+030...</td>\n",
       "      <td>{'timestamp': '2024-08-14T03:55:22.499882+0300...</td>\n",
       "    </tr>\n",
       "    <tr>\n",
       "      <th>2</th>\n",
       "      <td>APT 1</td>\n",
       "      <td>6971d8780aafa44664a469ff82074b5fea575b16aad399...</td>\n",
       "      <td>5121432</td>\n",
       "      <td>5121432</td>\n",
       "      <td>10.0</td>\n",
       "      <td>10</td>\n",
       "      <td>44</td>\n",
       "      <td>archive</td>\n",
       "      <td>exe</td>\n",
       "      <td>103</td>\n",
       "      <td>{'pdb_path': None, 'pe_imports': [{'imports': ...</td>\n",
       "      <td>NaN</td>\n",
       "      <td>[{'process_path': 'C:\\Windows\\System32\\lsass.e...</td>\n",
       "      <td>{'316': {'RegCreateKeyExW': 5, 'LdrUnloadDll':...</td>\n",
       "      <td>[{'process_path': 'C:\\Windows\\System32\\lsass.e...</td>\n",
       "      <td>{'regkey_written': ['HKEY_CURRENT_USER\\Softwar...</td>\n",
       "      <td>[{'timestamp': '2024-08-14T03:14:40.196844+030...</td>\n",
       "      <td>{'timestamp': '2024-08-14T03:23:20.539288+0300...</td>\n",
       "    </tr>\n",
       "    <tr>\n",
       "      <th>3</th>\n",
       "      <td>APT 1</td>\n",
       "      <td>f23b384c2f44d7be20389a8f0d9688f650f6b88f8ad370...</td>\n",
       "      <td>5121804</td>\n",
       "      <td>5121804</td>\n",
       "      <td>10.0</td>\n",
       "      <td>16</td>\n",
       "      <td>224</td>\n",
       "      <td>archive</td>\n",
       "      <td>exe</td>\n",
       "      <td>1015</td>\n",
       "      <td>{'pdb_path': 'd:\\Projects\\WinRAR\\SFX\\build\\sfx...</td>\n",
       "      <td>[{'path': 'C:\\Users\\Administrator\\AppData\\Loca...</td>\n",
       "      <td>[{'process_path': 'C:\\Users\\Administrator\\AppD...</td>\n",
       "      <td>{'1560': {'LdrUnloadDll': 7, 'NtOpenSection': ...</td>\n",
       "      <td>[{'process_path': 'C:\\Windows\\System32\\lsass.e...</td>\n",
       "      <td>{'regkey_deleted': ['HKEY_CURRENT_USER\\Softwar...</td>\n",
       "      <td>[{'timestamp': '2024-08-14T04:18:52.074571+030...</td>\n",
       "      <td>{'timestamp': '2024-08-14T04:27:47.251493+0300...</td>\n",
       "    </tr>\n",
       "    <tr>\n",
       "      <th>4</th>\n",
       "      <td>APT 1</td>\n",
       "      <td>71434227b085c02a969d16c264574bf49863a0ac8966d0...</td>\n",
       "      <td>5121502</td>\n",
       "      <td>5121502</td>\n",
       "      <td>10.0</td>\n",
       "      <td>10</td>\n",
       "      <td>140</td>\n",
       "      <td>archive</td>\n",
       "      <td>exe</td>\n",
       "      <td>155</td>\n",
       "      <td>{'pdb_path': None, 'pe_imports': [{'imports': ...</td>\n",
       "      <td>NaN</td>\n",
       "      <td>[{'process_path': 'C:\\Windows\\System32\\lsass.e...</td>\n",
       "      <td>{'2600': {'RegCreateKeyExW': 12, 'NtDuplicateO...</td>\n",
       "      <td>[{'process_path': 'C:\\Windows\\System32\\lsass.e...</td>\n",
       "      <td>{'regkey_written': ['HKEY_CURRENT_USER\\Softwar...</td>\n",
       "      <td>[{'timestamp': '2024-08-14T03:26:09.010023+030...</td>\n",
       "      <td>{'timestamp': '2024-08-14T03:34:56.949981+0300...</td>\n",
       "    </tr>\n",
       "    <tr>\n",
       "      <th>...</th>\n",
       "      <td>...</td>\n",
       "      <td>...</td>\n",
       "      <td>...</td>\n",
       "      <td>...</td>\n",
       "      <td>...</td>\n",
       "      <td>...</td>\n",
       "      <td>...</td>\n",
       "      <td>...</td>\n",
       "      <td>...</td>\n",
       "      <td>...</td>\n",
       "      <td>...</td>\n",
       "      <td>...</td>\n",
       "      <td>...</td>\n",
       "      <td>...</td>\n",
       "      <td>...</td>\n",
       "      <td>...</td>\n",
       "      <td>...</td>\n",
       "      <td>...</td>\n",
       "    </tr>\n",
       "    <tr>\n",
       "      <th>3588</th>\n",
       "      <td>Dark Hotel</td>\n",
       "      <td>ab478166ea93e9dac3e37a9ad7457aa58249046003238e...</td>\n",
       "      <td>5127146</td>\n",
       "      <td>5127146</td>\n",
       "      <td>10.0</td>\n",
       "      <td>13</td>\n",
       "      <td>116</td>\n",
       "      <td>archive</td>\n",
       "      <td>exe</td>\n",
       "      <td>2041</td>\n",
       "      <td>{'pdb_path': None, 'pe_imports': [{'imports': ...</td>\n",
       "      <td>[{'path': 'C:\\Users\\Administrator\\AppData\\Loca...</td>\n",
       "      <td>[{'process_path': 'C:\\Windows\\System32\\lsass.e...</td>\n",
       "      <td>{'2712': {'NtOpenSection': 3, 'RegCloseKey': 1...</td>\n",
       "      <td>[{'process_path': 'C:\\Windows\\System32\\lsass.e...</td>\n",
       "      <td>{'file_created': ['C:\\Users\\Administrator\\AppD...</td>\n",
       "      <td>[{'timestamp': '2024-08-16T12:36:28.915464+030...</td>\n",
       "      <td>{'timestamp': '2024-08-16T12:47:00.150290+0300...</td>\n",
       "    </tr>\n",
       "    <tr>\n",
       "      <th>3589</th>\n",
       "      <td>Dark Hotel</td>\n",
       "      <td>9bc2309d5e391dd14c2948c55551105572ec0ae5cfc1f3...</td>\n",
       "      <td>5126365</td>\n",
       "      <td>5126365</td>\n",
       "      <td>10.0</td>\n",
       "      <td>10</td>\n",
       "      <td>132</td>\n",
       "      <td>archive</td>\n",
       "      <td>exe</td>\n",
       "      <td>186</td>\n",
       "      <td>{'pdb_path': None, 'pe_imports': [{'imports': ...</td>\n",
       "      <td>[{'path': 'C:\\Users', 'time': 125, 'op': 'dire...</td>\n",
       "      <td>[{'process_path': 'C:\\Windows\\System32\\lsass.e...</td>\n",
       "      <td>{'540': {'CreateToolhelp32Snapshot': 3, 'NtDup...</td>\n",
       "      <td>[{'process_path': 'C:\\Windows\\System32\\lsass.e...</td>\n",
       "      <td>{'directory_created': ['C:\\Users\\Administrator...</td>\n",
       "      <td>[{'timestamp': '2024-08-16T01:14:19.119004+030...</td>\n",
       "      <td>{'timestamp': '2024-08-16T01:22:49.666816+0300...</td>\n",
       "    </tr>\n",
       "    <tr>\n",
       "      <th>3590</th>\n",
       "      <td>Dark Hotel</td>\n",
       "      <td>e7d65f2e23e76e2378afe028bd091d98469aa36a3a1bb3...</td>\n",
       "      <td>5127257</td>\n",
       "      <td>5127257</td>\n",
       "      <td>10.0</td>\n",
       "      <td>11</td>\n",
       "      <td>56</td>\n",
       "      <td>archive</td>\n",
       "      <td>exe</td>\n",
       "      <td>172</td>\n",
       "      <td>{'pdb_path': None, 'pe_imports': [{'imports': ...</td>\n",
       "      <td>NaN</td>\n",
       "      <td>[{'process_path': 'C:\\Windows\\System32\\lsass.e...</td>\n",
       "      <td>{'2664': {'RegCreateKeyExW': 11, 'NtDuplicateO...</td>\n",
       "      <td>[{'process_path': 'C:\\Windows\\System32\\lsass.e...</td>\n",
       "      <td>{'regkey_written': ['HKEY_CURRENT_USER\\Softwar...</td>\n",
       "      <td>[{'timestamp': '2024-08-16T12:53:11.836492+030...</td>\n",
       "      <td>{'timestamp': '2024-08-16T13:01:57.923261+0300...</td>\n",
       "    </tr>\n",
       "    <tr>\n",
       "      <th>3591</th>\n",
       "      <td>Dark Hotel</td>\n",
       "      <td>962810f908daab4ed0796ff563433eb65a60507d23089a...</td>\n",
       "      <td>5127104</td>\n",
       "      <td>5127104</td>\n",
       "      <td>10.0</td>\n",
       "      <td>15</td>\n",
       "      <td>100</td>\n",
       "      <td>archive</td>\n",
       "      <td>exe</td>\n",
       "      <td>533</td>\n",
       "      <td>{'pdb_path': 'd:\\Projects\\WinRAR\\SFX\\build\\sfx...</td>\n",
       "      <td>[{'path': 'C:\\Users\\Administrator\\AppData\\Loca...</td>\n",
       "      <td>[{'process_path': 'C:\\Windows\\System32\\lsass.e...</td>\n",
       "      <td>{'2728': {'RegCreateKeyExW': 8, 'LdrUnloadDll'...</td>\n",
       "      <td>[{'process_path': 'C:\\Windows\\System32\\lsass.e...</td>\n",
       "      <td>{'regkey_deleted': ['HKEY_CURRENT_USER\\Softwar...</td>\n",
       "      <td>[{'timestamp': '2024-08-16T12:30:06.004309+030...</td>\n",
       "      <td>{'timestamp': '2024-08-16T12:36:40.673013+0300...</td>\n",
       "    </tr>\n",
       "    <tr>\n",
       "      <th>3592</th>\n",
       "      <td>Dark Hotel</td>\n",
       "      <td>8d78ba7e47fa48bde3707313fcef9ce42ef2190e4df03d...</td>\n",
       "      <td>5126359</td>\n",
       "      <td>5126359</td>\n",
       "      <td>10.0</td>\n",
       "      <td>8</td>\n",
       "      <td>52</td>\n",
       "      <td>archive</td>\n",
       "      <td>exe</td>\n",
       "      <td>136</td>\n",
       "      <td>{'pdb_path': None, 'pe_imports': [{'imports': ...</td>\n",
       "      <td>[{'path': '\\Device\\KsecDD', 'time': 78, 'op': ...</td>\n",
       "      <td>[{'process_path': 'C:\\Windows\\System32\\lsass.e...</td>\n",
       "      <td>{'2028': {'RegCreateKeyExW': 12, 'NtDuplicateO...</td>\n",
       "      <td>[{'process_path': 'C:\\Windows\\System32\\lsass.e...</td>\n",
       "      <td>{'file_recreated': ['\\Device\\KsecDD'], 'regkey...</td>\n",
       "      <td>[{'timestamp': '2024-08-16T01:13:26.460503+030...</td>\n",
       "      <td>{'timestamp': '2024-08-16T01:21:36.871713+0300...</td>\n",
       "    </tr>\n",
       "  </tbody>\n",
       "</table>\n",
       "<p>3562 rows × 18 columns</p>\n",
       "</div>"
      ],
      "text/plain": [
       "             apt                                               file cuckoo_id  \\\n",
       "0          APT 1  4123011354d8259e919fbdf605be1973a79100074959dc...   5121514   \n",
       "1          APT 1  c5d3906f7c6f39c16bb9b3d8061026d06f8a6dbb9a363f...   5121628   \n",
       "2          APT 1  6971d8780aafa44664a469ff82074b5fea575b16aad399...   5121432   \n",
       "3          APT 1  f23b384c2f44d7be20389a8f0d9688f650f6b88f8ad370...   5121804   \n",
       "4          APT 1  71434227b085c02a969d16c264574bf49863a0ac8966d0...   5121502   \n",
       "...          ...                                                ...       ...   \n",
       "3588  Dark Hotel  ab478166ea93e9dac3e37a9ad7457aa58249046003238e...   5127146   \n",
       "3589  Dark Hotel  9bc2309d5e391dd14c2948c55551105572ec0ae5cfc1f3...   5126365   \n",
       "3590  Dark Hotel  e7d65f2e23e76e2378afe028bd091d98469aa36a3a1bb3...   5127257   \n",
       "3591  Dark Hotel  962810f908daab4ed0796ff563433eb65a60507d23089a...   5127104   \n",
       "3592  Dark Hotel  8d78ba7e47fa48bde3707313fcef9ce42ef2190e4df03d...   5126359   \n",
       "\n",
       "      task_id  score  signatures_count  signature_mark_call_count category  \\\n",
       "0     5121514   10.0                11                        140  archive   \n",
       "1     5121628   10.0                 5                          0  archive   \n",
       "2     5121432   10.0                10                         44  archive   \n",
       "3     5121804   10.0                16                        224  archive   \n",
       "4     5121502   10.0                10                        140  archive   \n",
       "...       ...    ...               ...                        ...      ...   \n",
       "3588  5127146   10.0                13                        116  archive   \n",
       "3589  5126365   10.0                10                        132  archive   \n",
       "3590  5127257   10.0                11                         56  archive   \n",
       "3591  5127104   10.0                15                        100  archive   \n",
       "3592  5126359   10.0                 8                         52  archive   \n",
       "\n",
       "     package  strings_count  \\\n",
       "0        exe            195   \n",
       "1        exe             87   \n",
       "2        exe            103   \n",
       "3        exe           1015   \n",
       "4        exe            155   \n",
       "...      ...            ...   \n",
       "3588     exe           2041   \n",
       "3589     exe            186   \n",
       "3590     exe            172   \n",
       "3591     exe            533   \n",
       "3592     exe            136   \n",
       "\n",
       "                                                 static  \\\n",
       "0     {'pdb_path': None, 'pe_imports': [{'imports': ...   \n",
       "1     {'pdb_path': None, 'pe_imports': [{'imports': ...   \n",
       "2     {'pdb_path': None, 'pe_imports': [{'imports': ...   \n",
       "3     {'pdb_path': 'd:\\Projects\\WinRAR\\SFX\\build\\sfx...   \n",
       "4     {'pdb_path': None, 'pe_imports': [{'imports': ...   \n",
       "...                                                 ...   \n",
       "3588  {'pdb_path': None, 'pe_imports': [{'imports': ...   \n",
       "3589  {'pdb_path': None, 'pe_imports': [{'imports': ...   \n",
       "3590  {'pdb_path': None, 'pe_imports': [{'imports': ...   \n",
       "3591  {'pdb_path': 'd:\\Projects\\WinRAR\\SFX\\build\\sfx...   \n",
       "3592  {'pdb_path': None, 'pe_imports': [{'imports': ...   \n",
       "\n",
       "                                                fileops  \\\n",
       "0                                                   NaN   \n",
       "1                                                   NaN   \n",
       "2                                                   NaN   \n",
       "3     [{'path': 'C:\\Users\\Administrator\\AppData\\Loca...   \n",
       "4                                                   NaN   \n",
       "...                                                 ...   \n",
       "3588  [{'path': 'C:\\Users\\Administrator\\AppData\\Loca...   \n",
       "3589  [{'path': 'C:\\Users', 'time': 125, 'op': 'dire...   \n",
       "3590                                                NaN   \n",
       "3591  [{'path': 'C:\\Users\\Administrator\\AppData\\Loca...   \n",
       "3592  [{'path': '\\Device\\KsecDD', 'time': 78, 'op': ...   \n",
       "\n",
       "                                       generic_behavior  \\\n",
       "0     [{'process_path': 'C:\\Windows\\System32\\lsass.e...   \n",
       "1     [{'process_path': 'C:\\Windows\\System32\\lsass.e...   \n",
       "2     [{'process_path': 'C:\\Windows\\System32\\lsass.e...   \n",
       "3     [{'process_path': 'C:\\Users\\Administrator\\AppD...   \n",
       "4     [{'process_path': 'C:\\Windows\\System32\\lsass.e...   \n",
       "...                                                 ...   \n",
       "3588  [{'process_path': 'C:\\Windows\\System32\\lsass.e...   \n",
       "3589  [{'process_path': 'C:\\Windows\\System32\\lsass.e...   \n",
       "3590  [{'process_path': 'C:\\Windows\\System32\\lsass.e...   \n",
       "3591  [{'process_path': 'C:\\Windows\\System32\\lsass.e...   \n",
       "3592  [{'process_path': 'C:\\Windows\\System32\\lsass.e...   \n",
       "\n",
       "                                               apistats  \\\n",
       "0     {'172': {'RegCreateKeyExW': 12, 'NtDuplicateOb...   \n",
       "1     {'2908': {'setsockopt': 1, 'WSASocketA': 1, 'S...   \n",
       "2     {'316': {'RegCreateKeyExW': 5, 'LdrUnloadDll':...   \n",
       "3     {'1560': {'LdrUnloadDll': 7, 'NtOpenSection': ...   \n",
       "4     {'2600': {'RegCreateKeyExW': 12, 'NtDuplicateO...   \n",
       "...                                                 ...   \n",
       "3588  {'2712': {'NtOpenSection': 3, 'RegCloseKey': 1...   \n",
       "3589  {'540': {'CreateToolhelp32Snapshot': 3, 'NtDup...   \n",
       "3590  {'2664': {'RegCreateKeyExW': 11, 'NtDuplicateO...   \n",
       "3591  {'2728': {'RegCreateKeyExW': 8, 'LdrUnloadDll'...   \n",
       "3592  {'2028': {'RegCreateKeyExW': 12, 'NtDuplicateO...   \n",
       "\n",
       "                                              processes  \\\n",
       "0     [{'process_path': 'C:\\Windows\\System32\\lsass.e...   \n",
       "1     [{'process_path': 'C:\\Windows\\System32\\lsass.e...   \n",
       "2     [{'process_path': 'C:\\Windows\\System32\\lsass.e...   \n",
       "3     [{'process_path': 'C:\\Windows\\System32\\lsass.e...   \n",
       "4     [{'process_path': 'C:\\Windows\\System32\\lsass.e...   \n",
       "...                                                 ...   \n",
       "3588  [{'process_path': 'C:\\Windows\\System32\\lsass.e...   \n",
       "3589  [{'process_path': 'C:\\Windows\\System32\\lsass.e...   \n",
       "3590  [{'process_path': 'C:\\Windows\\System32\\lsass.e...   \n",
       "3591  [{'process_path': 'C:\\Windows\\System32\\lsass.e...   \n",
       "3592  [{'process_path': 'C:\\Windows\\System32\\lsass.e...   \n",
       "\n",
       "                                                summary  \\\n",
       "0     {'regkey_written': ['HKEY_CURRENT_USER\\Softwar...   \n",
       "1     {'connects_ip': ['205.159.83.91'], 'file_opene...   \n",
       "2     {'regkey_written': ['HKEY_CURRENT_USER\\Softwar...   \n",
       "3     {'regkey_deleted': ['HKEY_CURRENT_USER\\Softwar...   \n",
       "4     {'regkey_written': ['HKEY_CURRENT_USER\\Softwar...   \n",
       "...                                                 ...   \n",
       "3588  {'file_created': ['C:\\Users\\Administrator\\AppD...   \n",
       "3589  {'directory_created': ['C:\\Users\\Administrator...   \n",
       "3590  {'regkey_written': ['HKEY_CURRENT_USER\\Softwar...   \n",
       "3591  {'regkey_deleted': ['HKEY_CURRENT_USER\\Softwar...   \n",
       "3592  {'file_recreated': ['\\Device\\KsecDD'], 'regkey...   \n",
       "\n",
       "                                               suricata  \\\n",
       "0     [{'timestamp': '2024-08-14T03:28:23.625214+030...   \n",
       "1     [{'timestamp': '2024-08-14T03:46:42.411318+030...   \n",
       "2     [{'timestamp': '2024-08-14T03:14:40.196844+030...   \n",
       "3     [{'timestamp': '2024-08-14T04:18:52.074571+030...   \n",
       "4     [{'timestamp': '2024-08-14T03:26:09.010023+030...   \n",
       "...                                                 ...   \n",
       "3588  [{'timestamp': '2024-08-16T12:36:28.915464+030...   \n",
       "3589  [{'timestamp': '2024-08-16T01:14:19.119004+030...   \n",
       "3590  [{'timestamp': '2024-08-16T12:53:11.836492+030...   \n",
       "3591  [{'timestamp': '2024-08-16T12:30:06.004309+030...   \n",
       "3592  [{'timestamp': '2024-08-16T01:13:26.460503+030...   \n",
       "\n",
       "                                       suricata_summary  \n",
       "0     {'timestamp': '2024-08-14T03:37:14.878360+0300...  \n",
       "1     {'timestamp': '2024-08-14T03:55:22.499882+0300...  \n",
       "2     {'timestamp': '2024-08-14T03:23:20.539288+0300...  \n",
       "3     {'timestamp': '2024-08-14T04:27:47.251493+0300...  \n",
       "4     {'timestamp': '2024-08-14T03:34:56.949981+0300...  \n",
       "...                                                 ...  \n",
       "3588  {'timestamp': '2024-08-16T12:47:00.150290+0300...  \n",
       "3589  {'timestamp': '2024-08-16T01:22:49.666816+0300...  \n",
       "3590  {'timestamp': '2024-08-16T13:01:57.923261+0300...  \n",
       "3591  {'timestamp': '2024-08-16T12:36:40.673013+0300...  \n",
       "3592  {'timestamp': '2024-08-16T01:21:36.871713+0300...  \n",
       "\n",
       "[3562 rows x 18 columns]"
      ]
     },
     "execution_count": 8,
     "metadata": {},
     "output_type": "execute_result"
    }
   ],
   "source": [
    "cuckoo_reports = pd.DataFrame(all_cuckoo_reports)\n",
    "cuckoo_reports['task_id'] = cuckoo_reports['task_id'].astype(int).astype(object)\n",
    "\n",
    "# Merge data on 'cuckoo_id' and 'task_id' with a left join\n",
    "df_cuckoo_reports = df_malware.merge(cuckoo_reports, left_on='cuckoo_id', right_on='task_id', how='left')\n",
    "\n",
    "# Keep rows with non-null 'processes'\n",
    "df_cuckoo_reports = df_cuckoo_reports[df_cuckoo_reports.processes.notna()]\n",
    "\n",
    "\n",
    "df_cuckoo_reports"
   ]
  },
  {
   "cell_type": "code",
   "execution_count": 9,
   "metadata": {},
   "outputs": [
    {
     "data": {
      "text/html": [
       "<div>\n",
       "<style scoped>\n",
       "    .dataframe tbody tr th:only-of-type {\n",
       "        vertical-align: middle;\n",
       "    }\n",
       "\n",
       "    .dataframe tbody tr th {\n",
       "        vertical-align: top;\n",
       "    }\n",
       "\n",
       "    .dataframe thead th {\n",
       "        text-align: right;\n",
       "    }\n",
       "</style>\n",
       "<table border=\"1\" class=\"dataframe\">\n",
       "  <thead>\n",
       "    <tr style=\"text-align: right;\">\n",
       "      <th></th>\n",
       "      <th>score</th>\n",
       "      <th>signatures_count</th>\n",
       "      <th>signature_mark_call_count</th>\n",
       "      <th>strings_count</th>\n",
       "    </tr>\n",
       "  </thead>\n",
       "  <tbody>\n",
       "    <tr>\n",
       "      <th>count</th>\n",
       "      <td>3562.000000</td>\n",
       "      <td>3562.000000</td>\n",
       "      <td>3562.000000</td>\n",
       "      <td>3562.000000</td>\n",
       "    </tr>\n",
       "    <tr>\n",
       "      <th>mean</th>\n",
       "      <td>9.893038</td>\n",
       "      <td>9.070185</td>\n",
       "      <td>78.050533</td>\n",
       "      <td>626.774003</td>\n",
       "    </tr>\n",
       "    <tr>\n",
       "      <th>std</th>\n",
       "      <td>0.867434</td>\n",
       "      <td>5.165241</td>\n",
       "      <td>127.695720</td>\n",
       "      <td>505.532420</td>\n",
       "    </tr>\n",
       "    <tr>\n",
       "      <th>min</th>\n",
       "      <td>0.000000</td>\n",
       "      <td>0.000000</td>\n",
       "      <td>0.000000</td>\n",
       "      <td>2.000000</td>\n",
       "    </tr>\n",
       "    <tr>\n",
       "      <th>25%</th>\n",
       "      <td>10.000000</td>\n",
       "      <td>5.000000</td>\n",
       "      <td>4.000000</td>\n",
       "      <td>266.000000</td>\n",
       "    </tr>\n",
       "    <tr>\n",
       "      <th>50%</th>\n",
       "      <td>10.000000</td>\n",
       "      <td>8.000000</td>\n",
       "      <td>40.000000</td>\n",
       "      <td>494.000000</td>\n",
       "    </tr>\n",
       "    <tr>\n",
       "      <th>75%</th>\n",
       "      <td>10.000000</td>\n",
       "      <td>12.000000</td>\n",
       "      <td>92.000000</td>\n",
       "      <td>799.000000</td>\n",
       "    </tr>\n",
       "    <tr>\n",
       "      <th>max</th>\n",
       "      <td>10.000000</td>\n",
       "      <td>34.000000</td>\n",
       "      <td>1060.000000</td>\n",
       "      <td>2048.000000</td>\n",
       "    </tr>\n",
       "  </tbody>\n",
       "</table>\n",
       "</div>"
      ],
      "text/plain": [
       "             score  signatures_count  signature_mark_call_count  strings_count\n",
       "count  3562.000000       3562.000000                3562.000000    3562.000000\n",
       "mean      9.893038          9.070185                  78.050533     626.774003\n",
       "std       0.867434          5.165241                 127.695720     505.532420\n",
       "min       0.000000          0.000000                   0.000000       2.000000\n",
       "25%      10.000000          5.000000                   4.000000     266.000000\n",
       "50%      10.000000          8.000000                  40.000000     494.000000\n",
       "75%      10.000000         12.000000                  92.000000     799.000000\n",
       "max      10.000000         34.000000                1060.000000    2048.000000"
      ]
     },
     "execution_count": 9,
     "metadata": {},
     "output_type": "execute_result"
    }
   ],
   "source": [
    "df_cuckoo_reports.describe()"
   ]
  },
  {
   "cell_type": "markdown",
   "metadata": {},
   "source": [
    "<br/><br/>\n",
    "\n",
    "--------------\n",
    "\n",
    "<br/><br/>"
   ]
  },
  {
   "cell_type": "markdown",
   "metadata": {},
   "source": [
    "## Data Cleaning"
   ]
  },
  {
   "cell_type": "markdown",
   "metadata": {},
   "source": [
    "File Reports"
   ]
  },
  {
   "cell_type": "code",
   "execution_count": 10,
   "metadata": {},
   "outputs": [
    {
     "data": {
      "text/html": [
       "<div>\n",
       "<style scoped>\n",
       "    .dataframe tbody tr th:only-of-type {\n",
       "        vertical-align: middle;\n",
       "    }\n",
       "\n",
       "    .dataframe tbody tr th {\n",
       "        vertical-align: top;\n",
       "    }\n",
       "\n",
       "    .dataframe thead th {\n",
       "        text-align: right;\n",
       "    }\n",
       "</style>\n",
       "<table border=\"1\" class=\"dataframe\">\n",
       "  <thead>\n",
       "    <tr style=\"text-align: right;\">\n",
       "      <th></th>\n",
       "      <th>file_name</th>\n",
       "      <th>apt_group</th>\n",
       "      <th>unique_sources</th>\n",
       "      <th>malicious_count</th>\n",
       "      <th>imports_count</th>\n",
       "      <th>imported_functions</th>\n",
       "    </tr>\n",
       "  </thead>\n",
       "  <tbody>\n",
       "    <tr>\n",
       "      <th>0</th>\n",
       "      <td>d5fc378ab31019f99f613bdbabd5aa63d97a3cd0031e90...</td>\n",
       "      <td>APT 1</td>\n",
       "      <td>4</td>\n",
       "      <td>65</td>\n",
       "      <td>9</td>\n",
       "      <td>146</td>\n",
       "    </tr>\n",
       "    <tr>\n",
       "      <th>1</th>\n",
       "      <td>8c414cc53009cefac9ad9aa3ffd766085a7b76aa56f69a...</td>\n",
       "      <td>APT 1</td>\n",
       "      <td>13</td>\n",
       "      <td>65</td>\n",
       "      <td>7</td>\n",
       "      <td>85</td>\n",
       "    </tr>\n",
       "    <tr>\n",
       "      <th>2</th>\n",
       "      <td>051f9ff45c531ad265489f563e6babca55f4a3f94604ff...</td>\n",
       "      <td>APT 1</td>\n",
       "      <td>7</td>\n",
       "      <td>63</td>\n",
       "      <td>3</td>\n",
       "      <td>53</td>\n",
       "    </tr>\n",
       "    <tr>\n",
       "      <th>3</th>\n",
       "      <td>010f36d6b66747e906c8f7025df1e154ceabc598f9c1d9...</td>\n",
       "      <td>APT 1</td>\n",
       "      <td>8</td>\n",
       "      <td>63</td>\n",
       "      <td>5</td>\n",
       "      <td>67</td>\n",
       "    </tr>\n",
       "    <tr>\n",
       "      <th>4</th>\n",
       "      <td>6e417e9fadda9948ed7a8bf472d48285126369c407aad8...</td>\n",
       "      <td>APT 1</td>\n",
       "      <td>4</td>\n",
       "      <td>53</td>\n",
       "      <td>4</td>\n",
       "      <td>70</td>\n",
       "    </tr>\n",
       "    <tr>\n",
       "      <th>...</th>\n",
       "      <td>...</td>\n",
       "      <td>...</td>\n",
       "      <td>...</td>\n",
       "      <td>...</td>\n",
       "      <td>...</td>\n",
       "      <td>...</td>\n",
       "    </tr>\n",
       "    <tr>\n",
       "      <th>3588</th>\n",
       "      <td>6102993eb00bd97832b74fd802b486abb7cb43712eccfe...</td>\n",
       "      <td>Dark Hotel</td>\n",
       "      <td>6</td>\n",
       "      <td>63</td>\n",
       "      <td>9</td>\n",
       "      <td>163</td>\n",
       "    </tr>\n",
       "    <tr>\n",
       "      <th>3589</th>\n",
       "      <td>6d6d550d6415fc64c4dc7c68655cced8ece6b911e31176...</td>\n",
       "      <td>Dark Hotel</td>\n",
       "      <td>10</td>\n",
       "      <td>65</td>\n",
       "      <td>9</td>\n",
       "      <td>75</td>\n",
       "    </tr>\n",
       "    <tr>\n",
       "      <th>3590</th>\n",
       "      <td>804d47631c16751f26af0c0f892d7036f628b314bf2322...</td>\n",
       "      <td>Dark Hotel</td>\n",
       "      <td>14</td>\n",
       "      <td>66</td>\n",
       "      <td>10</td>\n",
       "      <td>88</td>\n",
       "    </tr>\n",
       "    <tr>\n",
       "      <th>3591</th>\n",
       "      <td>98165b4667ae606a8ff0c8f398f584c264f1bf337344f4...</td>\n",
       "      <td>Dark Hotel</td>\n",
       "      <td>11</td>\n",
       "      <td>63</td>\n",
       "      <td>8</td>\n",
       "      <td>231</td>\n",
       "    </tr>\n",
       "    <tr>\n",
       "      <th>3592</th>\n",
       "      <td>076f69134533003015381c3ce22752a2d259e580f9b674...</td>\n",
       "      <td>Dark Hotel</td>\n",
       "      <td>20</td>\n",
       "      <td>61</td>\n",
       "      <td>19</td>\n",
       "      <td>604</td>\n",
       "    </tr>\n",
       "  </tbody>\n",
       "</table>\n",
       "<p>3593 rows × 6 columns</p>\n",
       "</div>"
      ],
      "text/plain": [
       "                                              file_name   apt_group  \\\n",
       "0     d5fc378ab31019f99f613bdbabd5aa63d97a3cd0031e90...       APT 1   \n",
       "1     8c414cc53009cefac9ad9aa3ffd766085a7b76aa56f69a...       APT 1   \n",
       "2     051f9ff45c531ad265489f563e6babca55f4a3f94604ff...       APT 1   \n",
       "3     010f36d6b66747e906c8f7025df1e154ceabc598f9c1d9...       APT 1   \n",
       "4     6e417e9fadda9948ed7a8bf472d48285126369c407aad8...       APT 1   \n",
       "...                                                 ...         ...   \n",
       "3588  6102993eb00bd97832b74fd802b486abb7cb43712eccfe...  Dark Hotel   \n",
       "3589  6d6d550d6415fc64c4dc7c68655cced8ece6b911e31176...  Dark Hotel   \n",
       "3590  804d47631c16751f26af0c0f892d7036f628b314bf2322...  Dark Hotel   \n",
       "3591  98165b4667ae606a8ff0c8f398f584c264f1bf337344f4...  Dark Hotel   \n",
       "3592  076f69134533003015381c3ce22752a2d259e580f9b674...  Dark Hotel   \n",
       "\n",
       "      unique_sources  malicious_count  imports_count  imported_functions  \n",
       "0                  4               65              9                 146  \n",
       "1                 13               65              7                  85  \n",
       "2                  7               63              3                  53  \n",
       "3                  8               63              5                  67  \n",
       "4                  4               53              4                  70  \n",
       "...              ...              ...            ...                 ...  \n",
       "3588               6               63              9                 163  \n",
       "3589              10               65              9                  75  \n",
       "3590              14               66             10                  88  \n",
       "3591              11               63              8                 231  \n",
       "3592              20               61             19                 604  \n",
       "\n",
       "[3593 rows x 6 columns]"
      ]
     },
     "execution_count": 10,
     "metadata": {},
     "output_type": "execute_result"
    }
   ],
   "source": [
    "file_cleaned = file_reports[['file_name', 'apt_group', 'unique_sources']]\n",
    "\n",
    "file_cleaned['malicious_count'] = file_reports['last_analysis_results'].apply(lambda x: 0 if type(x) != dict else sum([1 for k, v in x.items() if v['category'] == 'malicious']))\n",
    "\n",
    "file_cleaned['imports_count'] = file_reports['import_list'].apply(lambda x: 0 if type(x) != list else len(x))\n",
    "file_cleaned['imported_functions'] = file_reports['import_list'].apply(lambda x: 0 if type(x) != list else sum([len(y['imported_functions']) for y in x]))\n",
    "\n",
    "file_cleaned"
   ]
  },
  {
   "cell_type": "markdown",
   "metadata": {},
   "source": [
    "Behavioral Data"
   ]
  },
  {
   "cell_type": "code",
   "execution_count": 11,
   "metadata": {},
   "outputs": [
    {
     "data": {
      "text/html": [
       "<div>\n",
       "<style scoped>\n",
       "    .dataframe tbody tr th:only-of-type {\n",
       "        vertical-align: middle;\n",
       "    }\n",
       "\n",
       "    .dataframe tbody tr th {\n",
       "        vertical-align: top;\n",
       "    }\n",
       "\n",
       "    .dataframe thead th {\n",
       "        text-align: right;\n",
       "    }\n",
       "</style>\n",
       "<table border=\"1\" class=\"dataframe\">\n",
       "  <thead>\n",
       "    <tr style=\"text-align: right;\">\n",
       "      <th></th>\n",
       "      <th>file_name</th>\n",
       "      <th>files_written_count</th>\n",
       "      <th>files_deleted_count</th>\n",
       "      <th>registry_keys_count</th>\n",
       "      <th>processes_count</th>\n",
       "      <th>mutexes_count</th>\n",
       "      <th>command_executions</th>\n",
       "      <th>ip_traffic_count</th>\n",
       "      <th>modules_loaded_count</th>\n",
       "    </tr>\n",
       "  </thead>\n",
       "  <tbody>\n",
       "    <tr>\n",
       "      <th>0</th>\n",
       "      <td>8c414cc53009cefac9ad9aa3ffd766085a7b76aa56f69a...</td>\n",
       "      <td>14</td>\n",
       "      <td>11</td>\n",
       "      <td>637</td>\n",
       "      <td>26</td>\n",
       "      <td>17</td>\n",
       "      <td>8</td>\n",
       "      <td>4</td>\n",
       "      <td>68</td>\n",
       "    </tr>\n",
       "    <tr>\n",
       "      <th>1</th>\n",
       "      <td>051f9ff45c531ad265489f563e6babca55f4a3f94604ff...</td>\n",
       "      <td>0</td>\n",
       "      <td>0</td>\n",
       "      <td>0</td>\n",
       "      <td>0</td>\n",
       "      <td>0</td>\n",
       "      <td>0</td>\n",
       "      <td>0</td>\n",
       "      <td>0</td>\n",
       "    </tr>\n",
       "    <tr>\n",
       "      <th>2</th>\n",
       "      <td>010f36d6b66747e906c8f7025df1e154ceabc598f9c1d9...</td>\n",
       "      <td>72</td>\n",
       "      <td>31</td>\n",
       "      <td>957</td>\n",
       "      <td>64</td>\n",
       "      <td>48</td>\n",
       "      <td>27</td>\n",
       "      <td>15</td>\n",
       "      <td>120</td>\n",
       "    </tr>\n",
       "    <tr>\n",
       "      <th>3</th>\n",
       "      <td>6e417e9fadda9948ed7a8bf472d48285126369c407aad8...</td>\n",
       "      <td>0</td>\n",
       "      <td>0</td>\n",
       "      <td>0</td>\n",
       "      <td>0</td>\n",
       "      <td>0</td>\n",
       "      <td>0</td>\n",
       "      <td>0</td>\n",
       "      <td>0</td>\n",
       "    </tr>\n",
       "    <tr>\n",
       "      <th>4</th>\n",
       "      <td>6f6d7fe35d8e2b17bfd85752b46f2d20f71087231d8830...</td>\n",
       "      <td>29</td>\n",
       "      <td>14</td>\n",
       "      <td>597</td>\n",
       "      <td>53</td>\n",
       "      <td>32</td>\n",
       "      <td>12</td>\n",
       "      <td>2</td>\n",
       "      <td>139</td>\n",
       "    </tr>\n",
       "    <tr>\n",
       "      <th>...</th>\n",
       "      <td>...</td>\n",
       "      <td>...</td>\n",
       "      <td>...</td>\n",
       "      <td>...</td>\n",
       "      <td>...</td>\n",
       "      <td>...</td>\n",
       "      <td>...</td>\n",
       "      <td>...</td>\n",
       "      <td>...</td>\n",
       "    </tr>\n",
       "    <tr>\n",
       "      <th>3587</th>\n",
       "      <td>6102993eb00bd97832b74fd802b486abb7cb43712eccfe...</td>\n",
       "      <td>51</td>\n",
       "      <td>9</td>\n",
       "      <td>815</td>\n",
       "      <td>50</td>\n",
       "      <td>30</td>\n",
       "      <td>29</td>\n",
       "      <td>10</td>\n",
       "      <td>172</td>\n",
       "    </tr>\n",
       "    <tr>\n",
       "      <th>3588</th>\n",
       "      <td>6d6d550d6415fc64c4dc7c68655cced8ece6b911e31176...</td>\n",
       "      <td>14</td>\n",
       "      <td>5</td>\n",
       "      <td>245</td>\n",
       "      <td>11</td>\n",
       "      <td>16</td>\n",
       "      <td>13</td>\n",
       "      <td>4</td>\n",
       "      <td>46</td>\n",
       "    </tr>\n",
       "    <tr>\n",
       "      <th>3589</th>\n",
       "      <td>804d47631c16751f26af0c0f892d7036f628b314bf2322...</td>\n",
       "      <td>0</td>\n",
       "      <td>0</td>\n",
       "      <td>31</td>\n",
       "      <td>1</td>\n",
       "      <td>0</td>\n",
       "      <td>0</td>\n",
       "      <td>0</td>\n",
       "      <td>5</td>\n",
       "    </tr>\n",
       "    <tr>\n",
       "      <th>3590</th>\n",
       "      <td>98165b4667ae606a8ff0c8f398f584c264f1bf337344f4...</td>\n",
       "      <td>15</td>\n",
       "      <td>3</td>\n",
       "      <td>125</td>\n",
       "      <td>12</td>\n",
       "      <td>1</td>\n",
       "      <td>6</td>\n",
       "      <td>1</td>\n",
       "      <td>50</td>\n",
       "    </tr>\n",
       "    <tr>\n",
       "      <th>3591</th>\n",
       "      <td>076f69134533003015381c3ce22752a2d259e580f9b674...</td>\n",
       "      <td>3</td>\n",
       "      <td>0</td>\n",
       "      <td>145</td>\n",
       "      <td>1</td>\n",
       "      <td>16</td>\n",
       "      <td>1</td>\n",
       "      <td>2</td>\n",
       "      <td>18</td>\n",
       "    </tr>\n",
       "  </tbody>\n",
       "</table>\n",
       "<p>3592 rows × 9 columns</p>\n",
       "</div>"
      ],
      "text/plain": [
       "                                              file_name  files_written_count  \\\n",
       "0     8c414cc53009cefac9ad9aa3ffd766085a7b76aa56f69a...                   14   \n",
       "1     051f9ff45c531ad265489f563e6babca55f4a3f94604ff...                    0   \n",
       "2     010f36d6b66747e906c8f7025df1e154ceabc598f9c1d9...                   72   \n",
       "3     6e417e9fadda9948ed7a8bf472d48285126369c407aad8...                    0   \n",
       "4     6f6d7fe35d8e2b17bfd85752b46f2d20f71087231d8830...                   29   \n",
       "...                                                 ...                  ...   \n",
       "3587  6102993eb00bd97832b74fd802b486abb7cb43712eccfe...                   51   \n",
       "3588  6d6d550d6415fc64c4dc7c68655cced8ece6b911e31176...                   14   \n",
       "3589  804d47631c16751f26af0c0f892d7036f628b314bf2322...                    0   \n",
       "3590  98165b4667ae606a8ff0c8f398f584c264f1bf337344f4...                   15   \n",
       "3591  076f69134533003015381c3ce22752a2d259e580f9b674...                    3   \n",
       "\n",
       "      files_deleted_count  registry_keys_count  processes_count  \\\n",
       "0                      11                  637               26   \n",
       "1                       0                    0                0   \n",
       "2                      31                  957               64   \n",
       "3                       0                    0                0   \n",
       "4                      14                  597               53   \n",
       "...                   ...                  ...              ...   \n",
       "3587                    9                  815               50   \n",
       "3588                    5                  245               11   \n",
       "3589                    0                   31                1   \n",
       "3590                    3                  125               12   \n",
       "3591                    0                  145                1   \n",
       "\n",
       "      mutexes_count  command_executions  ip_traffic_count  \\\n",
       "0                17                   8                 4   \n",
       "1                 0                   0                 0   \n",
       "2                48                  27                15   \n",
       "3                 0                   0                 0   \n",
       "4                32                  12                 2   \n",
       "...             ...                 ...               ...   \n",
       "3587             30                  29                10   \n",
       "3588             16                  13                 4   \n",
       "3589              0                   0                 0   \n",
       "3590              1                   6                 1   \n",
       "3591             16                   1                 2   \n",
       "\n",
       "      modules_loaded_count  \n",
       "0                       68  \n",
       "1                        0  \n",
       "2                      120  \n",
       "3                        0  \n",
       "4                      139  \n",
       "...                    ...  \n",
       "3587                   172  \n",
       "3588                    46  \n",
       "3589                     5  \n",
       "3590                    50  \n",
       "3591                    18  \n",
       "\n",
       "[3592 rows x 9 columns]"
      ]
     },
     "execution_count": 11,
     "metadata": {},
     "output_type": "execute_result"
    }
   ],
   "source": [
    "behaviour_cleaned = behaviour_reports[['file_name']]\n",
    "\n",
    "behaviour_cleaned['files_written_count'] = behaviour_reports['files_written'].apply(lambda x: 0 if type(x) != list else len(x))\n",
    "behaviour_cleaned['files_deleted_count'] = behaviour_reports['files_deleted'].apply(lambda x: 0 if type(x) != list else len(x))\n",
    "\n",
    "behaviour_cleaned['registry_keys_count'] =  behaviour_reports['registry_keys_opened'].apply(lambda x: 0 if type(x) != list else len(x)) + \\\n",
    "                                            behaviour_reports['registry_keys_deleted'].apply(lambda x: 0 if type(x) != list else len(x)) + \\\n",
    "                                            behaviour_reports['registry_keys_set'].apply(lambda x: 0 if type(x) != list else len(x)) \n",
    "\n",
    "behaviour_cleaned['processes_count'] =  behaviour_reports['processes_created'].apply(lambda x: 0 if type(x) != list else len(x)) + \\\n",
    "                                        behaviour_reports['processes_injected'].apply(lambda x: 0 if type(x) != list else len(x)) + \\\n",
    "                                        behaviour_reports['processes_killed'].apply(lambda x: 0 if type(x) != list else len(x)) + \\\n",
    "                                        behaviour_reports['processes_terminated'].apply(lambda x: 0 if type(x) != list else len(x))\n",
    "\n",
    "behaviour_cleaned['mutexes_count'] =  behaviour_reports['mutexes_created'].apply(lambda x: 0 if type(x) != list else len(x))\n",
    "behaviour_cleaned['command_executions'] = behaviour_reports['command_executions'].apply(lambda x: 0 if type(x) != list else len(x))\n",
    "\n",
    "behaviour_cleaned['ip_traffic_count'] = behaviour_reports['ip_traffic'].apply(lambda x: 0 if type(x) != list else len(x))\n",
    "behaviour_cleaned['modules_loaded_count'] = behaviour_reports['modules_loaded'].apply(lambda x: 0 if type(x) != list else len(x))\n",
    "\n",
    "behaviour_cleaned"
   ]
  },
  {
   "cell_type": "markdown",
   "metadata": {},
   "source": [
    "Extracting API Statistics"
   ]
  },
  {
   "cell_type": "code",
   "execution_count": 12,
   "metadata": {},
   "outputs": [
    {
     "data": {
      "text/html": [
       "<div>\n",
       "<style scoped>\n",
       "    .dataframe tbody tr th:only-of-type {\n",
       "        vertical-align: middle;\n",
       "    }\n",
       "\n",
       "    .dataframe tbody tr th {\n",
       "        vertical-align: top;\n",
       "    }\n",
       "\n",
       "    .dataframe thead th {\n",
       "        text-align: right;\n",
       "    }\n",
       "</style>\n",
       "<table border=\"1\" class=\"dataframe\">\n",
       "  <thead>\n",
       "    <tr style=\"text-align: right;\">\n",
       "      <th></th>\n",
       "      <th>RegCreateKeyExW</th>\n",
       "      <th>NtDuplicateObject</th>\n",
       "      <th>CoUninitialize</th>\n",
       "      <th>RegCloseKey</th>\n",
       "      <th>NtQueryKey</th>\n",
       "      <th>GetBestInterfaceEx</th>\n",
       "      <th>HttpOpenRequestA</th>\n",
       "      <th>InternetOpenA</th>\n",
       "      <th>WSAStartup</th>\n",
       "      <th>NtClose</th>\n",
       "      <th>...</th>\n",
       "      <th>pdf_unescape</th>\n",
       "      <th>InternetOpenUrlW</th>\n",
       "      <th>WSARecvFrom</th>\n",
       "      <th>WSASendTo</th>\n",
       "      <th>InternetWriteFile</th>\n",
       "      <th>ReadCabinetState</th>\n",
       "      <th>RegisterHotKey</th>\n",
       "      <th>CertCreateCertificateContext</th>\n",
       "      <th>GetInterfaceInfo</th>\n",
       "      <th>CryptProtectData</th>\n",
       "    </tr>\n",
       "  </thead>\n",
       "  <tbody>\n",
       "    <tr>\n",
       "      <th>0</th>\n",
       "      <td>12.0</td>\n",
       "      <td>3.0</td>\n",
       "      <td>5.0</td>\n",
       "      <td>43.0</td>\n",
       "      <td>6.0</td>\n",
       "      <td>2.0</td>\n",
       "      <td>1.0</td>\n",
       "      <td>1.0</td>\n",
       "      <td>7.0</td>\n",
       "      <td>59.0</td>\n",
       "      <td>...</td>\n",
       "      <td>0.0</td>\n",
       "      <td>0.0</td>\n",
       "      <td>0.0</td>\n",
       "      <td>0.0</td>\n",
       "      <td>0.0</td>\n",
       "      <td>0.0</td>\n",
       "      <td>0.0</td>\n",
       "      <td>0.0</td>\n",
       "      <td>0.0</td>\n",
       "      <td>0.0</td>\n",
       "    </tr>\n",
       "    <tr>\n",
       "      <th>1</th>\n",
       "      <td>0.0</td>\n",
       "      <td>0.0</td>\n",
       "      <td>0.0</td>\n",
       "      <td>0.0</td>\n",
       "      <td>0.0</td>\n",
       "      <td>0.0</td>\n",
       "      <td>0.0</td>\n",
       "      <td>0.0</td>\n",
       "      <td>1.0</td>\n",
       "      <td>1.0</td>\n",
       "      <td>...</td>\n",
       "      <td>0.0</td>\n",
       "      <td>0.0</td>\n",
       "      <td>0.0</td>\n",
       "      <td>0.0</td>\n",
       "      <td>0.0</td>\n",
       "      <td>0.0</td>\n",
       "      <td>0.0</td>\n",
       "      <td>0.0</td>\n",
       "      <td>0.0</td>\n",
       "      <td>0.0</td>\n",
       "    </tr>\n",
       "    <tr>\n",
       "      <th>2</th>\n",
       "      <td>5.0</td>\n",
       "      <td>4.0</td>\n",
       "      <td>3.0</td>\n",
       "      <td>30.0</td>\n",
       "      <td>4.0</td>\n",
       "      <td>2.0</td>\n",
       "      <td>0.0</td>\n",
       "      <td>4.0</td>\n",
       "      <td>4.0</td>\n",
       "      <td>41.0</td>\n",
       "      <td>...</td>\n",
       "      <td>0.0</td>\n",
       "      <td>0.0</td>\n",
       "      <td>0.0</td>\n",
       "      <td>0.0</td>\n",
       "      <td>0.0</td>\n",
       "      <td>0.0</td>\n",
       "      <td>0.0</td>\n",
       "      <td>0.0</td>\n",
       "      <td>0.0</td>\n",
       "      <td>0.0</td>\n",
       "    </tr>\n",
       "    <tr>\n",
       "      <th>3</th>\n",
       "      <td>11.0</td>\n",
       "      <td>41.0</td>\n",
       "      <td>41.0</td>\n",
       "      <td>626.0</td>\n",
       "      <td>26.0</td>\n",
       "      <td>42.0</td>\n",
       "      <td>4.0</td>\n",
       "      <td>4.0</td>\n",
       "      <td>16.0</td>\n",
       "      <td>1665.0</td>\n",
       "      <td>...</td>\n",
       "      <td>0.0</td>\n",
       "      <td>0.0</td>\n",
       "      <td>0.0</td>\n",
       "      <td>0.0</td>\n",
       "      <td>0.0</td>\n",
       "      <td>0.0</td>\n",
       "      <td>0.0</td>\n",
       "      <td>0.0</td>\n",
       "      <td>0.0</td>\n",
       "      <td>0.0</td>\n",
       "    </tr>\n",
       "    <tr>\n",
       "      <th>4</th>\n",
       "      <td>12.0</td>\n",
       "      <td>4.0</td>\n",
       "      <td>5.0</td>\n",
       "      <td>43.0</td>\n",
       "      <td>6.0</td>\n",
       "      <td>2.0</td>\n",
       "      <td>1.0</td>\n",
       "      <td>1.0</td>\n",
       "      <td>7.0</td>\n",
       "      <td>60.0</td>\n",
       "      <td>...</td>\n",
       "      <td>0.0</td>\n",
       "      <td>0.0</td>\n",
       "      <td>0.0</td>\n",
       "      <td>0.0</td>\n",
       "      <td>0.0</td>\n",
       "      <td>0.0</td>\n",
       "      <td>0.0</td>\n",
       "      <td>0.0</td>\n",
       "      <td>0.0</td>\n",
       "      <td>0.0</td>\n",
       "    </tr>\n",
       "    <tr>\n",
       "      <th>...</th>\n",
       "      <td>...</td>\n",
       "      <td>...</td>\n",
       "      <td>...</td>\n",
       "      <td>...</td>\n",
       "      <td>...</td>\n",
       "      <td>...</td>\n",
       "      <td>...</td>\n",
       "      <td>...</td>\n",
       "      <td>...</td>\n",
       "      <td>...</td>\n",
       "      <td>...</td>\n",
       "      <td>...</td>\n",
       "      <td>...</td>\n",
       "      <td>...</td>\n",
       "      <td>...</td>\n",
       "      <td>...</td>\n",
       "      <td>...</td>\n",
       "      <td>...</td>\n",
       "      <td>...</td>\n",
       "      <td>...</td>\n",
       "      <td>...</td>\n",
       "    </tr>\n",
       "    <tr>\n",
       "      <th>3588</th>\n",
       "      <td>18.0</td>\n",
       "      <td>10.0</td>\n",
       "      <td>5.0</td>\n",
       "      <td>264.0</td>\n",
       "      <td>8.0</td>\n",
       "      <td>2.0</td>\n",
       "      <td>3.0</td>\n",
       "      <td>3.0</td>\n",
       "      <td>10.0</td>\n",
       "      <td>456.0</td>\n",
       "      <td>...</td>\n",
       "      <td>0.0</td>\n",
       "      <td>0.0</td>\n",
       "      <td>0.0</td>\n",
       "      <td>0.0</td>\n",
       "      <td>0.0</td>\n",
       "      <td>0.0</td>\n",
       "      <td>0.0</td>\n",
       "      <td>0.0</td>\n",
       "      <td>0.0</td>\n",
       "      <td>0.0</td>\n",
       "    </tr>\n",
       "    <tr>\n",
       "      <th>3589</th>\n",
       "      <td>18.0</td>\n",
       "      <td>9.0</td>\n",
       "      <td>5.0</td>\n",
       "      <td>86.0</td>\n",
       "      <td>8.0</td>\n",
       "      <td>2.0</td>\n",
       "      <td>3.0</td>\n",
       "      <td>3.0</td>\n",
       "      <td>12.0</td>\n",
       "      <td>95.0</td>\n",
       "      <td>...</td>\n",
       "      <td>0.0</td>\n",
       "      <td>0.0</td>\n",
       "      <td>0.0</td>\n",
       "      <td>0.0</td>\n",
       "      <td>0.0</td>\n",
       "      <td>0.0</td>\n",
       "      <td>0.0</td>\n",
       "      <td>0.0</td>\n",
       "      <td>0.0</td>\n",
       "      <td>0.0</td>\n",
       "    </tr>\n",
       "    <tr>\n",
       "      <th>3590</th>\n",
       "      <td>11.0</td>\n",
       "      <td>9.0</td>\n",
       "      <td>3.0</td>\n",
       "      <td>53.0</td>\n",
       "      <td>4.0</td>\n",
       "      <td>2.0</td>\n",
       "      <td>3.0</td>\n",
       "      <td>3.0</td>\n",
       "      <td>9.0</td>\n",
       "      <td>182.0</td>\n",
       "      <td>...</td>\n",
       "      <td>0.0</td>\n",
       "      <td>0.0</td>\n",
       "      <td>0.0</td>\n",
       "      <td>0.0</td>\n",
       "      <td>0.0</td>\n",
       "      <td>0.0</td>\n",
       "      <td>0.0</td>\n",
       "      <td>0.0</td>\n",
       "      <td>0.0</td>\n",
       "      <td>0.0</td>\n",
       "    </tr>\n",
       "    <tr>\n",
       "      <th>3591</th>\n",
       "      <td>9.0</td>\n",
       "      <td>8.0</td>\n",
       "      <td>8.0</td>\n",
       "      <td>110.0</td>\n",
       "      <td>4.0</td>\n",
       "      <td>2.0</td>\n",
       "      <td>3.0</td>\n",
       "      <td>3.0</td>\n",
       "      <td>6.0</td>\n",
       "      <td>182.0</td>\n",
       "      <td>...</td>\n",
       "      <td>0.0</td>\n",
       "      <td>0.0</td>\n",
       "      <td>0.0</td>\n",
       "      <td>0.0</td>\n",
       "      <td>0.0</td>\n",
       "      <td>0.0</td>\n",
       "      <td>0.0</td>\n",
       "      <td>0.0</td>\n",
       "      <td>0.0</td>\n",
       "      <td>0.0</td>\n",
       "    </tr>\n",
       "    <tr>\n",
       "      <th>3592</th>\n",
       "      <td>12.0</td>\n",
       "      <td>13.0</td>\n",
       "      <td>3.0</td>\n",
       "      <td>261.0</td>\n",
       "      <td>6.0</td>\n",
       "      <td>4.0</td>\n",
       "      <td>0.0</td>\n",
       "      <td>0.0</td>\n",
       "      <td>5.0</td>\n",
       "      <td>2369.0</td>\n",
       "      <td>...</td>\n",
       "      <td>0.0</td>\n",
       "      <td>0.0</td>\n",
       "      <td>0.0</td>\n",
       "      <td>0.0</td>\n",
       "      <td>0.0</td>\n",
       "      <td>0.0</td>\n",
       "      <td>0.0</td>\n",
       "      <td>0.0</td>\n",
       "      <td>0.0</td>\n",
       "      <td>0.0</td>\n",
       "    </tr>\n",
       "  </tbody>\n",
       "</table>\n",
       "<p>3562 rows × 282 columns</p>\n",
       "</div>"
      ],
      "text/plain": [
       "      RegCreateKeyExW  NtDuplicateObject  CoUninitialize  RegCloseKey  \\\n",
       "0                12.0                3.0             5.0         43.0   \n",
       "1                 0.0                0.0             0.0          0.0   \n",
       "2                 5.0                4.0             3.0         30.0   \n",
       "3                11.0               41.0            41.0        626.0   \n",
       "4                12.0                4.0             5.0         43.0   \n",
       "...               ...                ...             ...          ...   \n",
       "3588             18.0               10.0             5.0        264.0   \n",
       "3589             18.0                9.0             5.0         86.0   \n",
       "3590             11.0                9.0             3.0         53.0   \n",
       "3591              9.0                8.0             8.0        110.0   \n",
       "3592             12.0               13.0             3.0        261.0   \n",
       "\n",
       "      NtQueryKey  GetBestInterfaceEx  HttpOpenRequestA  InternetOpenA  \\\n",
       "0            6.0                 2.0               1.0            1.0   \n",
       "1            0.0                 0.0               0.0            0.0   \n",
       "2            4.0                 2.0               0.0            4.0   \n",
       "3           26.0                42.0               4.0            4.0   \n",
       "4            6.0                 2.0               1.0            1.0   \n",
       "...          ...                 ...               ...            ...   \n",
       "3588         8.0                 2.0               3.0            3.0   \n",
       "3589         8.0                 2.0               3.0            3.0   \n",
       "3590         4.0                 2.0               3.0            3.0   \n",
       "3591         4.0                 2.0               3.0            3.0   \n",
       "3592         6.0                 4.0               0.0            0.0   \n",
       "\n",
       "      WSAStartup  NtClose  ...  pdf_unescape  InternetOpenUrlW  WSARecvFrom  \\\n",
       "0            7.0     59.0  ...           0.0               0.0          0.0   \n",
       "1            1.0      1.0  ...           0.0               0.0          0.0   \n",
       "2            4.0     41.0  ...           0.0               0.0          0.0   \n",
       "3           16.0   1665.0  ...           0.0               0.0          0.0   \n",
       "4            7.0     60.0  ...           0.0               0.0          0.0   \n",
       "...          ...      ...  ...           ...               ...          ...   \n",
       "3588        10.0    456.0  ...           0.0               0.0          0.0   \n",
       "3589        12.0     95.0  ...           0.0               0.0          0.0   \n",
       "3590         9.0    182.0  ...           0.0               0.0          0.0   \n",
       "3591         6.0    182.0  ...           0.0               0.0          0.0   \n",
       "3592         5.0   2369.0  ...           0.0               0.0          0.0   \n",
       "\n",
       "      WSASendTo  InternetWriteFile  ReadCabinetState  RegisterHotKey  \\\n",
       "0           0.0                0.0               0.0             0.0   \n",
       "1           0.0                0.0               0.0             0.0   \n",
       "2           0.0                0.0               0.0             0.0   \n",
       "3           0.0                0.0               0.0             0.0   \n",
       "4           0.0                0.0               0.0             0.0   \n",
       "...         ...                ...               ...             ...   \n",
       "3588        0.0                0.0               0.0             0.0   \n",
       "3589        0.0                0.0               0.0             0.0   \n",
       "3590        0.0                0.0               0.0             0.0   \n",
       "3591        0.0                0.0               0.0             0.0   \n",
       "3592        0.0                0.0               0.0             0.0   \n",
       "\n",
       "      CertCreateCertificateContext  GetInterfaceInfo  CryptProtectData  \n",
       "0                              0.0               0.0               0.0  \n",
       "1                              0.0               0.0               0.0  \n",
       "2                              0.0               0.0               0.0  \n",
       "3                              0.0               0.0               0.0  \n",
       "4                              0.0               0.0               0.0  \n",
       "...                            ...               ...               ...  \n",
       "3588                           0.0               0.0               0.0  \n",
       "3589                           0.0               0.0               0.0  \n",
       "3590                           0.0               0.0               0.0  \n",
       "3591                           0.0               0.0               0.0  \n",
       "3592                           0.0               0.0               0.0  \n",
       "\n",
       "[3562 rows x 282 columns]"
      ]
     },
     "execution_count": 12,
     "metadata": {},
     "output_type": "execute_result"
    }
   ],
   "source": [
    "def extract_all_api_stats(api):\n",
    "    # Return an empty dictionary if the input is not a dictionary.\n",
    "    if not isinstance(api, dict): return {}\n",
    "    \n",
    "    compiled_api_stats = {}\n",
    "    # Compile statistics for each API call across all entries.\n",
    "    for key in api.keys():\n",
    "        for api_call, value in api[key].items():\n",
    "            compiled_api_stats[api_call] = compiled_api_stats.get(api_call, 0) + value\n",
    "\n",
    "    return compiled_api_stats\n",
    "  \n",
    "  # Apply the function to extract API stats and convert results to a DataFrame.\n",
    "df_ = df_cuckoo_reports['apistats'].apply(extract_all_api_stats).apply(pd.Series).fillna(0)\n",
    "\n",
    "df_"
   ]
  },
  {
   "cell_type": "markdown",
   "metadata": {},
   "source": [
    " Performing PCA Analysis"
   ]
  },
  {
   "cell_type": "code",
   "execution_count": 13,
   "metadata": {},
   "outputs": [
    {
     "name": "stdout",
     "output_type": "stream",
     "text": [
      "Features ranked by importance: Index(['InternetOpenA', 'DeleteUrlCacheEntryA', 'InternetConnectA',\n",
      "       'InternetOpenUrlA', 'InternetQueryOptionA', 'HttpSendRequestA',\n",
      "       'RegCreateKeyExW', 'gethostbyname'],\n",
      "      dtype='object')\n"
     ]
    }
   ],
   "source": [
    "from sklearn.decomposition import PCA\n",
    "import numpy as np\n",
    "\n",
    "# Initialize and fit PCA on the DataFrame.\n",
    "pca = PCA().fit(df_)\n",
    "\n",
    "# Calculate the importance of each feature based on their contribution to the principal components.\n",
    "feature_importance = np.abs(pca.components_).sum(axis=0)\n",
    "\n",
    "# Sort features based on their importance in descending order.\n",
    "important_features = feature_importance.argsort()[::-1]\n",
    "sorted_features = df_.columns[important_features]\n",
    "\n",
    "# Select the top 8 most important features from the sorted list.\n",
    "important_apis = sorted_features[:8]\n",
    "\n",
    "# Print features ranked by their importance.\n",
    "print(\"Features ranked by importance:\", important_apis)"
   ]
  },
  {
   "cell_type": "markdown",
   "metadata": {},
   "source": [
    "Cuckoo Report Data"
   ]
  },
  {
   "cell_type": "code",
   "execution_count": 14,
   "metadata": {},
   "outputs": [
    {
     "data": {
      "text/html": [
       "<div>\n",
       "<style scoped>\n",
       "    .dataframe tbody tr th:only-of-type {\n",
       "        vertical-align: middle;\n",
       "    }\n",
       "\n",
       "    .dataframe tbody tr th {\n",
       "        vertical-align: top;\n",
       "    }\n",
       "\n",
       "    .dataframe thead th {\n",
       "        text-align: right;\n",
       "    }\n",
       "</style>\n",
       "<table border=\"1\" class=\"dataframe\">\n",
       "  <thead>\n",
       "    <tr style=\"text-align: right;\">\n",
       "      <th></th>\n",
       "      <th>file_name</th>\n",
       "      <th>process_call_count</th>\n",
       "      <th>system32_module_count</th>\n",
       "      <th>syswow64_module_count</th>\n",
       "      <th>pe_resources_count</th>\n",
       "      <th>pe_imports_count</th>\n",
       "      <th>files_created_in_administrator</th>\n",
       "      <th>files_not_ddl_exe_count</th>\n",
       "      <th>explorer_accessed_count</th>\n",
       "      <th>regkey_opened_count</th>\n",
       "      <th>...</th>\n",
       "      <th>signature_mark_call_count</th>\n",
       "      <th>api_InternetOpenA</th>\n",
       "      <th>api_DeleteUrlCacheEntryA</th>\n",
       "      <th>api_InternetConnectA</th>\n",
       "      <th>api_InternetOpenUrlA</th>\n",
       "      <th>api_InternetQueryOptionA</th>\n",
       "      <th>api_HttpSendRequestA</th>\n",
       "      <th>api_RegCreateKeyExW</th>\n",
       "      <th>api_gethostbyname</th>\n",
       "      <th>average_pkt_size</th>\n",
       "    </tr>\n",
       "  </thead>\n",
       "  <tbody>\n",
       "    <tr>\n",
       "      <th>0</th>\n",
       "      <td>4123011354d8259e919fbdf605be1973a79100074959dc...</td>\n",
       "      <td>0</td>\n",
       "      <td>63</td>\n",
       "      <td>26</td>\n",
       "      <td>1</td>\n",
       "      <td>12</td>\n",
       "      <td>0</td>\n",
       "      <td>3</td>\n",
       "      <td>0</td>\n",
       "      <td>23</td>\n",
       "      <td>...</td>\n",
       "      <td>140</td>\n",
       "      <td>1.0</td>\n",
       "      <td>0.0</td>\n",
       "      <td>1.0</td>\n",
       "      <td>0.0</td>\n",
       "      <td>0.0</td>\n",
       "      <td>3.0</td>\n",
       "      <td>12.0</td>\n",
       "      <td>0.0</td>\n",
       "      <td>133</td>\n",
       "    </tr>\n",
       "    <tr>\n",
       "      <th>1</th>\n",
       "      <td>c5d3906f7c6f39c16bb9b3d8061026d06f8a6dbb9a363f...</td>\n",
       "      <td>200</td>\n",
       "      <td>65</td>\n",
       "      <td>20</td>\n",
       "      <td>1</td>\n",
       "      <td>12</td>\n",
       "      <td>0</td>\n",
       "      <td>0</td>\n",
       "      <td>0</td>\n",
       "      <td>0</td>\n",
       "      <td>...</td>\n",
       "      <td>0</td>\n",
       "      <td>0.0</td>\n",
       "      <td>0.0</td>\n",
       "      <td>0.0</td>\n",
       "      <td>0.0</td>\n",
       "      <td>0.0</td>\n",
       "      <td>0.0</td>\n",
       "      <td>0.0</td>\n",
       "      <td>0.0</td>\n",
       "      <td>132</td>\n",
       "    </tr>\n",
       "    <tr>\n",
       "      <th>2</th>\n",
       "      <td>6971d8780aafa44664a469ff82074b5fea575b16aad399...</td>\n",
       "      <td>0</td>\n",
       "      <td>62</td>\n",
       "      <td>24</td>\n",
       "      <td>1</td>\n",
       "      <td>10</td>\n",
       "      <td>0</td>\n",
       "      <td>0</td>\n",
       "      <td>0</td>\n",
       "      <td>23</td>\n",
       "      <td>...</td>\n",
       "      <td>44</td>\n",
       "      <td>4.0</td>\n",
       "      <td>0.0</td>\n",
       "      <td>0.0</td>\n",
       "      <td>4.0</td>\n",
       "      <td>0.0</td>\n",
       "      <td>0.0</td>\n",
       "      <td>5.0</td>\n",
       "      <td>0.0</td>\n",
       "      <td>270</td>\n",
       "    </tr>\n",
       "    <tr>\n",
       "      <th>3</th>\n",
       "      <td>f23b384c2f44d7be20389a8f0d9688f650f6b88f8ad370...</td>\n",
       "      <td>3500</td>\n",
       "      <td>86</td>\n",
       "      <td>67</td>\n",
       "      <td>24</td>\n",
       "      <td>16</td>\n",
       "      <td>16</td>\n",
       "      <td>157</td>\n",
       "      <td>43</td>\n",
       "      <td>295</td>\n",
       "      <td>...</td>\n",
       "      <td>224</td>\n",
       "      <td>4.0</td>\n",
       "      <td>0.0</td>\n",
       "      <td>4.0</td>\n",
       "      <td>0.0</td>\n",
       "      <td>0.0</td>\n",
       "      <td>4.0</td>\n",
       "      <td>11.0</td>\n",
       "      <td>0.0</td>\n",
       "      <td>260</td>\n",
       "    </tr>\n",
       "    <tr>\n",
       "      <th>4</th>\n",
       "      <td>71434227b085c02a969d16c264574bf49863a0ac8966d0...</td>\n",
       "      <td>0</td>\n",
       "      <td>63</td>\n",
       "      <td>26</td>\n",
       "      <td>0</td>\n",
       "      <td>12</td>\n",
       "      <td>0</td>\n",
       "      <td>3</td>\n",
       "      <td>0</td>\n",
       "      <td>23</td>\n",
       "      <td>...</td>\n",
       "      <td>140</td>\n",
       "      <td>1.0</td>\n",
       "      <td>0.0</td>\n",
       "      <td>1.0</td>\n",
       "      <td>0.0</td>\n",
       "      <td>0.0</td>\n",
       "      <td>3.0</td>\n",
       "      <td>12.0</td>\n",
       "      <td>0.0</td>\n",
       "      <td>113</td>\n",
       "    </tr>\n",
       "    <tr>\n",
       "      <th>...</th>\n",
       "      <td>...</td>\n",
       "      <td>...</td>\n",
       "      <td>...</td>\n",
       "      <td>...</td>\n",
       "      <td>...</td>\n",
       "      <td>...</td>\n",
       "      <td>...</td>\n",
       "      <td>...</td>\n",
       "      <td>...</td>\n",
       "      <td>...</td>\n",
       "      <td>...</td>\n",
       "      <td>...</td>\n",
       "      <td>...</td>\n",
       "      <td>...</td>\n",
       "      <td>...</td>\n",
       "      <td>...</td>\n",
       "      <td>...</td>\n",
       "      <td>...</td>\n",
       "      <td>...</td>\n",
       "      <td>...</td>\n",
       "      <td>...</td>\n",
       "    </tr>\n",
       "    <tr>\n",
       "      <th>3588</th>\n",
       "      <td>ab478166ea93e9dac3e37a9ad7457aa58249046003238e...</td>\n",
       "      <td>1000</td>\n",
       "      <td>68</td>\n",
       "      <td>76</td>\n",
       "      <td>16</td>\n",
       "      <td>6</td>\n",
       "      <td>43</td>\n",
       "      <td>115</td>\n",
       "      <td>0</td>\n",
       "      <td>224</td>\n",
       "      <td>...</td>\n",
       "      <td>116</td>\n",
       "      <td>3.0</td>\n",
       "      <td>0.0</td>\n",
       "      <td>3.0</td>\n",
       "      <td>0.0</td>\n",
       "      <td>0.0</td>\n",
       "      <td>3.0</td>\n",
       "      <td>18.0</td>\n",
       "      <td>3.0</td>\n",
       "      <td>134</td>\n",
       "    </tr>\n",
       "    <tr>\n",
       "      <th>3589</th>\n",
       "      <td>9bc2309d5e391dd14c2948c55551105572ec0ae5cfc1f3...</td>\n",
       "      <td>100</td>\n",
       "      <td>64</td>\n",
       "      <td>26</td>\n",
       "      <td>0</td>\n",
       "      <td>18</td>\n",
       "      <td>0</td>\n",
       "      <td>2</td>\n",
       "      <td>0</td>\n",
       "      <td>30</td>\n",
       "      <td>...</td>\n",
       "      <td>132</td>\n",
       "      <td>3.0</td>\n",
       "      <td>0.0</td>\n",
       "      <td>3.0</td>\n",
       "      <td>0.0</td>\n",
       "      <td>0.0</td>\n",
       "      <td>3.0</td>\n",
       "      <td>18.0</td>\n",
       "      <td>3.0</td>\n",
       "      <td>130</td>\n",
       "    </tr>\n",
       "    <tr>\n",
       "      <th>3590</th>\n",
       "      <td>e7d65f2e23e76e2378afe028bd091d98469aa36a3a1bb3...</td>\n",
       "      <td>300</td>\n",
       "      <td>64</td>\n",
       "      <td>27</td>\n",
       "      <td>0</td>\n",
       "      <td>20</td>\n",
       "      <td>0</td>\n",
       "      <td>1</td>\n",
       "      <td>0</td>\n",
       "      <td>30</td>\n",
       "      <td>...</td>\n",
       "      <td>56</td>\n",
       "      <td>3.0</td>\n",
       "      <td>0.0</td>\n",
       "      <td>3.0</td>\n",
       "      <td>0.0</td>\n",
       "      <td>0.0</td>\n",
       "      <td>3.0</td>\n",
       "      <td>11.0</td>\n",
       "      <td>3.0</td>\n",
       "      <td>140</td>\n",
       "    </tr>\n",
       "    <tr>\n",
       "      <th>3591</th>\n",
       "      <td>962810f908daab4ed0796ff563433eb65a60507d23089a...</td>\n",
       "      <td>300</td>\n",
       "      <td>73</td>\n",
       "      <td>47</td>\n",
       "      <td>19</td>\n",
       "      <td>20</td>\n",
       "      <td>2</td>\n",
       "      <td>8</td>\n",
       "      <td>14</td>\n",
       "      <td>73</td>\n",
       "      <td>...</td>\n",
       "      <td>100</td>\n",
       "      <td>3.0</td>\n",
       "      <td>0.0</td>\n",
       "      <td>3.0</td>\n",
       "      <td>0.0</td>\n",
       "      <td>0.0</td>\n",
       "      <td>3.0</td>\n",
       "      <td>9.0</td>\n",
       "      <td>0.0</td>\n",
       "      <td>137</td>\n",
       "    </tr>\n",
       "    <tr>\n",
       "      <th>3592</th>\n",
       "      <td>8d78ba7e47fa48bde3707313fcef9ce42ef2190e4df03d...</td>\n",
       "      <td>1400</td>\n",
       "      <td>62</td>\n",
       "      <td>30</td>\n",
       "      <td>0</td>\n",
       "      <td>4</td>\n",
       "      <td>0</td>\n",
       "      <td>6</td>\n",
       "      <td>45</td>\n",
       "      <td>332</td>\n",
       "      <td>...</td>\n",
       "      <td>52</td>\n",
       "      <td>0.0</td>\n",
       "      <td>0.0</td>\n",
       "      <td>0.0</td>\n",
       "      <td>0.0</td>\n",
       "      <td>2.0</td>\n",
       "      <td>0.0</td>\n",
       "      <td>12.0</td>\n",
       "      <td>0.0</td>\n",
       "      <td>137</td>\n",
       "    </tr>\n",
       "  </tbody>\n",
       "</table>\n",
       "<p>3562 rows × 25 columns</p>\n",
       "</div>"
      ],
      "text/plain": [
       "                                              file_name  process_call_count  \\\n",
       "0     4123011354d8259e919fbdf605be1973a79100074959dc...                   0   \n",
       "1     c5d3906f7c6f39c16bb9b3d8061026d06f8a6dbb9a363f...                 200   \n",
       "2     6971d8780aafa44664a469ff82074b5fea575b16aad399...                   0   \n",
       "3     f23b384c2f44d7be20389a8f0d9688f650f6b88f8ad370...                3500   \n",
       "4     71434227b085c02a969d16c264574bf49863a0ac8966d0...                   0   \n",
       "...                                                 ...                 ...   \n",
       "3588  ab478166ea93e9dac3e37a9ad7457aa58249046003238e...                1000   \n",
       "3589  9bc2309d5e391dd14c2948c55551105572ec0ae5cfc1f3...                 100   \n",
       "3590  e7d65f2e23e76e2378afe028bd091d98469aa36a3a1bb3...                 300   \n",
       "3591  962810f908daab4ed0796ff563433eb65a60507d23089a...                 300   \n",
       "3592  8d78ba7e47fa48bde3707313fcef9ce42ef2190e4df03d...                1400   \n",
       "\n",
       "      system32_module_count  syswow64_module_count  pe_resources_count  \\\n",
       "0                        63                     26                   1   \n",
       "1                        65                     20                   1   \n",
       "2                        62                     24                   1   \n",
       "3                        86                     67                  24   \n",
       "4                        63                     26                   0   \n",
       "...                     ...                    ...                 ...   \n",
       "3588                     68                     76                  16   \n",
       "3589                     64                     26                   0   \n",
       "3590                     64                     27                   0   \n",
       "3591                     73                     47                  19   \n",
       "3592                     62                     30                   0   \n",
       "\n",
       "      pe_imports_count  files_created_in_administrator  \\\n",
       "0                   12                               0   \n",
       "1                   12                               0   \n",
       "2                   10                               0   \n",
       "3                   16                              16   \n",
       "4                   12                               0   \n",
       "...                ...                             ...   \n",
       "3588                 6                              43   \n",
       "3589                18                               0   \n",
       "3590                20                               0   \n",
       "3591                20                               2   \n",
       "3592                 4                               0   \n",
       "\n",
       "      files_not_ddl_exe_count  explorer_accessed_count  regkey_opened_count  \\\n",
       "0                           3                        0                   23   \n",
       "1                           0                        0                    0   \n",
       "2                           0                        0                   23   \n",
       "3                         157                       43                  295   \n",
       "4                           3                        0                   23   \n",
       "...                       ...                      ...                  ...   \n",
       "3588                      115                        0                  224   \n",
       "3589                        2                        0                   30   \n",
       "3590                        1                        0                   30   \n",
       "3591                        8                       14                   73   \n",
       "3592                        6                       45                  332   \n",
       "\n",
       "      ...  signature_mark_call_count  api_InternetOpenA  \\\n",
       "0     ...                        140                1.0   \n",
       "1     ...                          0                0.0   \n",
       "2     ...                         44                4.0   \n",
       "3     ...                        224                4.0   \n",
       "4     ...                        140                1.0   \n",
       "...   ...                        ...                ...   \n",
       "3588  ...                        116                3.0   \n",
       "3589  ...                        132                3.0   \n",
       "3590  ...                         56                3.0   \n",
       "3591  ...                        100                3.0   \n",
       "3592  ...                         52                0.0   \n",
       "\n",
       "      api_DeleteUrlCacheEntryA  api_InternetConnectA  api_InternetOpenUrlA  \\\n",
       "0                          0.0                   1.0                   0.0   \n",
       "1                          0.0                   0.0                   0.0   \n",
       "2                          0.0                   0.0                   4.0   \n",
       "3                          0.0                   4.0                   0.0   \n",
       "4                          0.0                   1.0                   0.0   \n",
       "...                        ...                   ...                   ...   \n",
       "3588                       0.0                   3.0                   0.0   \n",
       "3589                       0.0                   3.0                   0.0   \n",
       "3590                       0.0                   3.0                   0.0   \n",
       "3591                       0.0                   3.0                   0.0   \n",
       "3592                       0.0                   0.0                   0.0   \n",
       "\n",
       "      api_InternetQueryOptionA  api_HttpSendRequestA  api_RegCreateKeyExW  \\\n",
       "0                          0.0                   3.0                 12.0   \n",
       "1                          0.0                   0.0                  0.0   \n",
       "2                          0.0                   0.0                  5.0   \n",
       "3                          0.0                   4.0                 11.0   \n",
       "4                          0.0                   3.0                 12.0   \n",
       "...                        ...                   ...                  ...   \n",
       "3588                       0.0                   3.0                 18.0   \n",
       "3589                       0.0                   3.0                 18.0   \n",
       "3590                       0.0                   3.0                 11.0   \n",
       "3591                       0.0                   3.0                  9.0   \n",
       "3592                       2.0                   0.0                 12.0   \n",
       "\n",
       "      api_gethostbyname  average_pkt_size  \n",
       "0                   0.0               133  \n",
       "1                   0.0               132  \n",
       "2                   0.0               270  \n",
       "3                   0.0               260  \n",
       "4                   0.0               113  \n",
       "...                 ...               ...  \n",
       "3588                3.0               134  \n",
       "3589                3.0               130  \n",
       "3590                3.0               140  \n",
       "3591                0.0               137  \n",
       "3592                0.0               137  \n",
       "\n",
       "[3562 rows x 25 columns]"
      ]
     },
     "execution_count": 14,
     "metadata": {},
     "output_type": "execute_result"
    }
   ],
   "source": [
    "# Create an empty DataFrame to hold the processed data\n",
    "cuckoo_reports = pd.DataFrame()\n",
    "\n",
    "# Remove '.zip' extension and replace it with '.json'\n",
    "cuckoo_reports['file_name'] = df_cuckoo_reports['file'].str.replace('.zip', '.json')\n",
    "\n",
    "# Calculate the number of processes, modules, and calls for each report\n",
    "cuckoo_reports['process_call_count'] = df_cuckoo_reports['processes'].apply(lambda x: 0 if type(x) != list or len(x) == 0 else sum(0 if 'calls' not in y else len(y['calls']) for y in x))\n",
    "cuckoo_reports['system32_module_count'] = df_cuckoo_reports['processes'].apply(lambda x: 0 if type(x) != list or len(x) == 0 else sum(len([z for z in data['modules'] if 'system32' in z['filepath'].lower()]) for data in x if 'modules' in data))\n",
    "cuckoo_reports['syswow64_module_count'] = df_cuckoo_reports['processes'].apply(lambda x: 0 if type(x) != list or len(x) == 0 else sum(len([z for z in data['modules'] if 'syswow64' in z['filepath'].lower()]) for data in x if 'modules' in data))\n",
    "\n",
    "# Calculate the number of PE resources and imports for each report\n",
    "cuckoo_reports['pe_resources_count'] = df_cuckoo_reports['static'].apply(lambda x: 0 if type(x) != dict or 'pe_resources' not in x.keys() else len(x['pe_resources']))\n",
    "cuckoo_reports['pe_imports_count'] = df_cuckoo_reports['static'].apply(lambda x: 0 if type(x) != dict or 'pe_imports' not in x.keys() else sum(len(z) for z in x['pe_imports'] ))\n",
    "\n",
    "# Count files created under Administrator path from 'fileops'\n",
    "cuckoo_reports['files_created_in_administrator'] =  df_cuckoo_reports['fileops'].apply(lambda x: 0 if type(x) != list else sum([1 for fileop in x if fileop['op'] == 'file_created' and fileop['path'].startswith('C:\\\\Users\\\\Administrator')]))\n",
    "\n",
    "# Summarize the number of file operations and registry keys accessed\n",
    "cuckoo_reports['files_not_ddl_exe_count'] = df_cuckoo_reports['generic_behavior'].apply(lambda x: sum(sum(len([ z for z in value if type(z) == str and not z.endswith('.dll') and not z.endswith('.exe')]) for key, value in y.get('summary').items() if 'file' in key and type(value) == list) for y in x))\n",
    "cuckoo_reports['explorer_accessed_count'] = df_cuckoo_reports['generic_behavior'].apply(lambda x: sum(sum(len([ z for z in value if type(z) == str and 'Windows\\\\CurrentVersion\\\\explorer'.lower() in z.lower()]) for key, value in y.get('summary').items() if 'regkey_read' in key and type(value) == list) for y in x))\n",
    "\n",
    "# Summarize the number of registry keys opened and values accessed\n",
    "cuckoo_reports['regkey_opened_count'] = df_cuckoo_reports['summary'].apply(lambda x: 0 if type(x) != dict or 'regkey_opened' not in x.keys() else len(x['regkey_opened']))\n",
    "cuckoo_reports['summary_values_count'] = df_cuckoo_reports['summary'].apply( lambda x: 0 if type(x) != dict else sum(len(val) for val in x.values()))\n",
    "cuckoo_reports['keyboard_control_count'] = df_cuckoo_reports['summary'].apply(lambda x: 0 if type(x) != dict or 'regkey_opened' not in x.keys() else sum(1 for y in x['regkey_opened'] if 'Keyboard Layouts'.lower() in y.lower()))\n",
    "cuckoo_reports['wpad_regkey_count'] = df_cuckoo_reports['summary'].apply(lambda x: 0 if type(x) != dict else sum( sum(1 for z in x[y] if type(z) == str and 'wpad' in z.lower()) for y in x.keys()))\n",
    "\n",
    "# Include the number of strings\n",
    "cuckoo_reports['strings_count'] = df_cuckoo_reports['strings_count']\n",
    "\n",
    "# Include the number of signatures and signature mark call count\n",
    "cuckoo_reports['signatures_count'] = df_cuckoo_reports['signatures_count']\n",
    "cuckoo_reports['signature_mark_call_count'] = df_cuckoo_reports['signature_mark_call_count']\n",
    "\n",
    "# Include the top 8 important columns identified by PCA.\n",
    "for columns in important_apis:\n",
    "  cuckoo_reports['api_' + columns] = df_[columns]\n",
    "\n",
    "# Calculate average packet size from Suricata summary data\n",
    "cuckoo_reports['average_pkt_size'] = df_cuckoo_reports['suricata_summary'].apply(lambda x: 0 if type(x) != dict else x['stats']['decoder']['avg_pkt_size'])\n",
    "\n",
    "cuckoo_reports"
   ]
  },
  {
   "cell_type": "markdown",
   "metadata": {},
   "source": [
    "Combined Data"
   ]
  },
  {
   "cell_type": "code",
   "execution_count": 15,
   "metadata": {},
   "outputs": [
    {
     "data": {
      "text/html": [
       "<div>\n",
       "<style scoped>\n",
       "    .dataframe tbody tr th:only-of-type {\n",
       "        vertical-align: middle;\n",
       "    }\n",
       "\n",
       "    .dataframe tbody tr th {\n",
       "        vertical-align: top;\n",
       "    }\n",
       "\n",
       "    .dataframe thead th {\n",
       "        text-align: right;\n",
       "    }\n",
       "</style>\n",
       "<table border=\"1\" class=\"dataframe\">\n",
       "  <thead>\n",
       "    <tr style=\"text-align: right;\">\n",
       "      <th></th>\n",
       "      <th>apt_group</th>\n",
       "      <th>unique_sources</th>\n",
       "      <th>malicious_count</th>\n",
       "      <th>imports_count</th>\n",
       "      <th>imported_functions</th>\n",
       "      <th>files_written_count</th>\n",
       "      <th>files_deleted_count</th>\n",
       "      <th>registry_keys_count</th>\n",
       "      <th>processes_count</th>\n",
       "      <th>mutexes_count</th>\n",
       "      <th>...</th>\n",
       "      <th>signature_mark_call_count</th>\n",
       "      <th>api_InternetOpenA</th>\n",
       "      <th>api_DeleteUrlCacheEntryA</th>\n",
       "      <th>api_InternetConnectA</th>\n",
       "      <th>api_InternetOpenUrlA</th>\n",
       "      <th>api_InternetQueryOptionA</th>\n",
       "      <th>api_HttpSendRequestA</th>\n",
       "      <th>api_RegCreateKeyExW</th>\n",
       "      <th>api_gethostbyname</th>\n",
       "      <th>average_pkt_size</th>\n",
       "    </tr>\n",
       "  </thead>\n",
       "  <tbody>\n",
       "    <tr>\n",
       "      <th>0</th>\n",
       "      <td>APT 1</td>\n",
       "      <td>13</td>\n",
       "      <td>65</td>\n",
       "      <td>7</td>\n",
       "      <td>85</td>\n",
       "      <td>14</td>\n",
       "      <td>11</td>\n",
       "      <td>637</td>\n",
       "      <td>26</td>\n",
       "      <td>17</td>\n",
       "      <td>...</td>\n",
       "      <td>60.0</td>\n",
       "      <td>1.0</td>\n",
       "      <td>0.0</td>\n",
       "      <td>1.0</td>\n",
       "      <td>0.0</td>\n",
       "      <td>0.0</td>\n",
       "      <td>1.0</td>\n",
       "      <td>9.0</td>\n",
       "      <td>1.0</td>\n",
       "      <td>134.0</td>\n",
       "    </tr>\n",
       "    <tr>\n",
       "      <th>1</th>\n",
       "      <td>APT 1</td>\n",
       "      <td>7</td>\n",
       "      <td>63</td>\n",
       "      <td>3</td>\n",
       "      <td>53</td>\n",
       "      <td>0</td>\n",
       "      <td>0</td>\n",
       "      <td>0</td>\n",
       "      <td>0</td>\n",
       "      <td>0</td>\n",
       "      <td>...</td>\n",
       "      <td>0.0</td>\n",
       "      <td>0.0</td>\n",
       "      <td>0.0</td>\n",
       "      <td>0.0</td>\n",
       "      <td>0.0</td>\n",
       "      <td>0.0</td>\n",
       "      <td>0.0</td>\n",
       "      <td>0.0</td>\n",
       "      <td>0.0</td>\n",
       "      <td>304.0</td>\n",
       "    </tr>\n",
       "    <tr>\n",
       "      <th>2</th>\n",
       "      <td>APT 1</td>\n",
       "      <td>8</td>\n",
       "      <td>63</td>\n",
       "      <td>5</td>\n",
       "      <td>67</td>\n",
       "      <td>72</td>\n",
       "      <td>31</td>\n",
       "      <td>957</td>\n",
       "      <td>64</td>\n",
       "      <td>48</td>\n",
       "      <td>...</td>\n",
       "      <td>76.0</td>\n",
       "      <td>0.0</td>\n",
       "      <td>0.0</td>\n",
       "      <td>0.0</td>\n",
       "      <td>0.0</td>\n",
       "      <td>2.0</td>\n",
       "      <td>0.0</td>\n",
       "      <td>21.0</td>\n",
       "      <td>0.0</td>\n",
       "      <td>121.0</td>\n",
       "    </tr>\n",
       "    <tr>\n",
       "      <th>3</th>\n",
       "      <td>APT 1</td>\n",
       "      <td>4</td>\n",
       "      <td>53</td>\n",
       "      <td>4</td>\n",
       "      <td>70</td>\n",
       "      <td>0</td>\n",
       "      <td>0</td>\n",
       "      <td>0</td>\n",
       "      <td>0</td>\n",
       "      <td>0</td>\n",
       "      <td>...</td>\n",
       "      <td>12.0</td>\n",
       "      <td>0.0</td>\n",
       "      <td>0.0</td>\n",
       "      <td>0.0</td>\n",
       "      <td>0.0</td>\n",
       "      <td>0.0</td>\n",
       "      <td>0.0</td>\n",
       "      <td>0.0</td>\n",
       "      <td>0.0</td>\n",
       "      <td>130.0</td>\n",
       "    </tr>\n",
       "    <tr>\n",
       "      <th>4</th>\n",
       "      <td>APT 1</td>\n",
       "      <td>4</td>\n",
       "      <td>62</td>\n",
       "      <td>5</td>\n",
       "      <td>67</td>\n",
       "      <td>29</td>\n",
       "      <td>14</td>\n",
       "      <td>597</td>\n",
       "      <td>53</td>\n",
       "      <td>32</td>\n",
       "      <td>...</td>\n",
       "      <td>76.0</td>\n",
       "      <td>0.0</td>\n",
       "      <td>0.0</td>\n",
       "      <td>0.0</td>\n",
       "      <td>0.0</td>\n",
       "      <td>2.0</td>\n",
       "      <td>0.0</td>\n",
       "      <td>21.0</td>\n",
       "      <td>0.0</td>\n",
       "      <td>128.0</td>\n",
       "    </tr>\n",
       "    <tr>\n",
       "      <th>...</th>\n",
       "      <td>...</td>\n",
       "      <td>...</td>\n",
       "      <td>...</td>\n",
       "      <td>...</td>\n",
       "      <td>...</td>\n",
       "      <td>...</td>\n",
       "      <td>...</td>\n",
       "      <td>...</td>\n",
       "      <td>...</td>\n",
       "      <td>...</td>\n",
       "      <td>...</td>\n",
       "      <td>...</td>\n",
       "      <td>...</td>\n",
       "      <td>...</td>\n",
       "      <td>...</td>\n",
       "      <td>...</td>\n",
       "      <td>...</td>\n",
       "      <td>...</td>\n",
       "      <td>...</td>\n",
       "      <td>...</td>\n",
       "      <td>...</td>\n",
       "    </tr>\n",
       "    <tr>\n",
       "      <th>3587</th>\n",
       "      <td>Dark Hotel</td>\n",
       "      <td>6</td>\n",
       "      <td>63</td>\n",
       "      <td>9</td>\n",
       "      <td>163</td>\n",
       "      <td>51</td>\n",
       "      <td>9</td>\n",
       "      <td>815</td>\n",
       "      <td>50</td>\n",
       "      <td>30</td>\n",
       "      <td>...</td>\n",
       "      <td>24.0</td>\n",
       "      <td>0.0</td>\n",
       "      <td>0.0</td>\n",
       "      <td>0.0</td>\n",
       "      <td>0.0</td>\n",
       "      <td>0.0</td>\n",
       "      <td>0.0</td>\n",
       "      <td>0.0</td>\n",
       "      <td>0.0</td>\n",
       "      <td>139.0</td>\n",
       "    </tr>\n",
       "    <tr>\n",
       "      <th>3588</th>\n",
       "      <td>Dark Hotel</td>\n",
       "      <td>10</td>\n",
       "      <td>65</td>\n",
       "      <td>9</td>\n",
       "      <td>75</td>\n",
       "      <td>14</td>\n",
       "      <td>5</td>\n",
       "      <td>245</td>\n",
       "      <td>11</td>\n",
       "      <td>16</td>\n",
       "      <td>...</td>\n",
       "      <td>56.0</td>\n",
       "      <td>3.0</td>\n",
       "      <td>0.0</td>\n",
       "      <td>3.0</td>\n",
       "      <td>0.0</td>\n",
       "      <td>0.0</td>\n",
       "      <td>3.0</td>\n",
       "      <td>11.0</td>\n",
       "      <td>3.0</td>\n",
       "      <td>152.0</td>\n",
       "    </tr>\n",
       "    <tr>\n",
       "      <th>3589</th>\n",
       "      <td>Dark Hotel</td>\n",
       "      <td>14</td>\n",
       "      <td>66</td>\n",
       "      <td>10</td>\n",
       "      <td>88</td>\n",
       "      <td>0</td>\n",
       "      <td>0</td>\n",
       "      <td>31</td>\n",
       "      <td>1</td>\n",
       "      <td>0</td>\n",
       "      <td>...</td>\n",
       "      <td>0.0</td>\n",
       "      <td>0.0</td>\n",
       "      <td>0.0</td>\n",
       "      <td>0.0</td>\n",
       "      <td>0.0</td>\n",
       "      <td>0.0</td>\n",
       "      <td>0.0</td>\n",
       "      <td>0.0</td>\n",
       "      <td>0.0</td>\n",
       "      <td>133.0</td>\n",
       "    </tr>\n",
       "    <tr>\n",
       "      <th>3590</th>\n",
       "      <td>Dark Hotel</td>\n",
       "      <td>11</td>\n",
       "      <td>63</td>\n",
       "      <td>8</td>\n",
       "      <td>231</td>\n",
       "      <td>15</td>\n",
       "      <td>3</td>\n",
       "      <td>125</td>\n",
       "      <td>12</td>\n",
       "      <td>1</td>\n",
       "      <td>...</td>\n",
       "      <td>424.0</td>\n",
       "      <td>0.0</td>\n",
       "      <td>0.0</td>\n",
       "      <td>0.0</td>\n",
       "      <td>0.0</td>\n",
       "      <td>0.0</td>\n",
       "      <td>0.0</td>\n",
       "      <td>0.0</td>\n",
       "      <td>0.0</td>\n",
       "      <td>136.0</td>\n",
       "    </tr>\n",
       "    <tr>\n",
       "      <th>3591</th>\n",
       "      <td>Dark Hotel</td>\n",
       "      <td>20</td>\n",
       "      <td>61</td>\n",
       "      <td>19</td>\n",
       "      <td>604</td>\n",
       "      <td>3</td>\n",
       "      <td>0</td>\n",
       "      <td>145</td>\n",
       "      <td>1</td>\n",
       "      <td>16</td>\n",
       "      <td>...</td>\n",
       "      <td>0.0</td>\n",
       "      <td>0.0</td>\n",
       "      <td>0.0</td>\n",
       "      <td>0.0</td>\n",
       "      <td>0.0</td>\n",
       "      <td>0.0</td>\n",
       "      <td>0.0</td>\n",
       "      <td>0.0</td>\n",
       "      <td>0.0</td>\n",
       "      <td>133.0</td>\n",
       "    </tr>\n",
       "  </tbody>\n",
       "</table>\n",
       "<p>3592 rows × 37 columns</p>\n",
       "</div>"
      ],
      "text/plain": [
       "       apt_group  unique_sources  malicious_count  imports_count  \\\n",
       "0          APT 1              13               65              7   \n",
       "1          APT 1               7               63              3   \n",
       "2          APT 1               8               63              5   \n",
       "3          APT 1               4               53              4   \n",
       "4          APT 1               4               62              5   \n",
       "...          ...             ...              ...            ...   \n",
       "3587  Dark Hotel               6               63              9   \n",
       "3588  Dark Hotel              10               65              9   \n",
       "3589  Dark Hotel              14               66             10   \n",
       "3590  Dark Hotel              11               63              8   \n",
       "3591  Dark Hotel              20               61             19   \n",
       "\n",
       "      imported_functions  files_written_count  files_deleted_count  \\\n",
       "0                     85                   14                   11   \n",
       "1                     53                    0                    0   \n",
       "2                     67                   72                   31   \n",
       "3                     70                    0                    0   \n",
       "4                     67                   29                   14   \n",
       "...                  ...                  ...                  ...   \n",
       "3587                 163                   51                    9   \n",
       "3588                  75                   14                    5   \n",
       "3589                  88                    0                    0   \n",
       "3590                 231                   15                    3   \n",
       "3591                 604                    3                    0   \n",
       "\n",
       "      registry_keys_count  processes_count  mutexes_count  ...  \\\n",
       "0                     637               26             17  ...   \n",
       "1                       0                0              0  ...   \n",
       "2                     957               64             48  ...   \n",
       "3                       0                0              0  ...   \n",
       "4                     597               53             32  ...   \n",
       "...                   ...              ...            ...  ...   \n",
       "3587                  815               50             30  ...   \n",
       "3588                  245               11             16  ...   \n",
       "3589                   31                1              0  ...   \n",
       "3590                  125               12              1  ...   \n",
       "3591                  145                1             16  ...   \n",
       "\n",
       "      signature_mark_call_count  api_InternetOpenA  api_DeleteUrlCacheEntryA  \\\n",
       "0                          60.0                1.0                       0.0   \n",
       "1                           0.0                0.0                       0.0   \n",
       "2                          76.0                0.0                       0.0   \n",
       "3                          12.0                0.0                       0.0   \n",
       "4                          76.0                0.0                       0.0   \n",
       "...                         ...                ...                       ...   \n",
       "3587                       24.0                0.0                       0.0   \n",
       "3588                       56.0                3.0                       0.0   \n",
       "3589                        0.0                0.0                       0.0   \n",
       "3590                      424.0                0.0                       0.0   \n",
       "3591                        0.0                0.0                       0.0   \n",
       "\n",
       "      api_InternetConnectA  api_InternetOpenUrlA  api_InternetQueryOptionA  \\\n",
       "0                      1.0                   0.0                       0.0   \n",
       "1                      0.0                   0.0                       0.0   \n",
       "2                      0.0                   0.0                       2.0   \n",
       "3                      0.0                   0.0                       0.0   \n",
       "4                      0.0                   0.0                       2.0   \n",
       "...                    ...                   ...                       ...   \n",
       "3587                   0.0                   0.0                       0.0   \n",
       "3588                   3.0                   0.0                       0.0   \n",
       "3589                   0.0                   0.0                       0.0   \n",
       "3590                   0.0                   0.0                       0.0   \n",
       "3591                   0.0                   0.0                       0.0   \n",
       "\n",
       "      api_HttpSendRequestA  api_RegCreateKeyExW  api_gethostbyname  \\\n",
       "0                      1.0                  9.0                1.0   \n",
       "1                      0.0                  0.0                0.0   \n",
       "2                      0.0                 21.0                0.0   \n",
       "3                      0.0                  0.0                0.0   \n",
       "4                      0.0                 21.0                0.0   \n",
       "...                    ...                  ...                ...   \n",
       "3587                   0.0                  0.0                0.0   \n",
       "3588                   3.0                 11.0                3.0   \n",
       "3589                   0.0                  0.0                0.0   \n",
       "3590                   0.0                  0.0                0.0   \n",
       "3591                   0.0                  0.0                0.0   \n",
       "\n",
       "      average_pkt_size  \n",
       "0                134.0  \n",
       "1                304.0  \n",
       "2                121.0  \n",
       "3                130.0  \n",
       "4                128.0  \n",
       "...                ...  \n",
       "3587             139.0  \n",
       "3588             152.0  \n",
       "3589             133.0  \n",
       "3590             136.0  \n",
       "3591             133.0  \n",
       "\n",
       "[3592 rows x 37 columns]"
      ]
     },
     "execution_count": 15,
     "metadata": {},
     "output_type": "execute_result"
    }
   ],
   "source": [
    "# Combine data from three sources\n",
    "df_cleaned = pd.merge(file_cleaned, behaviour_cleaned, on='file_name', how='inner')\n",
    "df_cleaned = pd.merge(df_cleaned, cuckoo_reports, on='file_name', how='left').fillna(0)\n",
    "\n",
    "# Backup before modifications\n",
    "df_cleaned_pre_copy = df_cleaned.copy()\n",
    "\n",
    "# Drop 'file_name' column\n",
    "df_cleaned.drop('file_name', axis=1, inplace=True)\n",
    "\n",
    "# Display cleaned DataFrame\n",
    "df_cleaned"
   ]
  },
  {
   "cell_type": "code",
   "execution_count": 16,
   "metadata": {},
   "outputs": [
    {
     "data": {
      "text/plain": [
       "apt_group                          object\n",
       "unique_sources                      int64\n",
       "malicious_count                     int64\n",
       "imports_count                       int64\n",
       "imported_functions                  int64\n",
       "files_written_count                 int64\n",
       "files_deleted_count                 int64\n",
       "registry_keys_count                 int64\n",
       "processes_count                     int64\n",
       "mutexes_count                       int64\n",
       "command_executions                  int64\n",
       "ip_traffic_count                    int64\n",
       "modules_loaded_count                int64\n",
       "process_call_count                float64\n",
       "system32_module_count             float64\n",
       "syswow64_module_count             float64\n",
       "pe_resources_count                float64\n",
       "pe_imports_count                  float64\n",
       "files_created_in_administrator    float64\n",
       "files_not_ddl_exe_count           float64\n",
       "explorer_accessed_count           float64\n",
       "regkey_opened_count               float64\n",
       "summary_values_count              float64\n",
       "keyboard_control_count            float64\n",
       "wpad_regkey_count                 float64\n",
       "strings_count                     float64\n",
       "signatures_count                  float64\n",
       "signature_mark_call_count         float64\n",
       "api_InternetOpenA                 float64\n",
       "api_DeleteUrlCacheEntryA          float64\n",
       "api_InternetConnectA              float64\n",
       "api_InternetOpenUrlA              float64\n",
       "api_InternetQueryOptionA          float64\n",
       "api_HttpSendRequestA              float64\n",
       "api_RegCreateKeyExW               float64\n",
       "api_gethostbyname                 float64\n",
       "average_pkt_size                  float64\n",
       "dtype: object"
      ]
     },
     "execution_count": 16,
     "metadata": {},
     "output_type": "execute_result"
    }
   ],
   "source": [
    "df_cleaned.dtypes"
   ]
  },
  {
   "cell_type": "code",
   "execution_count": 17,
   "metadata": {},
   "outputs": [
    {
     "data": {
      "text/plain": [
       "apt_group\n",
       "Gorgon Group      961\n",
       "APT 1             404\n",
       "Equation Group    395\n",
       "Winnti            387\n",
       "APT 29            283\n",
       "Dark Hotel        273\n",
       "APT 10            244\n",
       "APT 28            211\n",
       "APT 30            164\n",
       "Energetic Bear    132\n",
       "APT 21            106\n",
       "APT 19             32\n",
       "Name: count, dtype: int64"
      ]
     },
     "execution_count": 17,
     "metadata": {},
     "output_type": "execute_result"
    }
   ],
   "source": [
    "df_cleaned.apt_group.value_counts()"
   ]
  },
  {
   "cell_type": "markdown",
   "metadata": {},
   "source": [
    "Performing PCA Analysis on the Combined Data"
   ]
  },
  {
   "cell_type": "code",
   "execution_count": 18,
   "metadata": {},
   "outputs": [
    {
     "name": "stdout",
     "output_type": "stream",
     "text": [
      "Features ranked by importance: Index(['syswow64_module_count', 'api_InternetConnectA', 'malicious_count',\n",
      "       'api_InternetOpenUrlA', 'api_InternetOpenA', 'api_HttpSendRequestA',\n",
      "       'api_DeleteUrlCacheEntryA', 'files_written_count', 'pe_resources_count',\n",
      "       'files_created_in_administrator', 'wpad_regkey_count',\n",
      "       'files_deleted_count', 'mutexes_count', 'keyboard_control_count',\n",
      "       'unique_sources', 'files_not_ddl_exe_count', 'api_RegCreateKeyExW',\n",
      "       'pe_imports_count', 'modules_loaded_count', 'imported_functions',\n",
      "       'ip_traffic_count', 'regkey_opened_count', 'command_executions',\n",
      "       'system32_module_count', 'processes_count', 'explorer_accessed_count',\n",
      "       'process_call_count', 'average_pkt_size', 'summary_values_count',\n",
      "       'imports_count', 'registry_keys_count', 'api_InternetQueryOptionA',\n",
      "       'signature_mark_call_count', 'signatures_count', 'strings_count',\n",
      "       'api_gethostbyname'],\n",
      "      dtype='object')\n"
     ]
    }
   ],
   "source": [
    "# Create a copy of the cleaned DataFrame and remove 'apt_group' column\n",
    "df_cleaned_copy = df_cleaned.copy()\n",
    "df_cleaned_copy = df_cleaned_copy.drop('apt_group', axis=1)\n",
    "\n",
    "# Fit PCA on the modified DataFrame\n",
    "pca = PCA().fit(df_cleaned_copy)\n",
    "\n",
    "# Calculate and sort feature importance from PCA results\n",
    "feature_importance = np.abs(pca.components_).sum(axis=0)\n",
    "important_features = feature_importance.argsort()[::-1]\n",
    "sorted_features = df_cleaned_copy.columns[important_features]\n",
    "\n",
    "# Display sorted features by importance\n",
    "print(\"Features ranked by importance:\", sorted_features)"
   ]
  },
  {
   "cell_type": "markdown",
   "metadata": {},
   "source": [
    "<br/><br/>\n",
    "\n",
    "--------------\n",
    "\n",
    "<br/><br/>"
   ]
  },
  {
   "cell_type": "markdown",
   "metadata": {},
   "source": [
    "## Data Preprocessed"
   ]
  },
  {
   "cell_type": "code",
   "execution_count": 19,
   "metadata": {},
   "outputs": [],
   "source": [
    "# Identify numerical and categorical columns from DataFrame\n",
    "numerical_cols = df_cleaned.select_dtypes(include=['int8', 'int16', 'int32', 'float16', 'float32', 'int64', 'float64']).columns.tolist()\n",
    "categorical_cols = df_cleaned.select_dtypes(include=['category']).columns.tolist()\n",
    "\n",
    "# Define the column to be excluded from feature sets\n",
    "final_column = 'apt_group'\n",
    "\n",
    "# Remove the final column from numerical columns if it exists there\n",
    "if final_column in numerical_cols: numerical_cols.remove(final_column)"
   ]
  },
  {
   "cell_type": "code",
   "execution_count": 20,
   "metadata": {},
   "outputs": [
    {
     "data": {
      "text/html": [
       "<div>\n",
       "<style scoped>\n",
       "    .dataframe tbody tr th:only-of-type {\n",
       "        vertical-align: middle;\n",
       "    }\n",
       "\n",
       "    .dataframe tbody tr th {\n",
       "        vertical-align: top;\n",
       "    }\n",
       "\n",
       "    .dataframe thead th {\n",
       "        text-align: right;\n",
       "    }\n",
       "</style>\n",
       "<table border=\"1\" class=\"dataframe\">\n",
       "  <thead>\n",
       "    <tr style=\"text-align: right;\">\n",
       "      <th></th>\n",
       "      <th>apt_group</th>\n",
       "      <th>unique_sources</th>\n",
       "      <th>malicious_count</th>\n",
       "      <th>imports_count</th>\n",
       "      <th>imported_functions</th>\n",
       "      <th>files_written_count</th>\n",
       "      <th>files_deleted_count</th>\n",
       "      <th>registry_keys_count</th>\n",
       "      <th>processes_count</th>\n",
       "      <th>mutexes_count</th>\n",
       "      <th>...</th>\n",
       "      <th>api_InternetOpenA</th>\n",
       "      <th>api_DeleteUrlCacheEntryA</th>\n",
       "      <th>api_InternetConnectA</th>\n",
       "      <th>api_InternetOpenUrlA</th>\n",
       "      <th>api_InternetQueryOptionA</th>\n",
       "      <th>api_HttpSendRequestA</th>\n",
       "      <th>api_RegCreateKeyExW</th>\n",
       "      <th>api_gethostbyname</th>\n",
       "      <th>average_pkt_size</th>\n",
       "      <th>file_name</th>\n",
       "    </tr>\n",
       "  </thead>\n",
       "  <tbody>\n",
       "    <tr>\n",
       "      <th>0</th>\n",
       "      <td>0</td>\n",
       "      <td>13</td>\n",
       "      <td>65</td>\n",
       "      <td>7</td>\n",
       "      <td>85</td>\n",
       "      <td>14</td>\n",
       "      <td>11</td>\n",
       "      <td>637</td>\n",
       "      <td>26</td>\n",
       "      <td>17</td>\n",
       "      <td>...</td>\n",
       "      <td>1.0</td>\n",
       "      <td>0.0</td>\n",
       "      <td>1.0</td>\n",
       "      <td>0.0</td>\n",
       "      <td>0.0</td>\n",
       "      <td>1.0</td>\n",
       "      <td>9.0</td>\n",
       "      <td>1.0</td>\n",
       "      <td>134.0</td>\n",
       "      <td>8c414cc53009cefac9ad9aa3ffd766085a7b76aa56f69a...</td>\n",
       "    </tr>\n",
       "    <tr>\n",
       "      <th>1</th>\n",
       "      <td>0</td>\n",
       "      <td>7</td>\n",
       "      <td>63</td>\n",
       "      <td>3</td>\n",
       "      <td>53</td>\n",
       "      <td>0</td>\n",
       "      <td>0</td>\n",
       "      <td>0</td>\n",
       "      <td>0</td>\n",
       "      <td>0</td>\n",
       "      <td>...</td>\n",
       "      <td>0.0</td>\n",
       "      <td>0.0</td>\n",
       "      <td>0.0</td>\n",
       "      <td>0.0</td>\n",
       "      <td>0.0</td>\n",
       "      <td>0.0</td>\n",
       "      <td>0.0</td>\n",
       "      <td>0.0</td>\n",
       "      <td>304.0</td>\n",
       "      <td>051f9ff45c531ad265489f563e6babca55f4a3f94604ff...</td>\n",
       "    </tr>\n",
       "    <tr>\n",
       "      <th>2</th>\n",
       "      <td>0</td>\n",
       "      <td>8</td>\n",
       "      <td>63</td>\n",
       "      <td>5</td>\n",
       "      <td>67</td>\n",
       "      <td>72</td>\n",
       "      <td>31</td>\n",
       "      <td>957</td>\n",
       "      <td>64</td>\n",
       "      <td>48</td>\n",
       "      <td>...</td>\n",
       "      <td>0.0</td>\n",
       "      <td>0.0</td>\n",
       "      <td>0.0</td>\n",
       "      <td>0.0</td>\n",
       "      <td>2.0</td>\n",
       "      <td>0.0</td>\n",
       "      <td>21.0</td>\n",
       "      <td>0.0</td>\n",
       "      <td>121.0</td>\n",
       "      <td>010f36d6b66747e906c8f7025df1e154ceabc598f9c1d9...</td>\n",
       "    </tr>\n",
       "    <tr>\n",
       "      <th>3</th>\n",
       "      <td>0</td>\n",
       "      <td>4</td>\n",
       "      <td>53</td>\n",
       "      <td>4</td>\n",
       "      <td>70</td>\n",
       "      <td>0</td>\n",
       "      <td>0</td>\n",
       "      <td>0</td>\n",
       "      <td>0</td>\n",
       "      <td>0</td>\n",
       "      <td>...</td>\n",
       "      <td>0.0</td>\n",
       "      <td>0.0</td>\n",
       "      <td>0.0</td>\n",
       "      <td>0.0</td>\n",
       "      <td>0.0</td>\n",
       "      <td>0.0</td>\n",
       "      <td>0.0</td>\n",
       "      <td>0.0</td>\n",
       "      <td>130.0</td>\n",
       "      <td>6e417e9fadda9948ed7a8bf472d48285126369c407aad8...</td>\n",
       "    </tr>\n",
       "    <tr>\n",
       "      <th>4</th>\n",
       "      <td>0</td>\n",
       "      <td>4</td>\n",
       "      <td>62</td>\n",
       "      <td>5</td>\n",
       "      <td>67</td>\n",
       "      <td>29</td>\n",
       "      <td>14</td>\n",
       "      <td>597</td>\n",
       "      <td>53</td>\n",
       "      <td>32</td>\n",
       "      <td>...</td>\n",
       "      <td>0.0</td>\n",
       "      <td>0.0</td>\n",
       "      <td>0.0</td>\n",
       "      <td>0.0</td>\n",
       "      <td>2.0</td>\n",
       "      <td>0.0</td>\n",
       "      <td>21.0</td>\n",
       "      <td>0.0</td>\n",
       "      <td>128.0</td>\n",
       "      <td>6f6d7fe35d8e2b17bfd85752b46f2d20f71087231d8830...</td>\n",
       "    </tr>\n",
       "    <tr>\n",
       "      <th>...</th>\n",
       "      <td>...</td>\n",
       "      <td>...</td>\n",
       "      <td>...</td>\n",
       "      <td>...</td>\n",
       "      <td>...</td>\n",
       "      <td>...</td>\n",
       "      <td>...</td>\n",
       "      <td>...</td>\n",
       "      <td>...</td>\n",
       "      <td>...</td>\n",
       "      <td>...</td>\n",
       "      <td>...</td>\n",
       "      <td>...</td>\n",
       "      <td>...</td>\n",
       "      <td>...</td>\n",
       "      <td>...</td>\n",
       "      <td>...</td>\n",
       "      <td>...</td>\n",
       "      <td>...</td>\n",
       "      <td>...</td>\n",
       "      <td>...</td>\n",
       "    </tr>\n",
       "    <tr>\n",
       "      <th>3587</th>\n",
       "      <td>7</td>\n",
       "      <td>6</td>\n",
       "      <td>63</td>\n",
       "      <td>9</td>\n",
       "      <td>163</td>\n",
       "      <td>51</td>\n",
       "      <td>9</td>\n",
       "      <td>815</td>\n",
       "      <td>50</td>\n",
       "      <td>30</td>\n",
       "      <td>...</td>\n",
       "      <td>0.0</td>\n",
       "      <td>0.0</td>\n",
       "      <td>0.0</td>\n",
       "      <td>0.0</td>\n",
       "      <td>0.0</td>\n",
       "      <td>0.0</td>\n",
       "      <td>0.0</td>\n",
       "      <td>0.0</td>\n",
       "      <td>139.0</td>\n",
       "      <td>6102993eb00bd97832b74fd802b486abb7cb43712eccfe...</td>\n",
       "    </tr>\n",
       "    <tr>\n",
       "      <th>3588</th>\n",
       "      <td>7</td>\n",
       "      <td>10</td>\n",
       "      <td>65</td>\n",
       "      <td>9</td>\n",
       "      <td>75</td>\n",
       "      <td>14</td>\n",
       "      <td>5</td>\n",
       "      <td>245</td>\n",
       "      <td>11</td>\n",
       "      <td>16</td>\n",
       "      <td>...</td>\n",
       "      <td>3.0</td>\n",
       "      <td>0.0</td>\n",
       "      <td>3.0</td>\n",
       "      <td>0.0</td>\n",
       "      <td>0.0</td>\n",
       "      <td>3.0</td>\n",
       "      <td>11.0</td>\n",
       "      <td>3.0</td>\n",
       "      <td>152.0</td>\n",
       "      <td>6d6d550d6415fc64c4dc7c68655cced8ece6b911e31176...</td>\n",
       "    </tr>\n",
       "    <tr>\n",
       "      <th>3589</th>\n",
       "      <td>7</td>\n",
       "      <td>14</td>\n",
       "      <td>66</td>\n",
       "      <td>10</td>\n",
       "      <td>88</td>\n",
       "      <td>0</td>\n",
       "      <td>0</td>\n",
       "      <td>31</td>\n",
       "      <td>1</td>\n",
       "      <td>0</td>\n",
       "      <td>...</td>\n",
       "      <td>0.0</td>\n",
       "      <td>0.0</td>\n",
       "      <td>0.0</td>\n",
       "      <td>0.0</td>\n",
       "      <td>0.0</td>\n",
       "      <td>0.0</td>\n",
       "      <td>0.0</td>\n",
       "      <td>0.0</td>\n",
       "      <td>133.0</td>\n",
       "      <td>804d47631c16751f26af0c0f892d7036f628b314bf2322...</td>\n",
       "    </tr>\n",
       "    <tr>\n",
       "      <th>3590</th>\n",
       "      <td>7</td>\n",
       "      <td>11</td>\n",
       "      <td>63</td>\n",
       "      <td>8</td>\n",
       "      <td>231</td>\n",
       "      <td>15</td>\n",
       "      <td>3</td>\n",
       "      <td>125</td>\n",
       "      <td>12</td>\n",
       "      <td>1</td>\n",
       "      <td>...</td>\n",
       "      <td>0.0</td>\n",
       "      <td>0.0</td>\n",
       "      <td>0.0</td>\n",
       "      <td>0.0</td>\n",
       "      <td>0.0</td>\n",
       "      <td>0.0</td>\n",
       "      <td>0.0</td>\n",
       "      <td>0.0</td>\n",
       "      <td>136.0</td>\n",
       "      <td>98165b4667ae606a8ff0c8f398f584c264f1bf337344f4...</td>\n",
       "    </tr>\n",
       "    <tr>\n",
       "      <th>3591</th>\n",
       "      <td>7</td>\n",
       "      <td>20</td>\n",
       "      <td>61</td>\n",
       "      <td>19</td>\n",
       "      <td>604</td>\n",
       "      <td>3</td>\n",
       "      <td>0</td>\n",
       "      <td>145</td>\n",
       "      <td>1</td>\n",
       "      <td>16</td>\n",
       "      <td>...</td>\n",
       "      <td>0.0</td>\n",
       "      <td>0.0</td>\n",
       "      <td>0.0</td>\n",
       "      <td>0.0</td>\n",
       "      <td>0.0</td>\n",
       "      <td>0.0</td>\n",
       "      <td>0.0</td>\n",
       "      <td>0.0</td>\n",
       "      <td>133.0</td>\n",
       "      <td>076f69134533003015381c3ce22752a2d259e580f9b674...</td>\n",
       "    </tr>\n",
       "  </tbody>\n",
       "</table>\n",
       "<p>3592 rows × 38 columns</p>\n",
       "</div>"
      ],
      "text/plain": [
       "      apt_group  unique_sources  malicious_count  imports_count  \\\n",
       "0             0              13               65              7   \n",
       "1             0               7               63              3   \n",
       "2             0               8               63              5   \n",
       "3             0               4               53              4   \n",
       "4             0               4               62              5   \n",
       "...         ...             ...              ...            ...   \n",
       "3587          7               6               63              9   \n",
       "3588          7              10               65              9   \n",
       "3589          7              14               66             10   \n",
       "3590          7              11               63              8   \n",
       "3591          7              20               61             19   \n",
       "\n",
       "      imported_functions  files_written_count  files_deleted_count  \\\n",
       "0                     85                   14                   11   \n",
       "1                     53                    0                    0   \n",
       "2                     67                   72                   31   \n",
       "3                     70                    0                    0   \n",
       "4                     67                   29                   14   \n",
       "...                  ...                  ...                  ...   \n",
       "3587                 163                   51                    9   \n",
       "3588                  75                   14                    5   \n",
       "3589                  88                    0                    0   \n",
       "3590                 231                   15                    3   \n",
       "3591                 604                    3                    0   \n",
       "\n",
       "      registry_keys_count  processes_count  mutexes_count  ...  \\\n",
       "0                     637               26             17  ...   \n",
       "1                       0                0              0  ...   \n",
       "2                     957               64             48  ...   \n",
       "3                       0                0              0  ...   \n",
       "4                     597               53             32  ...   \n",
       "...                   ...              ...            ...  ...   \n",
       "3587                  815               50             30  ...   \n",
       "3588                  245               11             16  ...   \n",
       "3589                   31                1              0  ...   \n",
       "3590                  125               12              1  ...   \n",
       "3591                  145                1             16  ...   \n",
       "\n",
       "      api_InternetOpenA  api_DeleteUrlCacheEntryA  api_InternetConnectA  \\\n",
       "0                   1.0                       0.0                   1.0   \n",
       "1                   0.0                       0.0                   0.0   \n",
       "2                   0.0                       0.0                   0.0   \n",
       "3                   0.0                       0.0                   0.0   \n",
       "4                   0.0                       0.0                   0.0   \n",
       "...                 ...                       ...                   ...   \n",
       "3587                0.0                       0.0                   0.0   \n",
       "3588                3.0                       0.0                   3.0   \n",
       "3589                0.0                       0.0                   0.0   \n",
       "3590                0.0                       0.0                   0.0   \n",
       "3591                0.0                       0.0                   0.0   \n",
       "\n",
       "      api_InternetOpenUrlA  api_InternetQueryOptionA  api_HttpSendRequestA  \\\n",
       "0                      0.0                       0.0                   1.0   \n",
       "1                      0.0                       0.0                   0.0   \n",
       "2                      0.0                       2.0                   0.0   \n",
       "3                      0.0                       0.0                   0.0   \n",
       "4                      0.0                       2.0                   0.0   \n",
       "...                    ...                       ...                   ...   \n",
       "3587                   0.0                       0.0                   0.0   \n",
       "3588                   0.0                       0.0                   3.0   \n",
       "3589                   0.0                       0.0                   0.0   \n",
       "3590                   0.0                       0.0                   0.0   \n",
       "3591                   0.0                       0.0                   0.0   \n",
       "\n",
       "      api_RegCreateKeyExW  api_gethostbyname  average_pkt_size  \\\n",
       "0                     9.0                1.0             134.0   \n",
       "1                     0.0                0.0             304.0   \n",
       "2                    21.0                0.0             121.0   \n",
       "3                     0.0                0.0             130.0   \n",
       "4                    21.0                0.0             128.0   \n",
       "...                   ...                ...               ...   \n",
       "3587                  0.0                0.0             139.0   \n",
       "3588                 11.0                3.0             152.0   \n",
       "3589                  0.0                0.0             133.0   \n",
       "3590                  0.0                0.0             136.0   \n",
       "3591                  0.0                0.0             133.0   \n",
       "\n",
       "                                              file_name  \n",
       "0     8c414cc53009cefac9ad9aa3ffd766085a7b76aa56f69a...  \n",
       "1     051f9ff45c531ad265489f563e6babca55f4a3f94604ff...  \n",
       "2     010f36d6b66747e906c8f7025df1e154ceabc598f9c1d9...  \n",
       "3     6e417e9fadda9948ed7a8bf472d48285126369c407aad8...  \n",
       "4     6f6d7fe35d8e2b17bfd85752b46f2d20f71087231d8830...  \n",
       "...                                                 ...  \n",
       "3587  6102993eb00bd97832b74fd802b486abb7cb43712eccfe...  \n",
       "3588  6d6d550d6415fc64c4dc7c68655cced8ece6b911e31176...  \n",
       "3589  804d47631c16751f26af0c0f892d7036f628b314bf2322...  \n",
       "3590  98165b4667ae606a8ff0c8f398f584c264f1bf337344f4...  \n",
       "3591  076f69134533003015381c3ce22752a2d259e580f9b674...  \n",
       "\n",
       "[3592 rows x 38 columns]"
      ]
     },
     "execution_count": 20,
     "metadata": {},
     "output_type": "execute_result"
    }
   ],
   "source": [
    "from sklearn.preprocessing import LabelEncoder\n",
    "from sklearn.model_selection import train_test_split\n",
    "\n",
    "# Copy cleaned DataFrame for preprocessing\n",
    "df_preprocessed = df_cleaned.copy()\n",
    "\n",
    "# Encode categorical columns with integer codes\n",
    "for col in categorical_cols:\n",
    "    df_preprocessed[col] = df_preprocessed[col].astype('category').cat.codes\n",
    "\n",
    "# Encode the target column using LabelEncoder\n",
    "le = LabelEncoder()\n",
    "df_preprocessed[final_column] = le.fit_transform(df_preprocessed[final_column])\n",
    "\n",
    "# Retrieve 'file_name' from backup to maintain reference\n",
    "df_preprocessed['file_name'] = df_cleaned_pre_copy['file_name']\n",
    "\n",
    "# Store encoded target column back to original DataFrame for reference\n",
    "df_cleaned[final_column + '_encoded'] = df_preprocessed[final_column]\n",
    "\n",
    "# Display preprocessed DataFrame\n",
    "df_preprocessed"
   ]
  },
  {
   "cell_type": "code",
   "execution_count": 21,
   "metadata": {},
   "outputs": [],
   "source": [
    "from imblearn.over_sampling import SMOTE\n",
    "\n",
    "# Initialize SMOTE with the minority class strategy and a fixed random state\n",
    "sm = SMOTE(sampling_strategy='minority', random_state=42)\n",
    "\n",
    "# Combine numerical and categorical columns for features\n",
    "feature_cols = numerical_cols + categorical_cols\n",
    "X = df_preprocessed[feature_cols]  # Feature set\n",
    "y = df_preprocessed[final_column]  # Target variable\n",
    "\n",
    "# Apply SMOTE to generate synthetic samples\n",
    "oversampled_X, oversampled_Y = sm.fit_resample(X, y)\n",
    "\n",
    "# Split the oversampled data into training and testing sets\n",
    "X_train, X_test, y_train, y_test = train_test_split(oversampled_X, oversampled_Y, test_size=0.4, random_state=1)\n"
   ]
  },
  {
   "cell_type": "code",
   "execution_count": 22,
   "metadata": {},
   "outputs": [
    {
     "data": {
      "text/html": [
       "<div>\n",
       "<style scoped>\n",
       "    .dataframe tbody tr th:only-of-type {\n",
       "        vertical-align: middle;\n",
       "    }\n",
       "\n",
       "    .dataframe tbody tr th {\n",
       "        vertical-align: top;\n",
       "    }\n",
       "\n",
       "    .dataframe thead th {\n",
       "        text-align: right;\n",
       "    }\n",
       "</style>\n",
       "<table border=\"1\" class=\"dataframe\">\n",
       "  <thead>\n",
       "    <tr style=\"text-align: right;\">\n",
       "      <th></th>\n",
       "      <th>unique_sources</th>\n",
       "      <th>malicious_count</th>\n",
       "      <th>imports_count</th>\n",
       "      <th>imported_functions</th>\n",
       "      <th>files_written_count</th>\n",
       "      <th>files_deleted_count</th>\n",
       "      <th>registry_keys_count</th>\n",
       "      <th>processes_count</th>\n",
       "      <th>mutexes_count</th>\n",
       "      <th>command_executions</th>\n",
       "      <th>...</th>\n",
       "      <th>api_InternetOpenA</th>\n",
       "      <th>api_DeleteUrlCacheEntryA</th>\n",
       "      <th>api_InternetConnectA</th>\n",
       "      <th>api_InternetOpenUrlA</th>\n",
       "      <th>api_InternetQueryOptionA</th>\n",
       "      <th>api_HttpSendRequestA</th>\n",
       "      <th>api_RegCreateKeyExW</th>\n",
       "      <th>api_gethostbyname</th>\n",
       "      <th>average_pkt_size</th>\n",
       "      <th>file_name</th>\n",
       "    </tr>\n",
       "  </thead>\n",
       "  <tbody>\n",
       "    <tr>\n",
       "      <th>0</th>\n",
       "      <td>13</td>\n",
       "      <td>65</td>\n",
       "      <td>7</td>\n",
       "      <td>85</td>\n",
       "      <td>14</td>\n",
       "      <td>11</td>\n",
       "      <td>637</td>\n",
       "      <td>26</td>\n",
       "      <td>17</td>\n",
       "      <td>8</td>\n",
       "      <td>...</td>\n",
       "      <td>1.0</td>\n",
       "      <td>0.0</td>\n",
       "      <td>1.0</td>\n",
       "      <td>0.0</td>\n",
       "      <td>0.000000</td>\n",
       "      <td>1.0</td>\n",
       "      <td>9.000000</td>\n",
       "      <td>1.0</td>\n",
       "      <td>134.000000</td>\n",
       "      <td>8c414cc53009cefac9ad9aa3ffd766085a7b76aa56f69a...</td>\n",
       "    </tr>\n",
       "    <tr>\n",
       "      <th>1</th>\n",
       "      <td>7</td>\n",
       "      <td>63</td>\n",
       "      <td>3</td>\n",
       "      <td>53</td>\n",
       "      <td>0</td>\n",
       "      <td>0</td>\n",
       "      <td>0</td>\n",
       "      <td>0</td>\n",
       "      <td>0</td>\n",
       "      <td>0</td>\n",
       "      <td>...</td>\n",
       "      <td>0.0</td>\n",
       "      <td>0.0</td>\n",
       "      <td>0.0</td>\n",
       "      <td>0.0</td>\n",
       "      <td>0.000000</td>\n",
       "      <td>0.0</td>\n",
       "      <td>0.000000</td>\n",
       "      <td>0.0</td>\n",
       "      <td>304.000000</td>\n",
       "      <td>051f9ff45c531ad265489f563e6babca55f4a3f94604ff...</td>\n",
       "    </tr>\n",
       "    <tr>\n",
       "      <th>2</th>\n",
       "      <td>8</td>\n",
       "      <td>63</td>\n",
       "      <td>5</td>\n",
       "      <td>67</td>\n",
       "      <td>72</td>\n",
       "      <td>31</td>\n",
       "      <td>957</td>\n",
       "      <td>64</td>\n",
       "      <td>48</td>\n",
       "      <td>27</td>\n",
       "      <td>...</td>\n",
       "      <td>0.0</td>\n",
       "      <td>0.0</td>\n",
       "      <td>0.0</td>\n",
       "      <td>0.0</td>\n",
       "      <td>2.000000</td>\n",
       "      <td>0.0</td>\n",
       "      <td>21.000000</td>\n",
       "      <td>0.0</td>\n",
       "      <td>121.000000</td>\n",
       "      <td>010f36d6b66747e906c8f7025df1e154ceabc598f9c1d9...</td>\n",
       "    </tr>\n",
       "    <tr>\n",
       "      <th>3</th>\n",
       "      <td>4</td>\n",
       "      <td>53</td>\n",
       "      <td>4</td>\n",
       "      <td>70</td>\n",
       "      <td>0</td>\n",
       "      <td>0</td>\n",
       "      <td>0</td>\n",
       "      <td>0</td>\n",
       "      <td>0</td>\n",
       "      <td>0</td>\n",
       "      <td>...</td>\n",
       "      <td>0.0</td>\n",
       "      <td>0.0</td>\n",
       "      <td>0.0</td>\n",
       "      <td>0.0</td>\n",
       "      <td>0.000000</td>\n",
       "      <td>0.0</td>\n",
       "      <td>0.000000</td>\n",
       "      <td>0.0</td>\n",
       "      <td>130.000000</td>\n",
       "      <td>6e417e9fadda9948ed7a8bf472d48285126369c407aad8...</td>\n",
       "    </tr>\n",
       "    <tr>\n",
       "      <th>4</th>\n",
       "      <td>4</td>\n",
       "      <td>62</td>\n",
       "      <td>5</td>\n",
       "      <td>67</td>\n",
       "      <td>29</td>\n",
       "      <td>14</td>\n",
       "      <td>597</td>\n",
       "      <td>53</td>\n",
       "      <td>32</td>\n",
       "      <td>12</td>\n",
       "      <td>...</td>\n",
       "      <td>0.0</td>\n",
       "      <td>0.0</td>\n",
       "      <td>0.0</td>\n",
       "      <td>0.0</td>\n",
       "      <td>2.000000</td>\n",
       "      <td>0.0</td>\n",
       "      <td>21.000000</td>\n",
       "      <td>0.0</td>\n",
       "      <td>128.000000</td>\n",
       "      <td>6f6d7fe35d8e2b17bfd85752b46f2d20f71087231d8830...</td>\n",
       "    </tr>\n",
       "    <tr>\n",
       "      <th>...</th>\n",
       "      <td>...</td>\n",
       "      <td>...</td>\n",
       "      <td>...</td>\n",
       "      <td>...</td>\n",
       "      <td>...</td>\n",
       "      <td>...</td>\n",
       "      <td>...</td>\n",
       "      <td>...</td>\n",
       "      <td>...</td>\n",
       "      <td>...</td>\n",
       "      <td>...</td>\n",
       "      <td>...</td>\n",
       "      <td>...</td>\n",
       "      <td>...</td>\n",
       "      <td>...</td>\n",
       "      <td>...</td>\n",
       "      <td>...</td>\n",
       "      <td>...</td>\n",
       "      <td>...</td>\n",
       "      <td>...</td>\n",
       "      <td>...</td>\n",
       "    </tr>\n",
       "    <tr>\n",
       "      <th>4516</th>\n",
       "      <td>14</td>\n",
       "      <td>51</td>\n",
       "      <td>4</td>\n",
       "      <td>125</td>\n",
       "      <td>0</td>\n",
       "      <td>0</td>\n",
       "      <td>10</td>\n",
       "      <td>0</td>\n",
       "      <td>0</td>\n",
       "      <td>0</td>\n",
       "      <td>...</td>\n",
       "      <td>0.0</td>\n",
       "      <td>0.0</td>\n",
       "      <td>0.0</td>\n",
       "      <td>0.0</td>\n",
       "      <td>0.000000</td>\n",
       "      <td>0.0</td>\n",
       "      <td>0.000000</td>\n",
       "      <td>0.0</td>\n",
       "      <td>103.340421</td>\n",
       "      <td>NaN</td>\n",
       "    </tr>\n",
       "    <tr>\n",
       "      <th>4517</th>\n",
       "      <td>13</td>\n",
       "      <td>53</td>\n",
       "      <td>15</td>\n",
       "      <td>535</td>\n",
       "      <td>25</td>\n",
       "      <td>29</td>\n",
       "      <td>289</td>\n",
       "      <td>43</td>\n",
       "      <td>23</td>\n",
       "      <td>14</td>\n",
       "      <td>...</td>\n",
       "      <td>0.0</td>\n",
       "      <td>0.0</td>\n",
       "      <td>0.0</td>\n",
       "      <td>0.0</td>\n",
       "      <td>0.069405</td>\n",
       "      <td>0.0</td>\n",
       "      <td>2.220953</td>\n",
       "      <td>0.0</td>\n",
       "      <td>134.138810</td>\n",
       "      <td>NaN</td>\n",
       "    </tr>\n",
       "    <tr>\n",
       "      <th>4518</th>\n",
       "      <td>9</td>\n",
       "      <td>2</td>\n",
       "      <td>1</td>\n",
       "      <td>30</td>\n",
       "      <td>0</td>\n",
       "      <td>0</td>\n",
       "      <td>25</td>\n",
       "      <td>1</td>\n",
       "      <td>2</td>\n",
       "      <td>1</td>\n",
       "      <td>...</td>\n",
       "      <td>0.0</td>\n",
       "      <td>0.0</td>\n",
       "      <td>0.0</td>\n",
       "      <td>0.0</td>\n",
       "      <td>0.000000</td>\n",
       "      <td>0.0</td>\n",
       "      <td>0.000000</td>\n",
       "      <td>0.0</td>\n",
       "      <td>116.349099</td>\n",
       "      <td>NaN</td>\n",
       "    </tr>\n",
       "    <tr>\n",
       "      <th>4519</th>\n",
       "      <td>7</td>\n",
       "      <td>48</td>\n",
       "      <td>10</td>\n",
       "      <td>201</td>\n",
       "      <td>2</td>\n",
       "      <td>0</td>\n",
       "      <td>13</td>\n",
       "      <td>3</td>\n",
       "      <td>0</td>\n",
       "      <td>3</td>\n",
       "      <td>...</td>\n",
       "      <td>0.0</td>\n",
       "      <td>0.0</td>\n",
       "      <td>0.0</td>\n",
       "      <td>0.0</td>\n",
       "      <td>0.000000</td>\n",
       "      <td>0.0</td>\n",
       "      <td>0.000000</td>\n",
       "      <td>0.0</td>\n",
       "      <td>126.087249</td>\n",
       "      <td>NaN</td>\n",
       "    </tr>\n",
       "    <tr>\n",
       "      <th>4520</th>\n",
       "      <td>18</td>\n",
       "      <td>48</td>\n",
       "      <td>8</td>\n",
       "      <td>258</td>\n",
       "      <td>101</td>\n",
       "      <td>249</td>\n",
       "      <td>1217</td>\n",
       "      <td>110</td>\n",
       "      <td>96</td>\n",
       "      <td>23</td>\n",
       "      <td>...</td>\n",
       "      <td>0.0</td>\n",
       "      <td>0.0</td>\n",
       "      <td>0.0</td>\n",
       "      <td>0.0</td>\n",
       "      <td>1.000000</td>\n",
       "      <td>0.0</td>\n",
       "      <td>32.000000</td>\n",
       "      <td>0.0</td>\n",
       "      <td>134.141870</td>\n",
       "      <td>NaN</td>\n",
       "    </tr>\n",
       "  </tbody>\n",
       "</table>\n",
       "<p>4521 rows × 37 columns</p>\n",
       "</div>"
      ],
      "text/plain": [
       "      unique_sources  malicious_count  imports_count  imported_functions  \\\n",
       "0                 13               65              7                  85   \n",
       "1                  7               63              3                  53   \n",
       "2                  8               63              5                  67   \n",
       "3                  4               53              4                  70   \n",
       "4                  4               62              5                  67   \n",
       "...              ...              ...            ...                 ...   \n",
       "4516              14               51              4                 125   \n",
       "4517              13               53             15                 535   \n",
       "4518               9                2              1                  30   \n",
       "4519               7               48             10                 201   \n",
       "4520              18               48              8                 258   \n",
       "\n",
       "      files_written_count  files_deleted_count  registry_keys_count  \\\n",
       "0                      14                   11                  637   \n",
       "1                       0                    0                    0   \n",
       "2                      72                   31                  957   \n",
       "3                       0                    0                    0   \n",
       "4                      29                   14                  597   \n",
       "...                   ...                  ...                  ...   \n",
       "4516                    0                    0                   10   \n",
       "4517                   25                   29                  289   \n",
       "4518                    0                    0                   25   \n",
       "4519                    2                    0                   13   \n",
       "4520                  101                  249                 1217   \n",
       "\n",
       "      processes_count  mutexes_count  command_executions  ...  \\\n",
       "0                  26             17                   8  ...   \n",
       "1                   0              0                   0  ...   \n",
       "2                  64             48                  27  ...   \n",
       "3                   0              0                   0  ...   \n",
       "4                  53             32                  12  ...   \n",
       "...               ...            ...                 ...  ...   \n",
       "4516                0              0                   0  ...   \n",
       "4517               43             23                  14  ...   \n",
       "4518                1              2                   1  ...   \n",
       "4519                3              0                   3  ...   \n",
       "4520              110             96                  23  ...   \n",
       "\n",
       "      api_InternetOpenA  api_DeleteUrlCacheEntryA  api_InternetConnectA  \\\n",
       "0                   1.0                       0.0                   1.0   \n",
       "1                   0.0                       0.0                   0.0   \n",
       "2                   0.0                       0.0                   0.0   \n",
       "3                   0.0                       0.0                   0.0   \n",
       "4                   0.0                       0.0                   0.0   \n",
       "...                 ...                       ...                   ...   \n",
       "4516                0.0                       0.0                   0.0   \n",
       "4517                0.0                       0.0                   0.0   \n",
       "4518                0.0                       0.0                   0.0   \n",
       "4519                0.0                       0.0                   0.0   \n",
       "4520                0.0                       0.0                   0.0   \n",
       "\n",
       "      api_InternetOpenUrlA  api_InternetQueryOptionA  api_HttpSendRequestA  \\\n",
       "0                      0.0                  0.000000                   1.0   \n",
       "1                      0.0                  0.000000                   0.0   \n",
       "2                      0.0                  2.000000                   0.0   \n",
       "3                      0.0                  0.000000                   0.0   \n",
       "4                      0.0                  2.000000                   0.0   \n",
       "...                    ...                       ...                   ...   \n",
       "4516                   0.0                  0.000000                   0.0   \n",
       "4517                   0.0                  0.069405                   0.0   \n",
       "4518                   0.0                  0.000000                   0.0   \n",
       "4519                   0.0                  0.000000                   0.0   \n",
       "4520                   0.0                  1.000000                   0.0   \n",
       "\n",
       "      api_RegCreateKeyExW  api_gethostbyname  average_pkt_size  \\\n",
       "0                9.000000                1.0        134.000000   \n",
       "1                0.000000                0.0        304.000000   \n",
       "2               21.000000                0.0        121.000000   \n",
       "3                0.000000                0.0        130.000000   \n",
       "4               21.000000                0.0        128.000000   \n",
       "...                   ...                ...               ...   \n",
       "4516             0.000000                0.0        103.340421   \n",
       "4517             2.220953                0.0        134.138810   \n",
       "4518             0.000000                0.0        116.349099   \n",
       "4519             0.000000                0.0        126.087249   \n",
       "4520            32.000000                0.0        134.141870   \n",
       "\n",
       "                                              file_name  \n",
       "0     8c414cc53009cefac9ad9aa3ffd766085a7b76aa56f69a...  \n",
       "1     051f9ff45c531ad265489f563e6babca55f4a3f94604ff...  \n",
       "2     010f36d6b66747e906c8f7025df1e154ceabc598f9c1d9...  \n",
       "3     6e417e9fadda9948ed7a8bf472d48285126369c407aad8...  \n",
       "4     6f6d7fe35d8e2b17bfd85752b46f2d20f71087231d8830...  \n",
       "...                                                 ...  \n",
       "4516                                                NaN  \n",
       "4517                                                NaN  \n",
       "4518                                                NaN  \n",
       "4519                                                NaN  \n",
       "4520                                                NaN  \n",
       "\n",
       "[4521 rows x 37 columns]"
      ]
     },
     "execution_count": 22,
     "metadata": {},
     "output_type": "execute_result"
    }
   ],
   "source": [
    "# Copy oversampled features to include original file names for traceability\n",
    "df_sampled_x_with_origin = oversampled_X.copy()\n",
    "\n",
    "# Define function to locate the original file name based on feature equality\n",
    "def find_original_file(row):\n",
    "    # Search for the original row in pre-copy data that matches the oversampled row\n",
    "    all_files = df_cleaned_pre_copy[df_cleaned_pre_copy[feature_cols].eq(row).all(1)]\n",
    "    if all_files.empty:\n",
    "        return np.nan  # Return NaN if no match found\n",
    "    else:\n",
    "        return all_files['file_name'].values[0]  # Return the file name if found\n",
    "    \n",
    "# Apply function to add original file names to the DataFrame\n",
    "df_sampled_x_with_origin['file_name'] = df_sampled_x_with_origin.apply(find_original_file, axis=1)\n",
    "\n",
    "# Display DataFrame with file names\n",
    "df_sampled_x_with_origin"
   ]
  },
  {
   "cell_type": "code",
   "execution_count": 23,
   "metadata": {},
   "outputs": [],
   "source": [
    "from sklearn.preprocessing import MinMaxScaler\n",
    "\n",
    "# Initialize MinMaxScaler\n",
    "scaler = MinMaxScaler()\n",
    "\n",
    "# Get column names for back-transforming scaled data into DataFrame\n",
    "column_names = oversampled_X.columns.tolist()\n",
    "\n",
    "# Scale training data and reformat as DataFrame with original column names\n",
    "X_train = pd.DataFrame(scaler.fit_transform(X_train), columns=column_names)\n",
    "\n",
    "# Scale testing data and reformat as DataFrame\n",
    "X_test = pd.DataFrame(scaler.transform(X_test), columns=column_names)\n"
   ]
  },
  {
   "cell_type": "code",
   "execution_count": 24,
   "metadata": {},
   "outputs": [
    {
     "data": {
      "text/html": [
       "<div>\n",
       "<style scoped>\n",
       "    .dataframe tbody tr th:only-of-type {\n",
       "        vertical-align: middle;\n",
       "    }\n",
       "\n",
       "    .dataframe tbody tr th {\n",
       "        vertical-align: top;\n",
       "    }\n",
       "\n",
       "    .dataframe thead th {\n",
       "        text-align: right;\n",
       "    }\n",
       "</style>\n",
       "<table border=\"1\" class=\"dataframe\">\n",
       "  <thead>\n",
       "    <tr style=\"text-align: right;\">\n",
       "      <th></th>\n",
       "      <th>unique_sources</th>\n",
       "      <th>malicious_count</th>\n",
       "      <th>imports_count</th>\n",
       "      <th>imported_functions</th>\n",
       "      <th>files_written_count</th>\n",
       "      <th>files_deleted_count</th>\n",
       "      <th>registry_keys_count</th>\n",
       "      <th>processes_count</th>\n",
       "      <th>mutexes_count</th>\n",
       "      <th>command_executions</th>\n",
       "      <th>...</th>\n",
       "      <th>signature_mark_call_count</th>\n",
       "      <th>api_InternetOpenA</th>\n",
       "      <th>api_DeleteUrlCacheEntryA</th>\n",
       "      <th>api_InternetConnectA</th>\n",
       "      <th>api_InternetOpenUrlA</th>\n",
       "      <th>api_InternetQueryOptionA</th>\n",
       "      <th>api_HttpSendRequestA</th>\n",
       "      <th>api_RegCreateKeyExW</th>\n",
       "      <th>api_gethostbyname</th>\n",
       "      <th>average_pkt_size</th>\n",
       "    </tr>\n",
       "  </thead>\n",
       "  <tbody>\n",
       "    <tr>\n",
       "      <th>0</th>\n",
       "      <td>0.002985</td>\n",
       "      <td>0.732394</td>\n",
       "      <td>0.368421</td>\n",
       "      <td>0.0224</td>\n",
       "      <td>0.000000</td>\n",
       "      <td>0.000000</td>\n",
       "      <td>0.000000</td>\n",
       "      <td>0.000000</td>\n",
       "      <td>0.000000</td>\n",
       "      <td>0.000000</td>\n",
       "      <td>...</td>\n",
       "      <td>0.011321</td>\n",
       "      <td>0.000000</td>\n",
       "      <td>0.0</td>\n",
       "      <td>0.000000</td>\n",
       "      <td>0.000000</td>\n",
       "      <td>0.000000</td>\n",
       "      <td>0.000000</td>\n",
       "      <td>0.000000</td>\n",
       "      <td>0.0</td>\n",
       "      <td>0.196319</td>\n",
       "    </tr>\n",
       "    <tr>\n",
       "      <th>1</th>\n",
       "      <td>0.001493</td>\n",
       "      <td>0.478873</td>\n",
       "      <td>0.000000</td>\n",
       "      <td>0.0000</td>\n",
       "      <td>0.063366</td>\n",
       "      <td>0.007740</td>\n",
       "      <td>0.403509</td>\n",
       "      <td>0.000000</td>\n",
       "      <td>0.036822</td>\n",
       "      <td>0.010526</td>\n",
       "      <td>...</td>\n",
       "      <td>0.041509</td>\n",
       "      <td>0.000000</td>\n",
       "      <td>0.0</td>\n",
       "      <td>0.000000</td>\n",
       "      <td>0.000000</td>\n",
       "      <td>0.000000</td>\n",
       "      <td>0.000000</td>\n",
       "      <td>0.000000</td>\n",
       "      <td>0.0</td>\n",
       "      <td>0.225460</td>\n",
       "    </tr>\n",
       "    <tr>\n",
       "      <th>2</th>\n",
       "      <td>0.011940</td>\n",
       "      <td>0.901408</td>\n",
       "      <td>0.105263</td>\n",
       "      <td>0.1504</td>\n",
       "      <td>0.013861</td>\n",
       "      <td>0.001548</td>\n",
       "      <td>0.557018</td>\n",
       "      <td>0.064815</td>\n",
       "      <td>0.044574</td>\n",
       "      <td>0.031579</td>\n",
       "      <td>...</td>\n",
       "      <td>0.241509</td>\n",
       "      <td>0.000782</td>\n",
       "      <td>0.0</td>\n",
       "      <td>0.000782</td>\n",
       "      <td>0.000000</td>\n",
       "      <td>0.000000</td>\n",
       "      <td>0.000392</td>\n",
       "      <td>0.001145</td>\n",
       "      <td>0.0</td>\n",
       "      <td>0.559816</td>\n",
       "    </tr>\n",
       "    <tr>\n",
       "      <th>3</th>\n",
       "      <td>0.020896</td>\n",
       "      <td>0.957746</td>\n",
       "      <td>0.263158</td>\n",
       "      <td>0.2096</td>\n",
       "      <td>0.000000</td>\n",
       "      <td>0.000000</td>\n",
       "      <td>0.000000</td>\n",
       "      <td>0.000000</td>\n",
       "      <td>0.000000</td>\n",
       "      <td>0.000000</td>\n",
       "      <td>...</td>\n",
       "      <td>0.128302</td>\n",
       "      <td>0.000000</td>\n",
       "      <td>0.0</td>\n",
       "      <td>0.000000</td>\n",
       "      <td>0.000000</td>\n",
       "      <td>0.000000</td>\n",
       "      <td>0.000000</td>\n",
       "      <td>0.000655</td>\n",
       "      <td>0.0</td>\n",
       "      <td>0.205521</td>\n",
       "    </tr>\n",
       "    <tr>\n",
       "      <th>4</th>\n",
       "      <td>0.005970</td>\n",
       "      <td>0.605634</td>\n",
       "      <td>0.000000</td>\n",
       "      <td>0.0000</td>\n",
       "      <td>0.001980</td>\n",
       "      <td>0.003096</td>\n",
       "      <td>0.172697</td>\n",
       "      <td>0.064815</td>\n",
       "      <td>0.075581</td>\n",
       "      <td>0.000000</td>\n",
       "      <td>...</td>\n",
       "      <td>0.003774</td>\n",
       "      <td>0.000000</td>\n",
       "      <td>0.0</td>\n",
       "      <td>0.000000</td>\n",
       "      <td>0.000000</td>\n",
       "      <td>0.000000</td>\n",
       "      <td>0.000000</td>\n",
       "      <td>0.000000</td>\n",
       "      <td>0.0</td>\n",
       "      <td>0.202454</td>\n",
       "    </tr>\n",
       "    <tr>\n",
       "      <th>...</th>\n",
       "      <td>...</td>\n",
       "      <td>...</td>\n",
       "      <td>...</td>\n",
       "      <td>...</td>\n",
       "      <td>...</td>\n",
       "      <td>...</td>\n",
       "      <td>...</td>\n",
       "      <td>...</td>\n",
       "      <td>...</td>\n",
       "      <td>...</td>\n",
       "      <td>...</td>\n",
       "      <td>...</td>\n",
       "      <td>...</td>\n",
       "      <td>...</td>\n",
       "      <td>...</td>\n",
       "      <td>...</td>\n",
       "      <td>...</td>\n",
       "      <td>...</td>\n",
       "      <td>...</td>\n",
       "      <td>...</td>\n",
       "      <td>...</td>\n",
       "    </tr>\n",
       "    <tr>\n",
       "      <th>2707</th>\n",
       "      <td>0.016418</td>\n",
       "      <td>0.774648</td>\n",
       "      <td>0.105263</td>\n",
       "      <td>0.0080</td>\n",
       "      <td>0.000000</td>\n",
       "      <td>0.000000</td>\n",
       "      <td>0.000000</td>\n",
       "      <td>0.004630</td>\n",
       "      <td>0.000000</td>\n",
       "      <td>0.021053</td>\n",
       "      <td>...</td>\n",
       "      <td>0.007547</td>\n",
       "      <td>0.000000</td>\n",
       "      <td>0.0</td>\n",
       "      <td>0.000000</td>\n",
       "      <td>0.000000</td>\n",
       "      <td>0.000000</td>\n",
       "      <td>0.000000</td>\n",
       "      <td>0.000000</td>\n",
       "      <td>0.0</td>\n",
       "      <td>0.401840</td>\n",
       "    </tr>\n",
       "    <tr>\n",
       "      <th>2708</th>\n",
       "      <td>0.011940</td>\n",
       "      <td>0.760563</td>\n",
       "      <td>0.263158</td>\n",
       "      <td>0.2224</td>\n",
       "      <td>0.009901</td>\n",
       "      <td>0.000000</td>\n",
       "      <td>0.301535</td>\n",
       "      <td>0.041667</td>\n",
       "      <td>0.015504</td>\n",
       "      <td>0.010526</td>\n",
       "      <td>...</td>\n",
       "      <td>0.094340</td>\n",
       "      <td>0.000000</td>\n",
       "      <td>0.0</td>\n",
       "      <td>0.003912</td>\n",
       "      <td>0.000000</td>\n",
       "      <td>0.023474</td>\n",
       "      <td>0.000000</td>\n",
       "      <td>0.001964</td>\n",
       "      <td>0.0</td>\n",
       "      <td>0.176380</td>\n",
       "    </tr>\n",
       "    <tr>\n",
       "      <th>2709</th>\n",
       "      <td>0.004478</td>\n",
       "      <td>0.732394</td>\n",
       "      <td>0.473684</td>\n",
       "      <td>0.3376</td>\n",
       "      <td>0.000000</td>\n",
       "      <td>0.000000</td>\n",
       "      <td>0.000000</td>\n",
       "      <td>0.009259</td>\n",
       "      <td>0.001938</td>\n",
       "      <td>0.021053</td>\n",
       "      <td>...</td>\n",
       "      <td>0.018868</td>\n",
       "      <td>0.000000</td>\n",
       "      <td>0.0</td>\n",
       "      <td>0.000000</td>\n",
       "      <td>0.000000</td>\n",
       "      <td>0.000000</td>\n",
       "      <td>0.000000</td>\n",
       "      <td>0.000000</td>\n",
       "      <td>0.0</td>\n",
       "      <td>0.203988</td>\n",
       "    </tr>\n",
       "    <tr>\n",
       "      <th>2710</th>\n",
       "      <td>0.005970</td>\n",
       "      <td>0.690141</td>\n",
       "      <td>0.368421</td>\n",
       "      <td>0.1984</td>\n",
       "      <td>0.000000</td>\n",
       "      <td>0.000000</td>\n",
       "      <td>0.024123</td>\n",
       "      <td>0.004630</td>\n",
       "      <td>0.005814</td>\n",
       "      <td>0.000000</td>\n",
       "      <td>...</td>\n",
       "      <td>0.000000</td>\n",
       "      <td>0.000000</td>\n",
       "      <td>0.0</td>\n",
       "      <td>0.000000</td>\n",
       "      <td>0.000000</td>\n",
       "      <td>0.000000</td>\n",
       "      <td>0.000000</td>\n",
       "      <td>0.000000</td>\n",
       "      <td>0.0</td>\n",
       "      <td>0.211330</td>\n",
       "    </tr>\n",
       "    <tr>\n",
       "      <th>2711</th>\n",
       "      <td>0.004478</td>\n",
       "      <td>0.887324</td>\n",
       "      <td>0.315789</td>\n",
       "      <td>0.0928</td>\n",
       "      <td>0.005941</td>\n",
       "      <td>0.000000</td>\n",
       "      <td>0.069079</td>\n",
       "      <td>0.055556</td>\n",
       "      <td>0.001938</td>\n",
       "      <td>0.010526</td>\n",
       "      <td>...</td>\n",
       "      <td>0.094340</td>\n",
       "      <td>0.003130</td>\n",
       "      <td>0.0</td>\n",
       "      <td>0.000000</td>\n",
       "      <td>0.013889</td>\n",
       "      <td>0.000000</td>\n",
       "      <td>0.000000</td>\n",
       "      <td>0.001964</td>\n",
       "      <td>0.0</td>\n",
       "      <td>0.188650</td>\n",
       "    </tr>\n",
       "  </tbody>\n",
       "</table>\n",
       "<p>2712 rows × 36 columns</p>\n",
       "</div>"
      ],
      "text/plain": [
       "      unique_sources  malicious_count  imports_count  imported_functions  \\\n",
       "0           0.002985         0.732394       0.368421              0.0224   \n",
       "1           0.001493         0.478873       0.000000              0.0000   \n",
       "2           0.011940         0.901408       0.105263              0.1504   \n",
       "3           0.020896         0.957746       0.263158              0.2096   \n",
       "4           0.005970         0.605634       0.000000              0.0000   \n",
       "...              ...              ...            ...                 ...   \n",
       "2707        0.016418         0.774648       0.105263              0.0080   \n",
       "2708        0.011940         0.760563       0.263158              0.2224   \n",
       "2709        0.004478         0.732394       0.473684              0.3376   \n",
       "2710        0.005970         0.690141       0.368421              0.1984   \n",
       "2711        0.004478         0.887324       0.315789              0.0928   \n",
       "\n",
       "      files_written_count  files_deleted_count  registry_keys_count  \\\n",
       "0                0.000000             0.000000             0.000000   \n",
       "1                0.063366             0.007740             0.403509   \n",
       "2                0.013861             0.001548             0.557018   \n",
       "3                0.000000             0.000000             0.000000   \n",
       "4                0.001980             0.003096             0.172697   \n",
       "...                   ...                  ...                  ...   \n",
       "2707             0.000000             0.000000             0.000000   \n",
       "2708             0.009901             0.000000             0.301535   \n",
       "2709             0.000000             0.000000             0.000000   \n",
       "2710             0.000000             0.000000             0.024123   \n",
       "2711             0.005941             0.000000             0.069079   \n",
       "\n",
       "      processes_count  mutexes_count  command_executions  ...  \\\n",
       "0            0.000000       0.000000            0.000000  ...   \n",
       "1            0.000000       0.036822            0.010526  ...   \n",
       "2            0.064815       0.044574            0.031579  ...   \n",
       "3            0.000000       0.000000            0.000000  ...   \n",
       "4            0.064815       0.075581            0.000000  ...   \n",
       "...               ...            ...                 ...  ...   \n",
       "2707         0.004630       0.000000            0.021053  ...   \n",
       "2708         0.041667       0.015504            0.010526  ...   \n",
       "2709         0.009259       0.001938            0.021053  ...   \n",
       "2710         0.004630       0.005814            0.000000  ...   \n",
       "2711         0.055556       0.001938            0.010526  ...   \n",
       "\n",
       "      signature_mark_call_count  api_InternetOpenA  api_DeleteUrlCacheEntryA  \\\n",
       "0                      0.011321           0.000000                       0.0   \n",
       "1                      0.041509           0.000000                       0.0   \n",
       "2                      0.241509           0.000782                       0.0   \n",
       "3                      0.128302           0.000000                       0.0   \n",
       "4                      0.003774           0.000000                       0.0   \n",
       "...                         ...                ...                       ...   \n",
       "2707                   0.007547           0.000000                       0.0   \n",
       "2708                   0.094340           0.000000                       0.0   \n",
       "2709                   0.018868           0.000000                       0.0   \n",
       "2710                   0.000000           0.000000                       0.0   \n",
       "2711                   0.094340           0.003130                       0.0   \n",
       "\n",
       "      api_InternetConnectA  api_InternetOpenUrlA  api_InternetQueryOptionA  \\\n",
       "0                 0.000000              0.000000                  0.000000   \n",
       "1                 0.000000              0.000000                  0.000000   \n",
       "2                 0.000782              0.000000                  0.000000   \n",
       "3                 0.000000              0.000000                  0.000000   \n",
       "4                 0.000000              0.000000                  0.000000   \n",
       "...                    ...                   ...                       ...   \n",
       "2707              0.000000              0.000000                  0.000000   \n",
       "2708              0.003912              0.000000                  0.023474   \n",
       "2709              0.000000              0.000000                  0.000000   \n",
       "2710              0.000000              0.000000                  0.000000   \n",
       "2711              0.000000              0.013889                  0.000000   \n",
       "\n",
       "      api_HttpSendRequestA  api_RegCreateKeyExW  api_gethostbyname  \\\n",
       "0                 0.000000             0.000000                0.0   \n",
       "1                 0.000000             0.000000                0.0   \n",
       "2                 0.000392             0.001145                0.0   \n",
       "3                 0.000000             0.000655                0.0   \n",
       "4                 0.000000             0.000000                0.0   \n",
       "...                    ...                  ...                ...   \n",
       "2707              0.000000             0.000000                0.0   \n",
       "2708              0.000000             0.001964                0.0   \n",
       "2709              0.000000             0.000000                0.0   \n",
       "2710              0.000000             0.000000                0.0   \n",
       "2711              0.000000             0.001964                0.0   \n",
       "\n",
       "      average_pkt_size  \n",
       "0             0.196319  \n",
       "1             0.225460  \n",
       "2             0.559816  \n",
       "3             0.205521  \n",
       "4             0.202454  \n",
       "...                ...  \n",
       "2707          0.401840  \n",
       "2708          0.176380  \n",
       "2709          0.203988  \n",
       "2710          0.211330  \n",
       "2711          0.188650  \n",
       "\n",
       "[2712 rows x 36 columns]"
      ]
     },
     "execution_count": 24,
     "metadata": {},
     "output_type": "execute_result"
    }
   ],
   "source": [
    "X_train"
   ]
  },
  {
   "cell_type": "markdown",
   "metadata": {},
   "source": [
    "<br/><br/>\n",
    "\n",
    "-----\n",
    "\n",
    "<br/><br/>"
   ]
  },
  {
   "cell_type": "markdown",
   "metadata": {},
   "source": [
    "Import Dependencies"
   ]
  },
  {
   "cell_type": "code",
   "execution_count": 25,
   "metadata": {},
   "outputs": [],
   "source": [
    "import gymnasium\n",
    "from gymnasium import spaces"
   ]
  },
  {
   "cell_type": "markdown",
   "metadata": {},
   "source": [
    "## Environment Setup"
   ]
  },
  {
   "cell_type": "code",
   "execution_count": 26,
   "metadata": {},
   "outputs": [],
   "source": [
    "\n",
    "class APTEnv(gymnasium.Env):\n",
    "    \"\"\"Custom Environment for APT (Advanced Persistent Threat) classification that follows gym interface.\"\"\"\n",
    "    \n",
    "    metadata = {\"render.modes\": [\"human\"]}\n",
    "\n",
    "    def __init__(self, data, label):\n",
    "        super(APTEnv, self).__init__()\n",
    "        \n",
    "        # Set up spaces for actions and observations\n",
    "        number_of_columns = data.shape[1]\n",
    "        self.action_space = spaces.Discrete(label.nunique())\n",
    "        self.observation_space = spaces.Box(low=0, high=1, shape=(number_of_columns,), dtype=np.float64)\n",
    "        \n",
    "        # Initialize data and labels\n",
    "        self.data = data\n",
    "        self.label = label.tolist()\n",
    "        self.history_t = number_of_columns\n",
    "\n",
    "    def step(self, action):\n",
    "        # Execute one time step within the environment\n",
    "        correct_action = self.label[self.t]\n",
    "        self.reward = int(action == correct_action)\n",
    "        self.t += 1\n",
    "        \n",
    "        # Update observation based on data columns\n",
    "        self.observation = np.array([self.data.iloc[self.t, : ][col] for col in self.data.columns])\n",
    "        \n",
    "        # Check if episode is done\n",
    "        self.done = (self.t == len(self.data) - 1)\n",
    "        \n",
    "        # Return step information\n",
    "        return self.observation, self.reward, self.done, False, {}\n",
    "\n",
    "    def reset(self, seed=None, options=None):\n",
    "        # Reset the environment state\n",
    "        self.t = 0\n",
    "        self.done = False\n",
    "        self.observation = np.array([0.0 for _ in range(self.history_t)])\n",
    "        \n",
    "        # Return initial observations and info\n",
    "        return self.observation, {}"
   ]
  },
  {
   "cell_type": "code",
   "execution_count": 27,
   "metadata": {},
   "outputs": [],
   "source": [
    "from stable_baselines3.common.env_checker import check_env\n",
    "\n",
    "# Create environment instances for training and evaluation\n",
    "env = APTEnv(X_train, y_train)\n",
    "eval_env = APTEnv(X_test, y_test)\n",
    "\n",
    "# Validate the environments to ensure compatibility with Stable Baselines3\n",
    "check_env(env)\n",
    "check_env(eval_env)\n"
   ]
  },
  {
   "cell_type": "code",
   "execution_count": 76,
   "metadata": {},
   "outputs": [],
   "source": [
    "import time\n",
    "from stable_baselines3.common.callbacks import BaseCallback\n",
    "from sklearn.metrics import accuracy_score, f1_score, precision_score, recall_score\n",
    "\n",
    "# Lists to store evaluation metrics and other statistics\n",
    "accuracy, precisions, recalls, f1_scores = [], [], [], []\n",
    "all_predicted_actions, all_agent_rewards, training_time = [], [], []\n",
    "debug_predictions, debug_true_labels = [], []\n",
    "training_accuracy = []\n",
    "\n",
    "# True labels for testing\n",
    "y_true = y_test.to_list()\n",
    "\n",
    "class CustomEvaluationCallback(BaseCallback):\n",
    "    \"\"\"\n",
    "    Custom callback for evaluating agent performance periodically during training.\n",
    "    \"\"\"\n",
    "    def __init__(self, model, eval_env, verbose=1):\n",
    "        super().__init__(verbose)\n",
    "        self.env = eval_env\n",
    "        self.model = model\n",
    "        self.step_tracker = 0\n",
    "        self.steps = 0\n",
    "        self.start_time = time.time()\n",
    "\n",
    "    def _on_training_start(self):\n",
    "        \"\"\" Record the start time of training. \"\"\"\n",
    "        self.start_time = time.time()\n",
    "\n",
    "    def _on_step(self) -> bool:\n",
    "        \"\"\"\n",
    "        Evaluate the agent every 500 steps by predicting over the test environment,\n",
    "        calculating metrics, and recording them.\n",
    "        \"\"\"\n",
    "        self.step_tracker += 1\n",
    "        self.steps += 1\n",
    "        \n",
    "        if self.step_tracker == 500:\n",
    "            done, rewards = False, 0\n",
    "            self.step_tracker = 0\n",
    "            all_predicted_actions.clear()\n",
    "            observations, _ = self.env.reset(seed=42)\n",
    "        \n",
    "            while not done:\n",
    "                action, _ = self.model.predict(observations)\n",
    "                all_predicted_actions.append(action)\n",
    "                observations, reward, done, _, _ = self.env.step(action)\n",
    "                rewards += reward\n",
    "\n",
    "            self.env.close()\n",
    "            max_size = len(all_predicted_actions)\n",
    "        \n",
    "            # Append current predictions and true labels for debugging\n",
    "            debug_predictions.append(all_predicted_actions.copy())\n",
    "            debug_true_labels.append(y_true[:max_size].copy())\n",
    "        \n",
    "            # Calculate and append performance metrics\n",
    "            accuracy.append(accuracy_score(y_true[:max_size], all_predicted_actions) * 100)\n",
    "            precisions.append(precision_score(y_true[:max_size], all_predicted_actions, average='weighted') * 100)\n",
    "            recalls.append(recall_score(y_true[:max_size], all_predicted_actions, average='weighted') * 100)\n",
    "            f1_scores.append(f1_score(y_true[:max_size], all_predicted_actions, average='weighted') * 100)\n",
    "            \n",
    "            all_agent_rewards.append(rewards)\n",
    "            \n",
    "            training_predictions = self.model.predict(X_train)[0]\n",
    "            training_accuracy.append(accuracy_score(y_train, training_predictions) * 100)\n",
    "        \n",
    "            print(f\"After {self.steps} steps, the accuracy is {accuracy[-1]:.2f}%\")\n",
    "        \n",
    "        return True\n",
    "\n",
    "    def _on_training_end(self):\n",
    "        \"\"\" Calculate total training time and store it. \"\"\"\n",
    "        self.total_training_time = time.time() - self.start_time\n",
    "        training_time.append(self.total_training_time)"
   ]
  },
  {
   "cell_type": "code",
   "execution_count": 77,
   "metadata": {},
   "outputs": [],
   "source": [
    "import torch\n",
    "from stable_baselines3 import DQN\n",
    "\n",
    "def train(env, eval_env, steps: int = 1, seed: int | None = 0, **env_kwargs):\n",
    "    \"\"\"\n",
    "    Trains a DQN model on a given environment and evaluates it using a custom callback.\n",
    "    \"\"\"\n",
    "    # Reset the environment with the specified seed\n",
    "    env.reset(seed=seed)\n",
    "    print(\"Starting training\")\n",
    "\n",
    "    # Define a learning rate schedule that decays exponentially\n",
    "    def learning_rate_schedule(step):\n",
    "        return 1e-3 * (0.99 ** (step / 1000))\n",
    "\n",
    "    # Initialize the DQN model with specified parameters and architecture\n",
    "    model = DQN(\n",
    "        policy='MlpPolicy',\n",
    "        env=env,\n",
    "        verbose=1,\n",
    "        learning_rate=learning_rate_schedule,\n",
    "        buffer_size=int(1e5),\n",
    "        batch_size=256,\n",
    "        gradient_steps=3,\n",
    "        tau=0.005,\n",
    "        exploration_fraction=0.1,\n",
    "        exploration_final_eps=0.02,\n",
    "        gamma=0.99,\n",
    "        policy_kwargs={\n",
    "            \"net_arch\": [1024, 512, 512, 256],\n",
    "            \"activation_fn\": torch.nn.LeakyReLU,\n",
    "        }\n",
    "    )\n",
    "\n",
    "    # Create and assign a custom evaluation callback to monitor training\n",
    "    # custom_callback = CustomEvaluationCallback(model, eval_env)\n",
    "    custom_callback = CustomEvaluationCallback(model, eval_env)\n",
    "\n",
    "    # Begin learning and continue for the specified number of timesteps\n",
    "    model.learn(total_timesteps=steps, callback=custom_callback, reset_num_timesteps=False)\n",
    "    print(\"Finished training\")\n",
    "\n",
    "    # Close the environment after training\n",
    "    env.close()\n",
    "\n",
    "    return model"
   ]
  },
  {
   "cell_type": "code",
   "execution_count": 78,
   "metadata": {},
   "outputs": [
    {
     "name": "stdout",
     "output_type": "stream",
     "text": [
      "Starting training\n",
      "Using cpu device\n",
      "Wrapping the env with a `Monitor` wrapper\n",
      "Wrapping the env in a DummyVecEnv.\n",
      "After 500 steps, the accuracy is 19.30%\n",
      "After 1000 steps, the accuracy is 36.62%\n",
      "After 1500 steps, the accuracy is 53.26%\n",
      "After 2000 steps, the accuracy is 69.14%\n",
      "After 2500 steps, the accuracy is 72.95%\n",
      "After 3000 steps, the accuracy is 76.71%\n",
      "After 3500 steps, the accuracy is 79.65%\n",
      "After 4000 steps, the accuracy is 80.97%\n",
      "After 4500 steps, the accuracy is 81.97%\n",
      "After 5000 steps, the accuracy is 82.41%\n",
      "After 5500 steps, the accuracy is 83.19%\n",
      "After 6000 steps, the accuracy is 83.41%\n",
      "After 6500 steps, the accuracy is 84.02%\n",
      "After 7000 steps, the accuracy is 84.24%\n",
      "After 7500 steps, the accuracy is 84.35%\n",
      "After 8000 steps, the accuracy is 85.07%\n",
      "After 8500 steps, the accuracy is 84.62%\n",
      "After 9000 steps, the accuracy is 85.45%\n",
      "After 9500 steps, the accuracy is 85.67%\n",
      "After 10000 steps, the accuracy is 85.45%\n",
      "After 10500 steps, the accuracy is 85.90%\n",
      "----------------------------------\n",
      "| rollout/            |          |\n",
      "|    ep_len_mean      | 2.71e+03 |\n",
      "|    ep_rew_mean      | 2.11e+03 |\n",
      "|    exploration_rate | 0.02     |\n",
      "| time/               |          |\n",
      "|    episodes         | 4        |\n",
      "|    fps              | 92       |\n",
      "|    time_elapsed     | 116      |\n",
      "|    total_timesteps  | 10844    |\n",
      "| train/              |          |\n",
      "|    learning_rate    | 0.001    |\n",
      "|    loss             | 0.000118 |\n",
      "|    n_updates        | 8055     |\n",
      "----------------------------------\n",
      "After 11000 steps, the accuracy is 87.17%\n",
      "After 11500 steps, the accuracy is 86.62%\n",
      "After 12000 steps, the accuracy is 86.67%\n",
      "After 12500 steps, the accuracy is 87.72%\n",
      "After 13000 steps, the accuracy is 87.67%\n",
      "After 13500 steps, the accuracy is 87.11%\n",
      "After 14000 steps, the accuracy is 86.12%\n",
      "After 14500 steps, the accuracy is 88.11%\n",
      "After 15000 steps, the accuracy is 87.17%\n",
      "After 15500 steps, the accuracy is 87.44%\n",
      "After 16000 steps, the accuracy is 87.67%\n",
      "After 16500 steps, the accuracy is 87.17%\n",
      "After 17000 steps, the accuracy is 88.38%\n",
      "After 17500 steps, the accuracy is 88.55%\n",
      "After 18000 steps, the accuracy is 88.00%\n",
      "After 18500 steps, the accuracy is 88.61%\n",
      "After 19000 steps, the accuracy is 89.27%\n",
      "After 19500 steps, the accuracy is 88.11%\n",
      "After 20000 steps, the accuracy is 88.00%\n",
      "Finished training\n"
     ]
    }
   ],
   "source": [
    "# Define environment configuration if any\n",
    "env_kwargs = {}\n",
    "\n",
    "# Clear previous training metrics and debug data\n",
    "accuracy.clear()\n",
    "precisions.clear()\n",
    "f1_scores.clear()\n",
    "recalls.clear()\n",
    "training_accuracy.clear()\n",
    "\n",
    "debug_predictions.clear()\n",
    "debug_true_labels.clear()\n",
    "\n",
    "# Start training the model with specified environment, steps, and seed\n",
    "trained_model = train(env, eval_env, steps=20000, seed=1)"
   ]
  },
  {
   "cell_type": "markdown",
   "metadata": {},
   "source": [
    "<br/><br/>\n",
    "\n",
    "--------------\n",
    "\n",
    "<br/><br/>"
   ]
  },
  {
   "cell_type": "markdown",
   "metadata": {},
   "source": [
    "## Model Evaluation"
   ]
  },
  {
   "cell_type": "code",
   "execution_count": 105,
   "metadata": {},
   "outputs": [],
   "source": [
    "# Create a dictionary mapping APT groups to unique encoded values\n",
    "apt_group_codes = df_cleaned.groupby(final_column)[final_column + '_encoded'].unique().apply(lambda x: x[0]).to_dict()\n",
    "\n",
    "# Reverse the dictionary to map encoded values back to APT group names\n",
    "reversed_apt_group_codes = {v: k for k, v in apt_group_codes.items()}"
   ]
  },
  {
   "cell_type": "code",
   "execution_count": 87,
   "metadata": {},
   "outputs": [
    {
     "data": {
      "application/vnd.plotly.v1+json": {
       "config": {
        "plotlyServerURL": "https://plot.ly"
       },
       "data": [
        {
         "line": {
          "color": "orange"
         },
         "mode": "lines+markers",
         "name": "Accuracy",
         "type": "scatter",
         "x": [
          0,
          1,
          2,
          3,
          4,
          5,
          6,
          7,
          8,
          9,
          10,
          11,
          12,
          13,
          14,
          15,
          16,
          17,
          18,
          19,
          20,
          21,
          22,
          23,
          24,
          25,
          26,
          27,
          28,
          29,
          30,
          31,
          32,
          33,
          34,
          35,
          36,
          37,
          38
         ],
         "y": [
          8.738938053097344,
          8.075221238938052,
          7.890855457227139,
          73.37758112094396,
          77.54424778761062,
          83.44395280235987,
          86.24631268436578,
          87.83185840707965,
          89.8598820058997,
          90.37610619469027,
          91.33480825958702,
          91.66666666666666,
          91.96165191740413,
          92.40412979351032,
          92.77286135693215,
          93.5103244837758,
          93.69469026548673,
          94.13716814159292,
          95.28023598820059,
          95.2433628318584,
          95.6858407079646,
          95.9070796460177,
          96.09144542772862,
          96.60766961651917,
          96.90265486725663,
          97.01327433628319,
          97.16076696165192,
          96.27581120943954,
          97.2345132743363,
          97.4188790560472,
          97.67699115044249,
          97.6401179941003,
          97.52949852507375,
          98.4882005899705,
          98.4882005899705,
          98.67256637168141,
          98.82005899705014,
          98.78318584070797,
          98.70943952802361
         ]
        }
       ],
       "layout": {
        "annotations": [
         {
          "font": {
           "color": "black",
           "size": 6
          },
          "showarrow": false,
          "text": "8.74%",
          "x": 0,
          "y": 7.238938053097344
         },
         {
          "font": {
           "color": "black",
           "size": 6
          },
          "showarrow": false,
          "text": "8.08%",
          "x": 1,
          "y": 6.575221238938052
         },
         {
          "font": {
           "color": "black",
           "size": 6
          },
          "showarrow": false,
          "text": "7.89%",
          "x": 2,
          "y": 6.390855457227139
         },
         {
          "font": {
           "color": "black",
           "size": 6
          },
          "showarrow": false,
          "text": "73.38%",
          "x": 3,
          "y": 74.87758112094396
         },
         {
          "font": {
           "color": "black",
           "size": 6
          },
          "showarrow": false,
          "text": "77.54%",
          "x": 4,
          "y": 79.04424778761062
         },
         {
          "font": {
           "color": "black",
           "size": 6
          },
          "showarrow": false,
          "text": "83.44%",
          "x": 5,
          "y": 84.94395280235987
         },
         {
          "font": {
           "color": "black",
           "size": 6
          },
          "showarrow": false,
          "text": "86.25%",
          "x": 6,
          "y": 87.74631268436578
         },
         {
          "font": {
           "color": "black",
           "size": 6
          },
          "showarrow": false,
          "text": "87.83%",
          "x": 7,
          "y": 89.33185840707965
         },
         {
          "font": {
           "color": "black",
           "size": 6
          },
          "showarrow": false,
          "text": "89.86%",
          "x": 8,
          "y": 91.3598820058997
         },
         {
          "font": {
           "color": "black",
           "size": 6
          },
          "showarrow": false,
          "text": "90.38%",
          "x": 9,
          "y": 91.87610619469027
         },
         {
          "font": {
           "color": "black",
           "size": 6
          },
          "showarrow": false,
          "text": "91.33%",
          "x": 10,
          "y": 92.83480825958702
         },
         {
          "font": {
           "color": "black",
           "size": 6
          },
          "showarrow": false,
          "text": "91.67%",
          "x": 11,
          "y": 93.16666666666666
         },
         {
          "font": {
           "color": "black",
           "size": 6
          },
          "showarrow": false,
          "text": "91.96%",
          "x": 12,
          "y": 93.46165191740413
         },
         {
          "font": {
           "color": "black",
           "size": 6
          },
          "showarrow": false,
          "text": "92.40%",
          "x": 13,
          "y": 93.90412979351032
         },
         {
          "font": {
           "color": "black",
           "size": 6
          },
          "showarrow": false,
          "text": "92.77%",
          "x": 14,
          "y": 94.27286135693215
         },
         {
          "font": {
           "color": "black",
           "size": 6
          },
          "showarrow": false,
          "text": "93.51%",
          "x": 15,
          "y": 95.0103244837758
         },
         {
          "font": {
           "color": "black",
           "size": 6
          },
          "showarrow": false,
          "text": "93.69%",
          "x": 16,
          "y": 95.19469026548673
         },
         {
          "font": {
           "color": "black",
           "size": 6
          },
          "showarrow": false,
          "text": "94.14%",
          "x": 17,
          "y": 95.63716814159292
         },
         {
          "font": {
           "color": "black",
           "size": 6
          },
          "showarrow": false,
          "text": "95.28%",
          "x": 18,
          "y": 96.78023598820059
         },
         {
          "font": {
           "color": "black",
           "size": 6
          },
          "showarrow": false,
          "text": "95.24%",
          "x": 19,
          "y": 93.7433628318584
         },
         {
          "font": {
           "color": "black",
           "size": 6
          },
          "showarrow": false,
          "text": "95.69%",
          "x": 20,
          "y": 97.1858407079646
         },
         {
          "font": {
           "color": "black",
           "size": 6
          },
          "showarrow": false,
          "text": "95.91%",
          "x": 21,
          "y": 97.4070796460177
         },
         {
          "font": {
           "color": "black",
           "size": 6
          },
          "showarrow": false,
          "text": "96.09%",
          "x": 22,
          "y": 97.59144542772862
         },
         {
          "font": {
           "color": "black",
           "size": 6
          },
          "showarrow": false,
          "text": "96.61%",
          "x": 23,
          "y": 98.10766961651917
         },
         {
          "font": {
           "color": "black",
           "size": 6
          },
          "showarrow": false,
          "text": "96.90%",
          "x": 24,
          "y": 98.40265486725663
         },
         {
          "font": {
           "color": "black",
           "size": 6
          },
          "showarrow": false,
          "text": "97.01%",
          "x": 25,
          "y": 98.51327433628319
         },
         {
          "font": {
           "color": "black",
           "size": 6
          },
          "showarrow": false,
          "text": "97.16%",
          "x": 26,
          "y": 98.66076696165192
         },
         {
          "font": {
           "color": "black",
           "size": 6
          },
          "showarrow": false,
          "text": "96.28%",
          "x": 27,
          "y": 94.77581120943954
         },
         {
          "font": {
           "color": "black",
           "size": 6
          },
          "showarrow": false,
          "text": "97.23%",
          "x": 28,
          "y": 98.7345132743363
         },
         {
          "font": {
           "color": "black",
           "size": 6
          },
          "showarrow": false,
          "text": "97.42%",
          "x": 29,
          "y": 98.9188790560472
         },
         {
          "font": {
           "color": "black",
           "size": 6
          },
          "showarrow": false,
          "text": "97.68%",
          "x": 30,
          "y": 99.17699115044249
         },
         {
          "font": {
           "color": "black",
           "size": 6
          },
          "showarrow": false,
          "text": "97.64%",
          "x": 31,
          "y": 96.1401179941003
         },
         {
          "font": {
           "color": "black",
           "size": 6
          },
          "showarrow": false,
          "text": "97.53%",
          "x": 32,
          "y": 96.02949852507375
         },
         {
          "font": {
           "color": "black",
           "size": 6
          },
          "showarrow": false,
          "text": "98.49%",
          "x": 33,
          "y": 99.9882005899705
         },
         {
          "font": {
           "color": "black",
           "size": 6
          },
          "showarrow": false,
          "text": "98.49%",
          "x": 34,
          "y": 96.9882005899705
         },
         {
          "font": {
           "color": "black",
           "size": 6
          },
          "showarrow": false,
          "text": "98.67%",
          "x": 35,
          "y": 100.17256637168141
         },
         {
          "font": {
           "color": "black",
           "size": 6
          },
          "showarrow": false,
          "text": "98.82%",
          "x": 36,
          "y": 100.32005899705014
         },
         {
          "font": {
           "color": "black",
           "size": 6
          },
          "showarrow": false,
          "text": "98.78%",
          "x": 37,
          "y": 97.28318584070797
         },
         {
          "font": {
           "color": "black",
           "size": 6
          },
          "showarrow": false,
          "text": "98.71%",
          "x": 38,
          "y": 97.20943952802361
         }
        ],
        "template": {
         "data": {
          "bar": [
           {
            "error_x": {
             "color": "#2a3f5f"
            },
            "error_y": {
             "color": "#2a3f5f"
            },
            "marker": {
             "line": {
              "color": "#E5ECF6",
              "width": 0.5
             },
             "pattern": {
              "fillmode": "overlay",
              "size": 10,
              "solidity": 0.2
             }
            },
            "type": "bar"
           }
          ],
          "barpolar": [
           {
            "marker": {
             "line": {
              "color": "#E5ECF6",
              "width": 0.5
             },
             "pattern": {
              "fillmode": "overlay",
              "size": 10,
              "solidity": 0.2
             }
            },
            "type": "barpolar"
           }
          ],
          "carpet": [
           {
            "aaxis": {
             "endlinecolor": "#2a3f5f",
             "gridcolor": "white",
             "linecolor": "white",
             "minorgridcolor": "white",
             "startlinecolor": "#2a3f5f"
            },
            "baxis": {
             "endlinecolor": "#2a3f5f",
             "gridcolor": "white",
             "linecolor": "white",
             "minorgridcolor": "white",
             "startlinecolor": "#2a3f5f"
            },
            "type": "carpet"
           }
          ],
          "choropleth": [
           {
            "colorbar": {
             "outlinewidth": 0,
             "ticks": ""
            },
            "type": "choropleth"
           }
          ],
          "contour": [
           {
            "colorbar": {
             "outlinewidth": 0,
             "ticks": ""
            },
            "colorscale": [
             [
              0,
              "#0d0887"
             ],
             [
              0.1111111111111111,
              "#46039f"
             ],
             [
              0.2222222222222222,
              "#7201a8"
             ],
             [
              0.3333333333333333,
              "#9c179e"
             ],
             [
              0.4444444444444444,
              "#bd3786"
             ],
             [
              0.5555555555555556,
              "#d8576b"
             ],
             [
              0.6666666666666666,
              "#ed7953"
             ],
             [
              0.7777777777777778,
              "#fb9f3a"
             ],
             [
              0.8888888888888888,
              "#fdca26"
             ],
             [
              1,
              "#f0f921"
             ]
            ],
            "type": "contour"
           }
          ],
          "contourcarpet": [
           {
            "colorbar": {
             "outlinewidth": 0,
             "ticks": ""
            },
            "type": "contourcarpet"
           }
          ],
          "heatmap": [
           {
            "colorbar": {
             "outlinewidth": 0,
             "ticks": ""
            },
            "colorscale": [
             [
              0,
              "#0d0887"
             ],
             [
              0.1111111111111111,
              "#46039f"
             ],
             [
              0.2222222222222222,
              "#7201a8"
             ],
             [
              0.3333333333333333,
              "#9c179e"
             ],
             [
              0.4444444444444444,
              "#bd3786"
             ],
             [
              0.5555555555555556,
              "#d8576b"
             ],
             [
              0.6666666666666666,
              "#ed7953"
             ],
             [
              0.7777777777777778,
              "#fb9f3a"
             ],
             [
              0.8888888888888888,
              "#fdca26"
             ],
             [
              1,
              "#f0f921"
             ]
            ],
            "type": "heatmap"
           }
          ],
          "heatmapgl": [
           {
            "colorbar": {
             "outlinewidth": 0,
             "ticks": ""
            },
            "colorscale": [
             [
              0,
              "#0d0887"
             ],
             [
              0.1111111111111111,
              "#46039f"
             ],
             [
              0.2222222222222222,
              "#7201a8"
             ],
             [
              0.3333333333333333,
              "#9c179e"
             ],
             [
              0.4444444444444444,
              "#bd3786"
             ],
             [
              0.5555555555555556,
              "#d8576b"
             ],
             [
              0.6666666666666666,
              "#ed7953"
             ],
             [
              0.7777777777777778,
              "#fb9f3a"
             ],
             [
              0.8888888888888888,
              "#fdca26"
             ],
             [
              1,
              "#f0f921"
             ]
            ],
            "type": "heatmapgl"
           }
          ],
          "histogram": [
           {
            "marker": {
             "pattern": {
              "fillmode": "overlay",
              "size": 10,
              "solidity": 0.2
             }
            },
            "type": "histogram"
           }
          ],
          "histogram2d": [
           {
            "colorbar": {
             "outlinewidth": 0,
             "ticks": ""
            },
            "colorscale": [
             [
              0,
              "#0d0887"
             ],
             [
              0.1111111111111111,
              "#46039f"
             ],
             [
              0.2222222222222222,
              "#7201a8"
             ],
             [
              0.3333333333333333,
              "#9c179e"
             ],
             [
              0.4444444444444444,
              "#bd3786"
             ],
             [
              0.5555555555555556,
              "#d8576b"
             ],
             [
              0.6666666666666666,
              "#ed7953"
             ],
             [
              0.7777777777777778,
              "#fb9f3a"
             ],
             [
              0.8888888888888888,
              "#fdca26"
             ],
             [
              1,
              "#f0f921"
             ]
            ],
            "type": "histogram2d"
           }
          ],
          "histogram2dcontour": [
           {
            "colorbar": {
             "outlinewidth": 0,
             "ticks": ""
            },
            "colorscale": [
             [
              0,
              "#0d0887"
             ],
             [
              0.1111111111111111,
              "#46039f"
             ],
             [
              0.2222222222222222,
              "#7201a8"
             ],
             [
              0.3333333333333333,
              "#9c179e"
             ],
             [
              0.4444444444444444,
              "#bd3786"
             ],
             [
              0.5555555555555556,
              "#d8576b"
             ],
             [
              0.6666666666666666,
              "#ed7953"
             ],
             [
              0.7777777777777778,
              "#fb9f3a"
             ],
             [
              0.8888888888888888,
              "#fdca26"
             ],
             [
              1,
              "#f0f921"
             ]
            ],
            "type": "histogram2dcontour"
           }
          ],
          "mesh3d": [
           {
            "colorbar": {
             "outlinewidth": 0,
             "ticks": ""
            },
            "type": "mesh3d"
           }
          ],
          "parcoords": [
           {
            "line": {
             "colorbar": {
              "outlinewidth": 0,
              "ticks": ""
             }
            },
            "type": "parcoords"
           }
          ],
          "pie": [
           {
            "automargin": true,
            "type": "pie"
           }
          ],
          "scatter": [
           {
            "fillpattern": {
             "fillmode": "overlay",
             "size": 10,
             "solidity": 0.2
            },
            "type": "scatter"
           }
          ],
          "scatter3d": [
           {
            "line": {
             "colorbar": {
              "outlinewidth": 0,
              "ticks": ""
             }
            },
            "marker": {
             "colorbar": {
              "outlinewidth": 0,
              "ticks": ""
             }
            },
            "type": "scatter3d"
           }
          ],
          "scattercarpet": [
           {
            "marker": {
             "colorbar": {
              "outlinewidth": 0,
              "ticks": ""
             }
            },
            "type": "scattercarpet"
           }
          ],
          "scattergeo": [
           {
            "marker": {
             "colorbar": {
              "outlinewidth": 0,
              "ticks": ""
             }
            },
            "type": "scattergeo"
           }
          ],
          "scattergl": [
           {
            "marker": {
             "colorbar": {
              "outlinewidth": 0,
              "ticks": ""
             }
            },
            "type": "scattergl"
           }
          ],
          "scattermapbox": [
           {
            "marker": {
             "colorbar": {
              "outlinewidth": 0,
              "ticks": ""
             }
            },
            "type": "scattermapbox"
           }
          ],
          "scatterpolar": [
           {
            "marker": {
             "colorbar": {
              "outlinewidth": 0,
              "ticks": ""
             }
            },
            "type": "scatterpolar"
           }
          ],
          "scatterpolargl": [
           {
            "marker": {
             "colorbar": {
              "outlinewidth": 0,
              "ticks": ""
             }
            },
            "type": "scatterpolargl"
           }
          ],
          "scatterternary": [
           {
            "marker": {
             "colorbar": {
              "outlinewidth": 0,
              "ticks": ""
             }
            },
            "type": "scatterternary"
           }
          ],
          "surface": [
           {
            "colorbar": {
             "outlinewidth": 0,
             "ticks": ""
            },
            "colorscale": [
             [
              0,
              "#0d0887"
             ],
             [
              0.1111111111111111,
              "#46039f"
             ],
             [
              0.2222222222222222,
              "#7201a8"
             ],
             [
              0.3333333333333333,
              "#9c179e"
             ],
             [
              0.4444444444444444,
              "#bd3786"
             ],
             [
              0.5555555555555556,
              "#d8576b"
             ],
             [
              0.6666666666666666,
              "#ed7953"
             ],
             [
              0.7777777777777778,
              "#fb9f3a"
             ],
             [
              0.8888888888888888,
              "#fdca26"
             ],
             [
              1,
              "#f0f921"
             ]
            ],
            "type": "surface"
           }
          ],
          "table": [
           {
            "cells": {
             "fill": {
              "color": "#EBF0F8"
             },
             "line": {
              "color": "white"
             }
            },
            "header": {
             "fill": {
              "color": "#C8D4E3"
             },
             "line": {
              "color": "white"
             }
            },
            "type": "table"
           }
          ]
         },
         "layout": {
          "annotationdefaults": {
           "arrowcolor": "#2a3f5f",
           "arrowhead": 0,
           "arrowwidth": 1
          },
          "autotypenumbers": "strict",
          "coloraxis": {
           "colorbar": {
            "outlinewidth": 0,
            "ticks": ""
           }
          },
          "colorscale": {
           "diverging": [
            [
             0,
             "#8e0152"
            ],
            [
             0.1,
             "#c51b7d"
            ],
            [
             0.2,
             "#de77ae"
            ],
            [
             0.3,
             "#f1b6da"
            ],
            [
             0.4,
             "#fde0ef"
            ],
            [
             0.5,
             "#f7f7f7"
            ],
            [
             0.6,
             "#e6f5d0"
            ],
            [
             0.7,
             "#b8e186"
            ],
            [
             0.8,
             "#7fbc41"
            ],
            [
             0.9,
             "#4d9221"
            ],
            [
             1,
             "#276419"
            ]
           ],
           "sequential": [
            [
             0,
             "#0d0887"
            ],
            [
             0.1111111111111111,
             "#46039f"
            ],
            [
             0.2222222222222222,
             "#7201a8"
            ],
            [
             0.3333333333333333,
             "#9c179e"
            ],
            [
             0.4444444444444444,
             "#bd3786"
            ],
            [
             0.5555555555555556,
             "#d8576b"
            ],
            [
             0.6666666666666666,
             "#ed7953"
            ],
            [
             0.7777777777777778,
             "#fb9f3a"
            ],
            [
             0.8888888888888888,
             "#fdca26"
            ],
            [
             1,
             "#f0f921"
            ]
           ],
           "sequentialminus": [
            [
             0,
             "#0d0887"
            ],
            [
             0.1111111111111111,
             "#46039f"
            ],
            [
             0.2222222222222222,
             "#7201a8"
            ],
            [
             0.3333333333333333,
             "#9c179e"
            ],
            [
             0.4444444444444444,
             "#bd3786"
            ],
            [
             0.5555555555555556,
             "#d8576b"
            ],
            [
             0.6666666666666666,
             "#ed7953"
            ],
            [
             0.7777777777777778,
             "#fb9f3a"
            ],
            [
             0.8888888888888888,
             "#fdca26"
            ],
            [
             1,
             "#f0f921"
            ]
           ]
          },
          "colorway": [
           "#636efa",
           "#EF553B",
           "#00cc96",
           "#ab63fa",
           "#FFA15A",
           "#19d3f3",
           "#FF6692",
           "#B6E880",
           "#FF97FF",
           "#FECB52"
          ],
          "font": {
           "color": "#2a3f5f"
          },
          "geo": {
           "bgcolor": "white",
           "lakecolor": "white",
           "landcolor": "#E5ECF6",
           "showlakes": true,
           "showland": true,
           "subunitcolor": "white"
          },
          "hoverlabel": {
           "align": "left"
          },
          "hovermode": "closest",
          "mapbox": {
           "style": "light"
          },
          "paper_bgcolor": "white",
          "plot_bgcolor": "#E5ECF6",
          "polar": {
           "angularaxis": {
            "gridcolor": "white",
            "linecolor": "white",
            "ticks": ""
           },
           "bgcolor": "#E5ECF6",
           "radialaxis": {
            "gridcolor": "white",
            "linecolor": "white",
            "ticks": ""
           }
          },
          "scene": {
           "xaxis": {
            "backgroundcolor": "#E5ECF6",
            "gridcolor": "white",
            "gridwidth": 2,
            "linecolor": "white",
            "showbackground": true,
            "ticks": "",
            "zerolinecolor": "white"
           },
           "yaxis": {
            "backgroundcolor": "#E5ECF6",
            "gridcolor": "white",
            "gridwidth": 2,
            "linecolor": "white",
            "showbackground": true,
            "ticks": "",
            "zerolinecolor": "white"
           },
           "zaxis": {
            "backgroundcolor": "#E5ECF6",
            "gridcolor": "white",
            "gridwidth": 2,
            "linecolor": "white",
            "showbackground": true,
            "ticks": "",
            "zerolinecolor": "white"
           }
          },
          "shapedefaults": {
           "line": {
            "color": "#2a3f5f"
           }
          },
          "ternary": {
           "aaxis": {
            "gridcolor": "white",
            "linecolor": "white",
            "ticks": ""
           },
           "baxis": {
            "gridcolor": "white",
            "linecolor": "white",
            "ticks": ""
           },
           "bgcolor": "#E5ECF6",
           "caxis": {
            "gridcolor": "white",
            "linecolor": "white",
            "ticks": ""
           }
          },
          "title": {
           "x": 0.05
          },
          "xaxis": {
           "automargin": true,
           "gridcolor": "white",
           "linecolor": "white",
           "ticks": "",
           "title": {
            "standoff": 15
           },
           "zerolinecolor": "white",
           "zerolinewidth": 2
          },
          "yaxis": {
           "automargin": true,
           "gridcolor": "white",
           "linecolor": "white",
           "ticks": "",
           "title": {
            "standoff": 15
           },
           "zerolinecolor": "white",
           "zerolinewidth": 2
          }
         }
        },
        "title": {
         "text": "Model Training Accuracy Over Training Steps"
        },
        "xaxis": {
         "title": {
          "text": "Training Steps"
         }
        },
        "yaxis": {
         "title": {
          "text": "Accuracy (%)"
         }
        }
       }
      }
     },
     "metadata": {},
     "output_type": "display_data"
    }
   ],
   "source": [
    "import plotly.graph_objects as go\n",
    "\n",
    "# Create a new figure object\n",
    "fig = go.Figure()\n",
    "\n",
    "filtered_training_accuracy = training_accuracy.copy()[:-1]\n",
    "\n",
    "# Add a line plot for filtered_training_accuracy with markers\n",
    "fig.add_traces(go.Scatter(\n",
    "    x=list(range(len(filtered_training_accuracy))), \n",
    "    y=filtered_training_accuracy, \n",
    "    name='Accuracy', \n",
    "    mode='lines+markers',\n",
    "    line=dict(color='orange')\n",
    "))\n",
    "\n",
    "# Set the layout of the figure with titles for axes and the plot\n",
    "fig.update_layout(\n",
    "    title='Model Training Accuracy Over Training Steps',\n",
    "    xaxis_title='Training Steps',\n",
    "    yaxis_title='Accuracy (%)'\n",
    ")\n",
    "\n",
    "# Annotate each point with its percentage value and adjust position based on change\n",
    "for i, value in enumerate(filtered_training_accuracy):\n",
    "    # Calculate change direction for annotation positioning\n",
    "    offset = 1.5 if i > 0 and value > filtered_training_accuracy[i-1] else -1.5\n",
    "    # Add annotations at each point\n",
    "    fig.add_annotation(\n",
    "        y=value + offset, \n",
    "        x=i, \n",
    "        text=f'{value:.2f}%', \n",
    "        showarrow=False, \n",
    "        font=dict(color='black', size=6)\n",
    "    )\n",
    "\n",
    "# Display the figure\n",
    "fig.show()"
   ]
  },
  {
   "cell_type": "code",
   "execution_count": 155,
   "metadata": {},
   "outputs": [
    {
     "name": "stdout",
     "output_type": "stream",
     "text": [
      "              precision    recall  f1-score   support\n",
      "\n",
      "           0       0.87      0.80      0.84       164\n",
      "           1       0.92      0.82      0.87        84\n",
      "           2       0.92      1.00      0.96       391\n",
      "           3       0.90      0.84      0.87        45\n",
      "           4       0.62      0.75      0.68        84\n",
      "           5       0.85      0.76      0.80        99\n",
      "           6       0.78      0.80      0.79        64\n",
      "           7       0.81      0.69      0.74       126\n",
      "           8       0.98      0.91      0.94        45\n",
      "           9       1.00      0.98      0.99       165\n",
      "          10       0.93      0.98      0.95       375\n",
      "          11       0.89      0.83      0.86       167\n",
      "\n",
      "    accuracy                           0.89      1809\n",
      "   macro avg       0.87      0.85      0.86      1809\n",
      "weighted avg       0.89      0.89      0.89      1809\n",
      "\n"
     ]
    }
   ],
   "source": [
    "from sklearn.metrics import classification_report\n",
    "\n",
    "predicted_values = trained_model.predict(X_train)[0]\n",
    "\n",
    "print(classification_report(y_train.values, predicted_values))"
   ]
  },
  {
   "cell_type": "code",
   "execution_count": 156,
   "metadata": {},
   "outputs": [
    {
     "data": {
      "text/html": [
       "<div>\n",
       "<style scoped>\n",
       "    .dataframe tbody tr th:only-of-type {\n",
       "        vertical-align: middle;\n",
       "    }\n",
       "\n",
       "    .dataframe tbody tr th {\n",
       "        vertical-align: top;\n",
       "    }\n",
       "\n",
       "    .dataframe thead th {\n",
       "        text-align: right;\n",
       "    }\n",
       "</style>\n",
       "<table border=\"1\" class=\"dataframe\">\n",
       "  <thead>\n",
       "    <tr style=\"text-align: right;\">\n",
       "      <th></th>\n",
       "      <th>precision</th>\n",
       "      <th>recall</th>\n",
       "      <th>f1-score</th>\n",
       "      <th>support</th>\n",
       "    </tr>\n",
       "  </thead>\n",
       "  <tbody>\n",
       "    <tr>\n",
       "      <th>0</th>\n",
       "      <td>0.874172</td>\n",
       "      <td>0.804878</td>\n",
       "      <td>0.838095</td>\n",
       "      <td>164.0</td>\n",
       "    </tr>\n",
       "    <tr>\n",
       "      <th>1</th>\n",
       "      <td>0.920000</td>\n",
       "      <td>0.821429</td>\n",
       "      <td>0.867925</td>\n",
       "      <td>84.0</td>\n",
       "    </tr>\n",
       "    <tr>\n",
       "      <th>2</th>\n",
       "      <td>0.921986</td>\n",
       "      <td>0.997442</td>\n",
       "      <td>0.958231</td>\n",
       "      <td>391.0</td>\n",
       "    </tr>\n",
       "    <tr>\n",
       "      <th>3</th>\n",
       "      <td>0.904762</td>\n",
       "      <td>0.844444</td>\n",
       "      <td>0.873563</td>\n",
       "      <td>45.0</td>\n",
       "    </tr>\n",
       "    <tr>\n",
       "      <th>4</th>\n",
       "      <td>0.623762</td>\n",
       "      <td>0.750000</td>\n",
       "      <td>0.681081</td>\n",
       "      <td>84.0</td>\n",
       "    </tr>\n",
       "    <tr>\n",
       "      <th>5</th>\n",
       "      <td>0.852273</td>\n",
       "      <td>0.757576</td>\n",
       "      <td>0.802139</td>\n",
       "      <td>99.0</td>\n",
       "    </tr>\n",
       "    <tr>\n",
       "      <th>6</th>\n",
       "      <td>0.784615</td>\n",
       "      <td>0.796875</td>\n",
       "      <td>0.790698</td>\n",
       "      <td>64.0</td>\n",
       "    </tr>\n",
       "    <tr>\n",
       "      <th>7</th>\n",
       "      <td>0.805556</td>\n",
       "      <td>0.690476</td>\n",
       "      <td>0.743590</td>\n",
       "      <td>126.0</td>\n",
       "    </tr>\n",
       "    <tr>\n",
       "      <th>8</th>\n",
       "      <td>0.976190</td>\n",
       "      <td>0.911111</td>\n",
       "      <td>0.942529</td>\n",
       "      <td>45.0</td>\n",
       "    </tr>\n",
       "    <tr>\n",
       "      <th>9</th>\n",
       "      <td>1.000000</td>\n",
       "      <td>0.981818</td>\n",
       "      <td>0.990826</td>\n",
       "      <td>165.0</td>\n",
       "    </tr>\n",
       "    <tr>\n",
       "      <th>10</th>\n",
       "      <td>0.926768</td>\n",
       "      <td>0.978667</td>\n",
       "      <td>0.952010</td>\n",
       "      <td>375.0</td>\n",
       "    </tr>\n",
       "    <tr>\n",
       "      <th>11</th>\n",
       "      <td>0.891026</td>\n",
       "      <td>0.832335</td>\n",
       "      <td>0.860681</td>\n",
       "      <td>167.0</td>\n",
       "    </tr>\n",
       "  </tbody>\n",
       "</table>\n",
       "</div>"
      ],
      "text/plain": [
       "    precision    recall  f1-score  support\n",
       "0    0.874172  0.804878  0.838095    164.0\n",
       "1    0.920000  0.821429  0.867925     84.0\n",
       "2    0.921986  0.997442  0.958231    391.0\n",
       "3    0.904762  0.844444  0.873563     45.0\n",
       "4    0.623762  0.750000  0.681081     84.0\n",
       "5    0.852273  0.757576  0.802139     99.0\n",
       "6    0.784615  0.796875  0.790698     64.0\n",
       "7    0.805556  0.690476  0.743590    126.0\n",
       "8    0.976190  0.911111  0.942529     45.0\n",
       "9    1.000000  0.981818  0.990826    165.0\n",
       "10   0.926768  0.978667  0.952010    375.0\n",
       "11   0.891026  0.832335  0.860681    167.0"
      ]
     },
     "execution_count": 156,
     "metadata": {},
     "output_type": "execute_result"
    }
   ],
   "source": [
    "report = classification_report(y_train.values, predicted_values, output_dict=True)\n",
    "\n",
    "# Convert the dictionary to a DataFrame\n",
    "df_report = pd.DataFrame(report).transpose()\n",
    "\n",
    "# Optional: Convert columns to a more readable format if necessary\n",
    "# df_report.reset_index(inplace=True)\n",
    "df_report.rename(columns={'index': 'Class'}, inplace=True)\n",
    "\n",
    "# remove the last 3 rows\n",
    "df_report = df_report[:-3]\n",
    "\n",
    "df_report"
   ]
  },
  {
   "cell_type": "code",
   "execution_count": 162,
   "metadata": {},
   "outputs": [
    {
     "data": {
      "application/vnd.plotly.v1+json": {
       "config": {
        "plotlyServerURL": "https://plot.ly"
       },
       "data": [
        {
         "colorscale": [
          [
           0,
           "#440154"
          ],
          [
           0.1111111111111111,
           "#482878"
          ],
          [
           0.2222222222222222,
           "#3e4989"
          ],
          [
           0.3333333333333333,
           "#31688e"
          ],
          [
           0.4444444444444444,
           "#26828e"
          ],
          [
           0.5555555555555556,
           "#1f9e89"
          ],
          [
           0.6666666666666666,
           "#35b779"
          ],
          [
           0.7777777777777778,
           "#6ece58"
          ],
          [
           0.8888888888888888,
           "#b5de2b"
          ],
          [
           1,
           "#fde725"
          ]
         ],
         "type": "heatmap",
         "x": [
          "precision",
          "recall",
          "f1-score"
         ],
         "y": [
          "APT 1",
          "APT 10",
          "APT 19",
          "APT 21",
          "APT 28",
          "APT 29",
          "APT 30",
          "Dark Hotel",
          "Energetic Bear",
          "Equation Group",
          "Gorgon Group",
          "Winnti"
         ],
         "z": [
          [
           87.41721854304636,
           80.48780487804879,
           83.80952380952381
          ],
          [
           92,
           82.14285714285714,
           86.79245283018868
          ],
          [
           92.19858156028369,
           99.74424552429667,
           95.82309582309583
          ],
          [
           90.47619047619048,
           84.44444444444444,
           87.35632183908046
          ],
          [
           62.37623762376238,
           75,
           68.10810810810811
          ],
          [
           85.22727272727273,
           75.75757575757575,
           80.21390374331551
          ],
          [
           78.46153846153847,
           79.6875,
           79.06976744186046
          ],
          [
           80.55555555555556,
           69.04761904761905,
           74.35897435897436
          ],
          [
           97.61904761904762,
           91.11111111111111,
           94.25287356321839
          ],
          [
           100,
           98.18181818181819,
           99.08256880733946
          ],
          [
           92.67676767676768,
           97.86666666666667,
           95.20103761348896
          ],
          [
           89.1025641025641,
           83.23353293413174,
           86.06811145510835
          ]
         ],
         "zmax": 100,
         "zmin": 30
        }
       ],
       "layout": {
        "annotations": [
         {
          "showarrow": false,
          "text": "87.42%",
          "x": "precision",
          "y": "0"
         },
         {
          "showarrow": false,
          "text": "80.49%",
          "x": "recall",
          "y": "0"
         },
         {
          "showarrow": false,
          "text": "83.81%",
          "x": "f1-score",
          "y": "0"
         },
         {
          "showarrow": false,
          "text": "92.00%",
          "x": "precision",
          "y": "1"
         },
         {
          "showarrow": false,
          "text": "82.14%",
          "x": "recall",
          "y": "1"
         },
         {
          "showarrow": false,
          "text": "86.79%",
          "x": "f1-score",
          "y": "1"
         },
         {
          "showarrow": false,
          "text": "92.20%",
          "x": "precision",
          "y": "2"
         },
         {
          "showarrow": false,
          "text": "99.74%",
          "x": "recall",
          "y": "2"
         },
         {
          "showarrow": false,
          "text": "95.82%",
          "x": "f1-score",
          "y": "2"
         },
         {
          "showarrow": false,
          "text": "90.48%",
          "x": "precision",
          "y": "3"
         },
         {
          "showarrow": false,
          "text": "84.44%",
          "x": "recall",
          "y": "3"
         },
         {
          "showarrow": false,
          "text": "87.36%",
          "x": "f1-score",
          "y": "3"
         },
         {
          "showarrow": false,
          "text": "62.38%",
          "x": "precision",
          "y": "4"
         },
         {
          "showarrow": false,
          "text": "75.00%",
          "x": "recall",
          "y": "4"
         },
         {
          "showarrow": false,
          "text": "68.11%",
          "x": "f1-score",
          "y": "4"
         },
         {
          "showarrow": false,
          "text": "85.23%",
          "x": "precision",
          "y": "5"
         },
         {
          "showarrow": false,
          "text": "75.76%",
          "x": "recall",
          "y": "5"
         },
         {
          "showarrow": false,
          "text": "80.21%",
          "x": "f1-score",
          "y": "5"
         },
         {
          "showarrow": false,
          "text": "78.46%",
          "x": "precision",
          "y": "6"
         },
         {
          "showarrow": false,
          "text": "79.69%",
          "x": "recall",
          "y": "6"
         },
         {
          "showarrow": false,
          "text": "79.07%",
          "x": "f1-score",
          "y": "6"
         },
         {
          "showarrow": false,
          "text": "80.56%",
          "x": "precision",
          "y": "7"
         },
         {
          "showarrow": false,
          "text": "69.05%",
          "x": "recall",
          "y": "7"
         },
         {
          "showarrow": false,
          "text": "74.36%",
          "x": "f1-score",
          "y": "7"
         },
         {
          "showarrow": false,
          "text": "97.62%",
          "x": "precision",
          "y": "8"
         },
         {
          "showarrow": false,
          "text": "91.11%",
          "x": "recall",
          "y": "8"
         },
         {
          "showarrow": false,
          "text": "94.25%",
          "x": "f1-score",
          "y": "8"
         },
         {
          "showarrow": false,
          "text": "100.00%",
          "x": "precision",
          "y": "9"
         },
         {
          "showarrow": false,
          "text": "98.18%",
          "x": "recall",
          "y": "9"
         },
         {
          "showarrow": false,
          "text": "99.08%",
          "x": "f1-score",
          "y": "9"
         },
         {
          "showarrow": false,
          "text": "92.68%",
          "x": "precision",
          "y": "10"
         },
         {
          "showarrow": false,
          "text": "97.87%",
          "x": "recall",
          "y": "10"
         },
         {
          "showarrow": false,
          "text": "95.20%",
          "x": "f1-score",
          "y": "10"
         },
         {
          "showarrow": false,
          "text": "89.10%",
          "x": "precision",
          "y": "11"
         },
         {
          "showarrow": false,
          "text": "83.23%",
          "x": "recall",
          "y": "11"
         },
         {
          "showarrow": false,
          "text": "86.07%",
          "x": "f1-score",
          "y": "11"
         }
        ],
        "height": 800,
        "template": {
         "data": {
          "bar": [
           {
            "error_x": {
             "color": "#2a3f5f"
            },
            "error_y": {
             "color": "#2a3f5f"
            },
            "marker": {
             "line": {
              "color": "#E5ECF6",
              "width": 0.5
             },
             "pattern": {
              "fillmode": "overlay",
              "size": 10,
              "solidity": 0.2
             }
            },
            "type": "bar"
           }
          ],
          "barpolar": [
           {
            "marker": {
             "line": {
              "color": "#E5ECF6",
              "width": 0.5
             },
             "pattern": {
              "fillmode": "overlay",
              "size": 10,
              "solidity": 0.2
             }
            },
            "type": "barpolar"
           }
          ],
          "carpet": [
           {
            "aaxis": {
             "endlinecolor": "#2a3f5f",
             "gridcolor": "white",
             "linecolor": "white",
             "minorgridcolor": "white",
             "startlinecolor": "#2a3f5f"
            },
            "baxis": {
             "endlinecolor": "#2a3f5f",
             "gridcolor": "white",
             "linecolor": "white",
             "minorgridcolor": "white",
             "startlinecolor": "#2a3f5f"
            },
            "type": "carpet"
           }
          ],
          "choropleth": [
           {
            "colorbar": {
             "outlinewidth": 0,
             "ticks": ""
            },
            "type": "choropleth"
           }
          ],
          "contour": [
           {
            "colorbar": {
             "outlinewidth": 0,
             "ticks": ""
            },
            "colorscale": [
             [
              0,
              "#0d0887"
             ],
             [
              0.1111111111111111,
              "#46039f"
             ],
             [
              0.2222222222222222,
              "#7201a8"
             ],
             [
              0.3333333333333333,
              "#9c179e"
             ],
             [
              0.4444444444444444,
              "#bd3786"
             ],
             [
              0.5555555555555556,
              "#d8576b"
             ],
             [
              0.6666666666666666,
              "#ed7953"
             ],
             [
              0.7777777777777778,
              "#fb9f3a"
             ],
             [
              0.8888888888888888,
              "#fdca26"
             ],
             [
              1,
              "#f0f921"
             ]
            ],
            "type": "contour"
           }
          ],
          "contourcarpet": [
           {
            "colorbar": {
             "outlinewidth": 0,
             "ticks": ""
            },
            "type": "contourcarpet"
           }
          ],
          "heatmap": [
           {
            "colorbar": {
             "outlinewidth": 0,
             "ticks": ""
            },
            "colorscale": [
             [
              0,
              "#0d0887"
             ],
             [
              0.1111111111111111,
              "#46039f"
             ],
             [
              0.2222222222222222,
              "#7201a8"
             ],
             [
              0.3333333333333333,
              "#9c179e"
             ],
             [
              0.4444444444444444,
              "#bd3786"
             ],
             [
              0.5555555555555556,
              "#d8576b"
             ],
             [
              0.6666666666666666,
              "#ed7953"
             ],
             [
              0.7777777777777778,
              "#fb9f3a"
             ],
             [
              0.8888888888888888,
              "#fdca26"
             ],
             [
              1,
              "#f0f921"
             ]
            ],
            "type": "heatmap"
           }
          ],
          "heatmapgl": [
           {
            "colorbar": {
             "outlinewidth": 0,
             "ticks": ""
            },
            "colorscale": [
             [
              0,
              "#0d0887"
             ],
             [
              0.1111111111111111,
              "#46039f"
             ],
             [
              0.2222222222222222,
              "#7201a8"
             ],
             [
              0.3333333333333333,
              "#9c179e"
             ],
             [
              0.4444444444444444,
              "#bd3786"
             ],
             [
              0.5555555555555556,
              "#d8576b"
             ],
             [
              0.6666666666666666,
              "#ed7953"
             ],
             [
              0.7777777777777778,
              "#fb9f3a"
             ],
             [
              0.8888888888888888,
              "#fdca26"
             ],
             [
              1,
              "#f0f921"
             ]
            ],
            "type": "heatmapgl"
           }
          ],
          "histogram": [
           {
            "marker": {
             "pattern": {
              "fillmode": "overlay",
              "size": 10,
              "solidity": 0.2
             }
            },
            "type": "histogram"
           }
          ],
          "histogram2d": [
           {
            "colorbar": {
             "outlinewidth": 0,
             "ticks": ""
            },
            "colorscale": [
             [
              0,
              "#0d0887"
             ],
             [
              0.1111111111111111,
              "#46039f"
             ],
             [
              0.2222222222222222,
              "#7201a8"
             ],
             [
              0.3333333333333333,
              "#9c179e"
             ],
             [
              0.4444444444444444,
              "#bd3786"
             ],
             [
              0.5555555555555556,
              "#d8576b"
             ],
             [
              0.6666666666666666,
              "#ed7953"
             ],
             [
              0.7777777777777778,
              "#fb9f3a"
             ],
             [
              0.8888888888888888,
              "#fdca26"
             ],
             [
              1,
              "#f0f921"
             ]
            ],
            "type": "histogram2d"
           }
          ],
          "histogram2dcontour": [
           {
            "colorbar": {
             "outlinewidth": 0,
             "ticks": ""
            },
            "colorscale": [
             [
              0,
              "#0d0887"
             ],
             [
              0.1111111111111111,
              "#46039f"
             ],
             [
              0.2222222222222222,
              "#7201a8"
             ],
             [
              0.3333333333333333,
              "#9c179e"
             ],
             [
              0.4444444444444444,
              "#bd3786"
             ],
             [
              0.5555555555555556,
              "#d8576b"
             ],
             [
              0.6666666666666666,
              "#ed7953"
             ],
             [
              0.7777777777777778,
              "#fb9f3a"
             ],
             [
              0.8888888888888888,
              "#fdca26"
             ],
             [
              1,
              "#f0f921"
             ]
            ],
            "type": "histogram2dcontour"
           }
          ],
          "mesh3d": [
           {
            "colorbar": {
             "outlinewidth": 0,
             "ticks": ""
            },
            "type": "mesh3d"
           }
          ],
          "parcoords": [
           {
            "line": {
             "colorbar": {
              "outlinewidth": 0,
              "ticks": ""
             }
            },
            "type": "parcoords"
           }
          ],
          "pie": [
           {
            "automargin": true,
            "type": "pie"
           }
          ],
          "scatter": [
           {
            "fillpattern": {
             "fillmode": "overlay",
             "size": 10,
             "solidity": 0.2
            },
            "type": "scatter"
           }
          ],
          "scatter3d": [
           {
            "line": {
             "colorbar": {
              "outlinewidth": 0,
              "ticks": ""
             }
            },
            "marker": {
             "colorbar": {
              "outlinewidth": 0,
              "ticks": ""
             }
            },
            "type": "scatter3d"
           }
          ],
          "scattercarpet": [
           {
            "marker": {
             "colorbar": {
              "outlinewidth": 0,
              "ticks": ""
             }
            },
            "type": "scattercarpet"
           }
          ],
          "scattergeo": [
           {
            "marker": {
             "colorbar": {
              "outlinewidth": 0,
              "ticks": ""
             }
            },
            "type": "scattergeo"
           }
          ],
          "scattergl": [
           {
            "marker": {
             "colorbar": {
              "outlinewidth": 0,
              "ticks": ""
             }
            },
            "type": "scattergl"
           }
          ],
          "scattermapbox": [
           {
            "marker": {
             "colorbar": {
              "outlinewidth": 0,
              "ticks": ""
             }
            },
            "type": "scattermapbox"
           }
          ],
          "scatterpolar": [
           {
            "marker": {
             "colorbar": {
              "outlinewidth": 0,
              "ticks": ""
             }
            },
            "type": "scatterpolar"
           }
          ],
          "scatterpolargl": [
           {
            "marker": {
             "colorbar": {
              "outlinewidth": 0,
              "ticks": ""
             }
            },
            "type": "scatterpolargl"
           }
          ],
          "scatterternary": [
           {
            "marker": {
             "colorbar": {
              "outlinewidth": 0,
              "ticks": ""
             }
            },
            "type": "scatterternary"
           }
          ],
          "surface": [
           {
            "colorbar": {
             "outlinewidth": 0,
             "ticks": ""
            },
            "colorscale": [
             [
              0,
              "#0d0887"
             ],
             [
              0.1111111111111111,
              "#46039f"
             ],
             [
              0.2222222222222222,
              "#7201a8"
             ],
             [
              0.3333333333333333,
              "#9c179e"
             ],
             [
              0.4444444444444444,
              "#bd3786"
             ],
             [
              0.5555555555555556,
              "#d8576b"
             ],
             [
              0.6666666666666666,
              "#ed7953"
             ],
             [
              0.7777777777777778,
              "#fb9f3a"
             ],
             [
              0.8888888888888888,
              "#fdca26"
             ],
             [
              1,
              "#f0f921"
             ]
            ],
            "type": "surface"
           }
          ],
          "table": [
           {
            "cells": {
             "fill": {
              "color": "#EBF0F8"
             },
             "line": {
              "color": "white"
             }
            },
            "header": {
             "fill": {
              "color": "#C8D4E3"
             },
             "line": {
              "color": "white"
             }
            },
            "type": "table"
           }
          ]
         },
         "layout": {
          "annotationdefaults": {
           "arrowcolor": "#2a3f5f",
           "arrowhead": 0,
           "arrowwidth": 1
          },
          "autotypenumbers": "strict",
          "coloraxis": {
           "colorbar": {
            "outlinewidth": 0,
            "ticks": ""
           }
          },
          "colorscale": {
           "diverging": [
            [
             0,
             "#8e0152"
            ],
            [
             0.1,
             "#c51b7d"
            ],
            [
             0.2,
             "#de77ae"
            ],
            [
             0.3,
             "#f1b6da"
            ],
            [
             0.4,
             "#fde0ef"
            ],
            [
             0.5,
             "#f7f7f7"
            ],
            [
             0.6,
             "#e6f5d0"
            ],
            [
             0.7,
             "#b8e186"
            ],
            [
             0.8,
             "#7fbc41"
            ],
            [
             0.9,
             "#4d9221"
            ],
            [
             1,
             "#276419"
            ]
           ],
           "sequential": [
            [
             0,
             "#0d0887"
            ],
            [
             0.1111111111111111,
             "#46039f"
            ],
            [
             0.2222222222222222,
             "#7201a8"
            ],
            [
             0.3333333333333333,
             "#9c179e"
            ],
            [
             0.4444444444444444,
             "#bd3786"
            ],
            [
             0.5555555555555556,
             "#d8576b"
            ],
            [
             0.6666666666666666,
             "#ed7953"
            ],
            [
             0.7777777777777778,
             "#fb9f3a"
            ],
            [
             0.8888888888888888,
             "#fdca26"
            ],
            [
             1,
             "#f0f921"
            ]
           ],
           "sequentialminus": [
            [
             0,
             "#0d0887"
            ],
            [
             0.1111111111111111,
             "#46039f"
            ],
            [
             0.2222222222222222,
             "#7201a8"
            ],
            [
             0.3333333333333333,
             "#9c179e"
            ],
            [
             0.4444444444444444,
             "#bd3786"
            ],
            [
             0.5555555555555556,
             "#d8576b"
            ],
            [
             0.6666666666666666,
             "#ed7953"
            ],
            [
             0.7777777777777778,
             "#fb9f3a"
            ],
            [
             0.8888888888888888,
             "#fdca26"
            ],
            [
             1,
             "#f0f921"
            ]
           ]
          },
          "colorway": [
           "#636efa",
           "#EF553B",
           "#00cc96",
           "#ab63fa",
           "#FFA15A",
           "#19d3f3",
           "#FF6692",
           "#B6E880",
           "#FF97FF",
           "#FECB52"
          ],
          "font": {
           "color": "#2a3f5f"
          },
          "geo": {
           "bgcolor": "white",
           "lakecolor": "white",
           "landcolor": "#E5ECF6",
           "showlakes": true,
           "showland": true,
           "subunitcolor": "white"
          },
          "hoverlabel": {
           "align": "left"
          },
          "hovermode": "closest",
          "mapbox": {
           "style": "light"
          },
          "paper_bgcolor": "white",
          "plot_bgcolor": "#E5ECF6",
          "polar": {
           "angularaxis": {
            "gridcolor": "white",
            "linecolor": "white",
            "ticks": ""
           },
           "bgcolor": "#E5ECF6",
           "radialaxis": {
            "gridcolor": "white",
            "linecolor": "white",
            "ticks": ""
           }
          },
          "scene": {
           "xaxis": {
            "backgroundcolor": "#E5ECF6",
            "gridcolor": "white",
            "gridwidth": 2,
            "linecolor": "white",
            "showbackground": true,
            "ticks": "",
            "zerolinecolor": "white"
           },
           "yaxis": {
            "backgroundcolor": "#E5ECF6",
            "gridcolor": "white",
            "gridwidth": 2,
            "linecolor": "white",
            "showbackground": true,
            "ticks": "",
            "zerolinecolor": "white"
           },
           "zaxis": {
            "backgroundcolor": "#E5ECF6",
            "gridcolor": "white",
            "gridwidth": 2,
            "linecolor": "white",
            "showbackground": true,
            "ticks": "",
            "zerolinecolor": "white"
           }
          },
          "shapedefaults": {
           "line": {
            "color": "#2a3f5f"
           }
          },
          "ternary": {
           "aaxis": {
            "gridcolor": "white",
            "linecolor": "white",
            "ticks": ""
           },
           "baxis": {
            "gridcolor": "white",
            "linecolor": "white",
            "ticks": ""
           },
           "bgcolor": "#E5ECF6",
           "caxis": {
            "gridcolor": "white",
            "linecolor": "white",
            "ticks": ""
           }
          },
          "title": {
           "x": 0.05
          },
          "xaxis": {
           "automargin": true,
           "gridcolor": "white",
           "linecolor": "white",
           "ticks": "",
           "title": {
            "standoff": 15
           },
           "zerolinecolor": "white",
           "zerolinewidth": 2
          },
          "yaxis": {
           "automargin": true,
           "gridcolor": "white",
           "linecolor": "white",
           "ticks": "",
           "title": {
            "standoff": 15
           },
           "zerolinecolor": "white",
           "zerolinewidth": 2
          }
         }
        },
        "title": {
         "text": "Model Testing"
        },
        "width": 600,
        "xaxis": {
         "title": {
          "text": "Metric"
         }
        },
        "yaxis": {
         "title": {
          "text": "APT Group"
         }
        }
       }
      }
     },
     "metadata": {},
     "output_type": "display_data"
    }
   ],
   "source": [
    "heatmap_data = df_report[df_report.columns[:-1]].copy()\n",
    "heatmap_data = heatmap_data * 100\n",
    "\n",
    "# create a heatmap\n",
    "fig = go.Figure(data=go.Heatmap(\n",
    "    z=heatmap_data.values,\n",
    "    x=heatmap_data.columns,\n",
    "    y=heatmap_data.index,\n",
    "    zmin=30, zmax=100,\n",
    "    colorscale='Viridis'))\n",
    "\n",
    "fig.update_layout(xaxis_title='Metric', yaxis_title='APT Group', height=800, width=600, title=\"Model Training\")\n",
    "\n",
    "# show text inside the heatmap\n",
    "for i in range(len(heatmap_data.index)):\n",
    "    for j in range(len(heatmap_data.columns)):\n",
    "        if not np.isnan(heatmap_data.values[i, j]):\n",
    "            value = \"{:.2f}%\".format(heatmap_data.values[i, j])\n",
    "            fig.add_annotation(x=heatmap_data.columns[j], y=heatmap_data.index[i], text=value, showarrow=False)\n",
    "\n",
    "\n",
    "fig.data[0].y = [reversed_apt_group_codes[int(i)] for i in heatmap_data.index]\n",
    "\n",
    "fig.show()"
   ]
  },
  {
   "cell_type": "code",
   "execution_count": 131,
   "metadata": {},
   "outputs": [
    {
     "name": "stdout",
     "output_type": "stream",
     "text": [
      "Highest Accuracy:  89.26991150442478\n",
      "Last Accuracy: 88.00%\n",
      "\n",
      "\n",
      " --- Debugging wrong predictions --- \n"
     ]
    },
    {
     "data": {
      "text/plain": [
       "True Labels\n",
       "7     37\n",
       "11    32\n",
       "0     30\n",
       "4     28\n",
       "5     23\n",
       "1     15\n",
       "6     13\n",
       "3     10\n",
       "10     9\n",
       "2      7\n",
       "9      7\n",
       "8      6\n",
       "Name: count, dtype: int64"
      ]
     },
     "metadata": {},
     "output_type": "display_data"
    },
    {
     "name": "stdout",
     "output_type": "stream",
     "text": [
      "\n",
      "\n",
      " --- Debugging correct predictions --- \n"
     ]
    },
    {
     "data": {
      "text/plain": [
       "True Labels\n",
       "2     384\n",
       "10    366\n",
       "9     158\n",
       "11    135\n",
       "0     134\n",
       "7      89\n",
       "5      76\n",
       "1      69\n",
       "4      56\n",
       "6      50\n",
       "8      39\n",
       "3      35\n",
       "Name: count, dtype: int64"
      ]
     },
     "metadata": {},
     "output_type": "display_data"
    },
    {
     "name": "stdout",
     "output_type": "stream",
     "text": [
      "\n",
      "\n",
      " --- Debugging missing apt groups --- \n"
     ]
    },
    {
     "data": {
      "text/html": [
       "<div>\n",
       "<style scoped>\n",
       "    .dataframe tbody tr th:only-of-type {\n",
       "        vertical-align: middle;\n",
       "    }\n",
       "\n",
       "    .dataframe tbody tr th {\n",
       "        vertical-align: top;\n",
       "    }\n",
       "\n",
       "    .dataframe thead th {\n",
       "        text-align: right;\n",
       "    }\n",
       "</style>\n",
       "<table border=\"1\" class=\"dataframe\">\n",
       "  <thead>\n",
       "    <tr style=\"text-align: right;\">\n",
       "      <th></th>\n",
       "      <th>True Labels</th>\n",
       "      <th>count</th>\n",
       "      <th>apt_group</th>\n",
       "    </tr>\n",
       "  </thead>\n",
       "  <tbody>\n",
       "  </tbody>\n",
       "</table>\n",
       "</div>"
      ],
      "text/plain": [
       "Empty DataFrame\n",
       "Columns: [True Labels, count, apt_group]\n",
       "Index: []"
      ]
     },
     "metadata": {},
     "output_type": "display_data"
    }
   ],
   "source": [
    "# Create a DataFrame from the last set of predictions and true labels for debugging\n",
    "debug_model = pd.DataFrame({'Predictions': debug_predictions[-1], 'True Labels': debug_true_labels[-1]})\n",
    "debug_model['match'] = debug_model.Predictions == debug_model['True Labels']\n",
    "\n",
    "# Print the highest and the most recent accuracy from the evaluations\n",
    "print(\"Highest Accuracy: \", (max(accuracy)))\n",
    "print(f\"Last Accuracy: {accuracy[-1]:.2f}%\")\n",
    "\n",
    "# Analyze and display count of incorrect predictions\n",
    "print(\"\\n\\n --- Debugging wrong predictions --- \")\n",
    "df_wrong_predictions = debug_model[debug_model['match'] == False]['True Labels'].value_counts()\n",
    "display(df_wrong_predictions)\n",
    "\n",
    "# Analyze and display count of correct predictions\n",
    "print(\"\\n\\n --- Debugging correct predictions --- \")\n",
    "df_correct_predictions = debug_model[debug_model['match'] == True]['True Labels'].value_counts()\n",
    "display(df_correct_predictions)\n",
    "\n",
    "# Identify and display frequently missing APT groups in predictions\n",
    "print(\"\\n\\n --- Debugging missing apt groups --- \")\n",
    "df_missing_apt_groups = df_wrong_predictions[df_wrong_predictions.values > 40].reset_index()\n",
    "df_missing_apt_groups['apt_group'] = df_missing_apt_groups['True Labels'].map(reversed_apt_group_codes)\n",
    "display(df_missing_apt_groups)"
   ]
  },
  {
   "cell_type": "code",
   "execution_count": 132,
   "metadata": {},
   "outputs": [
    {
     "data": {
      "text/html": [
       "<div>\n",
       "<style scoped>\n",
       "    .dataframe tbody tr th:only-of-type {\n",
       "        vertical-align: middle;\n",
       "    }\n",
       "\n",
       "    .dataframe tbody tr th {\n",
       "        vertical-align: top;\n",
       "    }\n",
       "\n",
       "    .dataframe thead th {\n",
       "        text-align: right;\n",
       "    }\n",
       "</style>\n",
       "<table border=\"1\" class=\"dataframe\">\n",
       "  <thead>\n",
       "    <tr style=\"text-align: right;\">\n",
       "      <th></th>\n",
       "      <th>match</th>\n",
       "    </tr>\n",
       "    <tr>\n",
       "      <th>file_name</th>\n",
       "      <th></th>\n",
       "    </tr>\n",
       "  </thead>\n",
       "  <tbody>\n",
       "    <tr>\n",
       "      <th>7b345dcc0dc2a441a00d56feb7a3d0058eb11eaa82f71f12309289f651c30924.json</th>\n",
       "      <td>40</td>\n",
       "    </tr>\n",
       "    <tr>\n",
       "      <th>f3c57637808e887d0c6ae4b4e1b63ab201971d6f12eb1858b1550fc8291cdb86.json</th>\n",
       "      <td>40</td>\n",
       "    </tr>\n",
       "    <tr>\n",
       "      <th>1e3732e455592c5cd6e787cbba24217856f3156c65b9cba444b258e4414039a7.json</th>\n",
       "      <td>40</td>\n",
       "    </tr>\n",
       "    <tr>\n",
       "      <th>1609f20fadda4f1824cf21920778a71b8f3874ab9655d080aa10cf9d17cfd372.json</th>\n",
       "      <td>40</td>\n",
       "    </tr>\n",
       "    <tr>\n",
       "      <th>fff5b385418e350dd366d1fd6d34801059304e89896a94ebb03973c48fb6066c.json</th>\n",
       "      <td>39</td>\n",
       "    </tr>\n",
       "    <tr>\n",
       "      <th>...</th>\n",
       "      <td>...</td>\n",
       "    </tr>\n",
       "    <tr>\n",
       "      <th>1a6a112fa17b49e57ce20abf787054d86f7ec0b52c7728c869db2ff287708e74.json</th>\n",
       "      <td>0</td>\n",
       "    </tr>\n",
       "    <tr>\n",
       "      <th>c9b2a0d55146b68ac4480a5d1f3fed19aa2ca271d184b0d5802ba39793d9f299.json</th>\n",
       "      <td>0</td>\n",
       "    </tr>\n",
       "    <tr>\n",
       "      <th>1039f5492d975d1f215255397ebc2419fb136623682ee004e39970fe9b84dce3.json</th>\n",
       "      <td>0</td>\n",
       "    </tr>\n",
       "    <tr>\n",
       "      <th>e7cfe7169b058b460fd172b59e809779a98ca0f17e4202fd1f0df6795626fac4.json</th>\n",
       "      <td>0</td>\n",
       "    </tr>\n",
       "    <tr>\n",
       "      <th>4b5d1a0a25b932ed9410f60751359f527b55619d036f727d6e1caacaba23640b.json</th>\n",
       "      <td>0</td>\n",
       "    </tr>\n",
       "  </tbody>\n",
       "</table>\n",
       "<p>164 rows × 1 columns</p>\n",
       "</div>"
      ],
      "text/plain": [
       "                                                    match\n",
       "file_name                                                \n",
       "7b345dcc0dc2a441a00d56feb7a3d0058eb11eaa82f71f1...     40\n",
       "f3c57637808e887d0c6ae4b4e1b63ab201971d6f12eb185...     40\n",
       "1e3732e455592c5cd6e787cbba24217856f3156c65b9cba...     40\n",
       "1609f20fadda4f1824cf21920778a71b8f3874ab9655d08...     40\n",
       "fff5b385418e350dd366d1fd6d34801059304e89896a94e...     39\n",
       "...                                                   ...\n",
       "1a6a112fa17b49e57ce20abf787054d86f7ec0b52c7728c...      0\n",
       "c9b2a0d55146b68ac4480a5d1f3fed19aa2ca271d184b0d...      0\n",
       "1039f5492d975d1f215255397ebc2419fb136623682ee00...      0\n",
       "e7cfe7169b058b460fd172b59e809779a98ca0f17e4202f...      0\n",
       "4b5d1a0a25b932ed9410f60751359f527b55619d036f727...      0\n",
       "\n",
       "[164 rows x 1 columns]"
      ]
     },
     "execution_count": 132,
     "metadata": {},
     "output_type": "execute_result"
    }
   ],
   "source": [
    "# Initialize a DataFrame to accumulate prediction matches across debug sessions\n",
    "hard_to_predict = pd.DataFrame()\n",
    "\n",
    "# Iterate over each debug session to compute cumulative correct predictions\n",
    "for i in range(len(debug_predictions)):\n",
    "    debug_model = pd.DataFrame({'Predictions': debug_predictions[i], 'True Labels': debug_true_labels[i]})\n",
    "    debug_model['match'] = debug_model.Predictions == debug_model['True Labels']\n",
    "    \n",
    "    # Initialize or accumulate match counts\n",
    "    if 'match' not in hard_to_predict.columns:\n",
    "        hard_to_predict['match'] = debug_model['match'].astype(int)\n",
    "    else:\n",
    "        hard_to_predict['match'] += debug_model['match'].astype(int)\n",
    "\n",
    "# Set index to align with the original test labels and attach corresponding file names\n",
    "hard_to_predict.index = y_test.index[:len(debug_predictions[-1])]\n",
    "hard_to_predict['file_name'] = df_sampled_x_with_origin.loc[hard_to_predict.index, 'file_name']\n",
    "\n",
    "# Filter hard_to_predict DataFrame for a specific APT group\n",
    "filter_for_apt_group_code = 0\n",
    "df_filtered_hard_to_predict = hard_to_predict[hard_to_predict.index.isin(y_test[y_test == filter_for_apt_group_code].index)]\n",
    "\n",
    "# Group by file name and sum the matches to identify files consistently predicted correctly\n",
    "df_filtered_hard_to_predict.groupby('file_name').sum().sort_values('match', ascending=False)\n"
   ]
  },
  {
   "cell_type": "code",
   "execution_count": 133,
   "metadata": {},
   "outputs": [
    {
     "data": {
      "text/html": [
       "<div>\n",
       "<style scoped>\n",
       "    .dataframe tbody tr th:only-of-type {\n",
       "        vertical-align: middle;\n",
       "    }\n",
       "\n",
       "    .dataframe tbody tr th {\n",
       "        vertical-align: top;\n",
       "    }\n",
       "\n",
       "    .dataframe thead th {\n",
       "        text-align: right;\n",
       "    }\n",
       "</style>\n",
       "<table border=\"1\" class=\"dataframe\">\n",
       "  <thead>\n",
       "    <tr style=\"text-align: right;\">\n",
       "      <th></th>\n",
       "      <th>match</th>\n",
       "      <th>file</th>\n",
       "      <th>apt</th>\n",
       "      <th>cuckoo_id</th>\n",
       "    </tr>\n",
       "  </thead>\n",
       "  <tbody>\n",
       "    <tr>\n",
       "      <th>0</th>\n",
       "      <td>40</td>\n",
       "      <td>1e3732e455592c5cd6e787cbba24217856f3156c65b9cb...</td>\n",
       "      <td>APT 1</td>\n",
       "      <td>5121061.0</td>\n",
       "    </tr>\n",
       "    <tr>\n",
       "      <th>1</th>\n",
       "      <td>38</td>\n",
       "      <td>4b1a437fbe161b0f1dd4d9eca647b4b82f89e810f6eede...</td>\n",
       "      <td>APT 1</td>\n",
       "      <td>5121106.0</td>\n",
       "    </tr>\n",
       "    <tr>\n",
       "      <th>2</th>\n",
       "      <td>36</td>\n",
       "      <td>f27593fd1d391f9925230a1abc12b8f3791fc43ea980ec...</td>\n",
       "      <td>APT 1</td>\n",
       "      <td>5121822.0</td>\n",
       "    </tr>\n",
       "    <tr>\n",
       "      <th>3</th>\n",
       "      <td>38</td>\n",
       "      <td>1d0d00c76353c8a1d2e33af602238244f0e0417193d7f6...</td>\n",
       "      <td>APT 1</td>\n",
       "      <td>5121052.0</td>\n",
       "    </tr>\n",
       "    <tr>\n",
       "      <th>4</th>\n",
       "      <td>37</td>\n",
       "      <td>262786523f13a3c6e9f58015dd9bcdeeb927a4622718ca...</td>\n",
       "      <td>APT 1</td>\n",
       "      <td>5121506.0</td>\n",
       "    </tr>\n",
       "    <tr>\n",
       "      <th>...</th>\n",
       "      <td>...</td>\n",
       "      <td>...</td>\n",
       "      <td>...</td>\n",
       "      <td>...</td>\n",
       "    </tr>\n",
       "    <tr>\n",
       "      <th>126</th>\n",
       "      <td>25</td>\n",
       "      <td>33e6c3f5a66512c136e53ede2095fc240973fa58a9d8a7...</td>\n",
       "      <td>APT 1</td>\n",
       "      <td>5121254.0</td>\n",
       "    </tr>\n",
       "    <tr>\n",
       "      <th>127</th>\n",
       "      <td>38</td>\n",
       "      <td>b8eac20bec1c24cfd556f543764c85fb614123b34c98f0...</td>\n",
       "      <td>APT 1</td>\n",
       "      <td>5121580.0</td>\n",
       "    </tr>\n",
       "    <tr>\n",
       "      <th>128</th>\n",
       "      <td>37</td>\n",
       "      <td>406e73948c78b1e692646ea0edbadbb366bede04036114...</td>\n",
       "      <td>APT 1</td>\n",
       "      <td>5121358.0</td>\n",
       "    </tr>\n",
       "    <tr>\n",
       "      <th>129</th>\n",
       "      <td>38</td>\n",
       "      <td>14a22f11c0121492cfabc529bcffecda5d076e79e459a8...</td>\n",
       "      <td>APT 1</td>\n",
       "      <td>5121232.0</td>\n",
       "    </tr>\n",
       "    <tr>\n",
       "      <th>130</th>\n",
       "      <td>38</td>\n",
       "      <td>1bc9ab02d06ee26a82b5bd910cf63c07b52dc83c4ab984...</td>\n",
       "      <td>APT 1</td>\n",
       "      <td>5121046.0</td>\n",
       "    </tr>\n",
       "  </tbody>\n",
       "</table>\n",
       "<p>131 rows × 4 columns</p>\n",
       "</div>"
      ],
      "text/plain": [
       "     match                                               file    apt  \\\n",
       "0       40  1e3732e455592c5cd6e787cbba24217856f3156c65b9cb...  APT 1   \n",
       "1       38  4b1a437fbe161b0f1dd4d9eca647b4b82f89e810f6eede...  APT 1   \n",
       "2       36  f27593fd1d391f9925230a1abc12b8f3791fc43ea980ec...  APT 1   \n",
       "3       38  1d0d00c76353c8a1d2e33af602238244f0e0417193d7f6...  APT 1   \n",
       "4       37  262786523f13a3c6e9f58015dd9bcdeeb927a4622718ca...  APT 1   \n",
       "..     ...                                                ...    ...   \n",
       "126     25  33e6c3f5a66512c136e53ede2095fc240973fa58a9d8a7...  APT 1   \n",
       "127     38  b8eac20bec1c24cfd556f543764c85fb614123b34c98f0...  APT 1   \n",
       "128     37  406e73948c78b1e692646ea0edbadbb366bede04036114...  APT 1   \n",
       "129     38  14a22f11c0121492cfabc529bcffecda5d076e79e459a8...  APT 1   \n",
       "130     38  1bc9ab02d06ee26a82b5bd910cf63c07b52dc83c4ab984...  APT 1   \n",
       "\n",
       "     cuckoo_id  \n",
       "0    5121061.0  \n",
       "1    5121106.0  \n",
       "2    5121822.0  \n",
       "3    5121052.0  \n",
       "4    5121506.0  \n",
       "..         ...  \n",
       "126  5121254.0  \n",
       "127  5121580.0  \n",
       "128  5121358.0  \n",
       "129  5121232.0  \n",
       "130  5121046.0  \n",
       "\n",
       "[131 rows x 4 columns]"
      ]
     },
     "execution_count": 133,
     "metadata": {},
     "output_type": "execute_result"
    }
   ],
   "source": [
    "# Filter and rename columns for debugging\n",
    "df_debugging = df_filtered_hard_to_predict[df_filtered_hard_to_predict['match'] > 20].rename(columns={'file_name': 'file'})\n",
    "df_debugging['file'] = df_debugging['file'].str.replace('.json', '.zip')\n",
    "\n",
    "# Merge debugging DataFrame with malware dataset for additional data\n",
    "df_debugging = pd.merge(df_debugging, pd.read_csv('malware.csv'), on='file', how='left')\n",
    "\n",
    "# Clean up and create a new directory for debugging reports\n",
    "os.system('rm -rf debug')\n",
    "os.system('mkdir debug')\n",
    "\n",
    "# Copy the first 10 cuckoo JSON reports for in-depth debugging\n",
    "for cuckoo_id in df_debugging.cuckoo_id.values[:10]:\n",
    "  os.system('cp \"{}\" \"{}\"'.format(os.path.join(base_dir, 'cuckoo', str(int(cuckoo_id)), 'reports', 'report.json'), os.path.join(base_dir, 'debug', f'{int(cuckoo_id)}.json')))\n",
    "\n",
    "# Display the debugging DataFrame\n",
    "df_debugging"
   ]
  },
  {
   "cell_type": "code",
   "execution_count": 134,
   "metadata": {},
   "outputs": [
    {
     "data": {
      "application/vnd.plotly.v1+json": {
       "config": {
        "plotlyServerURL": "https://plot.ly"
       },
       "data": [
        {
         "mode": "lines+markers",
         "name": "Accuracy",
         "type": "scatter",
         "x": [
          0,
          1,
          2,
          3,
          4,
          5,
          6,
          7,
          8,
          9,
          10,
          11,
          12,
          13,
          14,
          15,
          16,
          17,
          18,
          19,
          20,
          21,
          22,
          23,
          24,
          25,
          26,
          27,
          28,
          29,
          30,
          31,
          32,
          33,
          34,
          35,
          36,
          37,
          38,
          39
         ],
         "y": [
          19.303097345132745,
          36.61504424778761,
          53.26327433628318,
          69.13716814159292,
          72.95353982300885,
          76.71460176991151,
          79.64601769911505,
          80.97345132743364,
          81.96902654867256,
          82.41150442477876,
          83.1858407079646,
          83.4070796460177,
          84.0154867256637,
          84.23672566371681,
          84.34734513274337,
          85.06637168141593,
          84.62389380530973,
          85.45353982300885,
          85.67477876106194,
          85.45353982300885,
          85.89601769911505,
          87.16814159292035,
          86.61504424778761,
          86.67035398230088,
          87.72123893805309,
          87.66592920353983,
          87.11283185840708,
          86.11725663716814,
          88.10840707964603,
          87.16814159292035,
          87.44469026548673,
          87.66592920353983,
          87.16814159292035,
          88.38495575221239,
          88.55088495575221,
          87.99778761061947,
          88.60619469026548,
          89.26991150442478,
          88.10840707964603,
          87.99778761061947
         ]
        }
       ],
       "layout": {
        "annotations": [
         {
          "font": {
           "color": "black",
           "size": 6
          },
          "showarrow": false,
          "text": "19.30%",
          "x": 0,
          "y": 17.803097345132745
         },
         {
          "font": {
           "color": "black",
           "size": 6
          },
          "showarrow": false,
          "text": "36.62%",
          "x": 1,
          "y": 38.11504424778761
         },
         {
          "font": {
           "color": "black",
           "size": 6
          },
          "showarrow": false,
          "text": "53.26%",
          "x": 2,
          "y": 54.76327433628318
         },
         {
          "font": {
           "color": "black",
           "size": 6
          },
          "showarrow": false,
          "text": "69.14%",
          "x": 3,
          "y": 70.63716814159292
         },
         {
          "font": {
           "color": "black",
           "size": 6
          },
          "showarrow": false,
          "text": "72.95%",
          "x": 4,
          "y": 74.45353982300885
         },
         {
          "font": {
           "color": "black",
           "size": 6
          },
          "showarrow": false,
          "text": "76.71%",
          "x": 5,
          "y": 78.21460176991151
         },
         {
          "font": {
           "color": "black",
           "size": 6
          },
          "showarrow": false,
          "text": "79.65%",
          "x": 6,
          "y": 81.14601769911505
         },
         {
          "font": {
           "color": "black",
           "size": 6
          },
          "showarrow": false,
          "text": "80.97%",
          "x": 7,
          "y": 82.47345132743364
         },
         {
          "font": {
           "color": "black",
           "size": 6
          },
          "showarrow": false,
          "text": "81.97%",
          "x": 8,
          "y": 83.46902654867256
         },
         {
          "font": {
           "color": "black",
           "size": 6
          },
          "showarrow": false,
          "text": "82.41%",
          "x": 9,
          "y": 83.91150442477876
         },
         {
          "font": {
           "color": "black",
           "size": 6
          },
          "showarrow": false,
          "text": "83.19%",
          "x": 10,
          "y": 84.6858407079646
         },
         {
          "font": {
           "color": "black",
           "size": 6
          },
          "showarrow": false,
          "text": "83.41%",
          "x": 11,
          "y": 84.9070796460177
         },
         {
          "font": {
           "color": "black",
           "size": 6
          },
          "showarrow": false,
          "text": "84.02%",
          "x": 12,
          "y": 85.5154867256637
         },
         {
          "font": {
           "color": "black",
           "size": 6
          },
          "showarrow": false,
          "text": "84.24%",
          "x": 13,
          "y": 85.73672566371681
         },
         {
          "font": {
           "color": "black",
           "size": 6
          },
          "showarrow": false,
          "text": "84.35%",
          "x": 14,
          "y": 85.84734513274337
         },
         {
          "font": {
           "color": "black",
           "size": 6
          },
          "showarrow": false,
          "text": "85.07%",
          "x": 15,
          "y": 86.56637168141593
         },
         {
          "font": {
           "color": "black",
           "size": 6
          },
          "showarrow": false,
          "text": "84.62%",
          "x": 16,
          "y": 83.12389380530973
         },
         {
          "font": {
           "color": "black",
           "size": 6
          },
          "showarrow": false,
          "text": "85.45%",
          "x": 17,
          "y": 86.95353982300885
         },
         {
          "font": {
           "color": "black",
           "size": 6
          },
          "showarrow": false,
          "text": "85.67%",
          "x": 18,
          "y": 87.17477876106194
         },
         {
          "font": {
           "color": "black",
           "size": 6
          },
          "showarrow": false,
          "text": "85.45%",
          "x": 19,
          "y": 83.95353982300885
         },
         {
          "font": {
           "color": "black",
           "size": 6
          },
          "showarrow": false,
          "text": "85.90%",
          "x": 20,
          "y": 87.39601769911505
         },
         {
          "font": {
           "color": "black",
           "size": 6
          },
          "showarrow": false,
          "text": "87.17%",
          "x": 21,
          "y": 88.66814159292035
         },
         {
          "font": {
           "color": "black",
           "size": 6
          },
          "showarrow": false,
          "text": "86.62%",
          "x": 22,
          "y": 85.11504424778761
         },
         {
          "font": {
           "color": "black",
           "size": 6
          },
          "showarrow": false,
          "text": "86.67%",
          "x": 23,
          "y": 88.17035398230088
         },
         {
          "font": {
           "color": "black",
           "size": 6
          },
          "showarrow": false,
          "text": "87.72%",
          "x": 24,
          "y": 89.22123893805309
         },
         {
          "font": {
           "color": "black",
           "size": 6
          },
          "showarrow": false,
          "text": "87.67%",
          "x": 25,
          "y": 86.16592920353983
         },
         {
          "font": {
           "color": "black",
           "size": 6
          },
          "showarrow": false,
          "text": "87.11%",
          "x": 26,
          "y": 85.61283185840708
         },
         {
          "font": {
           "color": "black",
           "size": 6
          },
          "showarrow": false,
          "text": "86.12%",
          "x": 27,
          "y": 84.61725663716814
         },
         {
          "font": {
           "color": "black",
           "size": 6
          },
          "showarrow": false,
          "text": "88.11%",
          "x": 28,
          "y": 89.60840707964603
         },
         {
          "font": {
           "color": "black",
           "size": 6
          },
          "showarrow": false,
          "text": "87.17%",
          "x": 29,
          "y": 85.66814159292035
         },
         {
          "font": {
           "color": "black",
           "size": 6
          },
          "showarrow": false,
          "text": "87.44%",
          "x": 30,
          "y": 88.94469026548673
         },
         {
          "font": {
           "color": "black",
           "size": 6
          },
          "showarrow": false,
          "text": "87.67%",
          "x": 31,
          "y": 89.16592920353983
         },
         {
          "font": {
           "color": "black",
           "size": 6
          },
          "showarrow": false,
          "text": "87.17%",
          "x": 32,
          "y": 85.66814159292035
         },
         {
          "font": {
           "color": "black",
           "size": 6
          },
          "showarrow": false,
          "text": "88.38%",
          "x": 33,
          "y": 89.88495575221239
         },
         {
          "font": {
           "color": "black",
           "size": 6
          },
          "showarrow": false,
          "text": "88.55%",
          "x": 34,
          "y": 90.05088495575221
         },
         {
          "font": {
           "color": "black",
           "size": 6
          },
          "showarrow": false,
          "text": "88.00%",
          "x": 35,
          "y": 86.49778761061947
         },
         {
          "font": {
           "color": "black",
           "size": 6
          },
          "showarrow": false,
          "text": "88.61%",
          "x": 36,
          "y": 90.10619469026548
         },
         {
          "font": {
           "color": "black",
           "size": 6
          },
          "showarrow": false,
          "text": "89.27%",
          "x": 37,
          "y": 90.76991150442478
         },
         {
          "font": {
           "color": "black",
           "size": 6
          },
          "showarrow": false,
          "text": "88.11%",
          "x": 38,
          "y": 86.60840707964603
         },
         {
          "font": {
           "color": "black",
           "size": 6
          },
          "showarrow": false,
          "text": "88.00%",
          "x": 39,
          "y": 86.49778761061947
         }
        ],
        "template": {
         "data": {
          "bar": [
           {
            "error_x": {
             "color": "#2a3f5f"
            },
            "error_y": {
             "color": "#2a3f5f"
            },
            "marker": {
             "line": {
              "color": "#E5ECF6",
              "width": 0.5
             },
             "pattern": {
              "fillmode": "overlay",
              "size": 10,
              "solidity": 0.2
             }
            },
            "type": "bar"
           }
          ],
          "barpolar": [
           {
            "marker": {
             "line": {
              "color": "#E5ECF6",
              "width": 0.5
             },
             "pattern": {
              "fillmode": "overlay",
              "size": 10,
              "solidity": 0.2
             }
            },
            "type": "barpolar"
           }
          ],
          "carpet": [
           {
            "aaxis": {
             "endlinecolor": "#2a3f5f",
             "gridcolor": "white",
             "linecolor": "white",
             "minorgridcolor": "white",
             "startlinecolor": "#2a3f5f"
            },
            "baxis": {
             "endlinecolor": "#2a3f5f",
             "gridcolor": "white",
             "linecolor": "white",
             "minorgridcolor": "white",
             "startlinecolor": "#2a3f5f"
            },
            "type": "carpet"
           }
          ],
          "choropleth": [
           {
            "colorbar": {
             "outlinewidth": 0,
             "ticks": ""
            },
            "type": "choropleth"
           }
          ],
          "contour": [
           {
            "colorbar": {
             "outlinewidth": 0,
             "ticks": ""
            },
            "colorscale": [
             [
              0,
              "#0d0887"
             ],
             [
              0.1111111111111111,
              "#46039f"
             ],
             [
              0.2222222222222222,
              "#7201a8"
             ],
             [
              0.3333333333333333,
              "#9c179e"
             ],
             [
              0.4444444444444444,
              "#bd3786"
             ],
             [
              0.5555555555555556,
              "#d8576b"
             ],
             [
              0.6666666666666666,
              "#ed7953"
             ],
             [
              0.7777777777777778,
              "#fb9f3a"
             ],
             [
              0.8888888888888888,
              "#fdca26"
             ],
             [
              1,
              "#f0f921"
             ]
            ],
            "type": "contour"
           }
          ],
          "contourcarpet": [
           {
            "colorbar": {
             "outlinewidth": 0,
             "ticks": ""
            },
            "type": "contourcarpet"
           }
          ],
          "heatmap": [
           {
            "colorbar": {
             "outlinewidth": 0,
             "ticks": ""
            },
            "colorscale": [
             [
              0,
              "#0d0887"
             ],
             [
              0.1111111111111111,
              "#46039f"
             ],
             [
              0.2222222222222222,
              "#7201a8"
             ],
             [
              0.3333333333333333,
              "#9c179e"
             ],
             [
              0.4444444444444444,
              "#bd3786"
             ],
             [
              0.5555555555555556,
              "#d8576b"
             ],
             [
              0.6666666666666666,
              "#ed7953"
             ],
             [
              0.7777777777777778,
              "#fb9f3a"
             ],
             [
              0.8888888888888888,
              "#fdca26"
             ],
             [
              1,
              "#f0f921"
             ]
            ],
            "type": "heatmap"
           }
          ],
          "heatmapgl": [
           {
            "colorbar": {
             "outlinewidth": 0,
             "ticks": ""
            },
            "colorscale": [
             [
              0,
              "#0d0887"
             ],
             [
              0.1111111111111111,
              "#46039f"
             ],
             [
              0.2222222222222222,
              "#7201a8"
             ],
             [
              0.3333333333333333,
              "#9c179e"
             ],
             [
              0.4444444444444444,
              "#bd3786"
             ],
             [
              0.5555555555555556,
              "#d8576b"
             ],
             [
              0.6666666666666666,
              "#ed7953"
             ],
             [
              0.7777777777777778,
              "#fb9f3a"
             ],
             [
              0.8888888888888888,
              "#fdca26"
             ],
             [
              1,
              "#f0f921"
             ]
            ],
            "type": "heatmapgl"
           }
          ],
          "histogram": [
           {
            "marker": {
             "pattern": {
              "fillmode": "overlay",
              "size": 10,
              "solidity": 0.2
             }
            },
            "type": "histogram"
           }
          ],
          "histogram2d": [
           {
            "colorbar": {
             "outlinewidth": 0,
             "ticks": ""
            },
            "colorscale": [
             [
              0,
              "#0d0887"
             ],
             [
              0.1111111111111111,
              "#46039f"
             ],
             [
              0.2222222222222222,
              "#7201a8"
             ],
             [
              0.3333333333333333,
              "#9c179e"
             ],
             [
              0.4444444444444444,
              "#bd3786"
             ],
             [
              0.5555555555555556,
              "#d8576b"
             ],
             [
              0.6666666666666666,
              "#ed7953"
             ],
             [
              0.7777777777777778,
              "#fb9f3a"
             ],
             [
              0.8888888888888888,
              "#fdca26"
             ],
             [
              1,
              "#f0f921"
             ]
            ],
            "type": "histogram2d"
           }
          ],
          "histogram2dcontour": [
           {
            "colorbar": {
             "outlinewidth": 0,
             "ticks": ""
            },
            "colorscale": [
             [
              0,
              "#0d0887"
             ],
             [
              0.1111111111111111,
              "#46039f"
             ],
             [
              0.2222222222222222,
              "#7201a8"
             ],
             [
              0.3333333333333333,
              "#9c179e"
             ],
             [
              0.4444444444444444,
              "#bd3786"
             ],
             [
              0.5555555555555556,
              "#d8576b"
             ],
             [
              0.6666666666666666,
              "#ed7953"
             ],
             [
              0.7777777777777778,
              "#fb9f3a"
             ],
             [
              0.8888888888888888,
              "#fdca26"
             ],
             [
              1,
              "#f0f921"
             ]
            ],
            "type": "histogram2dcontour"
           }
          ],
          "mesh3d": [
           {
            "colorbar": {
             "outlinewidth": 0,
             "ticks": ""
            },
            "type": "mesh3d"
           }
          ],
          "parcoords": [
           {
            "line": {
             "colorbar": {
              "outlinewidth": 0,
              "ticks": ""
             }
            },
            "type": "parcoords"
           }
          ],
          "pie": [
           {
            "automargin": true,
            "type": "pie"
           }
          ],
          "scatter": [
           {
            "fillpattern": {
             "fillmode": "overlay",
             "size": 10,
             "solidity": 0.2
            },
            "type": "scatter"
           }
          ],
          "scatter3d": [
           {
            "line": {
             "colorbar": {
              "outlinewidth": 0,
              "ticks": ""
             }
            },
            "marker": {
             "colorbar": {
              "outlinewidth": 0,
              "ticks": ""
             }
            },
            "type": "scatter3d"
           }
          ],
          "scattercarpet": [
           {
            "marker": {
             "colorbar": {
              "outlinewidth": 0,
              "ticks": ""
             }
            },
            "type": "scattercarpet"
           }
          ],
          "scattergeo": [
           {
            "marker": {
             "colorbar": {
              "outlinewidth": 0,
              "ticks": ""
             }
            },
            "type": "scattergeo"
           }
          ],
          "scattergl": [
           {
            "marker": {
             "colorbar": {
              "outlinewidth": 0,
              "ticks": ""
             }
            },
            "type": "scattergl"
           }
          ],
          "scattermapbox": [
           {
            "marker": {
             "colorbar": {
              "outlinewidth": 0,
              "ticks": ""
             }
            },
            "type": "scattermapbox"
           }
          ],
          "scatterpolar": [
           {
            "marker": {
             "colorbar": {
              "outlinewidth": 0,
              "ticks": ""
             }
            },
            "type": "scatterpolar"
           }
          ],
          "scatterpolargl": [
           {
            "marker": {
             "colorbar": {
              "outlinewidth": 0,
              "ticks": ""
             }
            },
            "type": "scatterpolargl"
           }
          ],
          "scatterternary": [
           {
            "marker": {
             "colorbar": {
              "outlinewidth": 0,
              "ticks": ""
             }
            },
            "type": "scatterternary"
           }
          ],
          "surface": [
           {
            "colorbar": {
             "outlinewidth": 0,
             "ticks": ""
            },
            "colorscale": [
             [
              0,
              "#0d0887"
             ],
             [
              0.1111111111111111,
              "#46039f"
             ],
             [
              0.2222222222222222,
              "#7201a8"
             ],
             [
              0.3333333333333333,
              "#9c179e"
             ],
             [
              0.4444444444444444,
              "#bd3786"
             ],
             [
              0.5555555555555556,
              "#d8576b"
             ],
             [
              0.6666666666666666,
              "#ed7953"
             ],
             [
              0.7777777777777778,
              "#fb9f3a"
             ],
             [
              0.8888888888888888,
              "#fdca26"
             ],
             [
              1,
              "#f0f921"
             ]
            ],
            "type": "surface"
           }
          ],
          "table": [
           {
            "cells": {
             "fill": {
              "color": "#EBF0F8"
             },
             "line": {
              "color": "white"
             }
            },
            "header": {
             "fill": {
              "color": "#C8D4E3"
             },
             "line": {
              "color": "white"
             }
            },
            "type": "table"
           }
          ]
         },
         "layout": {
          "annotationdefaults": {
           "arrowcolor": "#2a3f5f",
           "arrowhead": 0,
           "arrowwidth": 1
          },
          "autotypenumbers": "strict",
          "coloraxis": {
           "colorbar": {
            "outlinewidth": 0,
            "ticks": ""
           }
          },
          "colorscale": {
           "diverging": [
            [
             0,
             "#8e0152"
            ],
            [
             0.1,
             "#c51b7d"
            ],
            [
             0.2,
             "#de77ae"
            ],
            [
             0.3,
             "#f1b6da"
            ],
            [
             0.4,
             "#fde0ef"
            ],
            [
             0.5,
             "#f7f7f7"
            ],
            [
             0.6,
             "#e6f5d0"
            ],
            [
             0.7,
             "#b8e186"
            ],
            [
             0.8,
             "#7fbc41"
            ],
            [
             0.9,
             "#4d9221"
            ],
            [
             1,
             "#276419"
            ]
           ],
           "sequential": [
            [
             0,
             "#0d0887"
            ],
            [
             0.1111111111111111,
             "#46039f"
            ],
            [
             0.2222222222222222,
             "#7201a8"
            ],
            [
             0.3333333333333333,
             "#9c179e"
            ],
            [
             0.4444444444444444,
             "#bd3786"
            ],
            [
             0.5555555555555556,
             "#d8576b"
            ],
            [
             0.6666666666666666,
             "#ed7953"
            ],
            [
             0.7777777777777778,
             "#fb9f3a"
            ],
            [
             0.8888888888888888,
             "#fdca26"
            ],
            [
             1,
             "#f0f921"
            ]
           ],
           "sequentialminus": [
            [
             0,
             "#0d0887"
            ],
            [
             0.1111111111111111,
             "#46039f"
            ],
            [
             0.2222222222222222,
             "#7201a8"
            ],
            [
             0.3333333333333333,
             "#9c179e"
            ],
            [
             0.4444444444444444,
             "#bd3786"
            ],
            [
             0.5555555555555556,
             "#d8576b"
            ],
            [
             0.6666666666666666,
             "#ed7953"
            ],
            [
             0.7777777777777778,
             "#fb9f3a"
            ],
            [
             0.8888888888888888,
             "#fdca26"
            ],
            [
             1,
             "#f0f921"
            ]
           ]
          },
          "colorway": [
           "#636efa",
           "#EF553B",
           "#00cc96",
           "#ab63fa",
           "#FFA15A",
           "#19d3f3",
           "#FF6692",
           "#B6E880",
           "#FF97FF",
           "#FECB52"
          ],
          "font": {
           "color": "#2a3f5f"
          },
          "geo": {
           "bgcolor": "white",
           "lakecolor": "white",
           "landcolor": "#E5ECF6",
           "showlakes": true,
           "showland": true,
           "subunitcolor": "white"
          },
          "hoverlabel": {
           "align": "left"
          },
          "hovermode": "closest",
          "mapbox": {
           "style": "light"
          },
          "paper_bgcolor": "white",
          "plot_bgcolor": "#E5ECF6",
          "polar": {
           "angularaxis": {
            "gridcolor": "white",
            "linecolor": "white",
            "ticks": ""
           },
           "bgcolor": "#E5ECF6",
           "radialaxis": {
            "gridcolor": "white",
            "linecolor": "white",
            "ticks": ""
           }
          },
          "scene": {
           "xaxis": {
            "backgroundcolor": "#E5ECF6",
            "gridcolor": "white",
            "gridwidth": 2,
            "linecolor": "white",
            "showbackground": true,
            "ticks": "",
            "zerolinecolor": "white"
           },
           "yaxis": {
            "backgroundcolor": "#E5ECF6",
            "gridcolor": "white",
            "gridwidth": 2,
            "linecolor": "white",
            "showbackground": true,
            "ticks": "",
            "zerolinecolor": "white"
           },
           "zaxis": {
            "backgroundcolor": "#E5ECF6",
            "gridcolor": "white",
            "gridwidth": 2,
            "linecolor": "white",
            "showbackground": true,
            "ticks": "",
            "zerolinecolor": "white"
           }
          },
          "shapedefaults": {
           "line": {
            "color": "#2a3f5f"
           }
          },
          "ternary": {
           "aaxis": {
            "gridcolor": "white",
            "linecolor": "white",
            "ticks": ""
           },
           "baxis": {
            "gridcolor": "white",
            "linecolor": "white",
            "ticks": ""
           },
           "bgcolor": "#E5ECF6",
           "caxis": {
            "gridcolor": "white",
            "linecolor": "white",
            "ticks": ""
           }
          },
          "title": {
           "x": 0.05
          },
          "xaxis": {
           "automargin": true,
           "gridcolor": "white",
           "linecolor": "white",
           "ticks": "",
           "title": {
            "standoff": 15
           },
           "zerolinecolor": "white",
           "zerolinewidth": 2
          },
          "yaxis": {
           "automargin": true,
           "gridcolor": "white",
           "linecolor": "white",
           "ticks": "",
           "title": {
            "standoff": 15
           },
           "zerolinecolor": "white",
           "zerolinewidth": 2
          }
         }
        },
        "title": {
         "text": "Model Accuracy Over Training Steps"
        },
        "xaxis": {
         "title": {
          "text": "Training Steps"
         }
        },
        "yaxis": {
         "title": {
          "text": "Accuracy (%)"
         }
        }
       }
      }
     },
     "metadata": {},
     "output_type": "display_data"
    }
   ],
   "source": [
    "# Create a new figure object\n",
    "fig = go.Figure()\n",
    "\n",
    "# Add a line plot for accuracy with markers\n",
    "fig.add_traces(go.Scatter(\n",
    "    x=list(range(len(accuracy))), \n",
    "    y=accuracy, \n",
    "    name='Accuracy', \n",
    "    mode='lines+markers'\n",
    "))\n",
    "\n",
    "# Set the layout of the figure with titles for axes and the plot\n",
    "fig.update_layout(\n",
    "    title='Model Accuracy Over Training Steps',\n",
    "    xaxis_title='Training Steps',\n",
    "    yaxis_title='Accuracy (%)'\n",
    ")\n",
    "\n",
    "# Annotate each point with its percentage value and adjust position based on change\n",
    "for i, value in enumerate(accuracy):\n",
    "    # Calculate change direction for annotation positioning\n",
    "    offset = 1.5 if i > 0 and value > accuracy[i-1] else -1.5\n",
    "    # Add annotations at each point\n",
    "    fig.add_annotation(\n",
    "        y=value + offset, \n",
    "        x=i, \n",
    "        text=f'{value:.2f}%', \n",
    "        showarrow=False, \n",
    "        font=dict(color='black', size=6)\n",
    "    )\n",
    "\n",
    "# Display the figure\n",
    "fig.show()"
   ]
  },
  {
   "cell_type": "code",
   "execution_count": 154,
   "metadata": {},
   "outputs": [
    {
     "data": {
      "text/plain": [
       "[19.303097345132745,\n",
       " 36.61504424778761,\n",
       " 53.26327433628318,\n",
       " 69.13716814159292,\n",
       " 72.95353982300885,\n",
       " 76.71460176991151,\n",
       " 79.64601769911505,\n",
       " 80.97345132743364,\n",
       " 81.96902654867256,\n",
       " 82.41150442477876,\n",
       " 83.1858407079646,\n",
       " 83.4070796460177,\n",
       " 84.0154867256637,\n",
       " 84.23672566371681,\n",
       " 84.34734513274337,\n",
       " 85.06637168141593,\n",
       " 84.62389380530973,\n",
       " 85.45353982300885,\n",
       " 85.67477876106194,\n",
       " 85.45353982300885,\n",
       " 85.89601769911505,\n",
       " 87.16814159292035,\n",
       " 86.61504424778761,\n",
       " 86.67035398230088,\n",
       " 87.72123893805309,\n",
       " 87.66592920353983,\n",
       " 87.11283185840708,\n",
       " 86.11725663716814,\n",
       " 88.10840707964603,\n",
       " 87.16814159292035,\n",
       " 87.44469026548673,\n",
       " 87.66592920353983,\n",
       " 87.16814159292035,\n",
       " 88.38495575221239,\n",
       " 88.55088495575221,\n",
       " 87.99778761061947,\n",
       " 88.60619469026548,\n",
       " 89.26991150442478,\n",
       " 88.10840707964603,\n",
       " 87.99778761061947]"
      ]
     },
     "execution_count": 154,
     "metadata": {},
     "output_type": "execute_result"
    }
   ],
   "source": [
    "accuracy"
   ]
  },
  {
   "cell_type": "code",
   "execution_count": 135,
   "metadata": {},
   "outputs": [
    {
     "data": {
      "application/vnd.plotly.v1+json": {
       "config": {
        "plotlyServerURL": "https://plot.ly"
       },
       "data": [
        {
         "mode": "lines+markers",
         "name": "Precision",
         "type": "scatter",
         "x": [
          0,
          1,
          2,
          3,
          4,
          5,
          6,
          7,
          8,
          9,
          10,
          11,
          12,
          13,
          14,
          15,
          16,
          17,
          18,
          19,
          20,
          21,
          22,
          23,
          24,
          25,
          26,
          27,
          28,
          29,
          30,
          31,
          32,
          33,
          34,
          35,
          36,
          37,
          38,
          39
         ],
         "y": [
          27.17831991810207,
          41.20375371350686,
          53.878737015534064,
          69.96734819485116,
          70.82069946533994,
          75.20871758324807,
          78.30082073314418,
          80.3581509189496,
          81.63810342033484,
          81.92219209290099,
          82.74312445738155,
          83.25440977709016,
          83.60722871306228,
          83.78719563822392,
          84.18413278416858,
          84.82004376884038,
          84.39240604674524,
          85.23150015946106,
          85.86299851855368,
          85.18367848030829,
          86.00882153690276,
          86.99207543188643,
          86.63459421212691,
          86.83215014638586,
          87.82495057020607,
          87.84281639708452,
          87.27541546049663,
          86.0047773770711,
          88.35228550972064,
          87.44807163524342,
          87.71554855675932,
          87.99683381970304,
          87.44233601109933,
          88.56716101444243,
          88.94668234706263,
          88.22828928112926,
          88.84669663541234,
          89.35870077720487,
          88.31785355569923,
          87.93816191942851
         ]
        },
        {
         "mode": "lines+markers",
         "name": "Recall",
         "type": "scatter",
         "x": [
          0,
          1,
          2,
          3,
          4,
          5,
          6,
          7,
          8,
          9,
          10,
          11,
          12,
          13,
          14,
          15,
          16,
          17,
          18,
          19,
          20,
          21,
          22,
          23,
          24,
          25,
          26,
          27,
          28,
          29,
          30,
          31,
          32,
          33,
          34,
          35,
          36,
          37,
          38,
          39
         ],
         "y": [
          19.303097345132745,
          36.61504424778761,
          53.26327433628318,
          69.13716814159292,
          72.95353982300885,
          76.71460176991151,
          79.64601769911505,
          80.97345132743364,
          81.96902654867256,
          82.41150442477876,
          83.1858407079646,
          83.4070796460177,
          84.0154867256637,
          84.23672566371681,
          84.34734513274337,
          85.06637168141593,
          84.62389380530973,
          85.45353982300885,
          85.67477876106194,
          85.45353982300885,
          85.89601769911505,
          87.16814159292035,
          86.61504424778761,
          86.67035398230088,
          87.72123893805309,
          87.66592920353983,
          87.11283185840708,
          86.11725663716814,
          88.10840707964603,
          87.16814159292035,
          87.44469026548673,
          87.66592920353983,
          87.16814159292035,
          88.38495575221239,
          88.55088495575221,
          87.99778761061947,
          88.60619469026548,
          89.26991150442478,
          88.10840707964603,
          87.99778761061947
         ]
        },
        {
         "mode": "lines+markers",
         "name": "F1 Score",
         "type": "scatter",
         "x": [
          0,
          1,
          2,
          3,
          4,
          5,
          6,
          7,
          8,
          9,
          10,
          11,
          12,
          13,
          14,
          15,
          16,
          17,
          18,
          19,
          20,
          21,
          22,
          23,
          24,
          25,
          26,
          27,
          28,
          29,
          30,
          31,
          32,
          33,
          34,
          35,
          36,
          37,
          38,
          39
         ],
         "y": [
          21.680159730321577,
          38.1906535969162,
          52.59040331726339,
          67.46827133132275,
          70.99023148268508,
          75.27608998026203,
          78.59736032341146,
          80.36674146438804,
          81.60296920020109,
          81.99079340791661,
          82.69620195051526,
          83.07574831350834,
          83.50529599990767,
          83.79416881082132,
          83.91901778702737,
          84.70851025266964,
          84.31811567069177,
          85.2714807535272,
          85.59309674769284,
          85.24615210330981,
          85.8148237227813,
          86.9850581001461,
          86.46801222161054,
          86.58534860597217,
          87.63221324525362,
          87.5648809719773,
          87.0444589392111,
          85.7930815616761,
          88.06008631126562,
          87.05882134883502,
          87.4337286266506,
          87.64339596511222,
          87.12573637215934,
          88.40678639362856,
          88.63511046469549,
          88.00960497846143,
          88.59689377610728,
          89.19668931610929,
          88.12932417967079,
          87.91597436567665
         ]
        }
       ],
       "layout": {
        "template": {
         "data": {
          "bar": [
           {
            "error_x": {
             "color": "#2a3f5f"
            },
            "error_y": {
             "color": "#2a3f5f"
            },
            "marker": {
             "line": {
              "color": "#E5ECF6",
              "width": 0.5
             },
             "pattern": {
              "fillmode": "overlay",
              "size": 10,
              "solidity": 0.2
             }
            },
            "type": "bar"
           }
          ],
          "barpolar": [
           {
            "marker": {
             "line": {
              "color": "#E5ECF6",
              "width": 0.5
             },
             "pattern": {
              "fillmode": "overlay",
              "size": 10,
              "solidity": 0.2
             }
            },
            "type": "barpolar"
           }
          ],
          "carpet": [
           {
            "aaxis": {
             "endlinecolor": "#2a3f5f",
             "gridcolor": "white",
             "linecolor": "white",
             "minorgridcolor": "white",
             "startlinecolor": "#2a3f5f"
            },
            "baxis": {
             "endlinecolor": "#2a3f5f",
             "gridcolor": "white",
             "linecolor": "white",
             "minorgridcolor": "white",
             "startlinecolor": "#2a3f5f"
            },
            "type": "carpet"
           }
          ],
          "choropleth": [
           {
            "colorbar": {
             "outlinewidth": 0,
             "ticks": ""
            },
            "type": "choropleth"
           }
          ],
          "contour": [
           {
            "colorbar": {
             "outlinewidth": 0,
             "ticks": ""
            },
            "colorscale": [
             [
              0,
              "#0d0887"
             ],
             [
              0.1111111111111111,
              "#46039f"
             ],
             [
              0.2222222222222222,
              "#7201a8"
             ],
             [
              0.3333333333333333,
              "#9c179e"
             ],
             [
              0.4444444444444444,
              "#bd3786"
             ],
             [
              0.5555555555555556,
              "#d8576b"
             ],
             [
              0.6666666666666666,
              "#ed7953"
             ],
             [
              0.7777777777777778,
              "#fb9f3a"
             ],
             [
              0.8888888888888888,
              "#fdca26"
             ],
             [
              1,
              "#f0f921"
             ]
            ],
            "type": "contour"
           }
          ],
          "contourcarpet": [
           {
            "colorbar": {
             "outlinewidth": 0,
             "ticks": ""
            },
            "type": "contourcarpet"
           }
          ],
          "heatmap": [
           {
            "colorbar": {
             "outlinewidth": 0,
             "ticks": ""
            },
            "colorscale": [
             [
              0,
              "#0d0887"
             ],
             [
              0.1111111111111111,
              "#46039f"
             ],
             [
              0.2222222222222222,
              "#7201a8"
             ],
             [
              0.3333333333333333,
              "#9c179e"
             ],
             [
              0.4444444444444444,
              "#bd3786"
             ],
             [
              0.5555555555555556,
              "#d8576b"
             ],
             [
              0.6666666666666666,
              "#ed7953"
             ],
             [
              0.7777777777777778,
              "#fb9f3a"
             ],
             [
              0.8888888888888888,
              "#fdca26"
             ],
             [
              1,
              "#f0f921"
             ]
            ],
            "type": "heatmap"
           }
          ],
          "heatmapgl": [
           {
            "colorbar": {
             "outlinewidth": 0,
             "ticks": ""
            },
            "colorscale": [
             [
              0,
              "#0d0887"
             ],
             [
              0.1111111111111111,
              "#46039f"
             ],
             [
              0.2222222222222222,
              "#7201a8"
             ],
             [
              0.3333333333333333,
              "#9c179e"
             ],
             [
              0.4444444444444444,
              "#bd3786"
             ],
             [
              0.5555555555555556,
              "#d8576b"
             ],
             [
              0.6666666666666666,
              "#ed7953"
             ],
             [
              0.7777777777777778,
              "#fb9f3a"
             ],
             [
              0.8888888888888888,
              "#fdca26"
             ],
             [
              1,
              "#f0f921"
             ]
            ],
            "type": "heatmapgl"
           }
          ],
          "histogram": [
           {
            "marker": {
             "pattern": {
              "fillmode": "overlay",
              "size": 10,
              "solidity": 0.2
             }
            },
            "type": "histogram"
           }
          ],
          "histogram2d": [
           {
            "colorbar": {
             "outlinewidth": 0,
             "ticks": ""
            },
            "colorscale": [
             [
              0,
              "#0d0887"
             ],
             [
              0.1111111111111111,
              "#46039f"
             ],
             [
              0.2222222222222222,
              "#7201a8"
             ],
             [
              0.3333333333333333,
              "#9c179e"
             ],
             [
              0.4444444444444444,
              "#bd3786"
             ],
             [
              0.5555555555555556,
              "#d8576b"
             ],
             [
              0.6666666666666666,
              "#ed7953"
             ],
             [
              0.7777777777777778,
              "#fb9f3a"
             ],
             [
              0.8888888888888888,
              "#fdca26"
             ],
             [
              1,
              "#f0f921"
             ]
            ],
            "type": "histogram2d"
           }
          ],
          "histogram2dcontour": [
           {
            "colorbar": {
             "outlinewidth": 0,
             "ticks": ""
            },
            "colorscale": [
             [
              0,
              "#0d0887"
             ],
             [
              0.1111111111111111,
              "#46039f"
             ],
             [
              0.2222222222222222,
              "#7201a8"
             ],
             [
              0.3333333333333333,
              "#9c179e"
             ],
             [
              0.4444444444444444,
              "#bd3786"
             ],
             [
              0.5555555555555556,
              "#d8576b"
             ],
             [
              0.6666666666666666,
              "#ed7953"
             ],
             [
              0.7777777777777778,
              "#fb9f3a"
             ],
             [
              0.8888888888888888,
              "#fdca26"
             ],
             [
              1,
              "#f0f921"
             ]
            ],
            "type": "histogram2dcontour"
           }
          ],
          "mesh3d": [
           {
            "colorbar": {
             "outlinewidth": 0,
             "ticks": ""
            },
            "type": "mesh3d"
           }
          ],
          "parcoords": [
           {
            "line": {
             "colorbar": {
              "outlinewidth": 0,
              "ticks": ""
             }
            },
            "type": "parcoords"
           }
          ],
          "pie": [
           {
            "automargin": true,
            "type": "pie"
           }
          ],
          "scatter": [
           {
            "fillpattern": {
             "fillmode": "overlay",
             "size": 10,
             "solidity": 0.2
            },
            "type": "scatter"
           }
          ],
          "scatter3d": [
           {
            "line": {
             "colorbar": {
              "outlinewidth": 0,
              "ticks": ""
             }
            },
            "marker": {
             "colorbar": {
              "outlinewidth": 0,
              "ticks": ""
             }
            },
            "type": "scatter3d"
           }
          ],
          "scattercarpet": [
           {
            "marker": {
             "colorbar": {
              "outlinewidth": 0,
              "ticks": ""
             }
            },
            "type": "scattercarpet"
           }
          ],
          "scattergeo": [
           {
            "marker": {
             "colorbar": {
              "outlinewidth": 0,
              "ticks": ""
             }
            },
            "type": "scattergeo"
           }
          ],
          "scattergl": [
           {
            "marker": {
             "colorbar": {
              "outlinewidth": 0,
              "ticks": ""
             }
            },
            "type": "scattergl"
           }
          ],
          "scattermapbox": [
           {
            "marker": {
             "colorbar": {
              "outlinewidth": 0,
              "ticks": ""
             }
            },
            "type": "scattermapbox"
           }
          ],
          "scatterpolar": [
           {
            "marker": {
             "colorbar": {
              "outlinewidth": 0,
              "ticks": ""
             }
            },
            "type": "scatterpolar"
           }
          ],
          "scatterpolargl": [
           {
            "marker": {
             "colorbar": {
              "outlinewidth": 0,
              "ticks": ""
             }
            },
            "type": "scatterpolargl"
           }
          ],
          "scatterternary": [
           {
            "marker": {
             "colorbar": {
              "outlinewidth": 0,
              "ticks": ""
             }
            },
            "type": "scatterternary"
           }
          ],
          "surface": [
           {
            "colorbar": {
             "outlinewidth": 0,
             "ticks": ""
            },
            "colorscale": [
             [
              0,
              "#0d0887"
             ],
             [
              0.1111111111111111,
              "#46039f"
             ],
             [
              0.2222222222222222,
              "#7201a8"
             ],
             [
              0.3333333333333333,
              "#9c179e"
             ],
             [
              0.4444444444444444,
              "#bd3786"
             ],
             [
              0.5555555555555556,
              "#d8576b"
             ],
             [
              0.6666666666666666,
              "#ed7953"
             ],
             [
              0.7777777777777778,
              "#fb9f3a"
             ],
             [
              0.8888888888888888,
              "#fdca26"
             ],
             [
              1,
              "#f0f921"
             ]
            ],
            "type": "surface"
           }
          ],
          "table": [
           {
            "cells": {
             "fill": {
              "color": "#EBF0F8"
             },
             "line": {
              "color": "white"
             }
            },
            "header": {
             "fill": {
              "color": "#C8D4E3"
             },
             "line": {
              "color": "white"
             }
            },
            "type": "table"
           }
          ]
         },
         "layout": {
          "annotationdefaults": {
           "arrowcolor": "#2a3f5f",
           "arrowhead": 0,
           "arrowwidth": 1
          },
          "autotypenumbers": "strict",
          "coloraxis": {
           "colorbar": {
            "outlinewidth": 0,
            "ticks": ""
           }
          },
          "colorscale": {
           "diverging": [
            [
             0,
             "#8e0152"
            ],
            [
             0.1,
             "#c51b7d"
            ],
            [
             0.2,
             "#de77ae"
            ],
            [
             0.3,
             "#f1b6da"
            ],
            [
             0.4,
             "#fde0ef"
            ],
            [
             0.5,
             "#f7f7f7"
            ],
            [
             0.6,
             "#e6f5d0"
            ],
            [
             0.7,
             "#b8e186"
            ],
            [
             0.8,
             "#7fbc41"
            ],
            [
             0.9,
             "#4d9221"
            ],
            [
             1,
             "#276419"
            ]
           ],
           "sequential": [
            [
             0,
             "#0d0887"
            ],
            [
             0.1111111111111111,
             "#46039f"
            ],
            [
             0.2222222222222222,
             "#7201a8"
            ],
            [
             0.3333333333333333,
             "#9c179e"
            ],
            [
             0.4444444444444444,
             "#bd3786"
            ],
            [
             0.5555555555555556,
             "#d8576b"
            ],
            [
             0.6666666666666666,
             "#ed7953"
            ],
            [
             0.7777777777777778,
             "#fb9f3a"
            ],
            [
             0.8888888888888888,
             "#fdca26"
            ],
            [
             1,
             "#f0f921"
            ]
           ],
           "sequentialminus": [
            [
             0,
             "#0d0887"
            ],
            [
             0.1111111111111111,
             "#46039f"
            ],
            [
             0.2222222222222222,
             "#7201a8"
            ],
            [
             0.3333333333333333,
             "#9c179e"
            ],
            [
             0.4444444444444444,
             "#bd3786"
            ],
            [
             0.5555555555555556,
             "#d8576b"
            ],
            [
             0.6666666666666666,
             "#ed7953"
            ],
            [
             0.7777777777777778,
             "#fb9f3a"
            ],
            [
             0.8888888888888888,
             "#fdca26"
            ],
            [
             1,
             "#f0f921"
            ]
           ]
          },
          "colorway": [
           "#636efa",
           "#EF553B",
           "#00cc96",
           "#ab63fa",
           "#FFA15A",
           "#19d3f3",
           "#FF6692",
           "#B6E880",
           "#FF97FF",
           "#FECB52"
          ],
          "font": {
           "color": "#2a3f5f"
          },
          "geo": {
           "bgcolor": "white",
           "lakecolor": "white",
           "landcolor": "#E5ECF6",
           "showlakes": true,
           "showland": true,
           "subunitcolor": "white"
          },
          "hoverlabel": {
           "align": "left"
          },
          "hovermode": "closest",
          "mapbox": {
           "style": "light"
          },
          "paper_bgcolor": "white",
          "plot_bgcolor": "#E5ECF6",
          "polar": {
           "angularaxis": {
            "gridcolor": "white",
            "linecolor": "white",
            "ticks": ""
           },
           "bgcolor": "#E5ECF6",
           "radialaxis": {
            "gridcolor": "white",
            "linecolor": "white",
            "ticks": ""
           }
          },
          "scene": {
           "xaxis": {
            "backgroundcolor": "#E5ECF6",
            "gridcolor": "white",
            "gridwidth": 2,
            "linecolor": "white",
            "showbackground": true,
            "ticks": "",
            "zerolinecolor": "white"
           },
           "yaxis": {
            "backgroundcolor": "#E5ECF6",
            "gridcolor": "white",
            "gridwidth": 2,
            "linecolor": "white",
            "showbackground": true,
            "ticks": "",
            "zerolinecolor": "white"
           },
           "zaxis": {
            "backgroundcolor": "#E5ECF6",
            "gridcolor": "white",
            "gridwidth": 2,
            "linecolor": "white",
            "showbackground": true,
            "ticks": "",
            "zerolinecolor": "white"
           }
          },
          "shapedefaults": {
           "line": {
            "color": "#2a3f5f"
           }
          },
          "ternary": {
           "aaxis": {
            "gridcolor": "white",
            "linecolor": "white",
            "ticks": ""
           },
           "baxis": {
            "gridcolor": "white",
            "linecolor": "white",
            "ticks": ""
           },
           "bgcolor": "#E5ECF6",
           "caxis": {
            "gridcolor": "white",
            "linecolor": "white",
            "ticks": ""
           }
          },
          "title": {
           "x": 0.05
          },
          "xaxis": {
           "automargin": true,
           "gridcolor": "white",
           "linecolor": "white",
           "ticks": "",
           "title": {
            "standoff": 15
           },
           "zerolinecolor": "white",
           "zerolinewidth": 2
          },
          "yaxis": {
           "automargin": true,
           "gridcolor": "white",
           "linecolor": "white",
           "ticks": "",
           "title": {
            "standoff": 15
           },
           "zerolinecolor": "white",
           "zerolinewidth": 2
          }
         }
        },
        "title": {
         "text": "Model Performance Metrics Over Training Steps"
        },
        "xaxis": {
         "title": {
          "text": "Training Steps"
         }
        },
        "yaxis": {
         "title": {
          "text": "Percentage (%)"
         }
        }
       }
      }
     },
     "metadata": {},
     "output_type": "display_data"
    }
   ],
   "source": [
    "fig = go.Figure()\n",
    "\n",
    "for name, data in [\n",
    "  ['Precision', precisions],\n",
    "  ['Recall', recalls],\n",
    "  ['F1 Score', f1_scores]\n",
    "]:\n",
    "  fig.add_traces(go.Scatter(\n",
    "      x=list(range(len(data))), \n",
    "      y=data, \n",
    "      name=name, \n",
    "      mode='lines+markers'\n",
    "  ))\n",
    "\n",
    "fig.update_layout(\n",
    "    title='Model Performance Metrics Over Training Steps',\n",
    "    xaxis_title='Training Steps',\n",
    "    yaxis_title='Percentage (%)'\n",
    ")\n",
    "\n",
    "fig.show()"
   ]
  },
  {
   "cell_type": "code",
   "execution_count": 136,
   "metadata": {},
   "outputs": [
    {
     "data": {
      "text/html": [
       "<div>\n",
       "<style scoped>\n",
       "    .dataframe tbody tr th:only-of-type {\n",
       "        vertical-align: middle;\n",
       "    }\n",
       "\n",
       "    .dataframe tbody tr th {\n",
       "        vertical-align: top;\n",
       "    }\n",
       "\n",
       "    .dataframe thead th {\n",
       "        text-align: right;\n",
       "    }\n",
       "</style>\n",
       "<table border=\"1\" class=\"dataframe\">\n",
       "  <thead>\n",
       "    <tr style=\"text-align: right;\">\n",
       "      <th></th>\n",
       "      <th>precison</th>\n",
       "      <th>recall</th>\n",
       "      <th>f1_score</th>\n",
       "    </tr>\n",
       "  </thead>\n",
       "  <tbody>\n",
       "    <tr>\n",
       "      <th>0</th>\n",
       "      <td>27.178320</td>\n",
       "      <td>19.303097</td>\n",
       "      <td>21.680160</td>\n",
       "    </tr>\n",
       "    <tr>\n",
       "      <th>1</th>\n",
       "      <td>41.203754</td>\n",
       "      <td>36.615044</td>\n",
       "      <td>38.190654</td>\n",
       "    </tr>\n",
       "    <tr>\n",
       "      <th>2</th>\n",
       "      <td>53.878737</td>\n",
       "      <td>53.263274</td>\n",
       "      <td>52.590403</td>\n",
       "    </tr>\n",
       "    <tr>\n",
       "      <th>3</th>\n",
       "      <td>69.967348</td>\n",
       "      <td>69.137168</td>\n",
       "      <td>67.468271</td>\n",
       "    </tr>\n",
       "    <tr>\n",
       "      <th>4</th>\n",
       "      <td>70.820699</td>\n",
       "      <td>72.953540</td>\n",
       "      <td>70.990231</td>\n",
       "    </tr>\n",
       "    <tr>\n",
       "      <th>5</th>\n",
       "      <td>75.208718</td>\n",
       "      <td>76.714602</td>\n",
       "      <td>75.276090</td>\n",
       "    </tr>\n",
       "    <tr>\n",
       "      <th>6</th>\n",
       "      <td>78.300821</td>\n",
       "      <td>79.646018</td>\n",
       "      <td>78.597360</td>\n",
       "    </tr>\n",
       "    <tr>\n",
       "      <th>7</th>\n",
       "      <td>80.358151</td>\n",
       "      <td>80.973451</td>\n",
       "      <td>80.366741</td>\n",
       "    </tr>\n",
       "    <tr>\n",
       "      <th>8</th>\n",
       "      <td>81.638103</td>\n",
       "      <td>81.969027</td>\n",
       "      <td>81.602969</td>\n",
       "    </tr>\n",
       "    <tr>\n",
       "      <th>9</th>\n",
       "      <td>81.922192</td>\n",
       "      <td>82.411504</td>\n",
       "      <td>81.990793</td>\n",
       "    </tr>\n",
       "    <tr>\n",
       "      <th>10</th>\n",
       "      <td>82.743124</td>\n",
       "      <td>83.185841</td>\n",
       "      <td>82.696202</td>\n",
       "    </tr>\n",
       "    <tr>\n",
       "      <th>11</th>\n",
       "      <td>83.254410</td>\n",
       "      <td>83.407080</td>\n",
       "      <td>83.075748</td>\n",
       "    </tr>\n",
       "    <tr>\n",
       "      <th>12</th>\n",
       "      <td>83.607229</td>\n",
       "      <td>84.015487</td>\n",
       "      <td>83.505296</td>\n",
       "    </tr>\n",
       "    <tr>\n",
       "      <th>13</th>\n",
       "      <td>83.787196</td>\n",
       "      <td>84.236726</td>\n",
       "      <td>83.794169</td>\n",
       "    </tr>\n",
       "    <tr>\n",
       "      <th>14</th>\n",
       "      <td>84.184133</td>\n",
       "      <td>84.347345</td>\n",
       "      <td>83.919018</td>\n",
       "    </tr>\n",
       "    <tr>\n",
       "      <th>15</th>\n",
       "      <td>84.820044</td>\n",
       "      <td>85.066372</td>\n",
       "      <td>84.708510</td>\n",
       "    </tr>\n",
       "    <tr>\n",
       "      <th>16</th>\n",
       "      <td>84.392406</td>\n",
       "      <td>84.623894</td>\n",
       "      <td>84.318116</td>\n",
       "    </tr>\n",
       "    <tr>\n",
       "      <th>17</th>\n",
       "      <td>85.231500</td>\n",
       "      <td>85.453540</td>\n",
       "      <td>85.271481</td>\n",
       "    </tr>\n",
       "    <tr>\n",
       "      <th>18</th>\n",
       "      <td>85.862999</td>\n",
       "      <td>85.674779</td>\n",
       "      <td>85.593097</td>\n",
       "    </tr>\n",
       "    <tr>\n",
       "      <th>19</th>\n",
       "      <td>85.183678</td>\n",
       "      <td>85.453540</td>\n",
       "      <td>85.246152</td>\n",
       "    </tr>\n",
       "    <tr>\n",
       "      <th>20</th>\n",
       "      <td>86.008822</td>\n",
       "      <td>85.896018</td>\n",
       "      <td>85.814824</td>\n",
       "    </tr>\n",
       "    <tr>\n",
       "      <th>21</th>\n",
       "      <td>86.992075</td>\n",
       "      <td>87.168142</td>\n",
       "      <td>86.985058</td>\n",
       "    </tr>\n",
       "    <tr>\n",
       "      <th>22</th>\n",
       "      <td>86.634594</td>\n",
       "      <td>86.615044</td>\n",
       "      <td>86.468012</td>\n",
       "    </tr>\n",
       "    <tr>\n",
       "      <th>23</th>\n",
       "      <td>86.832150</td>\n",
       "      <td>86.670354</td>\n",
       "      <td>86.585349</td>\n",
       "    </tr>\n",
       "    <tr>\n",
       "      <th>24</th>\n",
       "      <td>87.824951</td>\n",
       "      <td>87.721239</td>\n",
       "      <td>87.632213</td>\n",
       "    </tr>\n",
       "    <tr>\n",
       "      <th>25</th>\n",
       "      <td>87.842816</td>\n",
       "      <td>87.665929</td>\n",
       "      <td>87.564881</td>\n",
       "    </tr>\n",
       "    <tr>\n",
       "      <th>26</th>\n",
       "      <td>87.275415</td>\n",
       "      <td>87.112832</td>\n",
       "      <td>87.044459</td>\n",
       "    </tr>\n",
       "    <tr>\n",
       "      <th>27</th>\n",
       "      <td>86.004777</td>\n",
       "      <td>86.117257</td>\n",
       "      <td>85.793082</td>\n",
       "    </tr>\n",
       "    <tr>\n",
       "      <th>28</th>\n",
       "      <td>88.352286</td>\n",
       "      <td>88.108407</td>\n",
       "      <td>88.060086</td>\n",
       "    </tr>\n",
       "    <tr>\n",
       "      <th>29</th>\n",
       "      <td>87.448072</td>\n",
       "      <td>87.168142</td>\n",
       "      <td>87.058821</td>\n",
       "    </tr>\n",
       "    <tr>\n",
       "      <th>30</th>\n",
       "      <td>87.715549</td>\n",
       "      <td>87.444690</td>\n",
       "      <td>87.433729</td>\n",
       "    </tr>\n",
       "    <tr>\n",
       "      <th>31</th>\n",
       "      <td>87.996834</td>\n",
       "      <td>87.665929</td>\n",
       "      <td>87.643396</td>\n",
       "    </tr>\n",
       "    <tr>\n",
       "      <th>32</th>\n",
       "      <td>87.442336</td>\n",
       "      <td>87.168142</td>\n",
       "      <td>87.125736</td>\n",
       "    </tr>\n",
       "    <tr>\n",
       "      <th>33</th>\n",
       "      <td>88.567161</td>\n",
       "      <td>88.384956</td>\n",
       "      <td>88.406786</td>\n",
       "    </tr>\n",
       "    <tr>\n",
       "      <th>34</th>\n",
       "      <td>88.946682</td>\n",
       "      <td>88.550885</td>\n",
       "      <td>88.635110</td>\n",
       "    </tr>\n",
       "    <tr>\n",
       "      <th>35</th>\n",
       "      <td>88.228289</td>\n",
       "      <td>87.997788</td>\n",
       "      <td>88.009605</td>\n",
       "    </tr>\n",
       "    <tr>\n",
       "      <th>36</th>\n",
       "      <td>88.846697</td>\n",
       "      <td>88.606195</td>\n",
       "      <td>88.596894</td>\n",
       "    </tr>\n",
       "    <tr>\n",
       "      <th>37</th>\n",
       "      <td>89.358701</td>\n",
       "      <td>89.269912</td>\n",
       "      <td>89.196689</td>\n",
       "    </tr>\n",
       "    <tr>\n",
       "      <th>38</th>\n",
       "      <td>88.317854</td>\n",
       "      <td>88.108407</td>\n",
       "      <td>88.129324</td>\n",
       "    </tr>\n",
       "    <tr>\n",
       "      <th>39</th>\n",
       "      <td>87.938162</td>\n",
       "      <td>87.997788</td>\n",
       "      <td>87.915974</td>\n",
       "    </tr>\n",
       "  </tbody>\n",
       "</table>\n",
       "</div>"
      ],
      "text/plain": [
       "     precison     recall   f1_score\n",
       "0   27.178320  19.303097  21.680160\n",
       "1   41.203754  36.615044  38.190654\n",
       "2   53.878737  53.263274  52.590403\n",
       "3   69.967348  69.137168  67.468271\n",
       "4   70.820699  72.953540  70.990231\n",
       "5   75.208718  76.714602  75.276090\n",
       "6   78.300821  79.646018  78.597360\n",
       "7   80.358151  80.973451  80.366741\n",
       "8   81.638103  81.969027  81.602969\n",
       "9   81.922192  82.411504  81.990793\n",
       "10  82.743124  83.185841  82.696202\n",
       "11  83.254410  83.407080  83.075748\n",
       "12  83.607229  84.015487  83.505296\n",
       "13  83.787196  84.236726  83.794169\n",
       "14  84.184133  84.347345  83.919018\n",
       "15  84.820044  85.066372  84.708510\n",
       "16  84.392406  84.623894  84.318116\n",
       "17  85.231500  85.453540  85.271481\n",
       "18  85.862999  85.674779  85.593097\n",
       "19  85.183678  85.453540  85.246152\n",
       "20  86.008822  85.896018  85.814824\n",
       "21  86.992075  87.168142  86.985058\n",
       "22  86.634594  86.615044  86.468012\n",
       "23  86.832150  86.670354  86.585349\n",
       "24  87.824951  87.721239  87.632213\n",
       "25  87.842816  87.665929  87.564881\n",
       "26  87.275415  87.112832  87.044459\n",
       "27  86.004777  86.117257  85.793082\n",
       "28  88.352286  88.108407  88.060086\n",
       "29  87.448072  87.168142  87.058821\n",
       "30  87.715549  87.444690  87.433729\n",
       "31  87.996834  87.665929  87.643396\n",
       "32  87.442336  87.168142  87.125736\n",
       "33  88.567161  88.384956  88.406786\n",
       "34  88.946682  88.550885  88.635110\n",
       "35  88.228289  87.997788  88.009605\n",
       "36  88.846697  88.606195  88.596894\n",
       "37  89.358701  89.269912  89.196689\n",
       "38  88.317854  88.108407  88.129324\n",
       "39  87.938162  87.997788  87.915974"
      ]
     },
     "execution_count": 136,
     "metadata": {},
     "output_type": "execute_result"
    }
   ],
   "source": [
    "df___  = pd.DataFrame({'precison' : precisions, 'recall' : recalls, 'f1_score': f1_scores})\n",
    "\n",
    "df___"
   ]
  },
  {
   "cell_type": "markdown",
   "metadata": {},
   "source": [
    "<br/><br/>\n",
    "\n",
    "--------------\n",
    "\n",
    "<br/><br/>"
   ]
  },
  {
   "cell_type": "markdown",
   "metadata": {},
   "source": [
    "<br/>\n",
    "\n",
    "## K-Nearest Neighbors"
   ]
  },
  {
   "cell_type": "code",
   "execution_count": 137,
   "metadata": {},
   "outputs": [
    {
     "data": {
      "text/html": [
       "<style>#sk-container-id-6 {\n",
       "  /* Definition of color scheme common for light and dark mode */\n",
       "  --sklearn-color-text: black;\n",
       "  --sklearn-color-line: gray;\n",
       "  /* Definition of color scheme for unfitted estimators */\n",
       "  --sklearn-color-unfitted-level-0: #fff5e6;\n",
       "  --sklearn-color-unfitted-level-1: #f6e4d2;\n",
       "  --sklearn-color-unfitted-level-2: #ffe0b3;\n",
       "  --sklearn-color-unfitted-level-3: chocolate;\n",
       "  /* Definition of color scheme for fitted estimators */\n",
       "  --sklearn-color-fitted-level-0: #f0f8ff;\n",
       "  --sklearn-color-fitted-level-1: #d4ebff;\n",
       "  --sklearn-color-fitted-level-2: #b3dbfd;\n",
       "  --sklearn-color-fitted-level-3: cornflowerblue;\n",
       "\n",
       "  /* Specific color for light theme */\n",
       "  --sklearn-color-text-on-default-background: var(--sg-text-color, var(--theme-code-foreground, var(--jp-content-font-color1, black)));\n",
       "  --sklearn-color-background: var(--sg-background-color, var(--theme-background, var(--jp-layout-color0, white)));\n",
       "  --sklearn-color-border-box: var(--sg-text-color, var(--theme-code-foreground, var(--jp-content-font-color1, black)));\n",
       "  --sklearn-color-icon: #696969;\n",
       "\n",
       "  @media (prefers-color-scheme: dark) {\n",
       "    /* Redefinition of color scheme for dark theme */\n",
       "    --sklearn-color-text-on-default-background: var(--sg-text-color, var(--theme-code-foreground, var(--jp-content-font-color1, white)));\n",
       "    --sklearn-color-background: var(--sg-background-color, var(--theme-background, var(--jp-layout-color0, #111)));\n",
       "    --sklearn-color-border-box: var(--sg-text-color, var(--theme-code-foreground, var(--jp-content-font-color1, white)));\n",
       "    --sklearn-color-icon: #878787;\n",
       "  }\n",
       "}\n",
       "\n",
       "#sk-container-id-6 {\n",
       "  color: var(--sklearn-color-text);\n",
       "}\n",
       "\n",
       "#sk-container-id-6 pre {\n",
       "  padding: 0;\n",
       "}\n",
       "\n",
       "#sk-container-id-6 input.sk-hidden--visually {\n",
       "  border: 0;\n",
       "  clip: rect(1px 1px 1px 1px);\n",
       "  clip: rect(1px, 1px, 1px, 1px);\n",
       "  height: 1px;\n",
       "  margin: -1px;\n",
       "  overflow: hidden;\n",
       "  padding: 0;\n",
       "  position: absolute;\n",
       "  width: 1px;\n",
       "}\n",
       "\n",
       "#sk-container-id-6 div.sk-dashed-wrapped {\n",
       "  border: 1px dashed var(--sklearn-color-line);\n",
       "  margin: 0 0.4em 0.5em 0.4em;\n",
       "  box-sizing: border-box;\n",
       "  padding-bottom: 0.4em;\n",
       "  background-color: var(--sklearn-color-background);\n",
       "}\n",
       "\n",
       "#sk-container-id-6 div.sk-container {\n",
       "  /* jupyter's `normalize.less` sets `[hidden] { display: none; }`\n",
       "     but bootstrap.min.css set `[hidden] { display: none !important; }`\n",
       "     so we also need the `!important` here to be able to override the\n",
       "     default hidden behavior on the sphinx rendered scikit-learn.org.\n",
       "     See: https://github.com/scikit-learn/scikit-learn/issues/21755 */\n",
       "  display: inline-block !important;\n",
       "  position: relative;\n",
       "}\n",
       "\n",
       "#sk-container-id-6 div.sk-text-repr-fallback {\n",
       "  display: none;\n",
       "}\n",
       "\n",
       "div.sk-parallel-item,\n",
       "div.sk-serial,\n",
       "div.sk-item {\n",
       "  /* draw centered vertical line to link estimators */\n",
       "  background-image: linear-gradient(var(--sklearn-color-text-on-default-background), var(--sklearn-color-text-on-default-background));\n",
       "  background-size: 2px 100%;\n",
       "  background-repeat: no-repeat;\n",
       "  background-position: center center;\n",
       "}\n",
       "\n",
       "/* Parallel-specific style estimator block */\n",
       "\n",
       "#sk-container-id-6 div.sk-parallel-item::after {\n",
       "  content: \"\";\n",
       "  width: 100%;\n",
       "  border-bottom: 2px solid var(--sklearn-color-text-on-default-background);\n",
       "  flex-grow: 1;\n",
       "}\n",
       "\n",
       "#sk-container-id-6 div.sk-parallel {\n",
       "  display: flex;\n",
       "  align-items: stretch;\n",
       "  justify-content: center;\n",
       "  background-color: var(--sklearn-color-background);\n",
       "  position: relative;\n",
       "}\n",
       "\n",
       "#sk-container-id-6 div.sk-parallel-item {\n",
       "  display: flex;\n",
       "  flex-direction: column;\n",
       "}\n",
       "\n",
       "#sk-container-id-6 div.sk-parallel-item:first-child::after {\n",
       "  align-self: flex-end;\n",
       "  width: 50%;\n",
       "}\n",
       "\n",
       "#sk-container-id-6 div.sk-parallel-item:last-child::after {\n",
       "  align-self: flex-start;\n",
       "  width: 50%;\n",
       "}\n",
       "\n",
       "#sk-container-id-6 div.sk-parallel-item:only-child::after {\n",
       "  width: 0;\n",
       "}\n",
       "\n",
       "/* Serial-specific style estimator block */\n",
       "\n",
       "#sk-container-id-6 div.sk-serial {\n",
       "  display: flex;\n",
       "  flex-direction: column;\n",
       "  align-items: center;\n",
       "  background-color: var(--sklearn-color-background);\n",
       "  padding-right: 1em;\n",
       "  padding-left: 1em;\n",
       "}\n",
       "\n",
       "\n",
       "/* Toggleable style: style used for estimator/Pipeline/ColumnTransformer box that is\n",
       "clickable and can be expanded/collapsed.\n",
       "- Pipeline and ColumnTransformer use this feature and define the default style\n",
       "- Estimators will overwrite some part of the style using the `sk-estimator` class\n",
       "*/\n",
       "\n",
       "/* Pipeline and ColumnTransformer style (default) */\n",
       "\n",
       "#sk-container-id-6 div.sk-toggleable {\n",
       "  /* Default theme specific background. It is overwritten whether we have a\n",
       "  specific estimator or a Pipeline/ColumnTransformer */\n",
       "  background-color: var(--sklearn-color-background);\n",
       "}\n",
       "\n",
       "/* Toggleable label */\n",
       "#sk-container-id-6 label.sk-toggleable__label {\n",
       "  cursor: pointer;\n",
       "  display: block;\n",
       "  width: 100%;\n",
       "  margin-bottom: 0;\n",
       "  padding: 0.5em;\n",
       "  box-sizing: border-box;\n",
       "  text-align: center;\n",
       "}\n",
       "\n",
       "#sk-container-id-6 label.sk-toggleable__label-arrow:before {\n",
       "  /* Arrow on the left of the label */\n",
       "  content: \"▸\";\n",
       "  float: left;\n",
       "  margin-right: 0.25em;\n",
       "  color: var(--sklearn-color-icon);\n",
       "}\n",
       "\n",
       "#sk-container-id-6 label.sk-toggleable__label-arrow:hover:before {\n",
       "  color: var(--sklearn-color-text);\n",
       "}\n",
       "\n",
       "/* Toggleable content - dropdown */\n",
       "\n",
       "#sk-container-id-6 div.sk-toggleable__content {\n",
       "  max-height: 0;\n",
       "  max-width: 0;\n",
       "  overflow: hidden;\n",
       "  text-align: left;\n",
       "  /* unfitted */\n",
       "  background-color: var(--sklearn-color-unfitted-level-0);\n",
       "}\n",
       "\n",
       "#sk-container-id-6 div.sk-toggleable__content.fitted {\n",
       "  /* fitted */\n",
       "  background-color: var(--sklearn-color-fitted-level-0);\n",
       "}\n",
       "\n",
       "#sk-container-id-6 div.sk-toggleable__content pre {\n",
       "  margin: 0.2em;\n",
       "  border-radius: 0.25em;\n",
       "  color: var(--sklearn-color-text);\n",
       "  /* unfitted */\n",
       "  background-color: var(--sklearn-color-unfitted-level-0);\n",
       "}\n",
       "\n",
       "#sk-container-id-6 div.sk-toggleable__content.fitted pre {\n",
       "  /* unfitted */\n",
       "  background-color: var(--sklearn-color-fitted-level-0);\n",
       "}\n",
       "\n",
       "#sk-container-id-6 input.sk-toggleable__control:checked~div.sk-toggleable__content {\n",
       "  /* Expand drop-down */\n",
       "  max-height: 200px;\n",
       "  max-width: 100%;\n",
       "  overflow: auto;\n",
       "}\n",
       "\n",
       "#sk-container-id-6 input.sk-toggleable__control:checked~label.sk-toggleable__label-arrow:before {\n",
       "  content: \"▾\";\n",
       "}\n",
       "\n",
       "/* Pipeline/ColumnTransformer-specific style */\n",
       "\n",
       "#sk-container-id-6 div.sk-label input.sk-toggleable__control:checked~label.sk-toggleable__label {\n",
       "  color: var(--sklearn-color-text);\n",
       "  background-color: var(--sklearn-color-unfitted-level-2);\n",
       "}\n",
       "\n",
       "#sk-container-id-6 div.sk-label.fitted input.sk-toggleable__control:checked~label.sk-toggleable__label {\n",
       "  background-color: var(--sklearn-color-fitted-level-2);\n",
       "}\n",
       "\n",
       "/* Estimator-specific style */\n",
       "\n",
       "/* Colorize estimator box */\n",
       "#sk-container-id-6 div.sk-estimator input.sk-toggleable__control:checked~label.sk-toggleable__label {\n",
       "  /* unfitted */\n",
       "  background-color: var(--sklearn-color-unfitted-level-2);\n",
       "}\n",
       "\n",
       "#sk-container-id-6 div.sk-estimator.fitted input.sk-toggleable__control:checked~label.sk-toggleable__label {\n",
       "  /* fitted */\n",
       "  background-color: var(--sklearn-color-fitted-level-2);\n",
       "}\n",
       "\n",
       "#sk-container-id-6 div.sk-label label.sk-toggleable__label,\n",
       "#sk-container-id-6 div.sk-label label {\n",
       "  /* The background is the default theme color */\n",
       "  color: var(--sklearn-color-text-on-default-background);\n",
       "}\n",
       "\n",
       "/* On hover, darken the color of the background */\n",
       "#sk-container-id-6 div.sk-label:hover label.sk-toggleable__label {\n",
       "  color: var(--sklearn-color-text);\n",
       "  background-color: var(--sklearn-color-unfitted-level-2);\n",
       "}\n",
       "\n",
       "/* Label box, darken color on hover, fitted */\n",
       "#sk-container-id-6 div.sk-label.fitted:hover label.sk-toggleable__label.fitted {\n",
       "  color: var(--sklearn-color-text);\n",
       "  background-color: var(--sklearn-color-fitted-level-2);\n",
       "}\n",
       "\n",
       "/* Estimator label */\n",
       "\n",
       "#sk-container-id-6 div.sk-label label {\n",
       "  font-family: monospace;\n",
       "  font-weight: bold;\n",
       "  display: inline-block;\n",
       "  line-height: 1.2em;\n",
       "}\n",
       "\n",
       "#sk-container-id-6 div.sk-label-container {\n",
       "  text-align: center;\n",
       "}\n",
       "\n",
       "/* Estimator-specific */\n",
       "#sk-container-id-6 div.sk-estimator {\n",
       "  font-family: monospace;\n",
       "  border: 1px dotted var(--sklearn-color-border-box);\n",
       "  border-radius: 0.25em;\n",
       "  box-sizing: border-box;\n",
       "  margin-bottom: 0.5em;\n",
       "  /* unfitted */\n",
       "  background-color: var(--sklearn-color-unfitted-level-0);\n",
       "}\n",
       "\n",
       "#sk-container-id-6 div.sk-estimator.fitted {\n",
       "  /* fitted */\n",
       "  background-color: var(--sklearn-color-fitted-level-0);\n",
       "}\n",
       "\n",
       "/* on hover */\n",
       "#sk-container-id-6 div.sk-estimator:hover {\n",
       "  /* unfitted */\n",
       "  background-color: var(--sklearn-color-unfitted-level-2);\n",
       "}\n",
       "\n",
       "#sk-container-id-6 div.sk-estimator.fitted:hover {\n",
       "  /* fitted */\n",
       "  background-color: var(--sklearn-color-fitted-level-2);\n",
       "}\n",
       "\n",
       "/* Specification for estimator info (e.g. \"i\" and \"?\") */\n",
       "\n",
       "/* Common style for \"i\" and \"?\" */\n",
       "\n",
       ".sk-estimator-doc-link,\n",
       "a:link.sk-estimator-doc-link,\n",
       "a:visited.sk-estimator-doc-link {\n",
       "  float: right;\n",
       "  font-size: smaller;\n",
       "  line-height: 1em;\n",
       "  font-family: monospace;\n",
       "  background-color: var(--sklearn-color-background);\n",
       "  border-radius: 1em;\n",
       "  height: 1em;\n",
       "  width: 1em;\n",
       "  text-decoration: none !important;\n",
       "  margin-left: 1ex;\n",
       "  /* unfitted */\n",
       "  border: var(--sklearn-color-unfitted-level-1) 1pt solid;\n",
       "  color: var(--sklearn-color-unfitted-level-1);\n",
       "}\n",
       "\n",
       ".sk-estimator-doc-link.fitted,\n",
       "a:link.sk-estimator-doc-link.fitted,\n",
       "a:visited.sk-estimator-doc-link.fitted {\n",
       "  /* fitted */\n",
       "  border: var(--sklearn-color-fitted-level-1) 1pt solid;\n",
       "  color: var(--sklearn-color-fitted-level-1);\n",
       "}\n",
       "\n",
       "/* On hover */\n",
       "div.sk-estimator:hover .sk-estimator-doc-link:hover,\n",
       ".sk-estimator-doc-link:hover,\n",
       "div.sk-label-container:hover .sk-estimator-doc-link:hover,\n",
       ".sk-estimator-doc-link:hover {\n",
       "  /* unfitted */\n",
       "  background-color: var(--sklearn-color-unfitted-level-3);\n",
       "  color: var(--sklearn-color-background);\n",
       "  text-decoration: none;\n",
       "}\n",
       "\n",
       "div.sk-estimator.fitted:hover .sk-estimator-doc-link.fitted:hover,\n",
       ".sk-estimator-doc-link.fitted:hover,\n",
       "div.sk-label-container:hover .sk-estimator-doc-link.fitted:hover,\n",
       ".sk-estimator-doc-link.fitted:hover {\n",
       "  /* fitted */\n",
       "  background-color: var(--sklearn-color-fitted-level-3);\n",
       "  color: var(--sklearn-color-background);\n",
       "  text-decoration: none;\n",
       "}\n",
       "\n",
       "/* Span, style for the box shown on hovering the info icon */\n",
       ".sk-estimator-doc-link span {\n",
       "  display: none;\n",
       "  z-index: 9999;\n",
       "  position: relative;\n",
       "  font-weight: normal;\n",
       "  right: .2ex;\n",
       "  padding: .5ex;\n",
       "  margin: .5ex;\n",
       "  width: min-content;\n",
       "  min-width: 20ex;\n",
       "  max-width: 50ex;\n",
       "  color: var(--sklearn-color-text);\n",
       "  box-shadow: 2pt 2pt 4pt #999;\n",
       "  /* unfitted */\n",
       "  background: var(--sklearn-color-unfitted-level-0);\n",
       "  border: .5pt solid var(--sklearn-color-unfitted-level-3);\n",
       "}\n",
       "\n",
       ".sk-estimator-doc-link.fitted span {\n",
       "  /* fitted */\n",
       "  background: var(--sklearn-color-fitted-level-0);\n",
       "  border: var(--sklearn-color-fitted-level-3);\n",
       "}\n",
       "\n",
       ".sk-estimator-doc-link:hover span {\n",
       "  display: block;\n",
       "}\n",
       "\n",
       "/* \"?\"-specific style due to the `<a>` HTML tag */\n",
       "\n",
       "#sk-container-id-6 a.estimator_doc_link {\n",
       "  float: right;\n",
       "  font-size: 1rem;\n",
       "  line-height: 1em;\n",
       "  font-family: monospace;\n",
       "  background-color: var(--sklearn-color-background);\n",
       "  border-radius: 1rem;\n",
       "  height: 1rem;\n",
       "  width: 1rem;\n",
       "  text-decoration: none;\n",
       "  /* unfitted */\n",
       "  color: var(--sklearn-color-unfitted-level-1);\n",
       "  border: var(--sklearn-color-unfitted-level-1) 1pt solid;\n",
       "}\n",
       "\n",
       "#sk-container-id-6 a.estimator_doc_link.fitted {\n",
       "  /* fitted */\n",
       "  border: var(--sklearn-color-fitted-level-1) 1pt solid;\n",
       "  color: var(--sklearn-color-fitted-level-1);\n",
       "}\n",
       "\n",
       "/* On hover */\n",
       "#sk-container-id-6 a.estimator_doc_link:hover {\n",
       "  /* unfitted */\n",
       "  background-color: var(--sklearn-color-unfitted-level-3);\n",
       "  color: var(--sklearn-color-background);\n",
       "  text-decoration: none;\n",
       "}\n",
       "\n",
       "#sk-container-id-6 a.estimator_doc_link.fitted:hover {\n",
       "  /* fitted */\n",
       "  background-color: var(--sklearn-color-fitted-level-3);\n",
       "}\n",
       "</style><div id=\"sk-container-id-6\" class=\"sk-top-container\"><div class=\"sk-text-repr-fallback\"><pre>KNeighborsClassifier(n_neighbors=12)</pre><b>In a Jupyter environment, please rerun this cell to show the HTML representation or trust the notebook. <br />On GitHub, the HTML representation is unable to render, please try loading this page with nbviewer.org.</b></div><div class=\"sk-container\" hidden><div class=\"sk-item\"><div class=\"sk-estimator fitted sk-toggleable\"><input class=\"sk-toggleable__control sk-hidden--visually\" id=\"sk-estimator-id-6\" type=\"checkbox\" checked><label for=\"sk-estimator-id-6\" class=\"sk-toggleable__label fitted sk-toggleable__label-arrow fitted\">&nbsp;&nbsp;KNeighborsClassifier<a class=\"sk-estimator-doc-link fitted\" rel=\"noreferrer\" target=\"_blank\" href=\"https://scikit-learn.org/1.5/modules/generated/sklearn.neighbors.KNeighborsClassifier.html\">?<span>Documentation for KNeighborsClassifier</span></a><span class=\"sk-estimator-doc-link fitted\">i<span>Fitted</span></span></label><div class=\"sk-toggleable__content fitted\"><pre>KNeighborsClassifier(n_neighbors=12)</pre></div> </div></div></div></div>"
      ],
      "text/plain": [
       "KNeighborsClassifier(n_neighbors=12)"
      ]
     },
     "execution_count": 137,
     "metadata": {},
     "output_type": "execute_result"
    }
   ],
   "source": [
    "from sklearn.neighbors import KNeighborsClassifier\n",
    "from sklearn.metrics import classification_report, accuracy_score\n",
    "\n",
    "# Initialize KNN model with number of neighbors equal to the unique count of labels in training data\n",
    "model = KNeighborsClassifier(n_neighbors=len(y_train.unique()))\n",
    "\n",
    "# Fit the model to the training data\n",
    "model.fit(X_train, y_train)"
   ]
  },
  {
   "cell_type": "code",
   "execution_count": 138,
   "metadata": {},
   "outputs": [
    {
     "name": "stdout",
     "output_type": "stream",
     "text": [
      "Training Accuracy: 0.8207964601769911\n",
      "              precision    recall  f1-score   support\n",
      "\n",
      "           0       0.74      0.85      0.79       240\n",
      "           1       0.88      0.67      0.76       160\n",
      "           2       0.78      1.00      0.88       570\n",
      "           3       0.70      0.57      0.63        61\n",
      "           4       0.64      0.39      0.48       127\n",
      "           5       0.91      0.58      0.70       184\n",
      "           6       0.80      0.71      0.75       100\n",
      "           7       0.77      0.52      0.62       147\n",
      "           8       0.83      0.91      0.87        87\n",
      "           9       0.96      1.00      0.98       230\n",
      "          10       0.89      0.92      0.91       586\n",
      "          11       0.74      0.73      0.74       220\n",
      "\n",
      "    accuracy                           0.82      2712\n",
      "   macro avg       0.80      0.74      0.76      2712\n",
      "weighted avg       0.82      0.82      0.81      2712\n",
      "\n"
     ]
    }
   ],
   "source": [
    "# Predict labels for the training set\n",
    "y_pred = model.predict(X_train)\n",
    "\n",
    "# Output the accuracy of predictions on the training set\n",
    "print('Training Accuracy:', accuracy_score(y_train, y_pred))\n",
    "print(classification_report(y_train, y_pred))"
   ]
  },
  {
   "cell_type": "code",
   "execution_count": 139,
   "metadata": {},
   "outputs": [
    {
     "name": "stdout",
     "output_type": "stream",
     "text": [
      "              precision    recall  f1-score   support\n",
      "\n",
      "           0       0.67      0.77      0.71       164\n",
      "           1       0.85      0.73      0.78        84\n",
      "           2       0.78      0.99      0.87       391\n",
      "           3       0.85      0.78      0.81        45\n",
      "           4       0.62      0.30      0.40        84\n",
      "           5       0.80      0.56      0.65        99\n",
      "           6       0.82      0.72      0.77        64\n",
      "           7       0.74      0.45      0.56       126\n",
      "           8       0.73      0.82      0.77        45\n",
      "           9       0.96      0.99      0.98       165\n",
      "          10       0.88      0.94      0.91       375\n",
      "          11       0.72      0.64      0.68       167\n",
      "\n",
      "    accuracy                           0.80      1809\n",
      "   macro avg       0.79      0.72      0.74      1809\n",
      "weighted avg       0.80      0.80      0.79      1809\n",
      "\n",
      "Accuracy: 0.8021006080707573\n"
     ]
    }
   ],
   "source": [
    "# Predict labels for the test set\n",
    "y_pred = model.predict(X_test)\n",
    "\n",
    "# Output the accuracy of predictions on the test set\n",
    "print(classification_report(y_test, y_pred))\n",
    "print(\"Accuracy:\", accuracy_score(y_test, y_pred))"
   ]
  },
  {
   "cell_type": "markdown",
   "metadata": {},
   "source": [
    "<br/>\n",
    "\n",
    "## Support Vector Machines (SVC)"
   ]
  },
  {
   "cell_type": "code",
   "execution_count": 140,
   "metadata": {},
   "outputs": [
    {
     "data": {
      "text/html": [
       "<style>#sk-container-id-7 {\n",
       "  /* Definition of color scheme common for light and dark mode */\n",
       "  --sklearn-color-text: black;\n",
       "  --sklearn-color-line: gray;\n",
       "  /* Definition of color scheme for unfitted estimators */\n",
       "  --sklearn-color-unfitted-level-0: #fff5e6;\n",
       "  --sklearn-color-unfitted-level-1: #f6e4d2;\n",
       "  --sklearn-color-unfitted-level-2: #ffe0b3;\n",
       "  --sklearn-color-unfitted-level-3: chocolate;\n",
       "  /* Definition of color scheme for fitted estimators */\n",
       "  --sklearn-color-fitted-level-0: #f0f8ff;\n",
       "  --sklearn-color-fitted-level-1: #d4ebff;\n",
       "  --sklearn-color-fitted-level-2: #b3dbfd;\n",
       "  --sklearn-color-fitted-level-3: cornflowerblue;\n",
       "\n",
       "  /* Specific color for light theme */\n",
       "  --sklearn-color-text-on-default-background: var(--sg-text-color, var(--theme-code-foreground, var(--jp-content-font-color1, black)));\n",
       "  --sklearn-color-background: var(--sg-background-color, var(--theme-background, var(--jp-layout-color0, white)));\n",
       "  --sklearn-color-border-box: var(--sg-text-color, var(--theme-code-foreground, var(--jp-content-font-color1, black)));\n",
       "  --sklearn-color-icon: #696969;\n",
       "\n",
       "  @media (prefers-color-scheme: dark) {\n",
       "    /* Redefinition of color scheme for dark theme */\n",
       "    --sklearn-color-text-on-default-background: var(--sg-text-color, var(--theme-code-foreground, var(--jp-content-font-color1, white)));\n",
       "    --sklearn-color-background: var(--sg-background-color, var(--theme-background, var(--jp-layout-color0, #111)));\n",
       "    --sklearn-color-border-box: var(--sg-text-color, var(--theme-code-foreground, var(--jp-content-font-color1, white)));\n",
       "    --sklearn-color-icon: #878787;\n",
       "  }\n",
       "}\n",
       "\n",
       "#sk-container-id-7 {\n",
       "  color: var(--sklearn-color-text);\n",
       "}\n",
       "\n",
       "#sk-container-id-7 pre {\n",
       "  padding: 0;\n",
       "}\n",
       "\n",
       "#sk-container-id-7 input.sk-hidden--visually {\n",
       "  border: 0;\n",
       "  clip: rect(1px 1px 1px 1px);\n",
       "  clip: rect(1px, 1px, 1px, 1px);\n",
       "  height: 1px;\n",
       "  margin: -1px;\n",
       "  overflow: hidden;\n",
       "  padding: 0;\n",
       "  position: absolute;\n",
       "  width: 1px;\n",
       "}\n",
       "\n",
       "#sk-container-id-7 div.sk-dashed-wrapped {\n",
       "  border: 1px dashed var(--sklearn-color-line);\n",
       "  margin: 0 0.4em 0.5em 0.4em;\n",
       "  box-sizing: border-box;\n",
       "  padding-bottom: 0.4em;\n",
       "  background-color: var(--sklearn-color-background);\n",
       "}\n",
       "\n",
       "#sk-container-id-7 div.sk-container {\n",
       "  /* jupyter's `normalize.less` sets `[hidden] { display: none; }`\n",
       "     but bootstrap.min.css set `[hidden] { display: none !important; }`\n",
       "     so we also need the `!important` here to be able to override the\n",
       "     default hidden behavior on the sphinx rendered scikit-learn.org.\n",
       "     See: https://github.com/scikit-learn/scikit-learn/issues/21755 */\n",
       "  display: inline-block !important;\n",
       "  position: relative;\n",
       "}\n",
       "\n",
       "#sk-container-id-7 div.sk-text-repr-fallback {\n",
       "  display: none;\n",
       "}\n",
       "\n",
       "div.sk-parallel-item,\n",
       "div.sk-serial,\n",
       "div.sk-item {\n",
       "  /* draw centered vertical line to link estimators */\n",
       "  background-image: linear-gradient(var(--sklearn-color-text-on-default-background), var(--sklearn-color-text-on-default-background));\n",
       "  background-size: 2px 100%;\n",
       "  background-repeat: no-repeat;\n",
       "  background-position: center center;\n",
       "}\n",
       "\n",
       "/* Parallel-specific style estimator block */\n",
       "\n",
       "#sk-container-id-7 div.sk-parallel-item::after {\n",
       "  content: \"\";\n",
       "  width: 100%;\n",
       "  border-bottom: 2px solid var(--sklearn-color-text-on-default-background);\n",
       "  flex-grow: 1;\n",
       "}\n",
       "\n",
       "#sk-container-id-7 div.sk-parallel {\n",
       "  display: flex;\n",
       "  align-items: stretch;\n",
       "  justify-content: center;\n",
       "  background-color: var(--sklearn-color-background);\n",
       "  position: relative;\n",
       "}\n",
       "\n",
       "#sk-container-id-7 div.sk-parallel-item {\n",
       "  display: flex;\n",
       "  flex-direction: column;\n",
       "}\n",
       "\n",
       "#sk-container-id-7 div.sk-parallel-item:first-child::after {\n",
       "  align-self: flex-end;\n",
       "  width: 50%;\n",
       "}\n",
       "\n",
       "#sk-container-id-7 div.sk-parallel-item:last-child::after {\n",
       "  align-self: flex-start;\n",
       "  width: 50%;\n",
       "}\n",
       "\n",
       "#sk-container-id-7 div.sk-parallel-item:only-child::after {\n",
       "  width: 0;\n",
       "}\n",
       "\n",
       "/* Serial-specific style estimator block */\n",
       "\n",
       "#sk-container-id-7 div.sk-serial {\n",
       "  display: flex;\n",
       "  flex-direction: column;\n",
       "  align-items: center;\n",
       "  background-color: var(--sklearn-color-background);\n",
       "  padding-right: 1em;\n",
       "  padding-left: 1em;\n",
       "}\n",
       "\n",
       "\n",
       "/* Toggleable style: style used for estimator/Pipeline/ColumnTransformer box that is\n",
       "clickable and can be expanded/collapsed.\n",
       "- Pipeline and ColumnTransformer use this feature and define the default style\n",
       "- Estimators will overwrite some part of the style using the `sk-estimator` class\n",
       "*/\n",
       "\n",
       "/* Pipeline and ColumnTransformer style (default) */\n",
       "\n",
       "#sk-container-id-7 div.sk-toggleable {\n",
       "  /* Default theme specific background. It is overwritten whether we have a\n",
       "  specific estimator or a Pipeline/ColumnTransformer */\n",
       "  background-color: var(--sklearn-color-background);\n",
       "}\n",
       "\n",
       "/* Toggleable label */\n",
       "#sk-container-id-7 label.sk-toggleable__label {\n",
       "  cursor: pointer;\n",
       "  display: block;\n",
       "  width: 100%;\n",
       "  margin-bottom: 0;\n",
       "  padding: 0.5em;\n",
       "  box-sizing: border-box;\n",
       "  text-align: center;\n",
       "}\n",
       "\n",
       "#sk-container-id-7 label.sk-toggleable__label-arrow:before {\n",
       "  /* Arrow on the left of the label */\n",
       "  content: \"▸\";\n",
       "  float: left;\n",
       "  margin-right: 0.25em;\n",
       "  color: var(--sklearn-color-icon);\n",
       "}\n",
       "\n",
       "#sk-container-id-7 label.sk-toggleable__label-arrow:hover:before {\n",
       "  color: var(--sklearn-color-text);\n",
       "}\n",
       "\n",
       "/* Toggleable content - dropdown */\n",
       "\n",
       "#sk-container-id-7 div.sk-toggleable__content {\n",
       "  max-height: 0;\n",
       "  max-width: 0;\n",
       "  overflow: hidden;\n",
       "  text-align: left;\n",
       "  /* unfitted */\n",
       "  background-color: var(--sklearn-color-unfitted-level-0);\n",
       "}\n",
       "\n",
       "#sk-container-id-7 div.sk-toggleable__content.fitted {\n",
       "  /* fitted */\n",
       "  background-color: var(--sklearn-color-fitted-level-0);\n",
       "}\n",
       "\n",
       "#sk-container-id-7 div.sk-toggleable__content pre {\n",
       "  margin: 0.2em;\n",
       "  border-radius: 0.25em;\n",
       "  color: var(--sklearn-color-text);\n",
       "  /* unfitted */\n",
       "  background-color: var(--sklearn-color-unfitted-level-0);\n",
       "}\n",
       "\n",
       "#sk-container-id-7 div.sk-toggleable__content.fitted pre {\n",
       "  /* unfitted */\n",
       "  background-color: var(--sklearn-color-fitted-level-0);\n",
       "}\n",
       "\n",
       "#sk-container-id-7 input.sk-toggleable__control:checked~div.sk-toggleable__content {\n",
       "  /* Expand drop-down */\n",
       "  max-height: 200px;\n",
       "  max-width: 100%;\n",
       "  overflow: auto;\n",
       "}\n",
       "\n",
       "#sk-container-id-7 input.sk-toggleable__control:checked~label.sk-toggleable__label-arrow:before {\n",
       "  content: \"▾\";\n",
       "}\n",
       "\n",
       "/* Pipeline/ColumnTransformer-specific style */\n",
       "\n",
       "#sk-container-id-7 div.sk-label input.sk-toggleable__control:checked~label.sk-toggleable__label {\n",
       "  color: var(--sklearn-color-text);\n",
       "  background-color: var(--sklearn-color-unfitted-level-2);\n",
       "}\n",
       "\n",
       "#sk-container-id-7 div.sk-label.fitted input.sk-toggleable__control:checked~label.sk-toggleable__label {\n",
       "  background-color: var(--sklearn-color-fitted-level-2);\n",
       "}\n",
       "\n",
       "/* Estimator-specific style */\n",
       "\n",
       "/* Colorize estimator box */\n",
       "#sk-container-id-7 div.sk-estimator input.sk-toggleable__control:checked~label.sk-toggleable__label {\n",
       "  /* unfitted */\n",
       "  background-color: var(--sklearn-color-unfitted-level-2);\n",
       "}\n",
       "\n",
       "#sk-container-id-7 div.sk-estimator.fitted input.sk-toggleable__control:checked~label.sk-toggleable__label {\n",
       "  /* fitted */\n",
       "  background-color: var(--sklearn-color-fitted-level-2);\n",
       "}\n",
       "\n",
       "#sk-container-id-7 div.sk-label label.sk-toggleable__label,\n",
       "#sk-container-id-7 div.sk-label label {\n",
       "  /* The background is the default theme color */\n",
       "  color: var(--sklearn-color-text-on-default-background);\n",
       "}\n",
       "\n",
       "/* On hover, darken the color of the background */\n",
       "#sk-container-id-7 div.sk-label:hover label.sk-toggleable__label {\n",
       "  color: var(--sklearn-color-text);\n",
       "  background-color: var(--sklearn-color-unfitted-level-2);\n",
       "}\n",
       "\n",
       "/* Label box, darken color on hover, fitted */\n",
       "#sk-container-id-7 div.sk-label.fitted:hover label.sk-toggleable__label.fitted {\n",
       "  color: var(--sklearn-color-text);\n",
       "  background-color: var(--sklearn-color-fitted-level-2);\n",
       "}\n",
       "\n",
       "/* Estimator label */\n",
       "\n",
       "#sk-container-id-7 div.sk-label label {\n",
       "  font-family: monospace;\n",
       "  font-weight: bold;\n",
       "  display: inline-block;\n",
       "  line-height: 1.2em;\n",
       "}\n",
       "\n",
       "#sk-container-id-7 div.sk-label-container {\n",
       "  text-align: center;\n",
       "}\n",
       "\n",
       "/* Estimator-specific */\n",
       "#sk-container-id-7 div.sk-estimator {\n",
       "  font-family: monospace;\n",
       "  border: 1px dotted var(--sklearn-color-border-box);\n",
       "  border-radius: 0.25em;\n",
       "  box-sizing: border-box;\n",
       "  margin-bottom: 0.5em;\n",
       "  /* unfitted */\n",
       "  background-color: var(--sklearn-color-unfitted-level-0);\n",
       "}\n",
       "\n",
       "#sk-container-id-7 div.sk-estimator.fitted {\n",
       "  /* fitted */\n",
       "  background-color: var(--sklearn-color-fitted-level-0);\n",
       "}\n",
       "\n",
       "/* on hover */\n",
       "#sk-container-id-7 div.sk-estimator:hover {\n",
       "  /* unfitted */\n",
       "  background-color: var(--sklearn-color-unfitted-level-2);\n",
       "}\n",
       "\n",
       "#sk-container-id-7 div.sk-estimator.fitted:hover {\n",
       "  /* fitted */\n",
       "  background-color: var(--sklearn-color-fitted-level-2);\n",
       "}\n",
       "\n",
       "/* Specification for estimator info (e.g. \"i\" and \"?\") */\n",
       "\n",
       "/* Common style for \"i\" and \"?\" */\n",
       "\n",
       ".sk-estimator-doc-link,\n",
       "a:link.sk-estimator-doc-link,\n",
       "a:visited.sk-estimator-doc-link {\n",
       "  float: right;\n",
       "  font-size: smaller;\n",
       "  line-height: 1em;\n",
       "  font-family: monospace;\n",
       "  background-color: var(--sklearn-color-background);\n",
       "  border-radius: 1em;\n",
       "  height: 1em;\n",
       "  width: 1em;\n",
       "  text-decoration: none !important;\n",
       "  margin-left: 1ex;\n",
       "  /* unfitted */\n",
       "  border: var(--sklearn-color-unfitted-level-1) 1pt solid;\n",
       "  color: var(--sklearn-color-unfitted-level-1);\n",
       "}\n",
       "\n",
       ".sk-estimator-doc-link.fitted,\n",
       "a:link.sk-estimator-doc-link.fitted,\n",
       "a:visited.sk-estimator-doc-link.fitted {\n",
       "  /* fitted */\n",
       "  border: var(--sklearn-color-fitted-level-1) 1pt solid;\n",
       "  color: var(--sklearn-color-fitted-level-1);\n",
       "}\n",
       "\n",
       "/* On hover */\n",
       "div.sk-estimator:hover .sk-estimator-doc-link:hover,\n",
       ".sk-estimator-doc-link:hover,\n",
       "div.sk-label-container:hover .sk-estimator-doc-link:hover,\n",
       ".sk-estimator-doc-link:hover {\n",
       "  /* unfitted */\n",
       "  background-color: var(--sklearn-color-unfitted-level-3);\n",
       "  color: var(--sklearn-color-background);\n",
       "  text-decoration: none;\n",
       "}\n",
       "\n",
       "div.sk-estimator.fitted:hover .sk-estimator-doc-link.fitted:hover,\n",
       ".sk-estimator-doc-link.fitted:hover,\n",
       "div.sk-label-container:hover .sk-estimator-doc-link.fitted:hover,\n",
       ".sk-estimator-doc-link.fitted:hover {\n",
       "  /* fitted */\n",
       "  background-color: var(--sklearn-color-fitted-level-3);\n",
       "  color: var(--sklearn-color-background);\n",
       "  text-decoration: none;\n",
       "}\n",
       "\n",
       "/* Span, style for the box shown on hovering the info icon */\n",
       ".sk-estimator-doc-link span {\n",
       "  display: none;\n",
       "  z-index: 9999;\n",
       "  position: relative;\n",
       "  font-weight: normal;\n",
       "  right: .2ex;\n",
       "  padding: .5ex;\n",
       "  margin: .5ex;\n",
       "  width: min-content;\n",
       "  min-width: 20ex;\n",
       "  max-width: 50ex;\n",
       "  color: var(--sklearn-color-text);\n",
       "  box-shadow: 2pt 2pt 4pt #999;\n",
       "  /* unfitted */\n",
       "  background: var(--sklearn-color-unfitted-level-0);\n",
       "  border: .5pt solid var(--sklearn-color-unfitted-level-3);\n",
       "}\n",
       "\n",
       ".sk-estimator-doc-link.fitted span {\n",
       "  /* fitted */\n",
       "  background: var(--sklearn-color-fitted-level-0);\n",
       "  border: var(--sklearn-color-fitted-level-3);\n",
       "}\n",
       "\n",
       ".sk-estimator-doc-link:hover span {\n",
       "  display: block;\n",
       "}\n",
       "\n",
       "/* \"?\"-specific style due to the `<a>` HTML tag */\n",
       "\n",
       "#sk-container-id-7 a.estimator_doc_link {\n",
       "  float: right;\n",
       "  font-size: 1rem;\n",
       "  line-height: 1em;\n",
       "  font-family: monospace;\n",
       "  background-color: var(--sklearn-color-background);\n",
       "  border-radius: 1rem;\n",
       "  height: 1rem;\n",
       "  width: 1rem;\n",
       "  text-decoration: none;\n",
       "  /* unfitted */\n",
       "  color: var(--sklearn-color-unfitted-level-1);\n",
       "  border: var(--sklearn-color-unfitted-level-1) 1pt solid;\n",
       "}\n",
       "\n",
       "#sk-container-id-7 a.estimator_doc_link.fitted {\n",
       "  /* fitted */\n",
       "  border: var(--sklearn-color-fitted-level-1) 1pt solid;\n",
       "  color: var(--sklearn-color-fitted-level-1);\n",
       "}\n",
       "\n",
       "/* On hover */\n",
       "#sk-container-id-7 a.estimator_doc_link:hover {\n",
       "  /* unfitted */\n",
       "  background-color: var(--sklearn-color-unfitted-level-3);\n",
       "  color: var(--sklearn-color-background);\n",
       "  text-decoration: none;\n",
       "}\n",
       "\n",
       "#sk-container-id-7 a.estimator_doc_link.fitted:hover {\n",
       "  /* fitted */\n",
       "  background-color: var(--sklearn-color-fitted-level-3);\n",
       "}\n",
       "</style><div id=\"sk-container-id-7\" class=\"sk-top-container\"><div class=\"sk-text-repr-fallback\"><pre>SVC()</pre><b>In a Jupyter environment, please rerun this cell to show the HTML representation or trust the notebook. <br />On GitHub, the HTML representation is unable to render, please try loading this page with nbviewer.org.</b></div><div class=\"sk-container\" hidden><div class=\"sk-item\"><div class=\"sk-estimator fitted sk-toggleable\"><input class=\"sk-toggleable__control sk-hidden--visually\" id=\"sk-estimator-id-7\" type=\"checkbox\" checked><label for=\"sk-estimator-id-7\" class=\"sk-toggleable__label fitted sk-toggleable__label-arrow fitted\">&nbsp;&nbsp;SVC<a class=\"sk-estimator-doc-link fitted\" rel=\"noreferrer\" target=\"_blank\" href=\"https://scikit-learn.org/1.5/modules/generated/sklearn.svm.SVC.html\">?<span>Documentation for SVC</span></a><span class=\"sk-estimator-doc-link fitted\">i<span>Fitted</span></span></label><div class=\"sk-toggleable__content fitted\"><pre>SVC()</pre></div> </div></div></div></div>"
      ],
      "text/plain": [
       "SVC()"
      ]
     },
     "execution_count": 140,
     "metadata": {},
     "output_type": "execute_result"
    }
   ],
   "source": [
    "from sklearn.svm import SVC\n",
    "\n",
    "# Initialize the Support Vector Classifier\n",
    "model = SVC()\n",
    "\n",
    "# Fit the model to the training data\n",
    "model.fit(X_train, y_train)"
   ]
  },
  {
   "cell_type": "code",
   "execution_count": 141,
   "metadata": {},
   "outputs": [
    {
     "name": "stdout",
     "output_type": "stream",
     "text": [
      "Training Accuracy: 0.803834808259587\n",
      "              precision    recall  f1-score   support\n",
      "\n",
      "           0       0.65      0.82      0.73       240\n",
      "           1       0.97      0.63      0.77       160\n",
      "           2       0.76      0.99      0.86       570\n",
      "           3       0.95      0.30      0.45        61\n",
      "           4       0.81      0.17      0.27       127\n",
      "           5       0.80      0.65      0.72       184\n",
      "           6       0.87      0.65      0.74       100\n",
      "           7       0.85      0.56      0.68       147\n",
      "           8       0.79      0.87      0.83        87\n",
      "           9       0.99      0.97      0.98       230\n",
      "          10       0.86      0.97      0.91       586\n",
      "          11       0.67      0.67      0.67       220\n",
      "\n",
      "    accuracy                           0.80      2712\n",
      "   macro avg       0.83      0.69      0.72      2712\n",
      "weighted avg       0.82      0.80      0.79      2712\n",
      "\n"
     ]
    }
   ],
   "source": [
    "# Predict labels for the training set\n",
    "y_pred = model.predict(X_train)\n",
    "\n",
    "# Output the accuracy of predictions on the training set\n",
    "print('Training Accuracy:', accuracy_score(y_train, y_pred))\n",
    "print(classification_report(y_train, y_pred))"
   ]
  },
  {
   "cell_type": "code",
   "execution_count": 142,
   "metadata": {},
   "outputs": [
    {
     "name": "stdout",
     "output_type": "stream",
     "text": [
      "              precision    recall  f1-score   support\n",
      "\n",
      "           0       0.60      0.71      0.65       164\n",
      "           1       0.91      0.63      0.75        84\n",
      "           2       0.76      0.97      0.85       391\n",
      "           3       1.00      0.44      0.62        45\n",
      "           4       0.75      0.11      0.19        84\n",
      "           5       0.70      0.61      0.65        99\n",
      "           6       0.80      0.69      0.74        64\n",
      "           7       0.74      0.41      0.53       126\n",
      "           8       0.71      0.82      0.76        45\n",
      "           9       0.99      0.98      0.98       165\n",
      "          10       0.82      0.97      0.89       375\n",
      "          11       0.67      0.63      0.65       167\n",
      "\n",
      "    accuracy                           0.77      1809\n",
      "   macro avg       0.79      0.66      0.69      1809\n",
      "weighted avg       0.78      0.77      0.75      1809\n",
      "\n",
      "Accuracy: 0.7744610281923715\n"
     ]
    }
   ],
   "source": [
    "# Predict labels for the test set\n",
    "y_pred = model.predict(X_test)\n",
    "\n",
    "# Output the accuracy of predictions on the test set\n",
    "print(classification_report(y_test, y_pred))\n",
    "print(\"Accuracy:\", accuracy_score(y_test, y_pred))"
   ]
  },
  {
   "cell_type": "markdown",
   "metadata": {},
   "source": [
    "<br/>\n",
    "\n",
    "## Decision Tree Classifier"
   ]
  },
  {
   "cell_type": "code",
   "execution_count": 143,
   "metadata": {},
   "outputs": [
    {
     "data": {
      "text/html": [
       "<style>#sk-container-id-8 {\n",
       "  /* Definition of color scheme common for light and dark mode */\n",
       "  --sklearn-color-text: black;\n",
       "  --sklearn-color-line: gray;\n",
       "  /* Definition of color scheme for unfitted estimators */\n",
       "  --sklearn-color-unfitted-level-0: #fff5e6;\n",
       "  --sklearn-color-unfitted-level-1: #f6e4d2;\n",
       "  --sklearn-color-unfitted-level-2: #ffe0b3;\n",
       "  --sklearn-color-unfitted-level-3: chocolate;\n",
       "  /* Definition of color scheme for fitted estimators */\n",
       "  --sklearn-color-fitted-level-0: #f0f8ff;\n",
       "  --sklearn-color-fitted-level-1: #d4ebff;\n",
       "  --sklearn-color-fitted-level-2: #b3dbfd;\n",
       "  --sklearn-color-fitted-level-3: cornflowerblue;\n",
       "\n",
       "  /* Specific color for light theme */\n",
       "  --sklearn-color-text-on-default-background: var(--sg-text-color, var(--theme-code-foreground, var(--jp-content-font-color1, black)));\n",
       "  --sklearn-color-background: var(--sg-background-color, var(--theme-background, var(--jp-layout-color0, white)));\n",
       "  --sklearn-color-border-box: var(--sg-text-color, var(--theme-code-foreground, var(--jp-content-font-color1, black)));\n",
       "  --sklearn-color-icon: #696969;\n",
       "\n",
       "  @media (prefers-color-scheme: dark) {\n",
       "    /* Redefinition of color scheme for dark theme */\n",
       "    --sklearn-color-text-on-default-background: var(--sg-text-color, var(--theme-code-foreground, var(--jp-content-font-color1, white)));\n",
       "    --sklearn-color-background: var(--sg-background-color, var(--theme-background, var(--jp-layout-color0, #111)));\n",
       "    --sklearn-color-border-box: var(--sg-text-color, var(--theme-code-foreground, var(--jp-content-font-color1, white)));\n",
       "    --sklearn-color-icon: #878787;\n",
       "  }\n",
       "}\n",
       "\n",
       "#sk-container-id-8 {\n",
       "  color: var(--sklearn-color-text);\n",
       "}\n",
       "\n",
       "#sk-container-id-8 pre {\n",
       "  padding: 0;\n",
       "}\n",
       "\n",
       "#sk-container-id-8 input.sk-hidden--visually {\n",
       "  border: 0;\n",
       "  clip: rect(1px 1px 1px 1px);\n",
       "  clip: rect(1px, 1px, 1px, 1px);\n",
       "  height: 1px;\n",
       "  margin: -1px;\n",
       "  overflow: hidden;\n",
       "  padding: 0;\n",
       "  position: absolute;\n",
       "  width: 1px;\n",
       "}\n",
       "\n",
       "#sk-container-id-8 div.sk-dashed-wrapped {\n",
       "  border: 1px dashed var(--sklearn-color-line);\n",
       "  margin: 0 0.4em 0.5em 0.4em;\n",
       "  box-sizing: border-box;\n",
       "  padding-bottom: 0.4em;\n",
       "  background-color: var(--sklearn-color-background);\n",
       "}\n",
       "\n",
       "#sk-container-id-8 div.sk-container {\n",
       "  /* jupyter's `normalize.less` sets `[hidden] { display: none; }`\n",
       "     but bootstrap.min.css set `[hidden] { display: none !important; }`\n",
       "     so we also need the `!important` here to be able to override the\n",
       "     default hidden behavior on the sphinx rendered scikit-learn.org.\n",
       "     See: https://github.com/scikit-learn/scikit-learn/issues/21755 */\n",
       "  display: inline-block !important;\n",
       "  position: relative;\n",
       "}\n",
       "\n",
       "#sk-container-id-8 div.sk-text-repr-fallback {\n",
       "  display: none;\n",
       "}\n",
       "\n",
       "div.sk-parallel-item,\n",
       "div.sk-serial,\n",
       "div.sk-item {\n",
       "  /* draw centered vertical line to link estimators */\n",
       "  background-image: linear-gradient(var(--sklearn-color-text-on-default-background), var(--sklearn-color-text-on-default-background));\n",
       "  background-size: 2px 100%;\n",
       "  background-repeat: no-repeat;\n",
       "  background-position: center center;\n",
       "}\n",
       "\n",
       "/* Parallel-specific style estimator block */\n",
       "\n",
       "#sk-container-id-8 div.sk-parallel-item::after {\n",
       "  content: \"\";\n",
       "  width: 100%;\n",
       "  border-bottom: 2px solid var(--sklearn-color-text-on-default-background);\n",
       "  flex-grow: 1;\n",
       "}\n",
       "\n",
       "#sk-container-id-8 div.sk-parallel {\n",
       "  display: flex;\n",
       "  align-items: stretch;\n",
       "  justify-content: center;\n",
       "  background-color: var(--sklearn-color-background);\n",
       "  position: relative;\n",
       "}\n",
       "\n",
       "#sk-container-id-8 div.sk-parallel-item {\n",
       "  display: flex;\n",
       "  flex-direction: column;\n",
       "}\n",
       "\n",
       "#sk-container-id-8 div.sk-parallel-item:first-child::after {\n",
       "  align-self: flex-end;\n",
       "  width: 50%;\n",
       "}\n",
       "\n",
       "#sk-container-id-8 div.sk-parallel-item:last-child::after {\n",
       "  align-self: flex-start;\n",
       "  width: 50%;\n",
       "}\n",
       "\n",
       "#sk-container-id-8 div.sk-parallel-item:only-child::after {\n",
       "  width: 0;\n",
       "}\n",
       "\n",
       "/* Serial-specific style estimator block */\n",
       "\n",
       "#sk-container-id-8 div.sk-serial {\n",
       "  display: flex;\n",
       "  flex-direction: column;\n",
       "  align-items: center;\n",
       "  background-color: var(--sklearn-color-background);\n",
       "  padding-right: 1em;\n",
       "  padding-left: 1em;\n",
       "}\n",
       "\n",
       "\n",
       "/* Toggleable style: style used for estimator/Pipeline/ColumnTransformer box that is\n",
       "clickable and can be expanded/collapsed.\n",
       "- Pipeline and ColumnTransformer use this feature and define the default style\n",
       "- Estimators will overwrite some part of the style using the `sk-estimator` class\n",
       "*/\n",
       "\n",
       "/* Pipeline and ColumnTransformer style (default) */\n",
       "\n",
       "#sk-container-id-8 div.sk-toggleable {\n",
       "  /* Default theme specific background. It is overwritten whether we have a\n",
       "  specific estimator or a Pipeline/ColumnTransformer */\n",
       "  background-color: var(--sklearn-color-background);\n",
       "}\n",
       "\n",
       "/* Toggleable label */\n",
       "#sk-container-id-8 label.sk-toggleable__label {\n",
       "  cursor: pointer;\n",
       "  display: block;\n",
       "  width: 100%;\n",
       "  margin-bottom: 0;\n",
       "  padding: 0.5em;\n",
       "  box-sizing: border-box;\n",
       "  text-align: center;\n",
       "}\n",
       "\n",
       "#sk-container-id-8 label.sk-toggleable__label-arrow:before {\n",
       "  /* Arrow on the left of the label */\n",
       "  content: \"▸\";\n",
       "  float: left;\n",
       "  margin-right: 0.25em;\n",
       "  color: var(--sklearn-color-icon);\n",
       "}\n",
       "\n",
       "#sk-container-id-8 label.sk-toggleable__label-arrow:hover:before {\n",
       "  color: var(--sklearn-color-text);\n",
       "}\n",
       "\n",
       "/* Toggleable content - dropdown */\n",
       "\n",
       "#sk-container-id-8 div.sk-toggleable__content {\n",
       "  max-height: 0;\n",
       "  max-width: 0;\n",
       "  overflow: hidden;\n",
       "  text-align: left;\n",
       "  /* unfitted */\n",
       "  background-color: var(--sklearn-color-unfitted-level-0);\n",
       "}\n",
       "\n",
       "#sk-container-id-8 div.sk-toggleable__content.fitted {\n",
       "  /* fitted */\n",
       "  background-color: var(--sklearn-color-fitted-level-0);\n",
       "}\n",
       "\n",
       "#sk-container-id-8 div.sk-toggleable__content pre {\n",
       "  margin: 0.2em;\n",
       "  border-radius: 0.25em;\n",
       "  color: var(--sklearn-color-text);\n",
       "  /* unfitted */\n",
       "  background-color: var(--sklearn-color-unfitted-level-0);\n",
       "}\n",
       "\n",
       "#sk-container-id-8 div.sk-toggleable__content.fitted pre {\n",
       "  /* unfitted */\n",
       "  background-color: var(--sklearn-color-fitted-level-0);\n",
       "}\n",
       "\n",
       "#sk-container-id-8 input.sk-toggleable__control:checked~div.sk-toggleable__content {\n",
       "  /* Expand drop-down */\n",
       "  max-height: 200px;\n",
       "  max-width: 100%;\n",
       "  overflow: auto;\n",
       "}\n",
       "\n",
       "#sk-container-id-8 input.sk-toggleable__control:checked~label.sk-toggleable__label-arrow:before {\n",
       "  content: \"▾\";\n",
       "}\n",
       "\n",
       "/* Pipeline/ColumnTransformer-specific style */\n",
       "\n",
       "#sk-container-id-8 div.sk-label input.sk-toggleable__control:checked~label.sk-toggleable__label {\n",
       "  color: var(--sklearn-color-text);\n",
       "  background-color: var(--sklearn-color-unfitted-level-2);\n",
       "}\n",
       "\n",
       "#sk-container-id-8 div.sk-label.fitted input.sk-toggleable__control:checked~label.sk-toggleable__label {\n",
       "  background-color: var(--sklearn-color-fitted-level-2);\n",
       "}\n",
       "\n",
       "/* Estimator-specific style */\n",
       "\n",
       "/* Colorize estimator box */\n",
       "#sk-container-id-8 div.sk-estimator input.sk-toggleable__control:checked~label.sk-toggleable__label {\n",
       "  /* unfitted */\n",
       "  background-color: var(--sklearn-color-unfitted-level-2);\n",
       "}\n",
       "\n",
       "#sk-container-id-8 div.sk-estimator.fitted input.sk-toggleable__control:checked~label.sk-toggleable__label {\n",
       "  /* fitted */\n",
       "  background-color: var(--sklearn-color-fitted-level-2);\n",
       "}\n",
       "\n",
       "#sk-container-id-8 div.sk-label label.sk-toggleable__label,\n",
       "#sk-container-id-8 div.sk-label label {\n",
       "  /* The background is the default theme color */\n",
       "  color: var(--sklearn-color-text-on-default-background);\n",
       "}\n",
       "\n",
       "/* On hover, darken the color of the background */\n",
       "#sk-container-id-8 div.sk-label:hover label.sk-toggleable__label {\n",
       "  color: var(--sklearn-color-text);\n",
       "  background-color: var(--sklearn-color-unfitted-level-2);\n",
       "}\n",
       "\n",
       "/* Label box, darken color on hover, fitted */\n",
       "#sk-container-id-8 div.sk-label.fitted:hover label.sk-toggleable__label.fitted {\n",
       "  color: var(--sklearn-color-text);\n",
       "  background-color: var(--sklearn-color-fitted-level-2);\n",
       "}\n",
       "\n",
       "/* Estimator label */\n",
       "\n",
       "#sk-container-id-8 div.sk-label label {\n",
       "  font-family: monospace;\n",
       "  font-weight: bold;\n",
       "  display: inline-block;\n",
       "  line-height: 1.2em;\n",
       "}\n",
       "\n",
       "#sk-container-id-8 div.sk-label-container {\n",
       "  text-align: center;\n",
       "}\n",
       "\n",
       "/* Estimator-specific */\n",
       "#sk-container-id-8 div.sk-estimator {\n",
       "  font-family: monospace;\n",
       "  border: 1px dotted var(--sklearn-color-border-box);\n",
       "  border-radius: 0.25em;\n",
       "  box-sizing: border-box;\n",
       "  margin-bottom: 0.5em;\n",
       "  /* unfitted */\n",
       "  background-color: var(--sklearn-color-unfitted-level-0);\n",
       "}\n",
       "\n",
       "#sk-container-id-8 div.sk-estimator.fitted {\n",
       "  /* fitted */\n",
       "  background-color: var(--sklearn-color-fitted-level-0);\n",
       "}\n",
       "\n",
       "/* on hover */\n",
       "#sk-container-id-8 div.sk-estimator:hover {\n",
       "  /* unfitted */\n",
       "  background-color: var(--sklearn-color-unfitted-level-2);\n",
       "}\n",
       "\n",
       "#sk-container-id-8 div.sk-estimator.fitted:hover {\n",
       "  /* fitted */\n",
       "  background-color: var(--sklearn-color-fitted-level-2);\n",
       "}\n",
       "\n",
       "/* Specification for estimator info (e.g. \"i\" and \"?\") */\n",
       "\n",
       "/* Common style for \"i\" and \"?\" */\n",
       "\n",
       ".sk-estimator-doc-link,\n",
       "a:link.sk-estimator-doc-link,\n",
       "a:visited.sk-estimator-doc-link {\n",
       "  float: right;\n",
       "  font-size: smaller;\n",
       "  line-height: 1em;\n",
       "  font-family: monospace;\n",
       "  background-color: var(--sklearn-color-background);\n",
       "  border-radius: 1em;\n",
       "  height: 1em;\n",
       "  width: 1em;\n",
       "  text-decoration: none !important;\n",
       "  margin-left: 1ex;\n",
       "  /* unfitted */\n",
       "  border: var(--sklearn-color-unfitted-level-1) 1pt solid;\n",
       "  color: var(--sklearn-color-unfitted-level-1);\n",
       "}\n",
       "\n",
       ".sk-estimator-doc-link.fitted,\n",
       "a:link.sk-estimator-doc-link.fitted,\n",
       "a:visited.sk-estimator-doc-link.fitted {\n",
       "  /* fitted */\n",
       "  border: var(--sklearn-color-fitted-level-1) 1pt solid;\n",
       "  color: var(--sklearn-color-fitted-level-1);\n",
       "}\n",
       "\n",
       "/* On hover */\n",
       "div.sk-estimator:hover .sk-estimator-doc-link:hover,\n",
       ".sk-estimator-doc-link:hover,\n",
       "div.sk-label-container:hover .sk-estimator-doc-link:hover,\n",
       ".sk-estimator-doc-link:hover {\n",
       "  /* unfitted */\n",
       "  background-color: var(--sklearn-color-unfitted-level-3);\n",
       "  color: var(--sklearn-color-background);\n",
       "  text-decoration: none;\n",
       "}\n",
       "\n",
       "div.sk-estimator.fitted:hover .sk-estimator-doc-link.fitted:hover,\n",
       ".sk-estimator-doc-link.fitted:hover,\n",
       "div.sk-label-container:hover .sk-estimator-doc-link.fitted:hover,\n",
       ".sk-estimator-doc-link.fitted:hover {\n",
       "  /* fitted */\n",
       "  background-color: var(--sklearn-color-fitted-level-3);\n",
       "  color: var(--sklearn-color-background);\n",
       "  text-decoration: none;\n",
       "}\n",
       "\n",
       "/* Span, style for the box shown on hovering the info icon */\n",
       ".sk-estimator-doc-link span {\n",
       "  display: none;\n",
       "  z-index: 9999;\n",
       "  position: relative;\n",
       "  font-weight: normal;\n",
       "  right: .2ex;\n",
       "  padding: .5ex;\n",
       "  margin: .5ex;\n",
       "  width: min-content;\n",
       "  min-width: 20ex;\n",
       "  max-width: 50ex;\n",
       "  color: var(--sklearn-color-text);\n",
       "  box-shadow: 2pt 2pt 4pt #999;\n",
       "  /* unfitted */\n",
       "  background: var(--sklearn-color-unfitted-level-0);\n",
       "  border: .5pt solid var(--sklearn-color-unfitted-level-3);\n",
       "}\n",
       "\n",
       ".sk-estimator-doc-link.fitted span {\n",
       "  /* fitted */\n",
       "  background: var(--sklearn-color-fitted-level-0);\n",
       "  border: var(--sklearn-color-fitted-level-3);\n",
       "}\n",
       "\n",
       ".sk-estimator-doc-link:hover span {\n",
       "  display: block;\n",
       "}\n",
       "\n",
       "/* \"?\"-specific style due to the `<a>` HTML tag */\n",
       "\n",
       "#sk-container-id-8 a.estimator_doc_link {\n",
       "  float: right;\n",
       "  font-size: 1rem;\n",
       "  line-height: 1em;\n",
       "  font-family: monospace;\n",
       "  background-color: var(--sklearn-color-background);\n",
       "  border-radius: 1rem;\n",
       "  height: 1rem;\n",
       "  width: 1rem;\n",
       "  text-decoration: none;\n",
       "  /* unfitted */\n",
       "  color: var(--sklearn-color-unfitted-level-1);\n",
       "  border: var(--sklearn-color-unfitted-level-1) 1pt solid;\n",
       "}\n",
       "\n",
       "#sk-container-id-8 a.estimator_doc_link.fitted {\n",
       "  /* fitted */\n",
       "  border: var(--sklearn-color-fitted-level-1) 1pt solid;\n",
       "  color: var(--sklearn-color-fitted-level-1);\n",
       "}\n",
       "\n",
       "/* On hover */\n",
       "#sk-container-id-8 a.estimator_doc_link:hover {\n",
       "  /* unfitted */\n",
       "  background-color: var(--sklearn-color-unfitted-level-3);\n",
       "  color: var(--sklearn-color-background);\n",
       "  text-decoration: none;\n",
       "}\n",
       "\n",
       "#sk-container-id-8 a.estimator_doc_link.fitted:hover {\n",
       "  /* fitted */\n",
       "  background-color: var(--sklearn-color-fitted-level-3);\n",
       "}\n",
       "</style><div id=\"sk-container-id-8\" class=\"sk-top-container\"><div class=\"sk-text-repr-fallback\"><pre>DecisionTreeClassifier()</pre><b>In a Jupyter environment, please rerun this cell to show the HTML representation or trust the notebook. <br />On GitHub, the HTML representation is unable to render, please try loading this page with nbviewer.org.</b></div><div class=\"sk-container\" hidden><div class=\"sk-item\"><div class=\"sk-estimator fitted sk-toggleable\"><input class=\"sk-toggleable__control sk-hidden--visually\" id=\"sk-estimator-id-8\" type=\"checkbox\" checked><label for=\"sk-estimator-id-8\" class=\"sk-toggleable__label fitted sk-toggleable__label-arrow fitted\">&nbsp;&nbsp;DecisionTreeClassifier<a class=\"sk-estimator-doc-link fitted\" rel=\"noreferrer\" target=\"_blank\" href=\"https://scikit-learn.org/1.5/modules/generated/sklearn.tree.DecisionTreeClassifier.html\">?<span>Documentation for DecisionTreeClassifier</span></a><span class=\"sk-estimator-doc-link fitted\">i<span>Fitted</span></span></label><div class=\"sk-toggleable__content fitted\"><pre>DecisionTreeClassifier()</pre></div> </div></div></div></div>"
      ],
      "text/plain": [
       "DecisionTreeClassifier()"
      ]
     },
     "execution_count": 143,
     "metadata": {},
     "output_type": "execute_result"
    }
   ],
   "source": [
    "# DecisionTreeClassifier\n",
    "from sklearn.tree import DecisionTreeClassifier\n",
    "\n",
    "# Initialize the Decision Tree Classifier\n",
    "model = DecisionTreeClassifier()\n",
    "\n",
    "# Fit the model to the training data\n",
    "model.fit(X_train, y_train)"
   ]
  },
  {
   "cell_type": "code",
   "execution_count": 144,
   "metadata": {},
   "outputs": [
    {
     "name": "stdout",
     "output_type": "stream",
     "text": [
      "Training Accuracy: 1.0\n",
      "              precision    recall  f1-score   support\n",
      "\n",
      "           0       1.00      1.00      1.00       240\n",
      "           1       1.00      1.00      1.00       160\n",
      "           2       1.00      1.00      1.00       570\n",
      "           3       1.00      1.00      1.00        61\n",
      "           4       1.00      1.00      1.00       127\n",
      "           5       1.00      1.00      1.00       184\n",
      "           6       1.00      1.00      1.00       100\n",
      "           7       1.00      1.00      1.00       147\n",
      "           8       1.00      1.00      1.00        87\n",
      "           9       1.00      1.00      1.00       230\n",
      "          10       1.00      1.00      1.00       586\n",
      "          11       1.00      1.00      1.00       220\n",
      "\n",
      "    accuracy                           1.00      2712\n",
      "   macro avg       1.00      1.00      1.00      2712\n",
      "weighted avg       1.00      1.00      1.00      2712\n",
      "\n"
     ]
    }
   ],
   "source": [
    "# Predict labels for the training set\n",
    "y_pred = model.predict(X_train)\n",
    "\n",
    "# Output the accuracy of predictions on the training set\n",
    "print('Training Accuracy:', accuracy_score(y_train, y_pred))\n",
    "print(classification_report(y_train, y_pred))"
   ]
  },
  {
   "cell_type": "code",
   "execution_count": 145,
   "metadata": {},
   "outputs": [
    {
     "name": "stdout",
     "output_type": "stream",
     "text": [
      "              precision    recall  f1-score   support\n",
      "\n",
      "           0       0.75      0.79      0.77       164\n",
      "           1       0.68      0.80      0.73        84\n",
      "           2       0.93      0.95      0.94       391\n",
      "           3       0.74      0.76      0.75        45\n",
      "           4       0.62      0.57      0.59        84\n",
      "           5       0.70      0.71      0.70        99\n",
      "           6       0.86      0.78      0.82        64\n",
      "           7       0.70      0.60      0.64       126\n",
      "           8       0.64      0.84      0.73        45\n",
      "           9       0.99      0.98      0.99       165\n",
      "          10       0.93      0.94      0.93       375\n",
      "          11       0.82      0.72      0.76       167\n",
      "\n",
      "    accuracy                           0.84      1809\n",
      "   macro avg       0.78      0.79      0.78      1809\n",
      "weighted avg       0.84      0.84      0.84      1809\n",
      "\n",
      "Accuracy: 0.8385848535102266\n"
     ]
    }
   ],
   "source": [
    "# Predict labels for the test set\n",
    "y_pred = model.predict(X_test)\n",
    "\n",
    "# Output the accuracy of predictions on the test set\n",
    "print(classification_report(y_test, y_pred))\n",
    "print(\"Accuracy:\", accuracy_score(y_test, y_pred))"
   ]
  },
  {
   "cell_type": "markdown",
   "metadata": {},
   "source": [
    "<br/>\n",
    "\n",
    "## Stochastic Gradient Descent"
   ]
  },
  {
   "cell_type": "code",
   "execution_count": 146,
   "metadata": {},
   "outputs": [
    {
     "data": {
      "text/html": [
       "<style>#sk-container-id-9 {\n",
       "  /* Definition of color scheme common for light and dark mode */\n",
       "  --sklearn-color-text: black;\n",
       "  --sklearn-color-line: gray;\n",
       "  /* Definition of color scheme for unfitted estimators */\n",
       "  --sklearn-color-unfitted-level-0: #fff5e6;\n",
       "  --sklearn-color-unfitted-level-1: #f6e4d2;\n",
       "  --sklearn-color-unfitted-level-2: #ffe0b3;\n",
       "  --sklearn-color-unfitted-level-3: chocolate;\n",
       "  /* Definition of color scheme for fitted estimators */\n",
       "  --sklearn-color-fitted-level-0: #f0f8ff;\n",
       "  --sklearn-color-fitted-level-1: #d4ebff;\n",
       "  --sklearn-color-fitted-level-2: #b3dbfd;\n",
       "  --sklearn-color-fitted-level-3: cornflowerblue;\n",
       "\n",
       "  /* Specific color for light theme */\n",
       "  --sklearn-color-text-on-default-background: var(--sg-text-color, var(--theme-code-foreground, var(--jp-content-font-color1, black)));\n",
       "  --sklearn-color-background: var(--sg-background-color, var(--theme-background, var(--jp-layout-color0, white)));\n",
       "  --sklearn-color-border-box: var(--sg-text-color, var(--theme-code-foreground, var(--jp-content-font-color1, black)));\n",
       "  --sklearn-color-icon: #696969;\n",
       "\n",
       "  @media (prefers-color-scheme: dark) {\n",
       "    /* Redefinition of color scheme for dark theme */\n",
       "    --sklearn-color-text-on-default-background: var(--sg-text-color, var(--theme-code-foreground, var(--jp-content-font-color1, white)));\n",
       "    --sklearn-color-background: var(--sg-background-color, var(--theme-background, var(--jp-layout-color0, #111)));\n",
       "    --sklearn-color-border-box: var(--sg-text-color, var(--theme-code-foreground, var(--jp-content-font-color1, white)));\n",
       "    --sklearn-color-icon: #878787;\n",
       "  }\n",
       "}\n",
       "\n",
       "#sk-container-id-9 {\n",
       "  color: var(--sklearn-color-text);\n",
       "}\n",
       "\n",
       "#sk-container-id-9 pre {\n",
       "  padding: 0;\n",
       "}\n",
       "\n",
       "#sk-container-id-9 input.sk-hidden--visually {\n",
       "  border: 0;\n",
       "  clip: rect(1px 1px 1px 1px);\n",
       "  clip: rect(1px, 1px, 1px, 1px);\n",
       "  height: 1px;\n",
       "  margin: -1px;\n",
       "  overflow: hidden;\n",
       "  padding: 0;\n",
       "  position: absolute;\n",
       "  width: 1px;\n",
       "}\n",
       "\n",
       "#sk-container-id-9 div.sk-dashed-wrapped {\n",
       "  border: 1px dashed var(--sklearn-color-line);\n",
       "  margin: 0 0.4em 0.5em 0.4em;\n",
       "  box-sizing: border-box;\n",
       "  padding-bottom: 0.4em;\n",
       "  background-color: var(--sklearn-color-background);\n",
       "}\n",
       "\n",
       "#sk-container-id-9 div.sk-container {\n",
       "  /* jupyter's `normalize.less` sets `[hidden] { display: none; }`\n",
       "     but bootstrap.min.css set `[hidden] { display: none !important; }`\n",
       "     so we also need the `!important` here to be able to override the\n",
       "     default hidden behavior on the sphinx rendered scikit-learn.org.\n",
       "     See: https://github.com/scikit-learn/scikit-learn/issues/21755 */\n",
       "  display: inline-block !important;\n",
       "  position: relative;\n",
       "}\n",
       "\n",
       "#sk-container-id-9 div.sk-text-repr-fallback {\n",
       "  display: none;\n",
       "}\n",
       "\n",
       "div.sk-parallel-item,\n",
       "div.sk-serial,\n",
       "div.sk-item {\n",
       "  /* draw centered vertical line to link estimators */\n",
       "  background-image: linear-gradient(var(--sklearn-color-text-on-default-background), var(--sklearn-color-text-on-default-background));\n",
       "  background-size: 2px 100%;\n",
       "  background-repeat: no-repeat;\n",
       "  background-position: center center;\n",
       "}\n",
       "\n",
       "/* Parallel-specific style estimator block */\n",
       "\n",
       "#sk-container-id-9 div.sk-parallel-item::after {\n",
       "  content: \"\";\n",
       "  width: 100%;\n",
       "  border-bottom: 2px solid var(--sklearn-color-text-on-default-background);\n",
       "  flex-grow: 1;\n",
       "}\n",
       "\n",
       "#sk-container-id-9 div.sk-parallel {\n",
       "  display: flex;\n",
       "  align-items: stretch;\n",
       "  justify-content: center;\n",
       "  background-color: var(--sklearn-color-background);\n",
       "  position: relative;\n",
       "}\n",
       "\n",
       "#sk-container-id-9 div.sk-parallel-item {\n",
       "  display: flex;\n",
       "  flex-direction: column;\n",
       "}\n",
       "\n",
       "#sk-container-id-9 div.sk-parallel-item:first-child::after {\n",
       "  align-self: flex-end;\n",
       "  width: 50%;\n",
       "}\n",
       "\n",
       "#sk-container-id-9 div.sk-parallel-item:last-child::after {\n",
       "  align-self: flex-start;\n",
       "  width: 50%;\n",
       "}\n",
       "\n",
       "#sk-container-id-9 div.sk-parallel-item:only-child::after {\n",
       "  width: 0;\n",
       "}\n",
       "\n",
       "/* Serial-specific style estimator block */\n",
       "\n",
       "#sk-container-id-9 div.sk-serial {\n",
       "  display: flex;\n",
       "  flex-direction: column;\n",
       "  align-items: center;\n",
       "  background-color: var(--sklearn-color-background);\n",
       "  padding-right: 1em;\n",
       "  padding-left: 1em;\n",
       "}\n",
       "\n",
       "\n",
       "/* Toggleable style: style used for estimator/Pipeline/ColumnTransformer box that is\n",
       "clickable and can be expanded/collapsed.\n",
       "- Pipeline and ColumnTransformer use this feature and define the default style\n",
       "- Estimators will overwrite some part of the style using the `sk-estimator` class\n",
       "*/\n",
       "\n",
       "/* Pipeline and ColumnTransformer style (default) */\n",
       "\n",
       "#sk-container-id-9 div.sk-toggleable {\n",
       "  /* Default theme specific background. It is overwritten whether we have a\n",
       "  specific estimator or a Pipeline/ColumnTransformer */\n",
       "  background-color: var(--sklearn-color-background);\n",
       "}\n",
       "\n",
       "/* Toggleable label */\n",
       "#sk-container-id-9 label.sk-toggleable__label {\n",
       "  cursor: pointer;\n",
       "  display: block;\n",
       "  width: 100%;\n",
       "  margin-bottom: 0;\n",
       "  padding: 0.5em;\n",
       "  box-sizing: border-box;\n",
       "  text-align: center;\n",
       "}\n",
       "\n",
       "#sk-container-id-9 label.sk-toggleable__label-arrow:before {\n",
       "  /* Arrow on the left of the label */\n",
       "  content: \"▸\";\n",
       "  float: left;\n",
       "  margin-right: 0.25em;\n",
       "  color: var(--sklearn-color-icon);\n",
       "}\n",
       "\n",
       "#sk-container-id-9 label.sk-toggleable__label-arrow:hover:before {\n",
       "  color: var(--sklearn-color-text);\n",
       "}\n",
       "\n",
       "/* Toggleable content - dropdown */\n",
       "\n",
       "#sk-container-id-9 div.sk-toggleable__content {\n",
       "  max-height: 0;\n",
       "  max-width: 0;\n",
       "  overflow: hidden;\n",
       "  text-align: left;\n",
       "  /* unfitted */\n",
       "  background-color: var(--sklearn-color-unfitted-level-0);\n",
       "}\n",
       "\n",
       "#sk-container-id-9 div.sk-toggleable__content.fitted {\n",
       "  /* fitted */\n",
       "  background-color: var(--sklearn-color-fitted-level-0);\n",
       "}\n",
       "\n",
       "#sk-container-id-9 div.sk-toggleable__content pre {\n",
       "  margin: 0.2em;\n",
       "  border-radius: 0.25em;\n",
       "  color: var(--sklearn-color-text);\n",
       "  /* unfitted */\n",
       "  background-color: var(--sklearn-color-unfitted-level-0);\n",
       "}\n",
       "\n",
       "#sk-container-id-9 div.sk-toggleable__content.fitted pre {\n",
       "  /* unfitted */\n",
       "  background-color: var(--sklearn-color-fitted-level-0);\n",
       "}\n",
       "\n",
       "#sk-container-id-9 input.sk-toggleable__control:checked~div.sk-toggleable__content {\n",
       "  /* Expand drop-down */\n",
       "  max-height: 200px;\n",
       "  max-width: 100%;\n",
       "  overflow: auto;\n",
       "}\n",
       "\n",
       "#sk-container-id-9 input.sk-toggleable__control:checked~label.sk-toggleable__label-arrow:before {\n",
       "  content: \"▾\";\n",
       "}\n",
       "\n",
       "/* Pipeline/ColumnTransformer-specific style */\n",
       "\n",
       "#sk-container-id-9 div.sk-label input.sk-toggleable__control:checked~label.sk-toggleable__label {\n",
       "  color: var(--sklearn-color-text);\n",
       "  background-color: var(--sklearn-color-unfitted-level-2);\n",
       "}\n",
       "\n",
       "#sk-container-id-9 div.sk-label.fitted input.sk-toggleable__control:checked~label.sk-toggleable__label {\n",
       "  background-color: var(--sklearn-color-fitted-level-2);\n",
       "}\n",
       "\n",
       "/* Estimator-specific style */\n",
       "\n",
       "/* Colorize estimator box */\n",
       "#sk-container-id-9 div.sk-estimator input.sk-toggleable__control:checked~label.sk-toggleable__label {\n",
       "  /* unfitted */\n",
       "  background-color: var(--sklearn-color-unfitted-level-2);\n",
       "}\n",
       "\n",
       "#sk-container-id-9 div.sk-estimator.fitted input.sk-toggleable__control:checked~label.sk-toggleable__label {\n",
       "  /* fitted */\n",
       "  background-color: var(--sklearn-color-fitted-level-2);\n",
       "}\n",
       "\n",
       "#sk-container-id-9 div.sk-label label.sk-toggleable__label,\n",
       "#sk-container-id-9 div.sk-label label {\n",
       "  /* The background is the default theme color */\n",
       "  color: var(--sklearn-color-text-on-default-background);\n",
       "}\n",
       "\n",
       "/* On hover, darken the color of the background */\n",
       "#sk-container-id-9 div.sk-label:hover label.sk-toggleable__label {\n",
       "  color: var(--sklearn-color-text);\n",
       "  background-color: var(--sklearn-color-unfitted-level-2);\n",
       "}\n",
       "\n",
       "/* Label box, darken color on hover, fitted */\n",
       "#sk-container-id-9 div.sk-label.fitted:hover label.sk-toggleable__label.fitted {\n",
       "  color: var(--sklearn-color-text);\n",
       "  background-color: var(--sklearn-color-fitted-level-2);\n",
       "}\n",
       "\n",
       "/* Estimator label */\n",
       "\n",
       "#sk-container-id-9 div.sk-label label {\n",
       "  font-family: monospace;\n",
       "  font-weight: bold;\n",
       "  display: inline-block;\n",
       "  line-height: 1.2em;\n",
       "}\n",
       "\n",
       "#sk-container-id-9 div.sk-label-container {\n",
       "  text-align: center;\n",
       "}\n",
       "\n",
       "/* Estimator-specific */\n",
       "#sk-container-id-9 div.sk-estimator {\n",
       "  font-family: monospace;\n",
       "  border: 1px dotted var(--sklearn-color-border-box);\n",
       "  border-radius: 0.25em;\n",
       "  box-sizing: border-box;\n",
       "  margin-bottom: 0.5em;\n",
       "  /* unfitted */\n",
       "  background-color: var(--sklearn-color-unfitted-level-0);\n",
       "}\n",
       "\n",
       "#sk-container-id-9 div.sk-estimator.fitted {\n",
       "  /* fitted */\n",
       "  background-color: var(--sklearn-color-fitted-level-0);\n",
       "}\n",
       "\n",
       "/* on hover */\n",
       "#sk-container-id-9 div.sk-estimator:hover {\n",
       "  /* unfitted */\n",
       "  background-color: var(--sklearn-color-unfitted-level-2);\n",
       "}\n",
       "\n",
       "#sk-container-id-9 div.sk-estimator.fitted:hover {\n",
       "  /* fitted */\n",
       "  background-color: var(--sklearn-color-fitted-level-2);\n",
       "}\n",
       "\n",
       "/* Specification for estimator info (e.g. \"i\" and \"?\") */\n",
       "\n",
       "/* Common style for \"i\" and \"?\" */\n",
       "\n",
       ".sk-estimator-doc-link,\n",
       "a:link.sk-estimator-doc-link,\n",
       "a:visited.sk-estimator-doc-link {\n",
       "  float: right;\n",
       "  font-size: smaller;\n",
       "  line-height: 1em;\n",
       "  font-family: monospace;\n",
       "  background-color: var(--sklearn-color-background);\n",
       "  border-radius: 1em;\n",
       "  height: 1em;\n",
       "  width: 1em;\n",
       "  text-decoration: none !important;\n",
       "  margin-left: 1ex;\n",
       "  /* unfitted */\n",
       "  border: var(--sklearn-color-unfitted-level-1) 1pt solid;\n",
       "  color: var(--sklearn-color-unfitted-level-1);\n",
       "}\n",
       "\n",
       ".sk-estimator-doc-link.fitted,\n",
       "a:link.sk-estimator-doc-link.fitted,\n",
       "a:visited.sk-estimator-doc-link.fitted {\n",
       "  /* fitted */\n",
       "  border: var(--sklearn-color-fitted-level-1) 1pt solid;\n",
       "  color: var(--sklearn-color-fitted-level-1);\n",
       "}\n",
       "\n",
       "/* On hover */\n",
       "div.sk-estimator:hover .sk-estimator-doc-link:hover,\n",
       ".sk-estimator-doc-link:hover,\n",
       "div.sk-label-container:hover .sk-estimator-doc-link:hover,\n",
       ".sk-estimator-doc-link:hover {\n",
       "  /* unfitted */\n",
       "  background-color: var(--sklearn-color-unfitted-level-3);\n",
       "  color: var(--sklearn-color-background);\n",
       "  text-decoration: none;\n",
       "}\n",
       "\n",
       "div.sk-estimator.fitted:hover .sk-estimator-doc-link.fitted:hover,\n",
       ".sk-estimator-doc-link.fitted:hover,\n",
       "div.sk-label-container:hover .sk-estimator-doc-link.fitted:hover,\n",
       ".sk-estimator-doc-link.fitted:hover {\n",
       "  /* fitted */\n",
       "  background-color: var(--sklearn-color-fitted-level-3);\n",
       "  color: var(--sklearn-color-background);\n",
       "  text-decoration: none;\n",
       "}\n",
       "\n",
       "/* Span, style for the box shown on hovering the info icon */\n",
       ".sk-estimator-doc-link span {\n",
       "  display: none;\n",
       "  z-index: 9999;\n",
       "  position: relative;\n",
       "  font-weight: normal;\n",
       "  right: .2ex;\n",
       "  padding: .5ex;\n",
       "  margin: .5ex;\n",
       "  width: min-content;\n",
       "  min-width: 20ex;\n",
       "  max-width: 50ex;\n",
       "  color: var(--sklearn-color-text);\n",
       "  box-shadow: 2pt 2pt 4pt #999;\n",
       "  /* unfitted */\n",
       "  background: var(--sklearn-color-unfitted-level-0);\n",
       "  border: .5pt solid var(--sklearn-color-unfitted-level-3);\n",
       "}\n",
       "\n",
       ".sk-estimator-doc-link.fitted span {\n",
       "  /* fitted */\n",
       "  background: var(--sklearn-color-fitted-level-0);\n",
       "  border: var(--sklearn-color-fitted-level-3);\n",
       "}\n",
       "\n",
       ".sk-estimator-doc-link:hover span {\n",
       "  display: block;\n",
       "}\n",
       "\n",
       "/* \"?\"-specific style due to the `<a>` HTML tag */\n",
       "\n",
       "#sk-container-id-9 a.estimator_doc_link {\n",
       "  float: right;\n",
       "  font-size: 1rem;\n",
       "  line-height: 1em;\n",
       "  font-family: monospace;\n",
       "  background-color: var(--sklearn-color-background);\n",
       "  border-radius: 1rem;\n",
       "  height: 1rem;\n",
       "  width: 1rem;\n",
       "  text-decoration: none;\n",
       "  /* unfitted */\n",
       "  color: var(--sklearn-color-unfitted-level-1);\n",
       "  border: var(--sklearn-color-unfitted-level-1) 1pt solid;\n",
       "}\n",
       "\n",
       "#sk-container-id-9 a.estimator_doc_link.fitted {\n",
       "  /* fitted */\n",
       "  border: var(--sklearn-color-fitted-level-1) 1pt solid;\n",
       "  color: var(--sklearn-color-fitted-level-1);\n",
       "}\n",
       "\n",
       "/* On hover */\n",
       "#sk-container-id-9 a.estimator_doc_link:hover {\n",
       "  /* unfitted */\n",
       "  background-color: var(--sklearn-color-unfitted-level-3);\n",
       "  color: var(--sklearn-color-background);\n",
       "  text-decoration: none;\n",
       "}\n",
       "\n",
       "#sk-container-id-9 a.estimator_doc_link.fitted:hover {\n",
       "  /* fitted */\n",
       "  background-color: var(--sklearn-color-fitted-level-3);\n",
       "}\n",
       "</style><div id=\"sk-container-id-9\" class=\"sk-top-container\"><div class=\"sk-text-repr-fallback\"><pre>SGDClassifier()</pre><b>In a Jupyter environment, please rerun this cell to show the HTML representation or trust the notebook. <br />On GitHub, the HTML representation is unable to render, please try loading this page with nbviewer.org.</b></div><div class=\"sk-container\" hidden><div class=\"sk-item\"><div class=\"sk-estimator fitted sk-toggleable\"><input class=\"sk-toggleable__control sk-hidden--visually\" id=\"sk-estimator-id-9\" type=\"checkbox\" checked><label for=\"sk-estimator-id-9\" class=\"sk-toggleable__label fitted sk-toggleable__label-arrow fitted\">&nbsp;&nbsp;SGDClassifier<a class=\"sk-estimator-doc-link fitted\" rel=\"noreferrer\" target=\"_blank\" href=\"https://scikit-learn.org/1.5/modules/generated/sklearn.linear_model.SGDClassifier.html\">?<span>Documentation for SGDClassifier</span></a><span class=\"sk-estimator-doc-link fitted\">i<span>Fitted</span></span></label><div class=\"sk-toggleable__content fitted\"><pre>SGDClassifier()</pre></div> </div></div></div></div>"
      ],
      "text/plain": [
       "SGDClassifier()"
      ]
     },
     "execution_count": 146,
     "metadata": {},
     "output_type": "execute_result"
    }
   ],
   "source": [
    "from sklearn.linear_model import SGDClassifier\n",
    "\n",
    "# Initialize the model\n",
    "model = SGDClassifier()\n",
    "\n",
    "# Fit the model to the training data\n",
    "model.fit(X_train, y_train)"
   ]
  },
  {
   "cell_type": "code",
   "execution_count": 147,
   "metadata": {},
   "outputs": [
    {
     "name": "stdout",
     "output_type": "stream",
     "text": [
      "Training Accuracy: 0.6707227138643068\n",
      "              precision    recall  f1-score   support\n",
      "\n",
      "           0       0.79      0.60      0.68       240\n",
      "           1       0.91      0.49      0.64       160\n",
      "           2       0.63      0.93      0.75       570\n",
      "           3       0.50      0.18      0.27        61\n",
      "           4       0.67      0.06      0.12       127\n",
      "           5       0.96      0.14      0.24       184\n",
      "           6       0.88      0.35      0.50       100\n",
      "           7       0.78      0.32      0.45       147\n",
      "           8       0.73      0.40      0.52        87\n",
      "           9       0.95      0.98      0.97       230\n",
      "          10       0.77      0.95      0.85       586\n",
      "          11       0.28      0.56      0.38       220\n",
      "\n",
      "    accuracy                           0.67      2712\n",
      "   macro avg       0.74      0.50      0.53      2712\n",
      "weighted avg       0.73      0.67      0.64      2712\n",
      "\n"
     ]
    }
   ],
   "source": [
    "# Predict labels for the training set\n",
    "y_pred = model.predict(X_train)\n",
    "\n",
    "# Output the accuracy of predictions on the training set\n",
    "print('Training Accuracy:', accuracy_score(y_train, y_pred))\n",
    "print(classification_report(y_train, y_pred))"
   ]
  },
  {
   "cell_type": "code",
   "execution_count": 148,
   "metadata": {},
   "outputs": [
    {
     "name": "stdout",
     "output_type": "stream",
     "text": [
      "              precision    recall  f1-score   support\n",
      "\n",
      "           0       0.75      0.56      0.64       164\n",
      "           1       0.92      0.57      0.71        84\n",
      "           2       0.63      0.93      0.75       391\n",
      "           3       0.67      0.18      0.28        45\n",
      "           4       0.43      0.04      0.07        84\n",
      "           5       0.58      0.07      0.13        99\n",
      "           6       0.88      0.44      0.58        64\n",
      "           7       0.88      0.29      0.44       126\n",
      "           8       0.59      0.42      0.49        45\n",
      "           9       0.95      0.99      0.97       165\n",
      "          10       0.78      0.94      0.85       375\n",
      "          11       0.39      0.71      0.51       167\n",
      "\n",
      "    accuracy                           0.68      1809\n",
      "   macro avg       0.71      0.51      0.53      1809\n",
      "weighted avg       0.71      0.68      0.65      1809\n",
      "\n",
      "Accuracy: 0.6843559977888336\n"
     ]
    }
   ],
   "source": [
    "# Predict labels for the test set\n",
    "y_pred = model.predict(X_test)\n",
    "\n",
    "# Output the accuracy of predictions on the test set\n",
    "print(classification_report(y_test, y_pred))\n",
    "print(\"Accuracy:\", accuracy_score(y_test, y_pred))"
   ]
  },
  {
   "cell_type": "markdown",
   "metadata": {},
   "source": [
    "<br/>\n",
    "\n",
    "## Neural Network Models "
   ]
  },
  {
   "cell_type": "code",
   "execution_count": 149,
   "metadata": {},
   "outputs": [
    {
     "data": {
      "text/html": [
       "<style>#sk-container-id-10 {\n",
       "  /* Definition of color scheme common for light and dark mode */\n",
       "  --sklearn-color-text: black;\n",
       "  --sklearn-color-line: gray;\n",
       "  /* Definition of color scheme for unfitted estimators */\n",
       "  --sklearn-color-unfitted-level-0: #fff5e6;\n",
       "  --sklearn-color-unfitted-level-1: #f6e4d2;\n",
       "  --sklearn-color-unfitted-level-2: #ffe0b3;\n",
       "  --sklearn-color-unfitted-level-3: chocolate;\n",
       "  /* Definition of color scheme for fitted estimators */\n",
       "  --sklearn-color-fitted-level-0: #f0f8ff;\n",
       "  --sklearn-color-fitted-level-1: #d4ebff;\n",
       "  --sklearn-color-fitted-level-2: #b3dbfd;\n",
       "  --sklearn-color-fitted-level-3: cornflowerblue;\n",
       "\n",
       "  /* Specific color for light theme */\n",
       "  --sklearn-color-text-on-default-background: var(--sg-text-color, var(--theme-code-foreground, var(--jp-content-font-color1, black)));\n",
       "  --sklearn-color-background: var(--sg-background-color, var(--theme-background, var(--jp-layout-color0, white)));\n",
       "  --sklearn-color-border-box: var(--sg-text-color, var(--theme-code-foreground, var(--jp-content-font-color1, black)));\n",
       "  --sklearn-color-icon: #696969;\n",
       "\n",
       "  @media (prefers-color-scheme: dark) {\n",
       "    /* Redefinition of color scheme for dark theme */\n",
       "    --sklearn-color-text-on-default-background: var(--sg-text-color, var(--theme-code-foreground, var(--jp-content-font-color1, white)));\n",
       "    --sklearn-color-background: var(--sg-background-color, var(--theme-background, var(--jp-layout-color0, #111)));\n",
       "    --sklearn-color-border-box: var(--sg-text-color, var(--theme-code-foreground, var(--jp-content-font-color1, white)));\n",
       "    --sklearn-color-icon: #878787;\n",
       "  }\n",
       "}\n",
       "\n",
       "#sk-container-id-10 {\n",
       "  color: var(--sklearn-color-text);\n",
       "}\n",
       "\n",
       "#sk-container-id-10 pre {\n",
       "  padding: 0;\n",
       "}\n",
       "\n",
       "#sk-container-id-10 input.sk-hidden--visually {\n",
       "  border: 0;\n",
       "  clip: rect(1px 1px 1px 1px);\n",
       "  clip: rect(1px, 1px, 1px, 1px);\n",
       "  height: 1px;\n",
       "  margin: -1px;\n",
       "  overflow: hidden;\n",
       "  padding: 0;\n",
       "  position: absolute;\n",
       "  width: 1px;\n",
       "}\n",
       "\n",
       "#sk-container-id-10 div.sk-dashed-wrapped {\n",
       "  border: 1px dashed var(--sklearn-color-line);\n",
       "  margin: 0 0.4em 0.5em 0.4em;\n",
       "  box-sizing: border-box;\n",
       "  padding-bottom: 0.4em;\n",
       "  background-color: var(--sklearn-color-background);\n",
       "}\n",
       "\n",
       "#sk-container-id-10 div.sk-container {\n",
       "  /* jupyter's `normalize.less` sets `[hidden] { display: none; }`\n",
       "     but bootstrap.min.css set `[hidden] { display: none !important; }`\n",
       "     so we also need the `!important` here to be able to override the\n",
       "     default hidden behavior on the sphinx rendered scikit-learn.org.\n",
       "     See: https://github.com/scikit-learn/scikit-learn/issues/21755 */\n",
       "  display: inline-block !important;\n",
       "  position: relative;\n",
       "}\n",
       "\n",
       "#sk-container-id-10 div.sk-text-repr-fallback {\n",
       "  display: none;\n",
       "}\n",
       "\n",
       "div.sk-parallel-item,\n",
       "div.sk-serial,\n",
       "div.sk-item {\n",
       "  /* draw centered vertical line to link estimators */\n",
       "  background-image: linear-gradient(var(--sklearn-color-text-on-default-background), var(--sklearn-color-text-on-default-background));\n",
       "  background-size: 2px 100%;\n",
       "  background-repeat: no-repeat;\n",
       "  background-position: center center;\n",
       "}\n",
       "\n",
       "/* Parallel-specific style estimator block */\n",
       "\n",
       "#sk-container-id-10 div.sk-parallel-item::after {\n",
       "  content: \"\";\n",
       "  width: 100%;\n",
       "  border-bottom: 2px solid var(--sklearn-color-text-on-default-background);\n",
       "  flex-grow: 1;\n",
       "}\n",
       "\n",
       "#sk-container-id-10 div.sk-parallel {\n",
       "  display: flex;\n",
       "  align-items: stretch;\n",
       "  justify-content: center;\n",
       "  background-color: var(--sklearn-color-background);\n",
       "  position: relative;\n",
       "}\n",
       "\n",
       "#sk-container-id-10 div.sk-parallel-item {\n",
       "  display: flex;\n",
       "  flex-direction: column;\n",
       "}\n",
       "\n",
       "#sk-container-id-10 div.sk-parallel-item:first-child::after {\n",
       "  align-self: flex-end;\n",
       "  width: 50%;\n",
       "}\n",
       "\n",
       "#sk-container-id-10 div.sk-parallel-item:last-child::after {\n",
       "  align-self: flex-start;\n",
       "  width: 50%;\n",
       "}\n",
       "\n",
       "#sk-container-id-10 div.sk-parallel-item:only-child::after {\n",
       "  width: 0;\n",
       "}\n",
       "\n",
       "/* Serial-specific style estimator block */\n",
       "\n",
       "#sk-container-id-10 div.sk-serial {\n",
       "  display: flex;\n",
       "  flex-direction: column;\n",
       "  align-items: center;\n",
       "  background-color: var(--sklearn-color-background);\n",
       "  padding-right: 1em;\n",
       "  padding-left: 1em;\n",
       "}\n",
       "\n",
       "\n",
       "/* Toggleable style: style used for estimator/Pipeline/ColumnTransformer box that is\n",
       "clickable and can be expanded/collapsed.\n",
       "- Pipeline and ColumnTransformer use this feature and define the default style\n",
       "- Estimators will overwrite some part of the style using the `sk-estimator` class\n",
       "*/\n",
       "\n",
       "/* Pipeline and ColumnTransformer style (default) */\n",
       "\n",
       "#sk-container-id-10 div.sk-toggleable {\n",
       "  /* Default theme specific background. It is overwritten whether we have a\n",
       "  specific estimator or a Pipeline/ColumnTransformer */\n",
       "  background-color: var(--sklearn-color-background);\n",
       "}\n",
       "\n",
       "/* Toggleable label */\n",
       "#sk-container-id-10 label.sk-toggleable__label {\n",
       "  cursor: pointer;\n",
       "  display: block;\n",
       "  width: 100%;\n",
       "  margin-bottom: 0;\n",
       "  padding: 0.5em;\n",
       "  box-sizing: border-box;\n",
       "  text-align: center;\n",
       "}\n",
       "\n",
       "#sk-container-id-10 label.sk-toggleable__label-arrow:before {\n",
       "  /* Arrow on the left of the label */\n",
       "  content: \"▸\";\n",
       "  float: left;\n",
       "  margin-right: 0.25em;\n",
       "  color: var(--sklearn-color-icon);\n",
       "}\n",
       "\n",
       "#sk-container-id-10 label.sk-toggleable__label-arrow:hover:before {\n",
       "  color: var(--sklearn-color-text);\n",
       "}\n",
       "\n",
       "/* Toggleable content - dropdown */\n",
       "\n",
       "#sk-container-id-10 div.sk-toggleable__content {\n",
       "  max-height: 0;\n",
       "  max-width: 0;\n",
       "  overflow: hidden;\n",
       "  text-align: left;\n",
       "  /* unfitted */\n",
       "  background-color: var(--sklearn-color-unfitted-level-0);\n",
       "}\n",
       "\n",
       "#sk-container-id-10 div.sk-toggleable__content.fitted {\n",
       "  /* fitted */\n",
       "  background-color: var(--sklearn-color-fitted-level-0);\n",
       "}\n",
       "\n",
       "#sk-container-id-10 div.sk-toggleable__content pre {\n",
       "  margin: 0.2em;\n",
       "  border-radius: 0.25em;\n",
       "  color: var(--sklearn-color-text);\n",
       "  /* unfitted */\n",
       "  background-color: var(--sklearn-color-unfitted-level-0);\n",
       "}\n",
       "\n",
       "#sk-container-id-10 div.sk-toggleable__content.fitted pre {\n",
       "  /* unfitted */\n",
       "  background-color: var(--sklearn-color-fitted-level-0);\n",
       "}\n",
       "\n",
       "#sk-container-id-10 input.sk-toggleable__control:checked~div.sk-toggleable__content {\n",
       "  /* Expand drop-down */\n",
       "  max-height: 200px;\n",
       "  max-width: 100%;\n",
       "  overflow: auto;\n",
       "}\n",
       "\n",
       "#sk-container-id-10 input.sk-toggleable__control:checked~label.sk-toggleable__label-arrow:before {\n",
       "  content: \"▾\";\n",
       "}\n",
       "\n",
       "/* Pipeline/ColumnTransformer-specific style */\n",
       "\n",
       "#sk-container-id-10 div.sk-label input.sk-toggleable__control:checked~label.sk-toggleable__label {\n",
       "  color: var(--sklearn-color-text);\n",
       "  background-color: var(--sklearn-color-unfitted-level-2);\n",
       "}\n",
       "\n",
       "#sk-container-id-10 div.sk-label.fitted input.sk-toggleable__control:checked~label.sk-toggleable__label {\n",
       "  background-color: var(--sklearn-color-fitted-level-2);\n",
       "}\n",
       "\n",
       "/* Estimator-specific style */\n",
       "\n",
       "/* Colorize estimator box */\n",
       "#sk-container-id-10 div.sk-estimator input.sk-toggleable__control:checked~label.sk-toggleable__label {\n",
       "  /* unfitted */\n",
       "  background-color: var(--sklearn-color-unfitted-level-2);\n",
       "}\n",
       "\n",
       "#sk-container-id-10 div.sk-estimator.fitted input.sk-toggleable__control:checked~label.sk-toggleable__label {\n",
       "  /* fitted */\n",
       "  background-color: var(--sklearn-color-fitted-level-2);\n",
       "}\n",
       "\n",
       "#sk-container-id-10 div.sk-label label.sk-toggleable__label,\n",
       "#sk-container-id-10 div.sk-label label {\n",
       "  /* The background is the default theme color */\n",
       "  color: var(--sklearn-color-text-on-default-background);\n",
       "}\n",
       "\n",
       "/* On hover, darken the color of the background */\n",
       "#sk-container-id-10 div.sk-label:hover label.sk-toggleable__label {\n",
       "  color: var(--sklearn-color-text);\n",
       "  background-color: var(--sklearn-color-unfitted-level-2);\n",
       "}\n",
       "\n",
       "/* Label box, darken color on hover, fitted */\n",
       "#sk-container-id-10 div.sk-label.fitted:hover label.sk-toggleable__label.fitted {\n",
       "  color: var(--sklearn-color-text);\n",
       "  background-color: var(--sklearn-color-fitted-level-2);\n",
       "}\n",
       "\n",
       "/* Estimator label */\n",
       "\n",
       "#sk-container-id-10 div.sk-label label {\n",
       "  font-family: monospace;\n",
       "  font-weight: bold;\n",
       "  display: inline-block;\n",
       "  line-height: 1.2em;\n",
       "}\n",
       "\n",
       "#sk-container-id-10 div.sk-label-container {\n",
       "  text-align: center;\n",
       "}\n",
       "\n",
       "/* Estimator-specific */\n",
       "#sk-container-id-10 div.sk-estimator {\n",
       "  font-family: monospace;\n",
       "  border: 1px dotted var(--sklearn-color-border-box);\n",
       "  border-radius: 0.25em;\n",
       "  box-sizing: border-box;\n",
       "  margin-bottom: 0.5em;\n",
       "  /* unfitted */\n",
       "  background-color: var(--sklearn-color-unfitted-level-0);\n",
       "}\n",
       "\n",
       "#sk-container-id-10 div.sk-estimator.fitted {\n",
       "  /* fitted */\n",
       "  background-color: var(--sklearn-color-fitted-level-0);\n",
       "}\n",
       "\n",
       "/* on hover */\n",
       "#sk-container-id-10 div.sk-estimator:hover {\n",
       "  /* unfitted */\n",
       "  background-color: var(--sklearn-color-unfitted-level-2);\n",
       "}\n",
       "\n",
       "#sk-container-id-10 div.sk-estimator.fitted:hover {\n",
       "  /* fitted */\n",
       "  background-color: var(--sklearn-color-fitted-level-2);\n",
       "}\n",
       "\n",
       "/* Specification for estimator info (e.g. \"i\" and \"?\") */\n",
       "\n",
       "/* Common style for \"i\" and \"?\" */\n",
       "\n",
       ".sk-estimator-doc-link,\n",
       "a:link.sk-estimator-doc-link,\n",
       "a:visited.sk-estimator-doc-link {\n",
       "  float: right;\n",
       "  font-size: smaller;\n",
       "  line-height: 1em;\n",
       "  font-family: monospace;\n",
       "  background-color: var(--sklearn-color-background);\n",
       "  border-radius: 1em;\n",
       "  height: 1em;\n",
       "  width: 1em;\n",
       "  text-decoration: none !important;\n",
       "  margin-left: 1ex;\n",
       "  /* unfitted */\n",
       "  border: var(--sklearn-color-unfitted-level-1) 1pt solid;\n",
       "  color: var(--sklearn-color-unfitted-level-1);\n",
       "}\n",
       "\n",
       ".sk-estimator-doc-link.fitted,\n",
       "a:link.sk-estimator-doc-link.fitted,\n",
       "a:visited.sk-estimator-doc-link.fitted {\n",
       "  /* fitted */\n",
       "  border: var(--sklearn-color-fitted-level-1) 1pt solid;\n",
       "  color: var(--sklearn-color-fitted-level-1);\n",
       "}\n",
       "\n",
       "/* On hover */\n",
       "div.sk-estimator:hover .sk-estimator-doc-link:hover,\n",
       ".sk-estimator-doc-link:hover,\n",
       "div.sk-label-container:hover .sk-estimator-doc-link:hover,\n",
       ".sk-estimator-doc-link:hover {\n",
       "  /* unfitted */\n",
       "  background-color: var(--sklearn-color-unfitted-level-3);\n",
       "  color: var(--sklearn-color-background);\n",
       "  text-decoration: none;\n",
       "}\n",
       "\n",
       "div.sk-estimator.fitted:hover .sk-estimator-doc-link.fitted:hover,\n",
       ".sk-estimator-doc-link.fitted:hover,\n",
       "div.sk-label-container:hover .sk-estimator-doc-link.fitted:hover,\n",
       ".sk-estimator-doc-link.fitted:hover {\n",
       "  /* fitted */\n",
       "  background-color: var(--sklearn-color-fitted-level-3);\n",
       "  color: var(--sklearn-color-background);\n",
       "  text-decoration: none;\n",
       "}\n",
       "\n",
       "/* Span, style for the box shown on hovering the info icon */\n",
       ".sk-estimator-doc-link span {\n",
       "  display: none;\n",
       "  z-index: 9999;\n",
       "  position: relative;\n",
       "  font-weight: normal;\n",
       "  right: .2ex;\n",
       "  padding: .5ex;\n",
       "  margin: .5ex;\n",
       "  width: min-content;\n",
       "  min-width: 20ex;\n",
       "  max-width: 50ex;\n",
       "  color: var(--sklearn-color-text);\n",
       "  box-shadow: 2pt 2pt 4pt #999;\n",
       "  /* unfitted */\n",
       "  background: var(--sklearn-color-unfitted-level-0);\n",
       "  border: .5pt solid var(--sklearn-color-unfitted-level-3);\n",
       "}\n",
       "\n",
       ".sk-estimator-doc-link.fitted span {\n",
       "  /* fitted */\n",
       "  background: var(--sklearn-color-fitted-level-0);\n",
       "  border: var(--sklearn-color-fitted-level-3);\n",
       "}\n",
       "\n",
       ".sk-estimator-doc-link:hover span {\n",
       "  display: block;\n",
       "}\n",
       "\n",
       "/* \"?\"-specific style due to the `<a>` HTML tag */\n",
       "\n",
       "#sk-container-id-10 a.estimator_doc_link {\n",
       "  float: right;\n",
       "  font-size: 1rem;\n",
       "  line-height: 1em;\n",
       "  font-family: monospace;\n",
       "  background-color: var(--sklearn-color-background);\n",
       "  border-radius: 1rem;\n",
       "  height: 1rem;\n",
       "  width: 1rem;\n",
       "  text-decoration: none;\n",
       "  /* unfitted */\n",
       "  color: var(--sklearn-color-unfitted-level-1);\n",
       "  border: var(--sklearn-color-unfitted-level-1) 1pt solid;\n",
       "}\n",
       "\n",
       "#sk-container-id-10 a.estimator_doc_link.fitted {\n",
       "  /* fitted */\n",
       "  border: var(--sklearn-color-fitted-level-1) 1pt solid;\n",
       "  color: var(--sklearn-color-fitted-level-1);\n",
       "}\n",
       "\n",
       "/* On hover */\n",
       "#sk-container-id-10 a.estimator_doc_link:hover {\n",
       "  /* unfitted */\n",
       "  background-color: var(--sklearn-color-unfitted-level-3);\n",
       "  color: var(--sklearn-color-background);\n",
       "  text-decoration: none;\n",
       "}\n",
       "\n",
       "#sk-container-id-10 a.estimator_doc_link.fitted:hover {\n",
       "  /* fitted */\n",
       "  background-color: var(--sklearn-color-fitted-level-3);\n",
       "}\n",
       "</style><div id=\"sk-container-id-10\" class=\"sk-top-container\"><div class=\"sk-text-repr-fallback\"><pre>MLPClassifier()</pre><b>In a Jupyter environment, please rerun this cell to show the HTML representation or trust the notebook. <br />On GitHub, the HTML representation is unable to render, please try loading this page with nbviewer.org.</b></div><div class=\"sk-container\" hidden><div class=\"sk-item\"><div class=\"sk-estimator fitted sk-toggleable\"><input class=\"sk-toggleable__control sk-hidden--visually\" id=\"sk-estimator-id-10\" type=\"checkbox\" checked><label for=\"sk-estimator-id-10\" class=\"sk-toggleable__label fitted sk-toggleable__label-arrow fitted\">&nbsp;&nbsp;MLPClassifier<a class=\"sk-estimator-doc-link fitted\" rel=\"noreferrer\" target=\"_blank\" href=\"https://scikit-learn.org/1.5/modules/generated/sklearn.neural_network.MLPClassifier.html\">?<span>Documentation for MLPClassifier</span></a><span class=\"sk-estimator-doc-link fitted\">i<span>Fitted</span></span></label><div class=\"sk-toggleable__content fitted\"><pre>MLPClassifier()</pre></div> </div></div></div></div>"
      ],
      "text/plain": [
       "MLPClassifier()"
      ]
     },
     "execution_count": 149,
     "metadata": {},
     "output_type": "execute_result"
    }
   ],
   "source": [
    "from sklearn.neural_network import MLPClassifier\n",
    "\n",
    "# Initialize the model\n",
    "model = MLPClassifier()\n",
    "\n",
    "# Fit the model to the training data\n",
    "model.fit(X_train, y_train)"
   ]
  },
  {
   "cell_type": "code",
   "execution_count": 150,
   "metadata": {},
   "outputs": [
    {
     "name": "stdout",
     "output_type": "stream",
     "text": [
      "Training Accuracy: 0.8484513274336283\n",
      "              precision    recall  f1-score   support\n",
      "\n",
      "           0       0.77      0.89      0.83       240\n",
      "           1       0.94      0.70      0.80       160\n",
      "           2       0.87      0.98      0.92       570\n",
      "           3       0.76      0.36      0.49        61\n",
      "           4       0.63      0.42      0.50       127\n",
      "           5       0.78      0.72      0.75       184\n",
      "           6       0.91      0.81      0.86       100\n",
      "           7       0.81      0.59      0.68       147\n",
      "           8       0.87      0.92      0.89        87\n",
      "           9       0.98      1.00      0.99       230\n",
      "          10       0.89      0.97      0.93       586\n",
      "          11       0.70      0.75      0.73       220\n",
      "\n",
      "    accuracy                           0.85      2712\n",
      "   macro avg       0.83      0.76      0.78      2712\n",
      "weighted avg       0.85      0.85      0.84      2712\n",
      "\n"
     ]
    }
   ],
   "source": [
    "# Predict labels for the training set\n",
    "y_pred = model.predict(X_train)\n",
    "\n",
    "# Output the accuracy of predictions on the training set\n",
    "print('Training Accuracy:', accuracy_score(y_train, y_pred))\n",
    "print(classification_report(y_train, y_pred))"
   ]
  },
  {
   "cell_type": "code",
   "execution_count": 151,
   "metadata": {},
   "outputs": [
    {
     "name": "stdout",
     "output_type": "stream",
     "text": [
      "              precision    recall  f1-score   support\n",
      "\n",
      "           0       0.67      0.74      0.71       164\n",
      "           1       0.84      0.68      0.75        84\n",
      "           2       0.86      0.96      0.91       391\n",
      "           3       0.88      0.49      0.63        45\n",
      "           4       0.66      0.37      0.47        84\n",
      "           5       0.61      0.63      0.62        99\n",
      "           6       0.73      0.70      0.71        64\n",
      "           7       0.70      0.48      0.57       126\n",
      "           8       0.74      0.89      0.81        45\n",
      "           9       0.99      0.98      0.98       165\n",
      "          10       0.87      0.96      0.92       375\n",
      "          11       0.70      0.73      0.72       167\n",
      "\n",
      "    accuracy                           0.81      1809\n",
      "   macro avg       0.77      0.72      0.73      1809\n",
      "weighted avg       0.80      0.81      0.80      1809\n",
      "\n",
      "Accuracy: 0.806522940851299\n"
     ]
    }
   ],
   "source": [
    "# Predict labels for the test set\n",
    "y_pred = model.predict(X_test)\n",
    "\n",
    "# Output the accuracy of predictions on the test set\n",
    "print(classification_report(y_test, y_pred))\n",
    "print(\"Accuracy:\", accuracy_score(y_test, y_pred))"
   ]
  }
 ],
 "metadata": {
  "kernelspec": {
   "display_name": "msc",
   "language": "python",
   "name": "python3"
  },
  "language_info": {
   "codemirror_mode": {
    "name": "ipython",
    "version": 3
   },
   "file_extension": ".py",
   "mimetype": "text/x-python",
   "name": "python",
   "nbconvert_exporter": "python",
   "pygments_lexer": "ipython3",
   "version": "3.12.4"
  }
 },
 "nbformat": 4,
 "nbformat_minor": 2
}
