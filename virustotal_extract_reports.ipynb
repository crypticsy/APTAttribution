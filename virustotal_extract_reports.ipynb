{
 "cells": [
  {
   "cell_type": "markdown",
   "metadata": {},
   "source": [
    "#### Importing Libraries"
   ]
  },
  {
   "cell_type": "code",
   "execution_count": 1,
   "metadata": {},
   "outputs": [],
   "source": [
    "# Import necessary libraries\n",
    "import os\n",
    "import json\n",
    "import requests\n",
    "import pandas as pd"
   ]
  },
  {
   "cell_type": "markdown",
   "metadata": {},
   "source": [
    "#### Setting up Paths and API Keys"
   ]
  },
  {
   "cell_type": "code",
   "execution_count": 2,
   "metadata": {},
   "outputs": [],
   "source": [
    "# Establish base and target directories for storing results\n",
    "base_path = os.path.dirname(os.path.realpath('__file__'))\n",
    "results_path = os.path.join(base_path, 'virustotal_behaviour')\n",
    "\n",
    "# List of API keys for accessing the VirusTotal API\n",
    "API_KEYS = [\n",
    "  'e865dc68f3a3459c08e97aea5bf20347c757261a1346101b8116cb72b691ff65',\n",
    "  'ca6dd5a9b76a2b274d7750f24942690539c957847b071d20f57033ffb5010edd'\n",
    "]\n",
    "\n",
    "API_KEY = API_KEYS[1]"
   ]
  },
  {
   "cell_type": "markdown",
   "metadata": {},
   "source": [
    "#### Data Preparation"
   ]
  },
  {
   "cell_type": "code",
   "execution_count": 3,
   "metadata": {},
   "outputs": [
    {
     "data": {
      "text/html": [
       "<div>\n",
       "<style scoped>\n",
       "    .dataframe tbody tr th:only-of-type {\n",
       "        vertical-align: middle;\n",
       "    }\n",
       "\n",
       "    .dataframe tbody tr th {\n",
       "        vertical-align: top;\n",
       "    }\n",
       "\n",
       "    .dataframe thead th {\n",
       "        text-align: right;\n",
       "    }\n",
       "</style>\n",
       "<table border=\"1\" class=\"dataframe\">\n",
       "  <thead>\n",
       "    <tr style=\"text-align: right;\">\n",
       "      <th></th>\n",
       "      <th>ID</th>\n",
       "      <th>Country</th>\n",
       "      <th>APT-group</th>\n",
       "      <th>Family</th>\n",
       "      <th>Status</th>\n",
       "      <th>MD5</th>\n",
       "      <th>SHA1</th>\n",
       "      <th>SHA256</th>\n",
       "      <th>Source</th>\n",
       "      <th>Filetype</th>\n",
       "    </tr>\n",
       "  </thead>\n",
       "  <tbody>\n",
       "    <tr>\n",
       "      <th>0</th>\n",
       "      <td>1</td>\n",
       "      <td>China</td>\n",
       "      <td>APT 1</td>\n",
       "      <td>NaN</td>\n",
       "      <td>V</td>\n",
       "      <td>001dd76872d80801692ff942308c64e6</td>\n",
       "      <td>7f4d6745b9053583b55b87bb16a88840e56e5621</td>\n",
       "      <td>b6bc96ffcbdbf22f908a02b8fe2a392c8e5b8420a12093...</td>\n",
       "      <td>https://www.mandiant.com/sites/default/files/2...</td>\n",
       "      <td>Win32 EXE</td>\n",
       "    </tr>\n",
       "    <tr>\n",
       "      <th>1</th>\n",
       "      <td>2</td>\n",
       "      <td>China</td>\n",
       "      <td>APT 1</td>\n",
       "      <td>NaN</td>\n",
       "      <td>V</td>\n",
       "      <td>002325a0a67fded0381b5648d7fe9b8e</td>\n",
       "      <td>ee4c025731e791fb358f5f03e9d95fc86ee0a723</td>\n",
       "      <td>3bff207897f6d8cd8f8e178a565d5efdd7d65c6bc27063...</td>\n",
       "      <td>https://www.mandiant.com/sites/default/files/2...</td>\n",
       "      <td>Win32 EXE</td>\n",
       "    </tr>\n",
       "    <tr>\n",
       "      <th>2</th>\n",
       "      <td>3</td>\n",
       "      <td>China</td>\n",
       "      <td>APT 1</td>\n",
       "      <td>NaN</td>\n",
       "      <td>V</td>\n",
       "      <td>00dbb9e1c09dbdafb360f3163ba5a3de</td>\n",
       "      <td>8f096561d4021978f781cc3978a55d0f621fc837</td>\n",
       "      <td>df649cef1505653a2fc4361f1e2e34f7148b60c00e1cf6...</td>\n",
       "      <td>https://www.mandiant.com/sites/default/files/2...</td>\n",
       "      <td>Win32 EXE</td>\n",
       "    </tr>\n",
       "    <tr>\n",
       "      <th>6</th>\n",
       "      <td>7</td>\n",
       "      <td>China</td>\n",
       "      <td>APT 1</td>\n",
       "      <td>NaN</td>\n",
       "      <td>V</td>\n",
       "      <td>0149b7bd7218aab4e257d28469fddb0d</td>\n",
       "      <td>f89bf65f696f27c0504882558d40c8c7e868e269</td>\n",
       "      <td>13e40ee7c6874e2f1ed58bc09738a5525f86361f1a8538...</td>\n",
       "      <td>https://www.mandiant.com/sites/default/files/2...</td>\n",
       "      <td>Win32 EXE</td>\n",
       "    </tr>\n",
       "    <tr>\n",
       "      <th>8</th>\n",
       "      <td>9</td>\n",
       "      <td>China</td>\n",
       "      <td>APT 1</td>\n",
       "      <td>NaN</td>\n",
       "      <td>V</td>\n",
       "      <td>01e0dc079d4e33d8edd050c4900818da</td>\n",
       "      <td>cff0b920bb2aeda46f8635936d1a5119b681f9a5</td>\n",
       "      <td>3eaa53ec7fe5fb610bb9a0dd3d0b93480869b829aac373...</td>\n",
       "      <td>https://www.mandiant.com/sites/default/files/2...</td>\n",
       "      <td>Win32 EXE</td>\n",
       "    </tr>\n",
       "    <tr>\n",
       "      <th>...</th>\n",
       "      <td>...</td>\n",
       "      <td>...</td>\n",
       "      <td>...</td>\n",
       "      <td>...</td>\n",
       "      <td>...</td>\n",
       "      <td>...</td>\n",
       "      <td>...</td>\n",
       "      <td>...</td>\n",
       "      <td>...</td>\n",
       "      <td>...</td>\n",
       "    </tr>\n",
       "    <tr>\n",
       "      <th>4443</th>\n",
       "      <td>4445</td>\n",
       "      <td>China</td>\n",
       "      <td>Winnti</td>\n",
       "      <td>NaN</td>\n",
       "      <td>V</td>\n",
       "      <td>f4c9bc4f045b90c496df4b75398dfa5c</td>\n",
       "      <td>4941e08d30e987104e5508f2c983054b6779ee51</td>\n",
       "      <td>0d2c333e089fd28fda0060e8c1ab910e4a91d4225823e3...</td>\n",
       "      <td>https://media.kasperskycontenthub.com/wp-conte...</td>\n",
       "      <td>Win32 DLL</td>\n",
       "    </tr>\n",
       "    <tr>\n",
       "      <th>4444</th>\n",
       "      <td>4446</td>\n",
       "      <td>China</td>\n",
       "      <td>Winnti</td>\n",
       "      <td>NaN</td>\n",
       "      <td>V</td>\n",
       "      <td>04f3fbaaaf5026df29e0d7d317194043</td>\n",
       "      <td>7dccaaefddd0773fdf6b09c0853e11a0414d79f1</td>\n",
       "      <td>c3bb9d1f748d0b1b78dc525039c7a2ebab610a4f0ab7f4...</td>\n",
       "      <td>https://media.kasperskycontenthub.com/wp-conte...</td>\n",
       "      <td>Win32 EXE</td>\n",
       "    </tr>\n",
       "    <tr>\n",
       "      <th>4445</th>\n",
       "      <td>4447</td>\n",
       "      <td>China</td>\n",
       "      <td>Winnti</td>\n",
       "      <td>NaN</td>\n",
       "      <td>V</td>\n",
       "      <td>07e40089cdf338e8d1423b3d97332a4d</td>\n",
       "      <td>fdb350809a06501f8bd5917560f2891fd58f9714</td>\n",
       "      <td>2c7321d8b9905d4b8671c9e16c14665cd29f88460f0c8e...</td>\n",
       "      <td>https://media.kasperskycontenthub.com/wp-conte...</td>\n",
       "      <td>Win32 EXE</td>\n",
       "    </tr>\n",
       "    <tr>\n",
       "      <th>4446</th>\n",
       "      <td>4448</td>\n",
       "      <td>China</td>\n",
       "      <td>Winnti</td>\n",
       "      <td>NaN</td>\n",
       "      <td>V</td>\n",
       "      <td>0b105cd6ecdfe5724c7db52135aa47ef</td>\n",
       "      <td>871138ae639830fa75b094767e1787e14cf19eac</td>\n",
       "      <td>c465238c9da9c5ea5994fe9faf1b5835767210132db0ce...</td>\n",
       "      <td>https://media.kasperskycontenthub.com/wp-conte...</td>\n",
       "      <td>Win32 EXE</td>\n",
       "    </tr>\n",
       "    <tr>\n",
       "      <th>4447</th>\n",
       "      <td>4449</td>\n",
       "      <td>China</td>\n",
       "      <td>Winnti</td>\n",
       "      <td>NaN</td>\n",
       "      <td>V</td>\n",
       "      <td>7024ea8285cee098829ac8f2b1de4455</td>\n",
       "      <td>c86d917c8a9849b1a0a56d76e32719428c0e8c0d</td>\n",
       "      <td>165aec991a1e1be2960d796b3c3fe8b5e0fcbc6e4b72c3...</td>\n",
       "      <td>https://media.kasperskycontenthub.com/wp-conte...</td>\n",
       "      <td>Win32 EXE</td>\n",
       "    </tr>\n",
       "  </tbody>\n",
       "</table>\n",
       "<p>3593 rows × 10 columns</p>\n",
       "</div>"
      ],
      "text/plain": [
       "        ID Country APT-group Family Status                               MD5  \\\n",
       "0        1   China     APT 1    NaN      V  001dd76872d80801692ff942308c64e6   \n",
       "1        2   China     APT 1    NaN      V  002325a0a67fded0381b5648d7fe9b8e   \n",
       "2        3   China     APT 1    NaN      V  00dbb9e1c09dbdafb360f3163ba5a3de   \n",
       "6        7   China     APT 1    NaN      V  0149b7bd7218aab4e257d28469fddb0d   \n",
       "8        9   China     APT 1    NaN      V  01e0dc079d4e33d8edd050c4900818da   \n",
       "...    ...     ...       ...    ...    ...                               ...   \n",
       "4443  4445   China    Winnti    NaN      V  f4c9bc4f045b90c496df4b75398dfa5c   \n",
       "4444  4446   China    Winnti    NaN      V  04f3fbaaaf5026df29e0d7d317194043   \n",
       "4445  4447   China    Winnti    NaN      V  07e40089cdf338e8d1423b3d97332a4d   \n",
       "4446  4448   China    Winnti    NaN      V  0b105cd6ecdfe5724c7db52135aa47ef   \n",
       "4447  4449   China    Winnti    NaN      V  7024ea8285cee098829ac8f2b1de4455   \n",
       "\n",
       "                                          SHA1  \\\n",
       "0     7f4d6745b9053583b55b87bb16a88840e56e5621   \n",
       "1     ee4c025731e791fb358f5f03e9d95fc86ee0a723   \n",
       "2     8f096561d4021978f781cc3978a55d0f621fc837   \n",
       "6     f89bf65f696f27c0504882558d40c8c7e868e269   \n",
       "8     cff0b920bb2aeda46f8635936d1a5119b681f9a5   \n",
       "...                                        ...   \n",
       "4443  4941e08d30e987104e5508f2c983054b6779ee51   \n",
       "4444  7dccaaefddd0773fdf6b09c0853e11a0414d79f1   \n",
       "4445  fdb350809a06501f8bd5917560f2891fd58f9714   \n",
       "4446  871138ae639830fa75b094767e1787e14cf19eac   \n",
       "4447  c86d917c8a9849b1a0a56d76e32719428c0e8c0d   \n",
       "\n",
       "                                                 SHA256  \\\n",
       "0     b6bc96ffcbdbf22f908a02b8fe2a392c8e5b8420a12093...   \n",
       "1     3bff207897f6d8cd8f8e178a565d5efdd7d65c6bc27063...   \n",
       "2     df649cef1505653a2fc4361f1e2e34f7148b60c00e1cf6...   \n",
       "6     13e40ee7c6874e2f1ed58bc09738a5525f86361f1a8538...   \n",
       "8     3eaa53ec7fe5fb610bb9a0dd3d0b93480869b829aac373...   \n",
       "...                                                 ...   \n",
       "4443  0d2c333e089fd28fda0060e8c1ab910e4a91d4225823e3...   \n",
       "4444  c3bb9d1f748d0b1b78dc525039c7a2ebab610a4f0ab7f4...   \n",
       "4445  2c7321d8b9905d4b8671c9e16c14665cd29f88460f0c8e...   \n",
       "4446  c465238c9da9c5ea5994fe9faf1b5835767210132db0ce...   \n",
       "4447  165aec991a1e1be2960d796b3c3fe8b5e0fcbc6e4b72c3...   \n",
       "\n",
       "                                                 Source   Filetype  \n",
       "0     https://www.mandiant.com/sites/default/files/2...  Win32 EXE  \n",
       "1     https://www.mandiant.com/sites/default/files/2...  Win32 EXE  \n",
       "2     https://www.mandiant.com/sites/default/files/2...  Win32 EXE  \n",
       "6     https://www.mandiant.com/sites/default/files/2...  Win32 EXE  \n",
       "8     https://www.mandiant.com/sites/default/files/2...  Win32 EXE  \n",
       "...                                                 ...        ...  \n",
       "4443  https://media.kasperskycontenthub.com/wp-conte...  Win32 DLL  \n",
       "4444  https://media.kasperskycontenthub.com/wp-conte...  Win32 EXE  \n",
       "4445  https://media.kasperskycontenthub.com/wp-conte...  Win32 EXE  \n",
       "4446  https://media.kasperskycontenthub.com/wp-conte...  Win32 EXE  \n",
       "4447  https://media.kasperskycontenthub.com/wp-conte...  Win32 EXE  \n",
       "\n",
       "[3593 rows x 10 columns]"
      ]
     },
     "execution_count": 3,
     "metadata": {},
     "output_type": "execute_result"
    }
   ],
   "source": [
    "# Load data from 'overview.csv' and filter out rows where 'Filetype' column is not null\n",
    "df_apt = pd.read_csv('overview.csv')\n",
    "df = df_apt[df_apt.Filetype.notna()]\n",
    "\n",
    "df"
   ]
  },
  {
   "cell_type": "code",
   "execution_count": 4,
   "metadata": {},
   "outputs": [
    {
     "data": {
      "text/plain": [
       "ID              0\n",
       "Country         0\n",
       "APT-group       0\n",
       "Family       1180\n",
       "Status          0\n",
       "MD5             0\n",
       "SHA1            0\n",
       "SHA256          0\n",
       "Source          0\n",
       "Filetype        0\n",
       "dtype: int64"
      ]
     },
     "execution_count": 4,
     "metadata": {},
     "output_type": "execute_result"
    }
   ],
   "source": [
    "# Check for missing values in each column of the DataFrame\n",
    "df.isna().sum()"
   ]
  },
  {
   "cell_type": "code",
   "execution_count": 5,
   "metadata": {},
   "outputs": [
    {
     "data": {
      "text/plain": [
       "Filetype\n",
       "Win32 EXE                      1841\n",
       "Win32 DLL                      1024\n",
       "Rich Text Format                402\n",
       "Office Open XML Document        192\n",
       "Office Open XML Spreadsheet      30\n",
       "MS Excel Spreadsheet             23\n",
       "PDF                              19\n",
       "RAR                              13\n",
       "unknown                          10\n",
       "MS Word Document                 10\n",
       "ZIP                               7\n",
       "ELF                               4\n",
       "Powershell                        3\n",
       "Mach-O                            3\n",
       "VBA                               2\n",
       "DOS EXE                           2\n",
       "Flash                             2\n",
       "JavaScript                        1\n",
       "Windows shortcut                  1\n",
       "Outlook                           1\n",
       "MS PowerPoint Presentation        1\n",
       "PostScript                        1\n",
       "JAR                               1\n",
       "Name: count, dtype: int64"
      ]
     },
     "execution_count": 5,
     "metadata": {},
     "output_type": "execute_result"
    }
   ],
   "source": [
    "# Count the number of files by their type\n",
    "df.Filetype.value_counts()"
   ]
  },
  {
   "cell_type": "markdown",
   "metadata": {},
   "source": [
    "------"
   ]
  },
  {
   "cell_type": "markdown",
   "metadata": {},
   "source": [
    "#### List all the reports obtained"
   ]
  },
  {
   "cell_type": "code",
   "execution_count": 6,
   "metadata": {},
   "outputs": [
    {
     "data": {
      "text/plain": [
       "3593"
      ]
     },
     "execution_count": 6,
     "metadata": {},
     "output_type": "execute_result"
    }
   ],
   "source": [
    "# List all the reports obtained by checking files in the result directory\n",
    "obtained_reports = set()\n",
    "\n",
    "# Traverse through the directory, adding report names to a set\n",
    "for folder_name in os.listdir(results_path):\n",
    "  folder_path = os.path.join(results_path, folder_name)\n",
    "  if not os.path.isdir(folder_path): continue\n",
    "\n",
    "  for file_name in os.listdir(folder_path):\n",
    "    file_path = os.path.join(folder_path, file_name)\n",
    "    \n",
    "    if file_name.endswith('.json'):\n",
    "      obtained_reports.add(file_name.split('.')[0])\n",
    "\n",
    "# Display the total number of unique reports obtained\n",
    "len(obtained_reports)"
   ]
  },
  {
   "cell_type": "markdown",
   "metadata": {},
   "source": [
    "----"
   ]
  },
  {
   "cell_type": "markdown",
   "metadata": {},
   "source": [
    "### Download reports"
   ]
  },
  {
   "cell_type": "code",
   "execution_count": 7,
   "metadata": {},
   "outputs": [
    {
     "data": {
      "text/html": [
       "<div>\n",
       "<style scoped>\n",
       "    .dataframe tbody tr th:only-of-type {\n",
       "        vertical-align: middle;\n",
       "    }\n",
       "\n",
       "    .dataframe tbody tr th {\n",
       "        vertical-align: top;\n",
       "    }\n",
       "\n",
       "    .dataframe thead th {\n",
       "        text-align: right;\n",
       "    }\n",
       "</style>\n",
       "<table border=\"1\" class=\"dataframe\">\n",
       "  <thead>\n",
       "    <tr style=\"text-align: right;\">\n",
       "      <th></th>\n",
       "      <th>ID</th>\n",
       "      <th>Country</th>\n",
       "      <th>APT-group</th>\n",
       "      <th>Family</th>\n",
       "      <th>Status</th>\n",
       "      <th>MD5</th>\n",
       "      <th>SHA1</th>\n",
       "      <th>SHA256</th>\n",
       "      <th>Source</th>\n",
       "      <th>Filetype</th>\n",
       "    </tr>\n",
       "  </thead>\n",
       "  <tbody>\n",
       "  </tbody>\n",
       "</table>\n",
       "</div>"
      ],
      "text/plain": [
       "Empty DataFrame\n",
       "Columns: [ID, Country, APT-group, Family, Status, MD5, SHA1, SHA256, Source, Filetype]\n",
       "Index: []"
      ]
     },
     "execution_count": 7,
     "metadata": {},
     "output_type": "execute_result"
    }
   ],
   "source": [
    "# Download reports for new files not previously fetched\n",
    "df_filtered = df[(~df['SHA256'].isin(obtained_reports)) & (~df['MD5'].isin(obtained_reports))]\n",
    "\n",
    "# Display the DataFrame of filtered results\n",
    "df_filtered"
   ]
  },
  {
   "cell_type": "code",
   "execution_count": 8,
   "metadata": {},
   "outputs": [],
   "source": [
    "\n",
    "# Iterate over filtered DataFrame rows to download missing reports\n",
    "for row in df_filtered.iterrows():\n",
    "  folder_name = row[1]['APT-group']\n",
    "  file_name = row[1]['MD5'] if pd.isna(row[1]['SHA256']) else row[1]['SHA256']\n",
    "  \n",
    "  print(file_name)\n",
    "  url = \"https://www.virustotal.com/api/v3/files/{id}/behaviour_summary\".format(id=file_name)\n",
    "\n",
    "  headers = {\n",
    "    \"accept\": \"application/json\", \n",
    "    'x-apikey': API_KEY\n",
    "  }\n",
    "\n",
    "  # Send HTTP GET request to fetch the report\n",
    "  response = requests.get(url, headers=headers)\n",
    "  \n",
    "  folder_path = os.path.join(results_path, folder_name)\n",
    "  if not os.path.exists(folder_path):\n",
    "      os.makedirs(folder_path)\n",
    "      \n",
    "  # Handle missing files or API errors by logging them\n",
    "  if response.status_code == 404:\n",
    "    with open(os.path.join(results_path, 'error.json')) as f:\n",
    "      data = json.load(f)\n",
    "    if 'not_found' not in data: data['not_found'] = []\n",
    "    if folder_name not in data['not_found']: data['not_found'].append(folder_name)\n",
    "    with open(os.path.join(results_path, 'error.json'), 'w') as f:\n",
    "      json.dump(data, f, indent=4)\n",
    "\n",
    "  else:\n",
    "    if 'error' in response.json(): \n",
    "      print(response.json())\n",
    "      break\n",
    "    \n",
    "    file_path = os.path.join(folder_path, file_name+'.json')\n",
    "    with open(file_path, 'w') as f:\n",
    "      json.dump(response.json(), f , indent=4)"
   ]
  },
  {
   "cell_type": "markdown",
   "metadata": {},
   "source": [
    "------"
   ]
  },
  {
   "cell_type": "markdown",
   "metadata": {},
   "source": [
    "#### Remove empty files"
   ]
  },
  {
   "cell_type": "code",
   "execution_count": 9,
   "metadata": {},
   "outputs": [],
   "source": [
    "# Remove empty or erroneous files after checking their contents.\n",
    "for folder_name in os.listdir(results_path):\n",
    "  folder_path = os.path.join(results_path, folder_name)\n",
    "  if not os.path.isdir(folder_path): continue\n",
    "\n",
    "  for file_name in os.listdir(folder_path):\n",
    "    file_path = os.path.join(folder_path, file_name)\n",
    "    \n",
    "    with open(file_path) as f:\n",
    "      data = json.load(f)\n",
    "    \n",
    "    if 'error' in data:\n",
    "      os.remove(file_path)"
   ]
  }
 ],
 "metadata": {
  "kernelspec": {
   "display_name": "msc",
   "language": "python",
   "name": "python3"
  },
  "language_info": {
   "codemirror_mode": {
    "name": "ipython",
    "version": 3
   },
   "file_extension": ".py",
   "mimetype": "text/x-python",
   "name": "python",
   "nbconvert_exporter": "python",
   "pygments_lexer": "ipython3",
   "version": "3.12.4"
  }
 },
 "nbformat": 4,
 "nbformat_minor": 2
}
